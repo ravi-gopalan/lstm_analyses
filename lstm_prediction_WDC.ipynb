{
  "nbformat": 4,
  "nbformat_minor": 0,
  "metadata": {
    "colab": {
      "name": "lstm_prediction_WDC.ipynb",
      "provenance": [],
      "include_colab_link": true
    },
    "kernelspec": {
      "name": "python3",
      "display_name": "Python 3"
    },
    "accelerator": "GPU"
  },
  "cells": [
    {
      "cell_type": "markdown",
      "metadata": {
        "id": "view-in-github",
        "colab_type": "text"
      },
      "source": [
        "<a href=\"https://colab.research.google.com/github/ravi-gopalan/lstm_analyses/blob/master/lstm_prediction_WDC.ipynb\" target=\"_parent\"><img src=\"https://colab.research.google.com/assets/colab-badge.svg\" alt=\"Open In Colab\"/></a>"
      ]
    },
    {
      "cell_type": "code",
      "metadata": {
        "id": "GSb8RSNb9UQW",
        "colab_type": "code",
        "colab": {
          "base_uri": "https://localhost:8080/",
          "height": 365
        },
        "outputId": "f0707a11-660c-4562-99f2-52425823993f"
      },
      "source": [
        "!pip install yfinance"
      ],
      "execution_count": 1,
      "outputs": [
        {
          "output_type": "stream",
          "text": [
            "Collecting yfinance\n",
            "  Downloading https://files.pythonhosted.org/packages/53/0e/40387099824c98be22cd7e33a620e9d38b61998b031f0b33f0b9959717d2/yfinance-0.1.45.tar.gz\n",
            "Requirement already satisfied: pandas>=0.24 in /usr/local/lib/python3.6/dist-packages (from yfinance) (0.24.2)\n",
            "Requirement already satisfied: numpy>=1.15 in /usr/local/lib/python3.6/dist-packages (from yfinance) (1.16.5)\n",
            "Requirement already satisfied: requests>=2.20 in /usr/local/lib/python3.6/dist-packages (from yfinance) (2.21.0)\n",
            "Requirement already satisfied: multitasking>=0.0.7 in /usr/local/lib/python3.6/dist-packages (from yfinance) (0.0.9)\n",
            "Requirement already satisfied: pytz>=2011k in /usr/local/lib/python3.6/dist-packages (from pandas>=0.24->yfinance) (2018.9)\n",
            "Requirement already satisfied: python-dateutil>=2.5.0 in /usr/local/lib/python3.6/dist-packages (from pandas>=0.24->yfinance) (2.5.3)\n",
            "Requirement already satisfied: idna<2.9,>=2.5 in /usr/local/lib/python3.6/dist-packages (from requests>=2.20->yfinance) (2.8)\n",
            "Requirement already satisfied: urllib3<1.25,>=1.21.1 in /usr/local/lib/python3.6/dist-packages (from requests>=2.20->yfinance) (1.24.3)\n",
            "Requirement already satisfied: chardet<3.1.0,>=3.0.2 in /usr/local/lib/python3.6/dist-packages (from requests>=2.20->yfinance) (3.0.4)\n",
            "Requirement already satisfied: certifi>=2017.4.17 in /usr/local/lib/python3.6/dist-packages (from requests>=2.20->yfinance) (2019.9.11)\n",
            "Requirement already satisfied: six>=1.5 in /usr/local/lib/python3.6/dist-packages (from python-dateutil>=2.5.0->pandas>=0.24->yfinance) (1.12.0)\n",
            "Building wheels for collected packages: yfinance\n",
            "  Building wheel for yfinance (setup.py) ... \u001b[?25l\u001b[?25hdone\n",
            "  Created wheel for yfinance: filename=yfinance-0.1.45-cp36-none-any.whl size=14652 sha256=a32f558d7f571c13b54c9c20f8977b1205f0e7331dd0a2632ebe7fec74e73a42\n",
            "  Stored in directory: /root/.cache/pip/wheels/0c/d1/df/aa9a7744a4ac353cc9a1f2c3aaea7c1f457fc49de4286f2d88\n",
            "Successfully built yfinance\n",
            "Installing collected packages: yfinance\n",
            "Successfully installed yfinance-0.1.45\n"
          ],
          "name": "stdout"
        }
      ]
    },
    {
      "cell_type": "code",
      "metadata": {
        "id": "K0zMq0IbD9jS",
        "colab_type": "code",
        "colab": {}
      },
      "source": [
        "# Importing the libraries\n",
        "from IPython.core.interactiveshell import InteractiveShell\n",
        "InteractiveShell.ast_node_interactivity = \"all\"\n",
        "import numpy as np\n",
        "import matplotlib.pyplot as plt\n",
        "import pandas as pd\n",
        "import seaborn as sns"
      ],
      "execution_count": 0,
      "outputs": []
    },
    {
      "cell_type": "code",
      "metadata": {
        "id": "KOJyBSmP9x5f",
        "colab_type": "code",
        "colab": {}
      },
      "source": [
        "# Import yfinance\n",
        "import yfinance as yf "
      ],
      "execution_count": 0,
      "outputs": []
    },
    {
      "cell_type": "code",
      "metadata": {
        "id": "XeHKg7y0w65m",
        "colab_type": "code",
        "colab": {
          "base_uri": "https://localhost:8080/",
          "height": 34
        },
        "outputId": "e353b897-e206-4d5a-b9ae-17666a5f96b5"
      },
      "source": [
        "# Feature Scaling\n",
        "from sklearn.preprocessing import MinMaxScaler\n",
        "\n",
        "# Importing the Keras libraries and packages\n",
        "from keras.models import Sequential\n",
        "from keras.layers import Dense\n",
        "from keras.layers import LSTM\n",
        "from keras.layers import Dropout"
      ],
      "execution_count": 4,
      "outputs": [
        {
          "output_type": "stream",
          "text": [
            "Using TensorFlow backend.\n"
          ],
          "name": "stderr"
        }
      ]
    },
    {
      "cell_type": "code",
      "metadata": {
        "id": "QmmdoX-T298s",
        "colab_type": "code",
        "outputId": "3516579d-9965-486e-d12a-55a429f7385a",
        "colab": {
          "base_uri": "https://localhost:8080/",
          "height": 156
        }
      },
      "source": [
        "!git clone -l -s git://github.com/ravi-gopalan/lstm_analyses.git cloned-repository"
      ],
      "execution_count": 5,
      "outputs": [
        {
          "output_type": "stream",
          "text": [
            "Cloning into 'cloned-repository'...\n",
            "warning: --local is ignored\n",
            "remote: Enumerating objects: 27, done.\u001b[K\n",
            "remote: Counting objects:   3% (1/27)\u001b[K\rremote: Counting objects:   7% (2/27)\u001b[K\rremote: Counting objects:  11% (3/27)\u001b[K\rremote: Counting objects:  14% (4/27)\u001b[K\rremote: Counting objects:  18% (5/27)\u001b[K\rremote: Counting objects:  22% (6/27)\u001b[K\rremote: Counting objects:  25% (7/27)\u001b[K\rremote: Counting objects:  29% (8/27)\u001b[K\rremote: Counting objects:  33% (9/27)\u001b[K\rremote: Counting objects:  37% (10/27)\u001b[K\rremote: Counting objects:  40% (11/27)\u001b[K\rremote: Counting objects:  44% (12/27)\u001b[K\rremote: Counting objects:  48% (13/27)\u001b[K\rremote: Counting objects:  51% (14/27)\u001b[K\rremote: Counting objects:  55% (15/27)\u001b[K\rremote: Counting objects:  59% (16/27)\u001b[K\rremote: Counting objects:  62% (17/27)\u001b[K\rremote: Counting objects:  66% (18/27)\u001b[K\rremote: Counting objects:  70% (19/27)\u001b[K\rremote: Counting objects:  74% (20/27)\u001b[K\rremote: Counting objects:  77% (21/27)\u001b[K\rremote: Counting objects:  81% (22/27)\u001b[K\rremote: Counting objects:  85% (23/27)\u001b[K\rremote: Counting objects:  88% (24/27)\u001b[K\rremote: Counting objects:  92% (25/27)\u001b[K\rremote: Counting objects:  96% (26/27)\u001b[K\rremote: Counting objects: 100% (27/27)\u001b[K\rremote: Counting objects: 100% (27/27), done.\u001b[K\n",
            "remote: Compressing objects:   4% (1/25)\u001b[K\rremote: Compressing objects:   8% (2/25)\u001b[K\rremote: Compressing objects:  12% (3/25)\u001b[K\rremote: Compressing objects:  16% (4/25)\u001b[K\rremote: Compressing objects:  20% (5/25)\u001b[K\rremote: Compressing objects:  24% (6/25)\u001b[K\rremote: Compressing objects:  28% (7/25)\u001b[K\rremote: Compressing objects:  32% (8/25)\u001b[K\rremote: Compressing objects:  36% (9/25)\u001b[K\rremote: Compressing objects:  40% (10/25)\u001b[K\rremote: Compressing objects:  44% (11/25)\u001b[K\rremote: Compressing objects:  48% (12/25)\u001b[K\rremote: Compressing objects:  52% (13/25)\u001b[K\rremote: Compressing objects:  56% (14/25)\u001b[K\rremote: Compressing objects:  60% (15/25)\u001b[K\rremote: Compressing objects:  64% (16/25)\u001b[K\rremote: Compressing objects:  68% (17/25)\u001b[K\rremote: Compressing objects:  72% (18/25)\u001b[K\rremote: Compressing objects:  76% (19/25)\u001b[K\rremote: Compressing objects:  80% (20/25)\u001b[K\rremote: Compressing objects:  84% (21/25)\u001b[K\rremote: Compressing objects:  88% (22/25)\u001b[K\rremote: Compressing objects:  92% (23/25)\u001b[K\rremote: Compressing objects:  96% (24/25)\u001b[K\rremote: Compressing objects: 100% (25/25)\u001b[K\rremote: Compressing objects: 100% (25/25), done.\u001b[K\n",
            "Receiving objects:   3% (1/27)   \rReceiving objects:   7% (2/27)   \rReceiving objects:  11% (3/27)   \rReceiving objects:  14% (4/27)   \rReceiving objects:  18% (5/27)   \rReceiving objects:  22% (6/27)   \rReceiving objects:  25% (7/27)   \rReceiving objects:  29% (8/27)   \rReceiving objects:  33% (9/27)   \rReceiving objects:  37% (10/27)   \rReceiving objects:  40% (11/27)   \rReceiving objects:  44% (12/27)   \rReceiving objects:  48% (13/27)   \rReceiving objects:  51% (14/27)   \rReceiving objects:  55% (15/27)   \rReceiving objects:  59% (16/27)   \rReceiving objects:  62% (17/27)   \rReceiving objects:  66% (18/27)   \rReceiving objects:  70% (19/27)   \rReceiving objects:  74% (20/27)   \rReceiving objects:  77% (21/27)   \rReceiving objects:  81% (22/27)   \rReceiving objects:  85% (23/27)   \rReceiving objects:  88% (24/27)   \rReceiving objects:  92% (25/27)   \rremote: Total 27 (delta 5), reused 0 (delta 0), pack-reused 0\u001b[K\n",
            "Receiving objects:  96% (26/27)   \rReceiving objects: 100% (27/27)   \rReceiving objects: 100% (27/27), 1005.15 KiB | 2.18 MiB/s, done.\n",
            "Resolving deltas:   0% (0/5)   \rResolving deltas:  20% (1/5)   \rResolving deltas:  80% (4/5)   \rResolving deltas: 100% (5/5)   \rResolving deltas: 100% (5/5), done.\n"
          ],
          "name": "stdout"
        }
      ]
    },
    {
      "cell_type": "code",
      "metadata": {
        "id": "swJFzQNyEPAX",
        "colab_type": "code",
        "outputId": "6c2a27a2-d453-44f7-b370-7838a2c58ffc",
        "colab": {
          "base_uri": "https://localhost:8080/",
          "height": 34
        }
      },
      "source": [
        "!ls"
      ],
      "execution_count": 6,
      "outputs": [
        {
          "output_type": "stream",
          "text": [
            "cloned-repository  sample_data\n"
          ],
          "name": "stdout"
        }
      ]
    },
    {
      "cell_type": "code",
      "metadata": {
        "id": "SbBKGPNqZxps",
        "colab_type": "code",
        "colab": {}
      },
      "source": [
        "def modify_features(df, window = 21, n_std = 2):\n",
        "  df.drop(columns=['Adj Close'], inplace=True)\n",
        "  #Calculate rolling mean and standard deviation using number of days set above\n",
        "  roll_mean = df['Open'].rolling(window).mean()\n",
        "  roll_std = df['Open'].rolling(window).std()\n",
        "  df['rolling_mean'] = roll_mean\n",
        "  #create two new DataFrame columns to hold values of upper and lower Bollinger bands\n",
        "  df['bollinger_high'] = roll_mean + (roll_std * n_std)\n",
        "  df['bollinger_low'] = roll_mean - (roll_std * n_std)\n",
        "  return df"
      ],
      "execution_count": 0,
      "outputs": []
    },
    {
      "cell_type": "code",
      "metadata": {
        "id": "9dpXXJ-G-ELY",
        "colab_type": "code",
        "colab": {
          "base_uri": "https://localhost:8080/",
          "height": 1000
        },
        "outputId": "4376d83d-16a0-4af6-bbfc-f2323c6525a6"
      },
      "source": [
        "# Get the data for the stock BE by specifying the stock ticker, start date, and end date\n",
        "df_be = yf.download('BE','2018-07-25','2019-10-15')\n",
        "\n",
        "df_be = modify_features(df_be)\n",
        "\n",
        "# Plot the close prices\n",
        "df_be.Close.plot()\n",
        "plt.show()\n",
        "\n",
        "sns.lineplot(data=df_be['Close'][-100:])\n",
        "sns.lineplot(data=df_be['bollinger_high'][-100:])\n",
        "sns.lineplot(data=df_be['bollinger_low'][-100:])\n",
        "\n",
        "\n",
        "df_be.info()\n",
        "df_be.head()\n",
        "df_be.tail()\n"
      ],
      "execution_count": 8,
      "outputs": [
        {
          "output_type": "stream",
          "text": [
            "\r[*********************100%***********************]  1 of 1 downloaded\n"
          ],
          "name": "stdout"
        },
        {
          "output_type": "execute_result",
          "data": {
            "text/plain": [
              "<matplotlib.axes._subplots.AxesSubplot at 0x7fe37537f4e0>"
            ]
          },
          "metadata": {
            "tags": []
          },
          "execution_count": 8
        },
        {
          "output_type": "display_data",
          "data": {
            "image/png": "[encoded data removed]",
            "text/plain": [
              "<Figure size 432x288 with 1 Axes>"
            ]
          },
          "metadata": {
            "tags": []
          }
        },
        {
          "output_type": "execute_result",
          "data": {
            "text/plain": [
              "<matplotlib.axes._subplots.AxesSubplot at 0x7fe374ad85c0>"
            ]
          },
          "metadata": {
            "tags": []
          },
          "execution_count": 8
        },
        {
          "output_type": "execute_result",
          "data": {
            "text/plain": [
              "<matplotlib.axes._subplots.AxesSubplot at 0x7fe374ad85c0>"
            ]
          },
          "metadata": {
            "tags": []
          },
          "execution_count": 8
        },
        {
          "output_type": "execute_result",
          "data": {
            "text/plain": [
              "<matplotlib.axes._subplots.AxesSubplot at 0x7fe374ad85c0>"
            ]
          },
          "metadata": {
            "tags": []
          },
          "execution_count": 8
        },
        {
          "output_type": "stream",
          "text": [
            "<class 'pandas.core.frame.DataFrame'>\n",
            "DatetimeIndex: 308 entries, 2018-07-25 to 2019-10-14\n",
            "Data columns (total 8 columns):\n",
            "Open              308 non-null float64\n",
            "High              308 non-null float64\n",
            "Low               308 non-null float64\n",
            "Close             308 non-null float64\n",
            "Volume            308 non-null int64\n",
            "rolling_mean      288 non-null float64\n",
            "bollinger_high    288 non-null float64\n",
            "bollinger_low     288 non-null float64\n",
            "dtypes: float64(7), int64(1)\n",
            "memory usage: 21.7 KB\n"
          ],
          "name": "stdout"
        },
        {
          "output_type": "execute_result",
          "data": {
            "text/html": [
              "<div>\n",
              "<style scoped>\n",
              "    .dataframe tbody tr th:only-of-type {\n",
              "        vertical-align: middle;\n",
              "    }\n",
              "\n",
              "    .dataframe tbody tr th {\n",
              "        vertical-align: top;\n",
              "    }\n",
              "\n",
              "    .dataframe thead th {\n",
              "        text-align: right;\n",
              "    }\n",
              "</style>\n",
              "<table border=\"1\" class=\"dataframe\">\n",
              "  <thead>\n",
              "    <tr style=\"text-align: right;\">\n",
              "      <th></th>\n",
              "      <th>Open</th>\n",
              "      <th>High</th>\n",
              "      <th>Low</th>\n",
              "      <th>Close</th>\n",
              "      <th>Volume</th>\n",
              "      <th>rolling_mean</th>\n",
              "      <th>bollinger_high</th>\n",
              "      <th>bollinger_low</th>\n",
              "    </tr>\n",
              "    <tr>\n",
              "      <th>Date</th>\n",
              "      <th></th>\n",
              "      <th></th>\n",
              "      <th></th>\n",
              "      <th></th>\n",
              "      <th></th>\n",
              "      <th></th>\n",
              "      <th></th>\n",
              "      <th></th>\n",
              "    </tr>\n",
              "  </thead>\n",
              "  <tbody>\n",
              "    <tr>\n",
              "      <th>2018-07-25</th>\n",
              "      <td>18.700</td>\n",
              "      <td>25.00</td>\n",
              "      <td>18.50</td>\n",
              "      <td>25.00</td>\n",
              "      <td>13709500</td>\n",
              "      <td>NaN</td>\n",
              "      <td>NaN</td>\n",
              "      <td>NaN</td>\n",
              "    </tr>\n",
              "    <tr>\n",
              "      <th>2018-07-26</th>\n",
              "      <td>24.745</td>\n",
              "      <td>24.85</td>\n",
              "      <td>20.30</td>\n",
              "      <td>21.01</td>\n",
              "      <td>3628300</td>\n",
              "      <td>NaN</td>\n",
              "      <td>NaN</td>\n",
              "      <td>NaN</td>\n",
              "    </tr>\n",
              "    <tr>\n",
              "      <th>2018-07-27</th>\n",
              "      <td>21.200</td>\n",
              "      <td>23.00</td>\n",
              "      <td>21.20</td>\n",
              "      <td>22.60</td>\n",
              "      <td>1320700</td>\n",
              "      <td>NaN</td>\n",
              "      <td>NaN</td>\n",
              "      <td>NaN</td>\n",
              "    </tr>\n",
              "    <tr>\n",
              "      <th>2018-07-30</th>\n",
              "      <td>22.750</td>\n",
              "      <td>24.00</td>\n",
              "      <td>22.65</td>\n",
              "      <td>23.85</td>\n",
              "      <td>1236300</td>\n",
              "      <td>NaN</td>\n",
              "      <td>NaN</td>\n",
              "      <td>NaN</td>\n",
              "    </tr>\n",
              "    <tr>\n",
              "      <th>2018-07-31</th>\n",
              "      <td>24.030</td>\n",
              "      <td>26.43</td>\n",
              "      <td>22.75</td>\n",
              "      <td>23.05</td>\n",
              "      <td>2603400</td>\n",
              "      <td>NaN</td>\n",
              "      <td>NaN</td>\n",
              "      <td>NaN</td>\n",
              "    </tr>\n",
              "  </tbody>\n",
              "</table>\n",
              "</div>"
            ],
            "text/plain": [
              "              Open   High    Low  ...  rolling_mean  bollinger_high  bollinger_low\n",
              "Date                              ...                                             \n",
              "2018-07-25  18.700  25.00  18.50  ...           NaN             NaN            NaN\n",
              "2018-07-26  24.745  24.85  20.30  ...           NaN             NaN            NaN\n",
              "2018-07-27  21.200  23.00  21.20  ...           NaN             NaN            NaN\n",
              "2018-07-30  22.750  24.00  22.65  ...           NaN             NaN            NaN\n",
              "2018-07-31  24.030  26.43  22.75  ...           NaN             NaN            NaN\n",
              "\n",
              "[5 rows x 8 columns]"
            ]
          },
          "metadata": {
            "tags": []
          },
          "execution_count": 8
        },
        {
          "output_type": "execute_result",
          "data": {
            "text/html": [
              "<div>\n",
              "<style scoped>\n",
              "    .dataframe tbody tr th:only-of-type {\n",
              "        vertical-align: middle;\n",
              "    }\n",
              "\n",
              "    .dataframe tbody tr th {\n",
              "        vertical-align: top;\n",
              "    }\n",
              "\n",
              "    .dataframe thead th {\n",
              "        text-align: right;\n",
              "    }\n",
              "</style>\n",
              "<table border=\"1\" class=\"dataframe\">\n",
              "  <thead>\n",
              "    <tr style=\"text-align: right;\">\n",
              "      <th></th>\n",
              "      <th>Open</th>\n",
              "      <th>High</th>\n",
              "      <th>Low</th>\n",
              "      <th>Close</th>\n",
              "      <th>Volume</th>\n",
              "      <th>rolling_mean</th>\n",
              "      <th>bollinger_high</th>\n",
              "      <th>bollinger_low</th>\n",
              "    </tr>\n",
              "    <tr>\n",
              "      <th>Date</th>\n",
              "      <th></th>\n",
              "      <th></th>\n",
              "      <th></th>\n",
              "      <th></th>\n",
              "      <th></th>\n",
              "      <th></th>\n",
              "      <th></th>\n",
              "      <th></th>\n",
              "    </tr>\n",
              "  </thead>\n",
              "  <tbody>\n",
              "    <tr>\n",
              "      <th>2019-10-08</th>\n",
              "      <td>3.18</td>\n",
              "      <td>3.21</td>\n",
              "      <td>3.05</td>\n",
              "      <td>3.08</td>\n",
              "      <td>1194200</td>\n",
              "      <td>3.670952</td>\n",
              "      <td>4.863511</td>\n",
              "      <td>2.478394</td>\n",
              "    </tr>\n",
              "    <tr>\n",
              "      <th>2019-10-09</th>\n",
              "      <td>3.13</td>\n",
              "      <td>3.20</td>\n",
              "      <td>3.02</td>\n",
              "      <td>3.07</td>\n",
              "      <td>1343700</td>\n",
              "      <td>3.597143</td>\n",
              "      <td>4.717056</td>\n",
              "      <td>2.477230</td>\n",
              "    </tr>\n",
              "    <tr>\n",
              "      <th>2019-10-10</th>\n",
              "      <td>3.07</td>\n",
              "      <td>3.63</td>\n",
              "      <td>3.07</td>\n",
              "      <td>3.37</td>\n",
              "      <td>3628300</td>\n",
              "      <td>3.526190</td>\n",
              "      <td>4.576533</td>\n",
              "      <td>2.475848</td>\n",
              "    </tr>\n",
              "    <tr>\n",
              "      <th>2019-10-11</th>\n",
              "      <td>3.46</td>\n",
              "      <td>3.55</td>\n",
              "      <td>3.16</td>\n",
              "      <td>3.17</td>\n",
              "      <td>2586300</td>\n",
              "      <td>3.455714</td>\n",
              "      <td>4.282432</td>\n",
              "      <td>2.628996</td>\n",
              "    </tr>\n",
              "    <tr>\n",
              "      <th>2019-10-14</th>\n",
              "      <td>3.22</td>\n",
              "      <td>3.29</td>\n",
              "      <td>2.86</td>\n",
              "      <td>2.91</td>\n",
              "      <td>3682700</td>\n",
              "      <td>3.389048</td>\n",
              "      <td>4.025284</td>\n",
              "      <td>2.752812</td>\n",
              "    </tr>\n",
              "  </tbody>\n",
              "</table>\n",
              "</div>"
            ],
            "text/plain": [
              "            Open  High   Low  ...  rolling_mean  bollinger_high  bollinger_low\n",
              "Date                          ...                                             \n",
              "2019-10-08  3.18  3.21  3.05  ...      3.670952        4.863511       2.478394\n",
              "2019-10-09  3.13  3.20  3.02  ...      3.597143        4.717056       2.477230\n",
              "2019-10-10  3.07  3.63  3.07  ...      3.526190        4.576533       2.475848\n",
              "2019-10-11  3.46  3.55  3.16  ...      3.455714        4.282432       2.628996\n",
              "2019-10-14  3.22  3.29  2.86  ...      3.389048        4.025284       2.752812\n",
              "\n",
              "[5 rows x 8 columns]"
            ]
          },
          "metadata": {
            "tags": []
          },
          "execution_count": 8
        },
        {
          "output_type": "display_data",
          "data": {
            "image/png": "[encoded data removed]",
            "text/plain": [
              "<Figure size 432x288 with 1 Axes>"
            ]
          },
          "metadata": {
            "tags": []
          }
        }
      ]
    },
    {
      "cell_type": "code",
      "metadata": {
        "id": "fc_le2nN-cag",
        "colab_type": "code",
        "colab": {
          "base_uri": "https://localhost:8080/",
          "height": 1000
        },
        "outputId": "6f7f1558-c332-43c8-95a3-27cfb2b60406"
      },
      "source": [
        "# Get the data for the stock WDC by specifying the stock ticker, start date, and end date\n",
        "df_wdc = yf.download('WDC','2000-01-01','2019-10-15')\n",
        "\n",
        "\n",
        "df_wdc = modify_features(df_wdc)\n",
        "\n",
        "# Plot the close prices\n",
        "df_wdc.Close.plot()\n",
        "plt.show()\n",
        "\n",
        "sns.lineplot(data=df_wdc['Close'][-100:])\n",
        "sns.lineplot(data=df_wdc['bollinger_high'][-100:])\n",
        "sns.lineplot(data=df_wdc['bollinger_low'][-100:])\n",
        "\n",
        "\n",
        "df_wdc.info()\n",
        "df_wdc.head()\n",
        "df_wdc.tail()"
      ],
      "execution_count": 9,
      "outputs": [
        {
          "output_type": "stream",
          "text": [
            "\r[*********************100%***********************]  1 of 1 downloaded\n"
          ],
          "name": "stdout"
        },
        {
          "output_type": "execute_result",
          "data": {
            "text/plain": [
              "<matplotlib.axes._subplots.AxesSubplot at 0x7fe3721ff630>"
            ]
          },
          "metadata": {
            "tags": []
          },
          "execution_count": 9
        },
        {
          "output_type": "display_data",
          "data": {
            "image/png": "[encoded data removed]",
            "text/plain": [
              "<Figure size 432x288 with 1 Axes>"
            ]
          },
          "metadata": {
            "tags": []
          }
        },
        {
          "output_type": "execute_result",
          "data": {
            "text/plain": [
              "<matplotlib.axes._subplots.AxesSubplot at 0x7fe3719d55f8>"
            ]
          },
          "metadata": {
            "tags": []
          },
          "execution_count": 9
        },
        {
          "output_type": "execute_result",
          "data": {
            "text/plain": [
              "<matplotlib.axes._subplots.AxesSubplot at 0x7fe3719d55f8>"
            ]
          },
          "metadata": {
            "tags": []
          },
          "execution_count": 9
        },
        {
          "output_type": "execute_result",
          "data": {
            "text/plain": [
              "<matplotlib.axes._subplots.AxesSubplot at 0x7fe3719d55f8>"
            ]
          },
          "metadata": {
            "tags": []
          },
          "execution_count": 9
        },
        {
          "output_type": "stream",
          "text": [
            "<class 'pandas.core.frame.DataFrame'>\n",
            "DatetimeIndex: 4977 entries, 2000-01-03 to 2019-10-14\n",
            "Data columns (total 8 columns):\n",
            "Open              4977 non-null float64\n",
            "High              4977 non-null float64\n",
            "Low               4977 non-null float64\n",
            "Close             4977 non-null float64\n",
            "Volume            4977 non-null int64\n",
            "rolling_mean      4957 non-null float64\n",
            "bollinger_high    4957 non-null float64\n",
            "bollinger_low     4957 non-null float64\n",
            "dtypes: float64(7), int64(1)\n",
            "memory usage: 349.9 KB\n"
          ],
          "name": "stdout"
        },
        {
          "output_type": "execute_result",
          "data": {
            "text/html": [
              "<div>\n",
              "<style scoped>\n",
              "    .dataframe tbody tr th:only-of-type {\n",
              "        vertical-align: middle;\n",
              "    }\n",
              "\n",
              "    .dataframe tbody tr th {\n",
              "        vertical-align: top;\n",
              "    }\n",
              "\n",
              "    .dataframe thead th {\n",
              "        text-align: right;\n",
              "    }\n",
              "</style>\n",
              "<table border=\"1\" class=\"dataframe\">\n",
              "  <thead>\n",
              "    <tr style=\"text-align: right;\">\n",
              "      <th></th>\n",
              "      <th>Open</th>\n",
              "      <th>High</th>\n",
              "      <th>Low</th>\n",
              "      <th>Close</th>\n",
              "      <th>Volume</th>\n",
              "      <th>rolling_mean</th>\n",
              "      <th>bollinger_high</th>\n",
              "      <th>bollinger_low</th>\n",
              "    </tr>\n",
              "    <tr>\n",
              "      <th>Date</th>\n",
              "      <th></th>\n",
              "      <th></th>\n",
              "      <th></th>\n",
              "      <th></th>\n",
              "      <th></th>\n",
              "      <th></th>\n",
              "      <th></th>\n",
              "      <th></th>\n",
              "    </tr>\n",
              "  </thead>\n",
              "  <tbody>\n",
              "    <tr>\n",
              "      <th>2000-01-03</th>\n",
              "      <td>4.25</td>\n",
              "      <td>4.25</td>\n",
              "      <td>3.94</td>\n",
              "      <td>3.94</td>\n",
              "      <td>2461900</td>\n",
              "      <td>NaN</td>\n",
              "      <td>NaN</td>\n",
              "      <td>NaN</td>\n",
              "    </tr>\n",
              "    <tr>\n",
              "      <th>2000-01-04</th>\n",
              "      <td>3.94</td>\n",
              "      <td>5.00</td>\n",
              "      <td>3.88</td>\n",
              "      <td>4.69</td>\n",
              "      <td>7660300</td>\n",
              "      <td>NaN</td>\n",
              "      <td>NaN</td>\n",
              "      <td>NaN</td>\n",
              "    </tr>\n",
              "    <tr>\n",
              "      <th>2000-01-05</th>\n",
              "      <td>4.75</td>\n",
              "      <td>4.75</td>\n",
              "      <td>4.12</td>\n",
              "      <td>4.38</td>\n",
              "      <td>3944600</td>\n",
              "      <td>NaN</td>\n",
              "      <td>NaN</td>\n",
              "      <td>NaN</td>\n",
              "    </tr>\n",
              "    <tr>\n",
              "      <th>2000-01-06</th>\n",
              "      <td>4.50</td>\n",
              "      <td>4.69</td>\n",
              "      <td>4.31</td>\n",
              "      <td>4.56</td>\n",
              "      <td>2468400</td>\n",
              "      <td>NaN</td>\n",
              "      <td>NaN</td>\n",
              "      <td>NaN</td>\n",
              "    </tr>\n",
              "    <tr>\n",
              "      <th>2000-01-07</th>\n",
              "      <td>4.62</td>\n",
              "      <td>5.62</td>\n",
              "      <td>4.62</td>\n",
              "      <td>5.62</td>\n",
              "      <td>9783000</td>\n",
              "      <td>NaN</td>\n",
              "      <td>NaN</td>\n",
              "      <td>NaN</td>\n",
              "    </tr>\n",
              "  </tbody>\n",
              "</table>\n",
              "</div>"
            ],
            "text/plain": [
              "            Open  High   Low  ...  rolling_mean  bollinger_high  bollinger_low\n",
              "Date                          ...                                             \n",
              "2000-01-03  4.25  4.25  3.94  ...           NaN             NaN            NaN\n",
              "2000-01-04  3.94  5.00  3.88  ...           NaN             NaN            NaN\n",
              "2000-01-05  4.75  4.75  4.12  ...           NaN             NaN            NaN\n",
              "2000-01-06  4.50  4.69  4.31  ...           NaN             NaN            NaN\n",
              "2000-01-07  4.62  5.62  4.62  ...           NaN             NaN            NaN\n",
              "\n",
              "[5 rows x 8 columns]"
            ]
          },
          "metadata": {
            "tags": []
          },
          "execution_count": 9
        },
        {
          "output_type": "execute_result",
          "data": {
            "text/html": [
              "<div>\n",
              "<style scoped>\n",
              "    .dataframe tbody tr th:only-of-type {\n",
              "        vertical-align: middle;\n",
              "    }\n",
              "\n",
              "    .dataframe tbody tr th {\n",
              "        vertical-align: top;\n",
              "    }\n",
              "\n",
              "    .dataframe thead th {\n",
              "        text-align: right;\n",
              "    }\n",
              "</style>\n",
              "<table border=\"1\" class=\"dataframe\">\n",
              "  <thead>\n",
              "    <tr style=\"text-align: right;\">\n",
              "      <th></th>\n",
              "      <th>Open</th>\n",
              "      <th>High</th>\n",
              "      <th>Low</th>\n",
              "      <th>Close</th>\n",
              "      <th>Volume</th>\n",
              "      <th>rolling_mean</th>\n",
              "      <th>bollinger_high</th>\n",
              "      <th>bollinger_low</th>\n",
              "    </tr>\n",
              "    <tr>\n",
              "      <th>Date</th>\n",
              "      <th></th>\n",
              "      <th></th>\n",
              "      <th></th>\n",
              "      <th></th>\n",
              "      <th></th>\n",
              "      <th></th>\n",
              "      <th></th>\n",
              "      <th></th>\n",
              "    </tr>\n",
              "  </thead>\n",
              "  <tbody>\n",
              "    <tr>\n",
              "      <th>2019-10-08</th>\n",
              "      <td>57.10</td>\n",
              "      <td>57.30</td>\n",
              "      <td>55.40</td>\n",
              "      <td>55.52</td>\n",
              "      <td>4404300</td>\n",
              "      <td>61.185238</td>\n",
              "      <td>66.181367</td>\n",
              "      <td>56.189109</td>\n",
              "    </tr>\n",
              "    <tr>\n",
              "      <th>2019-10-09</th>\n",
              "      <td>56.27</td>\n",
              "      <td>56.97</td>\n",
              "      <td>55.93</td>\n",
              "      <td>56.53</td>\n",
              "      <td>2242800</td>\n",
              "      <td>60.894762</td>\n",
              "      <td>66.294586</td>\n",
              "      <td>55.494937</td>\n",
              "    </tr>\n",
              "    <tr>\n",
              "      <th>2019-10-10</th>\n",
              "      <td>56.40</td>\n",
              "      <td>57.82</td>\n",
              "      <td>56.13</td>\n",
              "      <td>57.34</td>\n",
              "      <td>2361600</td>\n",
              "      <td>60.584762</td>\n",
              "      <td>66.240098</td>\n",
              "      <td>54.929426</td>\n",
              "    </tr>\n",
              "    <tr>\n",
              "      <th>2019-10-11</th>\n",
              "      <td>58.54</td>\n",
              "      <td>59.28</td>\n",
              "      <td>58.01</td>\n",
              "      <td>58.35</td>\n",
              "      <td>2617800</td>\n",
              "      <td>60.300000</td>\n",
              "      <td>65.720446</td>\n",
              "      <td>54.879554</td>\n",
              "    </tr>\n",
              "    <tr>\n",
              "      <th>2019-10-14</th>\n",
              "      <td>59.61</td>\n",
              "      <td>60.23</td>\n",
              "      <td>58.80</td>\n",
              "      <td>59.28</td>\n",
              "      <td>3745100</td>\n",
              "      <td>60.075714</td>\n",
              "      <td>65.177979</td>\n",
              "      <td>54.973450</td>\n",
              "    </tr>\n",
              "  </tbody>\n",
              "</table>\n",
              "</div>"
            ],
            "text/plain": [
              "             Open   High    Low  ...  rolling_mean  bollinger_high  bollinger_low\n",
              "Date                             ...                                             \n",
              "2019-10-08  57.10  57.30  55.40  ...     61.185238       66.181367      56.189109\n",
              "2019-10-09  56.27  56.97  55.93  ...     60.894762       66.294586      55.494937\n",
              "2019-10-10  56.40  57.82  56.13  ...     60.584762       66.240098      54.929426\n",
              "2019-10-11  58.54  59.28  58.01  ...     60.300000       65.720446      54.879554\n",
              "2019-10-14  59.61  60.23  58.80  ...     60.075714       65.177979      54.973450\n",
              "\n",
              "[5 rows x 8 columns]"
            ]
          },
          "metadata": {
            "tags": []
          },
          "execution_count": 9
        },
        {
          "output_type": "display_data",
          "data": {
            "image/png": "[encoded data removed]",
            "text/plain": [
              "<Figure size 432x288 with 1 Axes>"
            ]
          },
          "metadata": {
            "tags": []
          }
        }
      ]
    },
    {
      "cell_type": "code",
      "metadata": {
        "id": "N1XvnH-e_HV5",
        "colab_type": "code",
        "colab": {
          "base_uri": "https://localhost:8080/",
          "height": 1000
        },
        "outputId": "4a8ff262-4d92-48d5-b627-99434a018ca6"
      },
      "source": [
        "# Get the data for the stock UNFI by specifying the stock ticker, start date, and end date\n",
        "df_unfi = yf.download('UNFI','2000-01-01','2019-10-15')\n",
        "\n",
        "df_unfi = modify_features(df_unfi)\n",
        "\n",
        "# Plot the close prices\n",
        "df_unfi.Close.plot()\n",
        "plt.show()\n",
        "\n",
        "sns.lineplot(data=df_unfi['Close'][-100:])\n",
        "sns.lineplot(data=df_unfi['bollinger_high'][-100:])\n",
        "sns.lineplot(data=df_unfi['bollinger_low'][-100:])\n",
        "\n",
        "\n",
        "df_unfi.info()\n",
        "df_unfi.head()\n",
        "df_unfi.tail()"
      ],
      "execution_count": 10,
      "outputs": [
        {
          "output_type": "stream",
          "text": [
            "\r[*********************100%***********************]  1 of 1 downloaded\n"
          ],
          "name": "stdout"
        },
        {
          "output_type": "execute_result",
          "data": {
            "text/plain": [
              "<matplotlib.axes._subplots.AxesSubplot at 0x7fe3719b0668>"
            ]
          },
          "metadata": {
            "tags": []
          },
          "execution_count": 10
        },
        {
          "output_type": "display_data",
          "data": {
            "image/png": "[encoded data removed]",
            "text/plain": [
              "<Figure size 432x288 with 1 Axes>"
            ]
          },
          "metadata": {
            "tags": []
          }
        },
        {
          "output_type": "execute_result",
          "data": {
            "text/plain": [
              "<matplotlib.axes._subplots.AxesSubplot at 0x7fe3718da400>"
            ]
          },
          "metadata": {
            "tags": []
          },
          "execution_count": 10
        },
        {
          "output_type": "execute_result",
          "data": {
            "text/plain": [
              "<matplotlib.axes._subplots.AxesSubplot at 0x7fe3718da400>"
            ]
          },
          "metadata": {
            "tags": []
          },
          "execution_count": 10
        },
        {
          "output_type": "execute_result",
          "data": {
            "text/plain": [
              "<matplotlib.axes._subplots.AxesSubplot at 0x7fe3718da400>"
            ]
          },
          "metadata": {
            "tags": []
          },
          "execution_count": 10
        },
        {
          "output_type": "stream",
          "text": [
            "<class 'pandas.core.frame.DataFrame'>\n",
            "DatetimeIndex: 4977 entries, 2000-01-03 to 2019-10-14\n",
            "Data columns (total 8 columns):\n",
            "Open              4977 non-null float64\n",
            "High              4977 non-null float64\n",
            "Low               4977 non-null float64\n",
            "Close             4977 non-null float64\n",
            "Volume            4977 non-null int64\n",
            "rolling_mean      4957 non-null float64\n",
            "bollinger_high    4957 non-null float64\n",
            "bollinger_low     4957 non-null float64\n",
            "dtypes: float64(7), int64(1)\n",
            "memory usage: 349.9 KB\n"
          ],
          "name": "stdout"
        },
        {
          "output_type": "execute_result",
          "data": {
            "text/html": [
              "<div>\n",
              "<style scoped>\n",
              "    .dataframe tbody tr th:only-of-type {\n",
              "        vertical-align: middle;\n",
              "    }\n",
              "\n",
              "    .dataframe tbody tr th {\n",
              "        vertical-align: top;\n",
              "    }\n",
              "\n",
              "    .dataframe thead th {\n",
              "        text-align: right;\n",
              "    }\n",
              "</style>\n",
              "<table border=\"1\" class=\"dataframe\">\n",
              "  <thead>\n",
              "    <tr style=\"text-align: right;\">\n",
              "      <th></th>\n",
              "      <th>Open</th>\n",
              "      <th>High</th>\n",
              "      <th>Low</th>\n",
              "      <th>Close</th>\n",
              "      <th>Volume</th>\n",
              "      <th>rolling_mean</th>\n",
              "      <th>bollinger_high</th>\n",
              "      <th>bollinger_low</th>\n",
              "    </tr>\n",
              "    <tr>\n",
              "      <th>Date</th>\n",
              "      <th></th>\n",
              "      <th></th>\n",
              "      <th></th>\n",
              "      <th></th>\n",
              "      <th></th>\n",
              "      <th></th>\n",
              "      <th></th>\n",
              "      <th></th>\n",
              "    </tr>\n",
              "  </thead>\n",
              "  <tbody>\n",
              "    <tr>\n",
              "      <th>2000-01-03</th>\n",
              "      <td>6.38</td>\n",
              "      <td>6.44</td>\n",
              "      <td>5.75</td>\n",
              "      <td>5.94</td>\n",
              "      <td>239200</td>\n",
              "      <td>NaN</td>\n",
              "      <td>NaN</td>\n",
              "      <td>NaN</td>\n",
              "    </tr>\n",
              "    <tr>\n",
              "      <th>2000-01-04</th>\n",
              "      <td>5.91</td>\n",
              "      <td>6.03</td>\n",
              "      <td>5.72</td>\n",
              "      <td>5.75</td>\n",
              "      <td>175400</td>\n",
              "      <td>NaN</td>\n",
              "      <td>NaN</td>\n",
              "      <td>NaN</td>\n",
              "    </tr>\n",
              "    <tr>\n",
              "      <th>2000-01-05</th>\n",
              "      <td>5.77</td>\n",
              "      <td>5.88</td>\n",
              "      <td>5.72</td>\n",
              "      <td>5.88</td>\n",
              "      <td>80600</td>\n",
              "      <td>NaN</td>\n",
              "      <td>NaN</td>\n",
              "      <td>NaN</td>\n",
              "    </tr>\n",
              "    <tr>\n",
              "      <th>2000-01-06</th>\n",
              "      <td>5.94</td>\n",
              "      <td>6.25</td>\n",
              "      <td>5.75</td>\n",
              "      <td>5.88</td>\n",
              "      <td>213800</td>\n",
              "      <td>NaN</td>\n",
              "      <td>NaN</td>\n",
              "      <td>NaN</td>\n",
              "    </tr>\n",
              "    <tr>\n",
              "      <th>2000-01-07</th>\n",
              "      <td>5.88</td>\n",
              "      <td>6.03</td>\n",
              "      <td>5.75</td>\n",
              "      <td>6.03</td>\n",
              "      <td>155800</td>\n",
              "      <td>NaN</td>\n",
              "      <td>NaN</td>\n",
              "      <td>NaN</td>\n",
              "    </tr>\n",
              "  </tbody>\n",
              "</table>\n",
              "</div>"
            ],
            "text/plain": [
              "            Open  High   Low  ...  rolling_mean  bollinger_high  bollinger_low\n",
              "Date                          ...                                             \n",
              "2000-01-03  6.38  6.44  5.75  ...           NaN             NaN            NaN\n",
              "2000-01-04  5.91  6.03  5.72  ...           NaN             NaN            NaN\n",
              "2000-01-05  5.77  5.88  5.72  ...           NaN             NaN            NaN\n",
              "2000-01-06  5.94  6.25  5.75  ...           NaN             NaN            NaN\n",
              "2000-01-07  5.88  6.03  5.75  ...           NaN             NaN            NaN\n",
              "\n",
              "[5 rows x 8 columns]"
            ]
          },
          "metadata": {
            "tags": []
          },
          "execution_count": 10
        },
        {
          "output_type": "execute_result",
          "data": {
            "text/html": [
              "<div>\n",
              "<style scoped>\n",
              "    .dataframe tbody tr th:only-of-type {\n",
              "        vertical-align: middle;\n",
              "    }\n",
              "\n",
              "    .dataframe tbody tr th {\n",
              "        vertical-align: top;\n",
              "    }\n",
              "\n",
              "    .dataframe thead th {\n",
              "        text-align: right;\n",
              "    }\n",
              "</style>\n",
              "<table border=\"1\" class=\"dataframe\">\n",
              "  <thead>\n",
              "    <tr style=\"text-align: right;\">\n",
              "      <th></th>\n",
              "      <th>Open</th>\n",
              "      <th>High</th>\n",
              "      <th>Low</th>\n",
              "      <th>Close</th>\n",
              "      <th>Volume</th>\n",
              "      <th>rolling_mean</th>\n",
              "      <th>bollinger_high</th>\n",
              "      <th>bollinger_low</th>\n",
              "    </tr>\n",
              "    <tr>\n",
              "      <th>Date</th>\n",
              "      <th></th>\n",
              "      <th></th>\n",
              "      <th></th>\n",
              "      <th></th>\n",
              "      <th></th>\n",
              "      <th></th>\n",
              "      <th></th>\n",
              "      <th></th>\n",
              "    </tr>\n",
              "  </thead>\n",
              "  <tbody>\n",
              "    <tr>\n",
              "      <th>2019-10-08</th>\n",
              "      <td>7.45</td>\n",
              "      <td>7.48</td>\n",
              "      <td>6.81</td>\n",
              "      <td>7.10</td>\n",
              "      <td>2779400</td>\n",
              "      <td>10.973333</td>\n",
              "      <td>14.896533</td>\n",
              "      <td>7.050134</td>\n",
              "    </tr>\n",
              "    <tr>\n",
              "      <th>2019-10-09</th>\n",
              "      <td>7.27</td>\n",
              "      <td>7.54</td>\n",
              "      <td>7.24</td>\n",
              "      <td>7.39</td>\n",
              "      <td>1930600</td>\n",
              "      <td>10.841905</td>\n",
              "      <td>15.070841</td>\n",
              "      <td>6.612968</td>\n",
              "    </tr>\n",
              "    <tr>\n",
              "      <th>2019-10-10</th>\n",
              "      <td>7.35</td>\n",
              "      <td>7.43</td>\n",
              "      <td>7.02</td>\n",
              "      <td>7.03</td>\n",
              "      <td>1240100</td>\n",
              "      <td>10.660000</td>\n",
              "      <td>15.150220</td>\n",
              "      <td>6.169780</td>\n",
              "    </tr>\n",
              "    <tr>\n",
              "      <th>2019-10-11</th>\n",
              "      <td>7.21</td>\n",
              "      <td>7.30</td>\n",
              "      <td>7.10</td>\n",
              "      <td>7.12</td>\n",
              "      <td>1345700</td>\n",
              "      <td>10.430000</td>\n",
              "      <td>15.113964</td>\n",
              "      <td>5.746036</td>\n",
              "    </tr>\n",
              "    <tr>\n",
              "      <th>2019-10-14</th>\n",
              "      <td>7.02</td>\n",
              "      <td>7.18</td>\n",
              "      <td>6.80</td>\n",
              "      <td>7.09</td>\n",
              "      <td>1277400</td>\n",
              "      <td>10.187619</td>\n",
              "      <td>15.030543</td>\n",
              "      <td>5.344695</td>\n",
              "    </tr>\n",
              "  </tbody>\n",
              "</table>\n",
              "</div>"
            ],
            "text/plain": [
              "            Open  High   Low  ...  rolling_mean  bollinger_high  bollinger_low\n",
              "Date                          ...                                             \n",
              "2019-10-08  7.45  7.48  6.81  ...     10.973333       14.896533       7.050134\n",
              "2019-10-09  7.27  7.54  7.24  ...     10.841905       15.070841       6.612968\n",
              "2019-10-10  7.35  7.43  7.02  ...     10.660000       15.150220       6.169780\n",
              "2019-10-11  7.21  7.30  7.10  ...     10.430000       15.113964       5.746036\n",
              "2019-10-14  7.02  7.18  6.80  ...     10.187619       15.030543       5.344695\n",
              "\n",
              "[5 rows x 8 columns]"
            ]
          },
          "metadata": {
            "tags": []
          },
          "execution_count": 10
        },
        {
          "output_type": "display_data",
          "data": {
            "image/png": "[encoded data removed]",
            "text/plain": [
              "<Figure size 432x288 with 1 Axes>"
            ]
          },
          "metadata": {
            "tags": []
          }
        }
      ]
    },
    {
      "cell_type": "code",
      "metadata": {
        "id": "u4Y_fP-x_MvZ",
        "colab_type": "code",
        "colab": {
          "base_uri": "https://localhost:8080/",
          "height": 1000
        },
        "outputId": "233fd473-46e2-4e5c-a46a-9c08558b6210"
      },
      "source": [
        "# Get the data for the stock GE by specifying the stock ticker, start date, and end date\n",
        "df_ge = yf.download('GE','2000-01-01','2019-10-15')\n",
        "\n",
        "df_ge = modify_features(df_ge)\n",
        "\n",
        "# Plot the close prices\n",
        "df_ge.Close.plot()\n",
        "plt.show()\n",
        "\n",
        "sns.lineplot(data=df_ge['Close'][-100:])\n",
        "sns.lineplot(data=df_ge['bollinger_high'][-100:])\n",
        "sns.lineplot(data=df_ge['bollinger_low'][-100:])\n",
        "\n",
        "df_ge.info()\n",
        "df_ge.head()\n",
        "df_ge.tail()"
      ],
      "execution_count": 11,
      "outputs": [
        {
          "output_type": "stream",
          "text": [
            "\r[*********************100%***********************]  1 of 1 downloaded\n"
          ],
          "name": "stdout"
        },
        {
          "output_type": "execute_result",
          "data": {
            "text/plain": [
              "<matplotlib.axes._subplots.AxesSubplot at 0x7fe37187d400>"
            ]
          },
          "metadata": {
            "tags": []
          },
          "execution_count": 11
        },
        {
          "output_type": "display_data",
          "data": {
            "image/png": "[encoded data removed]",
            "text/plain": [
              "<Figure size 432x288 with 1 Axes>"
            ]
          },
          "metadata": {
            "tags": []
          }
        },
        {
          "output_type": "execute_result",
          "data": {
            "text/plain": [
              "<matplotlib.axes._subplots.AxesSubplot at 0x7fe37173c400>"
            ]
          },
          "metadata": {
            "tags": []
          },
          "execution_count": 11
        },
        {
          "output_type": "execute_result",
          "data": {
            "text/plain": [
              "<matplotlib.axes._subplots.AxesSubplot at 0x7fe37173c400>"
            ]
          },
          "metadata": {
            "tags": []
          },
          "execution_count": 11
        },
        {
          "output_type": "execute_result",
          "data": {
            "text/plain": [
              "<matplotlib.axes._subplots.AxesSubplot at 0x7fe37173c400>"
            ]
          },
          "metadata": {
            "tags": []
          },
          "execution_count": 11
        },
        {
          "output_type": "stream",
          "text": [
            "<class 'pandas.core.frame.DataFrame'>\n",
            "DatetimeIndex: 4977 entries, 2000-01-03 to 2019-10-14\n",
            "Data columns (total 8 columns):\n",
            "Open              4977 non-null float64\n",
            "High              4977 non-null float64\n",
            "Low               4977 non-null float64\n",
            "Close             4977 non-null float64\n",
            "Volume            4977 non-null int64\n",
            "rolling_mean      4957 non-null float64\n",
            "bollinger_high    4957 non-null float64\n",
            "bollinger_low     4957 non-null float64\n",
            "dtypes: float64(7), int64(1)\n",
            "memory usage: 349.9 KB\n"
          ],
          "name": "stdout"
        },
        {
          "output_type": "execute_result",
          "data": {
            "text/html": [
              "<div>\n",
              "<style scoped>\n",
              "    .dataframe tbody tr th:only-of-type {\n",
              "        vertical-align: middle;\n",
              "    }\n",
              "\n",
              "    .dataframe tbody tr th {\n",
              "        vertical-align: top;\n",
              "    }\n",
              "\n",
              "    .dataframe thead th {\n",
              "        text-align: right;\n",
              "    }\n",
              "</style>\n",
              "<table border=\"1\" class=\"dataframe\">\n",
              "  <thead>\n",
              "    <tr style=\"text-align: right;\">\n",
              "      <th></th>\n",
              "      <th>Open</th>\n",
              "      <th>High</th>\n",
              "      <th>Low</th>\n",
              "      <th>Close</th>\n",
              "      <th>Volume</th>\n",
              "      <th>rolling_mean</th>\n",
              "      <th>bollinger_high</th>\n",
              "      <th>bollinger_low</th>\n",
              "    </tr>\n",
              "    <tr>\n",
              "      <th>Date</th>\n",
              "      <th></th>\n",
              "      <th></th>\n",
              "      <th></th>\n",
              "      <th></th>\n",
              "      <th></th>\n",
              "      <th></th>\n",
              "      <th></th>\n",
              "      <th></th>\n",
              "    </tr>\n",
              "  </thead>\n",
              "  <tbody>\n",
              "    <tr>\n",
              "      <th>2000-01-03</th>\n",
              "      <td>49.04</td>\n",
              "      <td>49.26</td>\n",
              "      <td>47.82</td>\n",
              "      <td>48.08</td>\n",
              "      <td>22952500</td>\n",
              "      <td>NaN</td>\n",
              "      <td>NaN</td>\n",
              "      <td>NaN</td>\n",
              "    </tr>\n",
              "    <tr>\n",
              "      <th>2000-01-04</th>\n",
              "      <td>47.20</td>\n",
              "      <td>47.44</td>\n",
              "      <td>46.15</td>\n",
              "      <td>46.15</td>\n",
              "      <td>23006200</td>\n",
              "      <td>NaN</td>\n",
              "      <td>NaN</td>\n",
              "      <td>NaN</td>\n",
              "    </tr>\n",
              "    <tr>\n",
              "      <th>2000-01-05</th>\n",
              "      <td>46.07</td>\n",
              "      <td>47.12</td>\n",
              "      <td>45.69</td>\n",
              "      <td>46.07</td>\n",
              "      <td>28384500</td>\n",
              "      <td>NaN</td>\n",
              "      <td>NaN</td>\n",
              "      <td>NaN</td>\n",
              "    </tr>\n",
              "    <tr>\n",
              "      <th>2000-01-06</th>\n",
              "      <td>45.87</td>\n",
              "      <td>47.10</td>\n",
              "      <td>45.71</td>\n",
              "      <td>46.69</td>\n",
              "      <td>20668100</td>\n",
              "      <td>NaN</td>\n",
              "      <td>NaN</td>\n",
              "      <td>NaN</td>\n",
              "    </tr>\n",
              "    <tr>\n",
              "      <th>2000-01-07</th>\n",
              "      <td>47.44</td>\n",
              "      <td>48.68</td>\n",
              "      <td>47.12</td>\n",
              "      <td>48.50</td>\n",
              "      <td>20947000</td>\n",
              "      <td>NaN</td>\n",
              "      <td>NaN</td>\n",
              "      <td>NaN</td>\n",
              "    </tr>\n",
              "  </tbody>\n",
              "</table>\n",
              "</div>"
            ],
            "text/plain": [
              "             Open   High    Low  ...  rolling_mean  bollinger_high  bollinger_low\n",
              "Date                             ...                                             \n",
              "2000-01-03  49.04  49.26  47.82  ...           NaN             NaN            NaN\n",
              "2000-01-04  47.20  47.44  46.15  ...           NaN             NaN            NaN\n",
              "2000-01-05  46.07  47.12  45.69  ...           NaN             NaN            NaN\n",
              "2000-01-06  45.87  47.10  45.71  ...           NaN             NaN            NaN\n",
              "2000-01-07  47.44  48.68  47.12  ...           NaN             NaN            NaN\n",
              "\n",
              "[5 rows x 8 columns]"
            ]
          },
          "metadata": {
            "tags": []
          },
          "execution_count": 11
        },
        {
          "output_type": "execute_result",
          "data": {
            "text/html": [
              "<div>\n",
              "<style scoped>\n",
              "    .dataframe tbody tr th:only-of-type {\n",
              "        vertical-align: middle;\n",
              "    }\n",
              "\n",
              "    .dataframe tbody tr th {\n",
              "        vertical-align: top;\n",
              "    }\n",
              "\n",
              "    .dataframe thead th {\n",
              "        text-align: right;\n",
              "    }\n",
              "</style>\n",
              "<table border=\"1\" class=\"dataframe\">\n",
              "  <thead>\n",
              "    <tr style=\"text-align: right;\">\n",
              "      <th></th>\n",
              "      <th>Open</th>\n",
              "      <th>High</th>\n",
              "      <th>Low</th>\n",
              "      <th>Close</th>\n",
              "      <th>Volume</th>\n",
              "      <th>rolling_mean</th>\n",
              "      <th>bollinger_high</th>\n",
              "      <th>bollinger_low</th>\n",
              "    </tr>\n",
              "    <tr>\n",
              "      <th>Date</th>\n",
              "      <th></th>\n",
              "      <th></th>\n",
              "      <th></th>\n",
              "      <th></th>\n",
              "      <th></th>\n",
              "      <th></th>\n",
              "      <th></th>\n",
              "      <th></th>\n",
              "    </tr>\n",
              "  </thead>\n",
              "  <tbody>\n",
              "    <tr>\n",
              "      <th>2019-10-08</th>\n",
              "      <td>8.48</td>\n",
              "      <td>8.50</td>\n",
              "      <td>8.27</td>\n",
              "      <td>8.28</td>\n",
              "      <td>45502400</td>\n",
              "      <td>9.044762</td>\n",
              "      <td>9.694612</td>\n",
              "      <td>8.394912</td>\n",
              "    </tr>\n",
              "    <tr>\n",
              "      <th>2019-10-09</th>\n",
              "      <td>8.31</td>\n",
              "      <td>8.37</td>\n",
              "      <td>8.24</td>\n",
              "      <td>8.35</td>\n",
              "      <td>32840800</td>\n",
              "      <td>9.016190</td>\n",
              "      <td>9.739529</td>\n",
              "      <td>8.292852</td>\n",
              "    </tr>\n",
              "    <tr>\n",
              "      <th>2019-10-10</th>\n",
              "      <td>8.34</td>\n",
              "      <td>8.52</td>\n",
              "      <td>8.31</td>\n",
              "      <td>8.45</td>\n",
              "      <td>30546100</td>\n",
              "      <td>8.977619</td>\n",
              "      <td>9.755331</td>\n",
              "      <td>8.199907</td>\n",
              "    </tr>\n",
              "    <tr>\n",
              "      <th>2019-10-11</th>\n",
              "      <td>8.59</td>\n",
              "      <td>8.92</td>\n",
              "      <td>8.58</td>\n",
              "      <td>8.80</td>\n",
              "      <td>55835000</td>\n",
              "      <td>8.939048</td>\n",
              "      <td>9.709084</td>\n",
              "      <td>8.169011</td>\n",
              "    </tr>\n",
              "    <tr>\n",
              "      <th>2019-10-14</th>\n",
              "      <td>8.84</td>\n",
              "      <td>8.85</td>\n",
              "      <td>8.64</td>\n",
              "      <td>8.72</td>\n",
              "      <td>34052700</td>\n",
              "      <td>8.916667</td>\n",
              "      <td>9.668527</td>\n",
              "      <td>8.164807</td>\n",
              "    </tr>\n",
              "  </tbody>\n",
              "</table>\n",
              "</div>"
            ],
            "text/plain": [
              "            Open  High   Low  ...  rolling_mean  bollinger_high  bollinger_low\n",
              "Date                          ...                                             \n",
              "2019-10-08  8.48  8.50  8.27  ...      9.044762        9.694612       8.394912\n",
              "2019-10-09  8.31  8.37  8.24  ...      9.016190        9.739529       8.292852\n",
              "2019-10-10  8.34  8.52  8.31  ...      8.977619        9.755331       8.199907\n",
              "2019-10-11  8.59  8.92  8.58  ...      8.939048        9.709084       8.169011\n",
              "2019-10-14  8.84  8.85  8.64  ...      8.916667        9.668527       8.164807\n",
              "\n",
              "[5 rows x 8 columns]"
            ]
          },
          "metadata": {
            "tags": []
          },
          "execution_count": 11
        },
        {
          "output_type": "display_data",
          "data": {
            "image/png": "[encoded data removed]",
            "text/plain": [
              "<Figure size 432x288 with 1 Axes>"
            ]
          },
          "metadata": {
            "tags": []
          }
        }
      ]
    },
    {
      "cell_type": "code",
      "metadata": {
        "id": "1uKAJFBvcDZo",
        "colab_type": "code",
        "colab": {}
      },
      "source": [
        "def get_data_slice_details(df):\n",
        "  try:\n",
        "    begin_train = df.index.get_loc('2008-12-31')  + 1\n",
        "  except:\n",
        "    begin_train = 1\n",
        "  \n",
        "  end_train = df.index.get_loc('2018-12-31')\n",
        "  begin_valid = end_train+1\n",
        "  end_valid = df.index.get_loc('2019-05-31')\n",
        "  begin_test = end_valid+1\n",
        "  end_test = df.index.get_loc('2019-10-14')\n",
        "  train_array = df.values[begin_train:end_train,3]\n",
        "  valid_array = df.values[begin_valid:end_valid,3]\n",
        "  test_array = df.values[begin_test:end_test,3]\n",
        "\n",
        "  print(train_array.shape, valid_array.shape, test_array.shape)\n",
        "\n",
        "\n",
        "\n",
        "  return train_array, valid_array, test_array\n",
        "\n",
        "#Scale the close data\n",
        "\n",
        "def scale_all_inputs(train_array, valid_array, test_array):\n",
        "  sc_model = MinMaxScaler((0, 1))\n",
        "  train_scaled_array = sc_model.fit_transform(train_array.reshape(-1, 1))\n",
        "  valid_scaled_array = sc_model.transform(valid_array.reshape(-1, 1))\n",
        "  test_scaled_array = sc_model.transform(test_array.reshape(-1, 1))\n",
        "  print(train_scaled_array.shape, valid_scaled_array.shape, test_scaled_array.shape)\n",
        "  return sc_model, train_scaled_array, valid_scaled_array, test_scaled_array   \n",
        "\n",
        "\n",
        "# Create data structures with x timesteps and 1 output\n",
        "\n",
        "def create_data_structures(timesteps, train_array, valid_array, test_array):\n",
        "  sc_model, train_scaled_array, valid_scaled_array, test_scaled_array = scale_all_inputs(train_array, valid_array, test_array)\n",
        "  \n",
        "  \n",
        "  X_train = []\n",
        "  y_train = []\n",
        "  for i in range(timesteps, train_array.shape[0]):\n",
        "    X_train.append(train_scaled_array[i-timesteps:i,0])\n",
        "    y_train.append(train_scaled_array[i,0])\n",
        "  X_train, y_train  = np.array(X_train), np.array(y_train)\n",
        "  #reshape\n",
        "  X_train = np.reshape(X_train, (X_train.shape[0], X_train.shape[1],1))\n",
        "  print(X_train.shape, y_train.shape)\n",
        "\n",
        "  X_valid = []\n",
        "  for i in range(timesteps, timesteps+valid_scaled_array.shape[0]):\n",
        "    X_valid.append(np.concatenate((train_scaled_array[-timesteps:],valid_scaled_array),0)[i-timesteps:i,0])\n",
        "  X_valid = np.array(X_valid)\n",
        "  X_valid = np.reshape(X_valid, (X_valid.shape[0], X_valid.shape[1], 1))\n",
        "  print(X_valid.shape)\n",
        "\n",
        "  X_test = []\n",
        "  for i in range(timesteps, timesteps+test_scaled_array.shape[0]):\n",
        "    X_test.append(np.concatenate((valid_scaled_array[-timesteps:],test_scaled_array),0)[i-timesteps:i,0])\n",
        "  X_test = np.array(X_test)\n",
        "  X_test = np.reshape(X_test, (X_test.shape[0], X_test.shape[1], 1))\n",
        "  print(X_test.shape)\n",
        "\n",
        "  return sc_model, X_train, y_train, X_valid, X_test\n",
        "\n",
        "def create_lstm_model(X_train):\n",
        "  # Initialising the RNN\n",
        "  regressor = Sequential()\n",
        "\n",
        "  # Adding the first LSTM layer and some Dropout regularisation\n",
        "  regressor.add(LSTM(units = 100, return_sequences = True, input_shape = (X_train.shape[1], 1)))\n",
        "  regressor.add(Dropout(rate=0.2))\n",
        "\n",
        "  # Adding a second LSTM layer and some Dropout regularisation\n",
        "  regressor.add(LSTM(units = 100, return_sequences = True))\n",
        "  regressor.add(Dropout(rate=0.2))\n",
        "\n",
        "  # Adding a third LSTM layer and some Dropout regularisation\n",
        "  regressor.add(LSTM(units = 100, return_sequences = True))\n",
        "  regressor.add(Dropout(rate=0.2))\n",
        "\n",
        "  # Adding a fourth LSTM layer and some Dropout regularisation\n",
        "  regressor.add(LSTM(units = 100))\n",
        "  regressor.add(Dropout(rate=0.2))\n",
        "\n",
        "  # Adding the output layer\n",
        "  regressor.add(Dense(units = 1))\n",
        "\n",
        "  return regressor"
      ],
      "execution_count": 0,
      "outputs": []
    },
    {
      "cell_type": "code",
      "metadata": {
        "id": "_Xv2K6NOg9yz",
        "colab_type": "code",
        "colab": {
          "base_uri": "https://localhost:8080/",
          "height": 104
        },
        "outputId": "e78ba5d4-6a68-4fad-b1d2-58f559f6d002"
      },
      "source": [
        "train_wdc, valid_wdc, test_wdc = get_data_slice_details(df_wdc)\n",
        "sc_wdc, X_train_wdc, y_train_wdc, X_valid_wdc, X_test_wdc = create_data_structures(30, train_wdc, valid_wdc, test_wdc)"
      ],
      "execution_count": 13,
      "outputs": [
        {
          "output_type": "stream",
          "text": [
            "(2515,) (103,) (93,)\n",
            "(2515, 1) (103, 1) (93, 1)\n",
            "(2485, 30, 1) (2485,)\n",
            "(103, 30, 1)\n",
            "(93, 30, 1)\n"
          ],
          "name": "stdout"
        }
      ]
    },
    {
      "cell_type": "code",
      "metadata": {
        "id": "vJrKpgXcLTSZ",
        "colab_type": "code",
        "colab": {
          "base_uri": "https://localhost:8080/",
          "height": 263
        },
        "outputId": "2af83763-ffee-4077-8b32-148135ba3cec"
      },
      "source": [
        "# Create an LSTM regressor\n",
        "regressor_wdc = create_lstm_model(X_train_wdc)\n",
        "# Compiling the RNN\n",
        "regressor_wdc.compile(optimizer = 'nadam', loss = 'mean_squared_error')"
      ],
      "execution_count": 14,
      "outputs": [
        {
          "output_type": "stream",
          "text": [
            "WARNING:tensorflow:From /usr/local/lib/python3.6/dist-packages/keras/backend/tensorflow_backend.py:66: The name tf.get_default_graph is deprecated. Please use tf.compat.v1.get_default_graph instead.\n",
            "\n",
            "WARNING:tensorflow:From /usr/local/lib/python3.6/dist-packages/keras/backend/tensorflow_backend.py:541: The name tf.placeholder is deprecated. Please use tf.compat.v1.placeholder instead.\n",
            "\n",
            "WARNING:tensorflow:From /usr/local/lib/python3.6/dist-packages/keras/backend/tensorflow_backend.py:4432: The name tf.random_uniform is deprecated. Please use tf.random.uniform instead.\n",
            "\n",
            "WARNING:tensorflow:From /usr/local/lib/python3.6/dist-packages/keras/backend/tensorflow_backend.py:148: The name tf.placeholder_with_default is deprecated. Please use tf.compat.v1.placeholder_with_default instead.\n",
            "\n",
            "WARNING:tensorflow:From /usr/local/lib/python3.6/dist-packages/keras/backend/tensorflow_backend.py:3733: calling dropout (from tensorflow.python.ops.nn_ops) with keep_prob is deprecated and will be removed in a future version.\n",
            "Instructions for updating:\n",
            "Please use `rate` instead of `keep_prob`. Rate should be set to `rate = 1 - keep_prob`.\n",
            "WARNING:tensorflow:From /usr/local/lib/python3.6/dist-packages/keras/optimizers.py:793: The name tf.train.Optimizer is deprecated. Please use tf.compat.v1.train.Optimizer instead.\n",
            "\n"
          ],
          "name": "stdout"
        }
      ]
    },
    {
      "cell_type": "code",
      "metadata": {
        "id": "g2NlkapLL3nP",
        "colab_type": "code",
        "outputId": "0d8c6f8f-a3cd-4d1b-e096-8de665c3d929",
        "colab": {
          "base_uri": "https://localhost:8080/",
          "height": 1000
        }
      },
      "source": [
        "epoch_trials = [100]\n",
        "batch_size_trials = [128]\n",
        "\n",
        "reg_models_wdc = []\n",
        "\n",
        "# Fitting the RNN to the Training set\n",
        "for n_epochs in epoch_trials:\n",
        "  for b_size in batch_size_trials:\n",
        "    regressor_wdc.fit(X_train_wdc, y_train_wdc, epochs = n_epochs, batch_size = b_size)\n",
        "    reg_models_wdc.append(regressor_wdc)\n"
      ],
      "execution_count": 16,
      "outputs": [
        {
          "output_type": "stream",
          "text": [
            "WARNING:tensorflow:From /usr/local/lib/python3.6/dist-packages/tensorflow_core/python/ops/math_grad.py:1424: where (from tensorflow.python.ops.array_ops) is deprecated and will be removed in a future version.\n",
            "Instructions for updating:\n",
            "Use tf.where in 2.0, which has the same broadcast rule as np.where\n",
            "WARNING:tensorflow:From /usr/local/lib/python3.6/dist-packages/keras/backend/tensorflow_backend.py:1033: The name tf.assign_add is deprecated. Please use tf.compat.v1.assign_add instead.\n",
            "\n",
            "WARNING:tensorflow:From /usr/local/lib/python3.6/dist-packages/keras/backend/tensorflow_backend.py:1020: The name tf.assign is deprecated. Please use tf.compat.v1.assign instead.\n",
            "\n",
            "WARNING:tensorflow:From /usr/local/lib/python3.6/dist-packages/keras/backend/tensorflow_backend.py:3005: The name tf.Session is deprecated. Please use tf.compat.v1.Session instead.\n",
            "\n",
            "Epoch 1/100\n",
            "WARNING:tensorflow:From /usr/local/lib/python3.6/dist-packages/keras/backend/tensorflow_backend.py:190: The name tf.get_default_session is deprecated. Please use tf.compat.v1.get_default_session instead.\n",
            "\n",
            "WARNING:tensorflow:From /usr/local/lib/python3.6/dist-packages/keras/backend/tensorflow_backend.py:197: The name tf.ConfigProto is deprecated. Please use tf.compat.v1.ConfigProto instead.\n",
            "\n",
            "WARNING:tensorflow:From /usr/local/lib/python3.6/dist-packages/keras/backend/tensorflow_backend.py:207: The name tf.global_variables is deprecated. Please use tf.compat.v1.global_variables instead.\n",
            "\n",
            "WARNING:tensorflow:From /usr/local/lib/python3.6/dist-packages/keras/backend/tensorflow_backend.py:216: The name tf.is_variable_initialized is deprecated. Please use tf.compat.v1.is_variable_initialized instead.\n",
            "\n",
            "WARNING:tensorflow:From /usr/local/lib/python3.6/dist-packages/keras/backend/tensorflow_backend.py:223: The name tf.variables_initializer is deprecated. Please use tf.compat.v1.variables_initializer instead.\n",
            "\n",
            "2485/2485 [==============================] - 12s 5ms/step - loss: 0.0462\n",
            "Epoch 2/100\n",
            "2485/2485 [==============================] - 5s 2ms/step - loss: 0.0111\n",
            "Epoch 3/100\n",
            "2485/2485 [==============================] - 5s 2ms/step - loss: 0.0077\n",
            "Epoch 4/100\n",
            "2485/2485 [==============================] - 5s 2ms/step - loss: 0.0077\n",
            "Epoch 5/100\n",
            "2485/2485 [==============================] - 5s 2ms/step - loss: 0.0049\n",
            "Epoch 6/100\n",
            "2485/2485 [==============================] - 5s 2ms/step - loss: 0.0062\n",
            "Epoch 7/100\n",
            "2485/2485 [==============================] - 5s 2ms/step - loss: 0.0042\n",
            "Epoch 8/100\n",
            "2485/2485 [==============================] - 5s 2ms/step - loss: 0.0045\n",
            "Epoch 9/100\n",
            "2485/2485 [==============================] - 5s 2ms/step - loss: 0.0055\n",
            "Epoch 10/100\n",
            "2485/2485 [==============================] - 5s 2ms/step - loss: 0.0044\n",
            "Epoch 11/100\n",
            "2485/2485 [==============================] - 5s 2ms/step - loss: 0.0040\n",
            "Epoch 12/100\n",
            "2485/2485 [==============================] - 5s 2ms/step - loss: 0.0033\n",
            "Epoch 13/100\n",
            "2485/2485 [==============================] - 5s 2ms/step - loss: 0.0033\n",
            "Epoch 14/100\n",
            "2485/2485 [==============================] - 5s 2ms/step - loss: 0.0046\n",
            "Epoch 15/100\n",
            "2485/2485 [==============================] - 5s 2ms/step - loss: 0.0029\n",
            "Epoch 16/100\n",
            "2485/2485 [==============================] - 5s 2ms/step - loss: 0.0032\n",
            "Epoch 17/100\n",
            "2485/2485 [==============================] - 5s 2ms/step - loss: 0.0023\n",
            "Epoch 18/100\n",
            "2485/2485 [==============================] - 5s 2ms/step - loss: 0.0029\n",
            "Epoch 19/100\n",
            "2485/2485 [==============================] - 5s 2ms/step - loss: 0.0032\n",
            "Epoch 20/100\n",
            "2485/2485 [==============================] - 5s 2ms/step - loss: 0.0035\n",
            "Epoch 21/100\n",
            "2485/2485 [==============================] - 5s 2ms/step - loss: 0.0021\n",
            "Epoch 22/100\n",
            "2485/2485 [==============================] - 5s 2ms/step - loss: 0.0024\n",
            "Epoch 23/100\n",
            "2485/2485 [==============================] - 5s 2ms/step - loss: 0.0029\n",
            "Epoch 24/100\n",
            "2485/2485 [==============================] - 5s 2ms/step - loss: 0.0020\n",
            "Epoch 25/100\n",
            "2485/2485 [==============================] - 5s 2ms/step - loss: 0.0025\n",
            "Epoch 26/100\n",
            "2485/2485 [==============================] - 5s 2ms/step - loss: 0.0027\n",
            "Epoch 27/100\n",
            "2485/2485 [==============================] - 5s 2ms/step - loss: 0.0021\n",
            "Epoch 28/100\n",
            "2485/2485 [==============================] - 5s 2ms/step - loss: 0.0020\n",
            "Epoch 29/100\n",
            "2485/2485 [==============================] - 5s 2ms/step - loss: 0.0027\n",
            "Epoch 30/100\n",
            "2485/2485 [==============================] - 5s 2ms/step - loss: 0.0020\n",
            "Epoch 31/100\n",
            "2485/2485 [==============================] - 5s 2ms/step - loss: 0.0018\n",
            "Epoch 32/100\n",
            "2485/2485 [==============================] - 5s 2ms/step - loss: 0.0018\n",
            "Epoch 33/100\n",
            "2485/2485 [==============================] - 5s 2ms/step - loss: 0.0027\n",
            "Epoch 34/100\n",
            "2485/2485 [==============================] - 5s 2ms/step - loss: 0.0016\n",
            "Epoch 35/100\n",
            "2485/2485 [==============================] - 5s 2ms/step - loss: 0.0025\n",
            "Epoch 36/100\n",
            "2485/2485 [==============================] - 5s 2ms/step - loss: 0.0019\n",
            "Epoch 37/100\n",
            "2485/2485 [==============================] - 5s 2ms/step - loss: 0.0016\n",
            "Epoch 38/100\n",
            "2485/2485 [==============================] - 5s 2ms/step - loss: 0.0017\n",
            "Epoch 39/100\n",
            "2485/2485 [==============================] - 5s 2ms/step - loss: 0.0021\n",
            "Epoch 40/100\n",
            "2485/2485 [==============================] - 5s 2ms/step - loss: 0.0015\n",
            "Epoch 41/100\n",
            "2485/2485 [==============================] - 5s 2ms/step - loss: 0.0015\n",
            "Epoch 42/100\n",
            "2485/2485 [==============================] - 5s 2ms/step - loss: 0.0017\n",
            "Epoch 43/100\n",
            "2485/2485 [==============================] - 5s 2ms/step - loss: 0.0014\n",
            "Epoch 44/100\n",
            "2485/2485 [==============================] - 5s 2ms/step - loss: 0.0013\n",
            "Epoch 45/100\n",
            "2485/2485 [==============================] - 5s 2ms/step - loss: 0.0016\n",
            "Epoch 46/100\n",
            "2485/2485 [==============================] - 5s 2ms/step - loss: 0.0015\n",
            "Epoch 47/100\n",
            "2485/2485 [==============================] - 5s 2ms/step - loss: 0.0012\n",
            "Epoch 48/100\n",
            "2485/2485 [==============================] - 5s 2ms/step - loss: 0.0019\n",
            "Epoch 49/100\n",
            "2485/2485 [==============================] - 5s 2ms/step - loss: 0.0012\n",
            "Epoch 50/100\n",
            "2485/2485 [==============================] - 5s 2ms/step - loss: 0.0015\n",
            "Epoch 51/100\n",
            "2485/2485 [==============================] - 5s 2ms/step - loss: 0.0013\n",
            "Epoch 52/100\n",
            "2485/2485 [==============================] - 5s 2ms/step - loss: 0.0020\n",
            "Epoch 53/100\n",
            "2485/2485 [==============================] - 5s 2ms/step - loss: 0.0014\n",
            "Epoch 54/100\n",
            "2485/2485 [==============================] - 5s 2ms/step - loss: 0.0013\n",
            "Epoch 55/100\n",
            "2485/2485 [==============================] - 5s 2ms/step - loss: 0.0013\n",
            "Epoch 56/100\n",
            "2485/2485 [==============================] - 5s 2ms/step - loss: 0.0012\n",
            "Epoch 57/100\n",
            "2485/2485 [==============================] - 5s 2ms/step - loss: 0.0015\n",
            "Epoch 58/100\n",
            "2485/2485 [==============================] - 5s 2ms/step - loss: 0.0013\n",
            "Epoch 59/100\n",
            "2485/2485 [==============================] - 5s 2ms/step - loss: 0.0014\n",
            "Epoch 60/100\n",
            "2485/2485 [==============================] - 5s 2ms/step - loss: 0.0016\n",
            "Epoch 61/100\n",
            "2485/2485 [==============================] - 5s 2ms/step - loss: 0.0014\n",
            "Epoch 62/100\n",
            "2485/2485 [==============================] - 5s 2ms/step - loss: 0.0011\n",
            "Epoch 63/100\n",
            "2485/2485 [==============================] - 5s 2ms/step - loss: 0.0014\n",
            "Epoch 64/100\n",
            "2485/2485 [==============================] - 5s 2ms/step - loss: 0.0012\n",
            "Epoch 65/100\n",
            "2485/2485 [==============================] - 5s 2ms/step - loss: 0.0011\n",
            "Epoch 66/100\n",
            "2485/2485 [==============================] - 5s 2ms/step - loss: 0.0013\n",
            "Epoch 67/100\n",
            "2485/2485 [==============================] - 5s 2ms/step - loss: 0.0013\n",
            "Epoch 68/100\n",
            "2485/2485 [==============================] - 5s 2ms/step - loss: 0.0012\n",
            "Epoch 69/100\n",
            "2485/2485 [==============================] - 5s 2ms/step - loss: 0.0011\n",
            "Epoch 70/100\n",
            "2485/2485 [==============================] - 5s 2ms/step - loss: 0.0013\n",
            "Epoch 71/100\n",
            "2485/2485 [==============================] - 5s 2ms/step - loss: 0.0011\n",
            "Epoch 72/100\n",
            "2485/2485 [==============================] - 5s 2ms/step - loss: 0.0012\n",
            "Epoch 73/100\n",
            "2485/2485 [==============================] - 5s 2ms/step - loss: 0.0010\n",
            "Epoch 74/100\n",
            "2485/2485 [==============================] - 5s 2ms/step - loss: 0.0011\n",
            "Epoch 75/100\n",
            "2485/2485 [==============================] - 5s 2ms/step - loss: 0.0014\n",
            "Epoch 76/100\n",
            "2485/2485 [==============================] - 5s 2ms/step - loss: 9.3671e-04\n",
            "Epoch 77/100\n",
            "2485/2485 [==============================] - 5s 2ms/step - loss: 0.0011\n",
            "Epoch 78/100\n",
            "2485/2485 [==============================] - 5s 2ms/step - loss: 9.2929e-04\n",
            "Epoch 79/100\n",
            "2485/2485 [==============================] - 5s 2ms/step - loss: 0.0013\n",
            "Epoch 80/100\n",
            "2485/2485 [==============================] - 5s 2ms/step - loss: 9.0559e-04\n",
            "Epoch 81/100\n",
            "2485/2485 [==============================] - 5s 2ms/step - loss: 9.9523e-04\n",
            "Epoch 82/100\n",
            "2485/2485 [==============================] - 5s 2ms/step - loss: 0.0012\n",
            "Epoch 83/100\n",
            "2485/2485 [==============================] - 5s 2ms/step - loss: 0.0010\n",
            "Epoch 84/100\n",
            "2485/2485 [==============================] - 5s 2ms/step - loss: 0.0011\n",
            "Epoch 85/100\n",
            "2485/2485 [==============================] - 5s 2ms/step - loss: 8.0004e-04\n",
            "Epoch 86/100\n",
            "2485/2485 [==============================] - 5s 2ms/step - loss: 0.0011\n",
            "Epoch 87/100\n",
            "2485/2485 [==============================] - 5s 2ms/step - loss: 9.2908e-04\n",
            "Epoch 88/100\n",
            "2485/2485 [==============================] - 5s 2ms/step - loss: 0.0012\n",
            "Epoch 89/100\n",
            "2485/2485 [==============================] - 5s 2ms/step - loss: 9.9016e-04\n",
            "Epoch 90/100\n",
            "2485/2485 [==============================] - 5s 2ms/step - loss: 9.3214e-04\n",
            "Epoch 91/100\n",
            "2485/2485 [==============================] - 5s 2ms/step - loss: 0.0011\n",
            "Epoch 92/100\n",
            "2485/2485 [==============================] - 5s 2ms/step - loss: 8.5730e-04\n",
            "Epoch 93/100\n",
            "2485/2485 [==============================] - 5s 2ms/step - loss: 9.1263e-04\n",
            "Epoch 94/100\n",
            "2485/2485 [==============================] - 5s 2ms/step - loss: 9.3205e-04\n",
            "Epoch 95/100\n",
            "2485/2485 [==============================] - 5s 2ms/step - loss: 0.0011\n",
            "Epoch 96/100\n",
            "2485/2485 [==============================] - 5s 2ms/step - loss: 9.7694e-04\n",
            "Epoch 97/100\n",
            "2485/2485 [==============================] - 5s 2ms/step - loss: 9.7083e-04\n",
            "Epoch 98/100\n",
            "2485/2485 [==============================] - 5s 2ms/step - loss: 8.8597e-04\n",
            "Epoch 99/100\n",
            "2485/2485 [==============================] - 5s 2ms/step - loss: 9.0305e-04\n",
            "Epoch 100/100\n",
            "2485/2485 [==============================] - 5s 2ms/step - loss: 0.0011\n"
          ],
          "name": "stdout"
        },
        {
          "output_type": "execute_result",
          "data": {
            "text/plain": [
              "<keras.callbacks.History at 0x7fe36be3b0b8>"
            ]
          },
          "metadata": {
            "tags": []
          },
          "execution_count": 16
        }
      ]
    },
    {
      "cell_type": "code",
      "metadata": {
        "id": "z6rGh1FyituI",
        "colab_type": "code",
        "colab": {}
      },
      "source": [
        "valid_preds_wdc = []\n",
        "test_preds_wdc = []\n",
        "for reg_model in reg_models_wdc:\n",
        "  valid_preds_wdc.append(sc_wdc.inverse_transform(reg_model.predict(X_valid_wdc)))\n",
        "  test_preds_wdc.append(sc_wdc.inverse_transform(reg_model.predict(X_test_wdc)))\n",
        "\n"
      ],
      "execution_count": 0,
      "outputs": []
    },
    {
      "cell_type": "code",
      "metadata": {
        "id": "tC98VWYok3gT",
        "colab_type": "code",
        "outputId": "56c30669-2390-450a-b47a-58cb612cc9a3",
        "colab": {
          "base_uri": "https://localhost:8080/",
          "height": 743
        }
      },
      "source": [
        "def create_plots(df, valid_array, test_array, valid_preds,test_preds):\n",
        "  plot_data = pd.DataFrame(np.datetime_as_string(df.index.values[-(valid_array.shape[0]+test_array.shape[0]):], unit='D'))\n",
        "  plot_data.columns = ['date']\n",
        "  plot_data['date'] = pd.to_datetime(plot_data['date'],format='%Y-%m-%d')\n",
        "  plot_data['close_price']=np.concatenate((valid_array,test_array),0)\n",
        "  plot_data['pred_close_price']=np.concatenate((valid_preds[0],test_preds[0]),0)\n",
        "  plot_data.set_index('date',inplace=True)\n",
        "  plot_data.info()\n",
        "  plot_data.head()\n",
        "  plot_data.tail()\n",
        "  plt.figure(figsize=(10,10))\n",
        "  plt.title('Stock Price Prediction')\n",
        "  plt.xlabel('Date')\n",
        "  plt.ylabel('Stock Price')\n",
        " \n",
        "  plt.plot(plot_data['close_price'],color='b')\n",
        "  plt.plot(plot_data['pred_close_price'],'ro--',markersize=2)\n",
        "  plt.legend()\n",
        "  return plot_data\n",
        "\n",
        "plot_wdc = create_plots(df_wdc, valid_wdc, test_wdc, valid_preds_wdc, test_preds_wdc)"
      ],
      "execution_count": 43,
      "outputs": [
        {
          "output_type": "stream",
          "text": [
            "<class 'pandas.core.frame.DataFrame'>\n",
            "DatetimeIndex: 196 entries, 2019-01-04 to 2019-10-14\n",
            "Data columns (total 2 columns):\n",
            "close_price         196 non-null float64\n",
            "pred_close_price    196 non-null float32\n",
            "dtypes: float32(1), float64(1)\n",
            "memory usage: 3.8 KB\n"
          ],
          "name": "stdout"
        },
        {
          "output_type": "display_data",
          "data": {
            "image/png": "[encoded data removed]",
            "text/plain": [
              "<Figure size 720x720 with 1 Axes>"
            ]
          },
          "metadata": {
            "tags": []
          }
        }
      ]
    },
    {
      "cell_type": "code",
      "metadata": {
        "id": "qKZff1Q7HcD6",
        "colab_type": "code",
        "colab": {
          "base_uri": "https://localhost:8080/",
          "height": 104
        },
        "outputId": "b27dd3a7-a788-4da3-d5aa-1e148487be51"
      },
      "source": [
        "train_ge, valid_ge, test_ge = get_data_slice_details(df_ge)\n",
        "sc_ge, X_train_ge, y_train_ge, X_valid_ge, X_test_ge = create_data_structures(30, train_ge, valid_ge, test_ge)"
      ],
      "execution_count": 44,
      "outputs": [
        {
          "output_type": "stream",
          "text": [
            "(2515,) (103,) (93,)\n",
            "(2515, 1) (103, 1) (93, 1)\n",
            "(2485, 30, 1) (2485,)\n",
            "(103, 30, 1)\n",
            "(93, 30, 1)\n"
          ],
          "name": "stdout"
        }
      ]
    },
    {
      "cell_type": "code",
      "metadata": {
        "id": "L0ogL_ASHsQ8",
        "colab_type": "code",
        "colab": {}
      },
      "source": [
        "# Create an LSTM regressor\n",
        "regressor_ge = create_lstm_model(X_train_ge)\n",
        "# Compiling the RNN\n",
        "regressor_ge.compile(optimizer = 'nadam', loss = 'mean_squared_error')"
      ],
      "execution_count": 0,
      "outputs": []
    },
    {
      "cell_type": "code",
      "metadata": {
        "id": "4lo49c2bH1ir",
        "colab_type": "code",
        "colab": {
          "base_uri": "https://localhost:8080/",
          "height": 1000
        },
        "outputId": "86b4f227-73b1-4f26-87ab-8175f3bedf5f"
      },
      "source": [
        "epoch_trials = [100]\n",
        "batch_size_trials = [128]\n",
        "\n",
        "reg_models_ge = []\n",
        "\n",
        "# Fitting the RNN to the Training set\n",
        "for n_epochs in epoch_trials:\n",
        "  for b_size in batch_size_trials:\n",
        "    regressor_ge.fit(X_train_ge, y_train_ge, epochs = n_epochs, batch_size = b_size)\n",
        "    reg_models_ge.append(regressor_ge)"
      ],
      "execution_count": 46,
      "outputs": [
        {
          "output_type": "stream",
          "text": [
            "Epoch 1/100\n",
            "2485/2485 [==============================] - 8s 3ms/step - loss: 0.1280\n",
            "Epoch 2/100\n",
            "2485/2485 [==============================] - 5s 2ms/step - loss: 0.0110\n",
            "Epoch 3/100\n",
            "2485/2485 [==============================] - 5s 2ms/step - loss: 0.0061\n",
            "Epoch 4/100\n",
            "2485/2485 [==============================] - 5s 2ms/step - loss: 0.0071\n",
            "Epoch 5/100\n",
            "2485/2485 [==============================] - 5s 2ms/step - loss: 0.0076\n",
            "Epoch 6/100\n",
            "2485/2485 [==============================] - 5s 2ms/step - loss: 0.0037\n",
            "Epoch 7/100\n",
            "2485/2485 [==============================] - 5s 2ms/step - loss: 0.0060\n",
            "Epoch 8/100\n",
            "2485/2485 [==============================] - 5s 2ms/step - loss: 0.0052\n",
            "Epoch 9/100\n",
            "2485/2485 [==============================] - 5s 2ms/step - loss: 0.0063\n",
            "Epoch 10/100\n",
            "2485/2485 [==============================] - 5s 2ms/step - loss: 0.0051\n",
            "Epoch 11/100\n",
            "2485/2485 [==============================] - 5s 2ms/step - loss: 0.0051\n",
            "Epoch 12/100\n",
            "2485/2485 [==============================] - 5s 2ms/step - loss: 0.0034\n",
            "Epoch 13/100\n",
            "2485/2485 [==============================] - 5s 2ms/step - loss: 0.0066\n",
            "Epoch 14/100\n",
            "2485/2485 [==============================] - 5s 2ms/step - loss: 0.0042\n",
            "Epoch 15/100\n",
            "2485/2485 [==============================] - 5s 2ms/step - loss: 0.0031\n",
            "Epoch 16/100\n",
            "2485/2485 [==============================] - 5s 2ms/step - loss: 0.0040\n",
            "Epoch 17/100\n",
            "2485/2485 [==============================] - 5s 2ms/step - loss: 0.0043\n",
            "Epoch 18/100\n",
            "2485/2485 [==============================] - 5s 2ms/step - loss: 0.0030\n",
            "Epoch 19/100\n",
            "2485/2485 [==============================] - 5s 2ms/step - loss: 0.0045\n",
            "Epoch 20/100\n",
            "2485/2485 [==============================] - 5s 2ms/step - loss: 0.0041\n",
            "Epoch 21/100\n",
            "2485/2485 [==============================] - 5s 2ms/step - loss: 0.0037\n",
            "Epoch 22/100\n",
            "2485/2485 [==============================] - 5s 2ms/step - loss: 0.0034\n",
            "Epoch 23/100\n",
            "2485/2485 [==============================] - 5s 2ms/step - loss: 0.0038\n",
            "Epoch 24/100\n",
            "2485/2485 [==============================] - 5s 2ms/step - loss: 0.0042\n",
            "Epoch 25/100\n",
            "2485/2485 [==============================] - 5s 2ms/step - loss: 0.0037\n",
            "Epoch 26/100\n",
            "2485/2485 [==============================] - 5s 2ms/step - loss: 0.0035\n",
            "Epoch 27/100\n",
            "2485/2485 [==============================] - 5s 2ms/step - loss: 0.0028\n",
            "Epoch 28/100\n",
            "2485/2485 [==============================] - 5s 2ms/step - loss: 0.0037\n",
            "Epoch 29/100\n",
            "2485/2485 [==============================] - 5s 2ms/step - loss: 0.0033\n",
            "Epoch 30/100\n",
            "2485/2485 [==============================] - 5s 2ms/step - loss: 0.0030\n",
            "Epoch 31/100\n",
            "2485/2485 [==============================] - 5s 2ms/step - loss: 0.0031\n",
            "Epoch 32/100\n",
            "2485/2485 [==============================] - 5s 2ms/step - loss: 0.0031\n",
            "Epoch 33/100\n",
            "2485/2485 [==============================] - 5s 2ms/step - loss: 0.0032\n",
            "Epoch 34/100\n",
            "2485/2485 [==============================] - 5s 2ms/step - loss: 0.0029\n",
            "Epoch 35/100\n",
            "2485/2485 [==============================] - 5s 2ms/step - loss: 0.0023\n",
            "Epoch 36/100\n",
            "2485/2485 [==============================] - 5s 2ms/step - loss: 0.0045\n",
            "Epoch 37/100\n",
            "2485/2485 [==============================] - 5s 2ms/step - loss: 0.0023\n",
            "Epoch 38/100\n",
            "2485/2485 [==============================] - 5s 2ms/step - loss: 0.0023\n",
            "Epoch 39/100\n",
            "2485/2485 [==============================] - 5s 2ms/step - loss: 0.0024\n",
            "Epoch 40/100\n",
            "2485/2485 [==============================] - 5s 2ms/step - loss: 0.0031\n",
            "Epoch 41/100\n",
            "2485/2485 [==============================] - 5s 2ms/step - loss: 0.0021\n",
            "Epoch 42/100\n",
            "2485/2485 [==============================] - 5s 2ms/step - loss: 0.0029\n",
            "Epoch 43/100\n",
            "2485/2485 [==============================] - 5s 2ms/step - loss: 0.0025\n",
            "Epoch 44/100\n",
            "2485/2485 [==============================] - 5s 2ms/step - loss: 0.0021\n",
            "Epoch 45/100\n",
            "2485/2485 [==============================] - 5s 2ms/step - loss: 0.0035\n",
            "Epoch 46/100\n",
            "2485/2485 [==============================] - 5s 2ms/step - loss: 0.0023\n",
            "Epoch 47/100\n",
            "2485/2485 [==============================] - 5s 2ms/step - loss: 0.0020\n",
            "Epoch 48/100\n",
            "2485/2485 [==============================] - 5s 2ms/step - loss: 0.0023\n",
            "Epoch 49/100\n",
            "2485/2485 [==============================] - 5s 2ms/step - loss: 0.0021\n",
            "Epoch 50/100\n",
            "2485/2485 [==============================] - 5s 2ms/step - loss: 0.0021\n",
            "Epoch 51/100\n",
            "2485/2485 [==============================] - 5s 2ms/step - loss: 0.0024\n",
            "Epoch 52/100\n",
            "2485/2485 [==============================] - 5s 2ms/step - loss: 0.0020\n",
            "Epoch 53/100\n",
            "2485/2485 [==============================] - 5s 2ms/step - loss: 0.0029\n",
            "Epoch 54/100\n",
            "2485/2485 [==============================] - 5s 2ms/step - loss: 0.0023\n",
            "Epoch 55/100\n",
            "2485/2485 [==============================] - 5s 2ms/step - loss: 0.0021\n",
            "Epoch 56/100\n",
            "2485/2485 [==============================] - 5s 2ms/step - loss: 0.0022\n",
            "Epoch 57/100\n",
            "2485/2485 [==============================] - 5s 2ms/step - loss: 0.0018\n",
            "Epoch 58/100\n",
            "2485/2485 [==============================] - 5s 2ms/step - loss: 0.0022\n",
            "Epoch 59/100\n",
            "2485/2485 [==============================] - 5s 2ms/step - loss: 0.0018\n",
            "Epoch 60/100\n",
            "2485/2485 [==============================] - 5s 2ms/step - loss: 0.0021\n",
            "Epoch 61/100\n",
            "2485/2485 [==============================] - 5s 2ms/step - loss: 0.0018\n",
            "Epoch 62/100\n",
            "2485/2485 [==============================] - 5s 2ms/step - loss: 0.0020\n",
            "Epoch 63/100\n",
            "2485/2485 [==============================] - 5s 2ms/step - loss: 0.0022\n",
            "Epoch 64/100\n",
            "2485/2485 [==============================] - 5s 2ms/step - loss: 0.0016\n",
            "Epoch 65/100\n",
            "2485/2485 [==============================] - 5s 2ms/step - loss: 0.0021\n",
            "Epoch 66/100\n",
            "2485/2485 [==============================] - 5s 2ms/step - loss: 0.0021\n",
            "Epoch 67/100\n",
            "2485/2485 [==============================] - 5s 2ms/step - loss: 0.0016\n",
            "Epoch 68/100\n",
            "2485/2485 [==============================] - 5s 2ms/step - loss: 0.0020\n",
            "Epoch 69/100\n",
            "2485/2485 [==============================] - 5s 2ms/step - loss: 0.0021\n",
            "Epoch 70/100\n",
            "2485/2485 [==============================] - 5s 2ms/step - loss: 0.0016\n",
            "Epoch 71/100\n",
            "2485/2485 [==============================] - 5s 2ms/step - loss: 0.0016\n",
            "Epoch 72/100\n",
            "2485/2485 [==============================] - 5s 2ms/step - loss: 0.0023\n",
            "Epoch 73/100\n",
            "2485/2485 [==============================] - 5s 2ms/step - loss: 0.0016\n",
            "Epoch 74/100\n",
            "2485/2485 [==============================] - 5s 2ms/step - loss: 0.0015\n",
            "Epoch 75/100\n",
            "2485/2485 [==============================] - 5s 2ms/step - loss: 0.0020\n",
            "Epoch 76/100\n",
            "2485/2485 [==============================] - 5s 2ms/step - loss: 0.0014\n",
            "Epoch 77/100\n",
            "2485/2485 [==============================] - 5s 2ms/step - loss: 0.0019\n",
            "Epoch 78/100\n",
            "2485/2485 [==============================] - 5s 2ms/step - loss: 0.0016\n",
            "Epoch 79/100\n",
            "2485/2485 [==============================] - 5s 2ms/step - loss: 0.0018\n",
            "Epoch 80/100\n",
            "2485/2485 [==============================] - 5s 2ms/step - loss: 0.0016\n",
            "Epoch 81/100\n",
            "2485/2485 [==============================] - 5s 2ms/step - loss: 0.0015\n",
            "Epoch 82/100\n",
            "2485/2485 [==============================] - 5s 2ms/step - loss: 0.0015\n",
            "Epoch 83/100\n",
            "2485/2485 [==============================] - 5s 2ms/step - loss: 0.0014\n",
            "Epoch 84/100\n",
            "2485/2485 [==============================] - 5s 2ms/step - loss: 0.0017\n",
            "Epoch 85/100\n",
            "2485/2485 [==============================] - 5s 2ms/step - loss: 0.0017\n",
            "Epoch 86/100\n",
            "2485/2485 [==============================] - 5s 2ms/step - loss: 0.0015\n",
            "Epoch 87/100\n",
            "2485/2485 [==============================] - 5s 2ms/step - loss: 0.0014\n",
            "Epoch 88/100\n",
            "2485/2485 [==============================] - 5s 2ms/step - loss: 0.0018\n",
            "Epoch 89/100\n",
            "2485/2485 [==============================] - 5s 2ms/step - loss: 0.0014\n",
            "Epoch 90/100\n",
            "2485/2485 [==============================] - 5s 2ms/step - loss: 0.0013\n",
            "Epoch 91/100\n",
            "2485/2485 [==============================] - 5s 2ms/step - loss: 0.0013\n",
            "Epoch 92/100\n",
            "2485/2485 [==============================] - 5s 2ms/step - loss: 0.0014\n",
            "Epoch 93/100\n",
            "2485/2485 [==============================] - 5s 2ms/step - loss: 0.0016\n",
            "Epoch 94/100\n",
            "2485/2485 [==============================] - 5s 2ms/step - loss: 0.0016\n",
            "Epoch 95/100\n",
            "2485/2485 [==============================] - 5s 2ms/step - loss: 0.0015\n",
            "Epoch 96/100\n",
            "2485/2485 [==============================] - 5s 2ms/step - loss: 0.0012\n",
            "Epoch 97/100\n",
            "2485/2485 [==============================] - 5s 2ms/step - loss: 0.0014\n",
            "Epoch 98/100\n",
            "2485/2485 [==============================] - 5s 2ms/step - loss: 0.0012\n",
            "Epoch 99/100\n",
            "2485/2485 [==============================] - 5s 2ms/step - loss: 0.0015\n",
            "Epoch 100/100\n",
            "2485/2485 [==============================] - 5s 2ms/step - loss: 0.0012\n"
          ],
          "name": "stdout"
        },
        {
          "output_type": "execute_result",
          "data": {
            "text/plain": [
              "<keras.callbacks.History at 0x7fe31ccb7a58>"
            ]
          },
          "metadata": {
            "tags": []
          },
          "execution_count": 46
        }
      ]
    },
    {
      "cell_type": "code",
      "metadata": {
        "id": "mRvKKYOckzm_",
        "colab_type": "code",
        "colab": {}
      },
      "source": [
        "valid_preds_ge = []\n",
        "test_preds_ge = []\n",
        "for reg_model in reg_models_ge:\n",
        "  valid_preds_ge.append(sc_ge.inverse_transform(reg_model.predict(X_valid_ge)))\n",
        "  test_preds_ge.append(sc_ge.inverse_transform(reg_model.predict(X_test_ge)))\n",
        "\n"
      ],
      "execution_count": 0,
      "outputs": []
    },
    {
      "cell_type": "code",
      "metadata": {
        "id": "zAyPDUzT0pvU",
        "colab_type": "code",
        "colab": {
          "base_uri": "https://localhost:8080/",
          "height": 743
        },
        "outputId": "cfed2bd9-6a5d-4d31-8913-eb831096ad8a"
      },
      "source": [
        "plot_ge = create_plots(df_ge, valid_ge, test_ge, valid_preds_ge, test_preds_ge)"
      ],
      "execution_count": 48,
      "outputs": [
        {
          "output_type": "stream",
          "text": [
            "<class 'pandas.core.frame.DataFrame'>\n",
            "DatetimeIndex: 196 entries, 2019-01-04 to 2019-10-14\n",
            "Data columns (total 2 columns):\n",
            "close_price         196 non-null float64\n",
            "pred_close_price    196 non-null float32\n",
            "dtypes: float32(1), float64(1)\n",
            "memory usage: 3.8 KB\n"
          ],
          "name": "stdout"
        },
        {
          "output_type": "display_data",
          "data": {
            "image/png": "[encoded data removed]",
            "text/plain": [
              "<Figure size 720x720 with 1 Axes>"
            ]
          },
          "metadata": {
            "tags": []
          }
        }
      ]
    },
    {
      "cell_type": "code",
      "metadata": {
        "id": "pXwZGdDdN1YN",
        "colab_type": "code",
        "colab": {
          "base_uri": "https://localhost:8080/",
          "height": 1000
        },
        "outputId": "e914915c-de02-4c45-d978-ba54be24fa99"
      },
      "source": [
        "train_unfi, valid_unfi, test_unfi = get_data_slice_details(df_unfi)\n",
        "sc_unfi, X_train_unfi, y_train_unfi, X_valid_unfi, X_test_unfi = create_data_structures(30, train_unfi, valid_unfi, test_unfi)\n",
        "\n",
        "# Create an LSTM regressor\n",
        "regressor_unfi = create_lstm_model(X_train_unfi)\n",
        "# Compiling the RNN\n",
        "regressor_unfi.compile(optimizer = 'nadam', loss = 'mean_squared_error')\n",
        "\n",
        "epoch_trials = [100]\n",
        "batch_size_trials = [128]\n",
        "\n",
        "reg_models_unfi = []\n",
        "\n",
        "# Fitting the RNN to the Training set\n",
        "for n_epochs in epoch_trials:\n",
        "  for b_size in batch_size_trials:\n",
        "    regressor_unfi.fit(X_train_unfi, y_train_unfi, epochs = n_epochs, batch_size = b_size)\n",
        "    reg_models_unfi.append(regressor_unfi)\n",
        "\n",
        "\n",
        "\n",
        "\n",
        "valid_preds_unfi = []\n",
        "test_preds_unfi = []\n",
        "for reg_model in reg_models_unfi:\n",
        "  valid_preds_unfi.append(sc_unfi.inverse_transform(reg_model.predict(X_valid_unfi)))\n",
        "  test_preds_unfi.append(sc_unfi.inverse_transform(reg_model.predict(X_test_unfi)))\n",
        "\n",
        "\n",
        "\n",
        "plot_unfi = create_plots(df_unfi, valid_unfi, test_unfi, valid_preds_unfi, test_preds_unfi)"
      ],
      "execution_count": 49,
      "outputs": [
        {
          "output_type": "stream",
          "text": [
            "(2515,) (103,) (93,)\n",
            "(2515, 1) (103, 1) (93, 1)\n",
            "(2485, 30, 1) (2485,)\n",
            "(103, 30, 1)\n",
            "(93, 30, 1)\n",
            "Epoch 1/100\n",
            "2485/2485 [==============================] - 9s 3ms/step - loss: 0.1150\n",
            "Epoch 2/100\n",
            "2485/2485 [==============================] - 5s 2ms/step - loss: 0.0091\n",
            "Epoch 3/100\n",
            "2485/2485 [==============================] - 5s 2ms/step - loss: 0.0061\n",
            "Epoch 4/100\n",
            "2485/2485 [==============================] - 5s 2ms/step - loss: 0.0067\n",
            "Epoch 5/100\n",
            "2485/2485 [==============================] - 5s 2ms/step - loss: 0.0051\n",
            "Epoch 6/100\n",
            "2485/2485 [==============================] - 5s 2ms/step - loss: 0.0046\n",
            "Epoch 7/100\n",
            "2485/2485 [==============================] - 5s 2ms/step - loss: 0.0036\n",
            "Epoch 8/100\n",
            "2485/2485 [==============================] - 5s 2ms/step - loss: 0.0034\n",
            "Epoch 9/100\n",
            "2485/2485 [==============================] - 5s 2ms/step - loss: 0.0065\n",
            "Epoch 10/100\n",
            "2485/2485 [==============================] - 5s 2ms/step - loss: 0.0039\n",
            "Epoch 11/100\n",
            "2485/2485 [==============================] - 5s 2ms/step - loss: 0.0034\n",
            "Epoch 12/100\n",
            "2485/2485 [==============================] - 5s 2ms/step - loss: 0.0038\n",
            "Epoch 13/100\n",
            "2485/2485 [==============================] - 5s 2ms/step - loss: 0.0047\n",
            "Epoch 14/100\n",
            "2485/2485 [==============================] - 5s 2ms/step - loss: 0.0031\n",
            "Epoch 15/100\n",
            "2485/2485 [==============================] - 5s 2ms/step - loss: 0.0035\n",
            "Epoch 16/100\n",
            "2485/2485 [==============================] - 5s 2ms/step - loss: 0.0039\n",
            "Epoch 17/100\n",
            "2485/2485 [==============================] - 5s 2ms/step - loss: 0.0033\n",
            "Epoch 18/100\n",
            "2485/2485 [==============================] - 5s 2ms/step - loss: 0.0030\n",
            "Epoch 19/100\n",
            "2485/2485 [==============================] - 5s 2ms/step - loss: 0.0028\n",
            "Epoch 20/100\n",
            "2485/2485 [==============================] - 5s 2ms/step - loss: 0.0044\n",
            "Epoch 21/100\n",
            "2485/2485 [==============================] - 5s 2ms/step - loss: 0.0031\n",
            "Epoch 22/100\n",
            "2485/2485 [==============================] - 5s 2ms/step - loss: 0.0027\n",
            "Epoch 23/100\n",
            "2485/2485 [==============================] - 5s 2ms/step - loss: 0.0036\n",
            "Epoch 24/100\n",
            "2485/2485 [==============================] - 5s 2ms/step - loss: 0.0032\n",
            "Epoch 25/100\n",
            "2485/2485 [==============================] - 5s 2ms/step - loss: 0.0029\n",
            "Epoch 26/100\n",
            "2485/2485 [==============================] - 5s 2ms/step - loss: 0.0026\n",
            "Epoch 27/100\n",
            "2485/2485 [==============================] - 5s 2ms/step - loss: 0.0023\n",
            "Epoch 28/100\n",
            "2485/2485 [==============================] - 5s 2ms/step - loss: 0.0027\n",
            "Epoch 29/100\n",
            "2485/2485 [==============================] - 5s 2ms/step - loss: 0.0029\n",
            "Epoch 30/100\n",
            "2485/2485 [==============================] - 5s 2ms/step - loss: 0.0023\n",
            "Epoch 31/100\n",
            "2485/2485 [==============================] - 5s 2ms/step - loss: 0.0027\n",
            "Epoch 32/100\n",
            "2485/2485 [==============================] - 5s 2ms/step - loss: 0.0027\n",
            "Epoch 33/100\n",
            "2485/2485 [==============================] - 5s 2ms/step - loss: 0.0024\n",
            "Epoch 34/100\n",
            "2485/2485 [==============================] - 5s 2ms/step - loss: 0.0025\n",
            "Epoch 35/100\n",
            "2485/2485 [==============================] - 5s 2ms/step - loss: 0.0026\n",
            "Epoch 36/100\n",
            "2485/2485 [==============================] - 5s 2ms/step - loss: 0.0021\n",
            "Epoch 37/100\n",
            "2485/2485 [==============================] - 5s 2ms/step - loss: 0.0023\n",
            "Epoch 38/100\n",
            "2485/2485 [==============================] - 5s 2ms/step - loss: 0.0027\n",
            "Epoch 39/100\n",
            "2485/2485 [==============================] - 5s 2ms/step - loss: 0.0023\n",
            "Epoch 40/100\n",
            "2485/2485 [==============================] - 5s 2ms/step - loss: 0.0019\n",
            "Epoch 41/100\n",
            "2485/2485 [==============================] - 5s 2ms/step - loss: 0.0021\n",
            "Epoch 42/100\n",
            "2485/2485 [==============================] - 5s 2ms/step - loss: 0.0017\n",
            "Epoch 43/100\n",
            "2485/2485 [==============================] - 5s 2ms/step - loss: 0.0019\n",
            "Epoch 44/100\n",
            "2485/2485 [==============================] - 5s 2ms/step - loss: 0.0024\n",
            "Epoch 45/100\n",
            "2485/2485 [==============================] - 5s 2ms/step - loss: 0.0027\n",
            "Epoch 46/100\n",
            "2485/2485 [==============================] - 5s 2ms/step - loss: 0.0017\n",
            "Epoch 47/100\n",
            "2485/2485 [==============================] - 5s 2ms/step - loss: 0.0022\n",
            "Epoch 48/100\n",
            "2485/2485 [==============================] - 5s 2ms/step - loss: 0.0018\n",
            "Epoch 49/100\n",
            "2485/2485 [==============================] - 5s 2ms/step - loss: 0.0018\n",
            "Epoch 50/100\n",
            "2485/2485 [==============================] - 5s 2ms/step - loss: 0.0019\n",
            "Epoch 51/100\n",
            "2485/2485 [==============================] - 5s 2ms/step - loss: 0.0016\n",
            "Epoch 52/100\n",
            "2485/2485 [==============================] - 5s 2ms/step - loss: 0.0020\n",
            "Epoch 53/100\n",
            "2485/2485 [==============================] - 5s 2ms/step - loss: 0.0018\n",
            "Epoch 54/100\n",
            "2485/2485 [==============================] - 5s 2ms/step - loss: 0.0016\n",
            "Epoch 55/100\n",
            "2485/2485 [==============================] - 5s 2ms/step - loss: 0.0017\n",
            "Epoch 56/100\n",
            "2485/2485 [==============================] - 5s 2ms/step - loss: 0.0016\n",
            "Epoch 57/100\n",
            "2485/2485 [==============================] - 5s 2ms/step - loss: 0.0015\n",
            "Epoch 58/100\n",
            "2485/2485 [==============================] - 5s 2ms/step - loss: 0.0017\n",
            "Epoch 59/100\n",
            "2485/2485 [==============================] - 5s 2ms/step - loss: 0.0015\n",
            "Epoch 60/100\n",
            "2485/2485 [==============================] - 5s 2ms/step - loss: 0.0022\n",
            "Epoch 61/100\n",
            "2485/2485 [==============================] - 5s 2ms/step - loss: 0.0015\n",
            "Epoch 62/100\n",
            "2485/2485 [==============================] - 5s 2ms/step - loss: 0.0013\n",
            "Epoch 63/100\n",
            "2485/2485 [==============================] - 5s 2ms/step - loss: 0.0014\n",
            "Epoch 64/100\n",
            "2485/2485 [==============================] - 5s 2ms/step - loss: 0.0019\n",
            "Epoch 65/100\n",
            "2485/2485 [==============================] - 5s 2ms/step - loss: 0.0013\n",
            "Epoch 66/100\n",
            "2485/2485 [==============================] - 5s 2ms/step - loss: 0.0014\n",
            "Epoch 67/100\n",
            "2485/2485 [==============================] - 5s 2ms/step - loss: 0.0014\n",
            "Epoch 68/100\n",
            "2485/2485 [==============================] - 5s 2ms/step - loss: 0.0015\n",
            "Epoch 69/100\n",
            "2485/2485 [==============================] - 5s 2ms/step - loss: 0.0014\n",
            "Epoch 70/100\n",
            "2485/2485 [==============================] - 5s 2ms/step - loss: 0.0014\n",
            "Epoch 71/100\n",
            "2485/2485 [==============================] - 5s 2ms/step - loss: 0.0012\n",
            "Epoch 72/100\n",
            "2485/2485 [==============================] - 5s 2ms/step - loss: 0.0013\n",
            "Epoch 73/100\n",
            "2485/2485 [==============================] - 5s 2ms/step - loss: 0.0013\n",
            "Epoch 74/100\n",
            "2485/2485 [==============================] - 5s 2ms/step - loss: 0.0014\n",
            "Epoch 75/100\n",
            "2485/2485 [==============================] - 5s 2ms/step - loss: 0.0014\n",
            "Epoch 76/100\n",
            "2485/2485 [==============================] - 5s 2ms/step - loss: 0.0013\n",
            "Epoch 77/100\n",
            "2485/2485 [==============================] - 5s 2ms/step - loss: 0.0015\n",
            "Epoch 78/100\n",
            "2485/2485 [==============================] - 5s 2ms/step - loss: 0.0014\n",
            "Epoch 79/100\n",
            "2485/2485 [==============================] - 5s 2ms/step - loss: 0.0014\n",
            "Epoch 80/100\n",
            "2485/2485 [==============================] - 5s 2ms/step - loss: 0.0011\n",
            "Epoch 81/100\n",
            "2485/2485 [==============================] - 5s 2ms/step - loss: 0.0013\n",
            "Epoch 82/100\n",
            "2485/2485 [==============================] - 5s 2ms/step - loss: 0.0014\n",
            "Epoch 83/100\n",
            "2485/2485 [==============================] - 5s 2ms/step - loss: 0.0012\n",
            "Epoch 84/100\n",
            "2485/2485 [==============================] - 5s 2ms/step - loss: 0.0011\n",
            "Epoch 85/100\n",
            "2485/2485 [==============================] - 5s 2ms/step - loss: 0.0015\n",
            "Epoch 86/100\n",
            "2485/2485 [==============================] - 5s 2ms/step - loss: 0.0014\n",
            "Epoch 87/100\n",
            "2485/2485 [==============================] - 5s 2ms/step - loss: 0.0011\n",
            "Epoch 88/100\n",
            "2485/2485 [==============================] - 5s 2ms/step - loss: 0.0015\n",
            "Epoch 89/100\n",
            "2485/2485 [==============================] - 5s 2ms/step - loss: 0.0011\n",
            "Epoch 90/100\n",
            "2485/2485 [==============================] - 5s 2ms/step - loss: 0.0012\n",
            "Epoch 91/100\n",
            "2485/2485 [==============================] - 5s 2ms/step - loss: 0.0012\n",
            "Epoch 92/100\n",
            "2485/2485 [==============================] - 5s 2ms/step - loss: 0.0012\n",
            "Epoch 93/100\n",
            "2485/2485 [==============================] - 5s 2ms/step - loss: 0.0012\n",
            "Epoch 94/100\n",
            "2485/2485 [==============================] - 5s 2ms/step - loss: 0.0013\n",
            "Epoch 95/100\n",
            "2485/2485 [==============================] - 5s 2ms/step - loss: 0.0010\n",
            "Epoch 96/100\n",
            "2485/2485 [==============================] - 5s 2ms/step - loss: 0.0010\n",
            "Epoch 97/100\n",
            "2485/2485 [==============================] - 5s 2ms/step - loss: 0.0011\n",
            "Epoch 98/100\n",
            "2485/2485 [==============================] - 5s 2ms/step - loss: 0.0010\n",
            "Epoch 99/100\n",
            "2485/2485 [==============================] - 5s 2ms/step - loss: 0.0011\n",
            "Epoch 100/100\n",
            "2485/2485 [==============================] - 5s 2ms/step - loss: 0.0010\n"
          ],
          "name": "stdout"
        },
        {
          "output_type": "execute_result",
          "data": {
            "text/plain": [
              "<keras.callbacks.History at 0x7fe31d0f7ef0>"
            ]
          },
          "metadata": {
            "tags": []
          },
          "execution_count": 49
        },
        {
          "output_type": "stream",
          "text": [
            "<class 'pandas.core.frame.DataFrame'>\n",
            "DatetimeIndex: 196 entries, 2019-01-04 to 2019-10-14\n",
            "Data columns (total 2 columns):\n",
            "close_price         196 non-null float64\n",
            "pred_close_price    196 non-null float32\n",
            "dtypes: float32(1), float64(1)\n",
            "memory usage: 3.8 KB\n"
          ],
          "name": "stdout"
        },
        {
          "output_type": "display_data",
          "data": {
            "image/png": "[encoded data removed]",
            "text/plain": [
              "<Figure size 720x720 with 1 Axes>"
            ]
          },
          "metadata": {
            "tags": []
          }
        }
      ]
    },
    {
      "cell_type": "code",
      "metadata": {
        "id": "uHWC6jTJE71O",
        "colab_type": "code",
        "colab": {
          "base_uri": "https://localhost:8080/",
          "height": 1000
        },
        "outputId": "cf9d770d-1a3d-45ef-eb0b-9cd0d331262f"
      },
      "source": [
        "train_be, valid_be, test_be = get_data_slice_details(df_be)\n",
        "sc_be, X_train_be, y_train_be, X_valid_be, X_test_be = create_data_structures(30, train_be, valid_be, test_be)\n",
        "\n",
        "# Create an LSTM regressor\n",
        "regressor_be = create_lstm_model(X_train_be)\n",
        "# Compiling the RNN\n",
        "regressor_be.compile(optimizer = 'nadam', loss = 'mean_squared_error')\n",
        "\n",
        "epoch_trials = [100]\n",
        "batch_size_trials = [128]\n",
        "\n",
        "reg_models_be = []\n",
        "\n",
        "# Fitting the RNN to the Training set\n",
        "for n_epochs in epoch_trials:\n",
        "  for b_size in batch_size_trials:\n",
        "    regressor_be.fit(X_train_be, y_train_be, epochs = n_epochs, batch_size = b_size)\n",
        "    reg_models_be.append(regressor_be)\n",
        "\n",
        "\n",
        "\n",
        "\n",
        "valid_preds_be = []\n",
        "test_preds_be = []\n",
        "for reg_model in reg_models_be:\n",
        "  valid_preds_be.append(sc_be.inverse_transform(reg_model.predict(X_valid_be)))\n",
        "  test_preds_be.append(sc_be.inverse_transform(reg_model.predict(X_test_be)))\n",
        "\n",
        "\n",
        "\n",
        "plot_be = create_plots(df_be, valid_be, test_be, valid_preds_be, test_preds_be)"
      ],
      "execution_count": 50,
      "outputs": [
        {
          "output_type": "stream",
          "text": [
            "(108,) (103,) (93,)\n",
            "(108, 1) (103, 1) (93, 1)\n",
            "(78, 30, 1) (78,)\n",
            "(103, 30, 1)\n",
            "(93, 30, 1)\n",
            "Epoch 1/100\n",
            "78/78 [==============================] - 5s 58ms/step - loss: 0.2824\n",
            "Epoch 2/100\n",
            "78/78 [==============================] - 0s 3ms/step - loss: 0.1291\n",
            "Epoch 3/100\n",
            "78/78 [==============================] - 0s 3ms/step - loss: 0.1309\n",
            "Epoch 4/100\n",
            "78/78 [==============================] - 0s 3ms/step - loss: 0.1422\n",
            "Epoch 5/100\n",
            "78/78 [==============================] - 0s 3ms/step - loss: 0.0936\n",
            "Epoch 6/100\n",
            "78/78 [==============================] - 0s 3ms/step - loss: 0.0498\n",
            "Epoch 7/100\n",
            "78/78 [==============================] - 0s 3ms/step - loss: 0.0366\n",
            "Epoch 8/100\n",
            "78/78 [==============================] - 0s 3ms/step - loss: 0.0359\n",
            "Epoch 9/100\n",
            "78/78 [==============================] - 0s 3ms/step - loss: 0.0345\n",
            "Epoch 10/100\n",
            "78/78 [==============================] - 0s 3ms/step - loss: 0.0351\n",
            "Epoch 11/100\n",
            "78/78 [==============================] - 0s 3ms/step - loss: 0.0323\n",
            "Epoch 12/100\n",
            "78/78 [==============================] - 0s 3ms/step - loss: 0.0289\n",
            "Epoch 13/100\n",
            "78/78 [==============================] - 0s 3ms/step - loss: 0.0275\n",
            "Epoch 14/100\n",
            "78/78 [==============================] - 0s 3ms/step - loss: 0.0267\n",
            "Epoch 15/100\n",
            "78/78 [==============================] - 0s 3ms/step - loss: 0.0327\n",
            "Epoch 16/100\n",
            "78/78 [==============================] - 0s 3ms/step - loss: 0.0506\n",
            "Epoch 17/100\n",
            "78/78 [==============================] - 0s 3ms/step - loss: 0.1094\n",
            "Epoch 18/100\n",
            "78/78 [==============================] - 0s 3ms/step - loss: 0.0407\n",
            "Epoch 19/100\n",
            "78/78 [==============================] - 0s 3ms/step - loss: 0.0288\n",
            "Epoch 20/100\n",
            "78/78 [==============================] - 0s 3ms/step - loss: 0.0300\n",
            "Epoch 21/100\n",
            "78/78 [==============================] - 0s 3ms/step - loss: 0.0285\n",
            "Epoch 22/100\n",
            "78/78 [==============================] - 0s 3ms/step - loss: 0.0306\n",
            "Epoch 23/100\n",
            "78/78 [==============================] - 0s 3ms/step - loss: 0.0296\n",
            "Epoch 24/100\n",
            "78/78 [==============================] - 0s 3ms/step - loss: 0.0429\n",
            "Epoch 25/100\n",
            "78/78 [==============================] - 0s 3ms/step - loss: 0.0301\n",
            "Epoch 26/100\n",
            "78/78 [==============================] - 0s 3ms/step - loss: 0.0376\n",
            "Epoch 27/100\n",
            "78/78 [==============================] - 0s 3ms/step - loss: 0.0287\n",
            "Epoch 28/100\n",
            "78/78 [==============================] - 0s 3ms/step - loss: 0.0461\n",
            "Epoch 29/100\n",
            "78/78 [==============================] - 0s 3ms/step - loss: 0.0265\n",
            "Epoch 30/100\n",
            "78/78 [==============================] - 0s 3ms/step - loss: 0.0432\n",
            "Epoch 31/100\n",
            "78/78 [==============================] - 0s 3ms/step - loss: 0.0221\n",
            "Epoch 32/100\n",
            "78/78 [==============================] - 0s 3ms/step - loss: 0.0238\n",
            "Epoch 33/100\n",
            "78/78 [==============================] - 0s 3ms/step - loss: 0.0237\n",
            "Epoch 34/100\n",
            "78/78 [==============================] - 0s 3ms/step - loss: 0.0328\n",
            "Epoch 35/100\n",
            "78/78 [==============================] - 0s 3ms/step - loss: 0.0261\n",
            "Epoch 36/100\n",
            "78/78 [==============================] - 0s 3ms/step - loss: 0.0403\n",
            "Epoch 37/100\n",
            "78/78 [==============================] - 0s 3ms/step - loss: 0.0211\n",
            "Epoch 38/100\n",
            "78/78 [==============================] - 0s 3ms/step - loss: 0.0303\n",
            "Epoch 39/100\n",
            "78/78 [==============================] - 0s 3ms/step - loss: 0.0221\n",
            "Epoch 40/100\n",
            "78/78 [==============================] - 0s 3ms/step - loss: 0.0279\n",
            "Epoch 41/100\n",
            "78/78 [==============================] - 0s 3ms/step - loss: 0.0224\n",
            "Epoch 42/100\n",
            "78/78 [==============================] - 0s 3ms/step - loss: 0.0324\n",
            "Epoch 43/100\n",
            "78/78 [==============================] - 0s 3ms/step - loss: 0.0249\n",
            "Epoch 44/100\n",
            "78/78 [==============================] - 0s 3ms/step - loss: 0.0381\n",
            "Epoch 45/100\n",
            "78/78 [==============================] - 0s 3ms/step - loss: 0.0170\n",
            "Epoch 46/100\n",
            "78/78 [==============================] - 0s 3ms/step - loss: 0.0159\n",
            "Epoch 47/100\n",
            "78/78 [==============================] - 0s 3ms/step - loss: 0.0178\n",
            "Epoch 48/100\n",
            "78/78 [==============================] - 0s 3ms/step - loss: 0.0178\n",
            "Epoch 49/100\n",
            "78/78 [==============================] - 0s 3ms/step - loss: 0.0195\n",
            "Epoch 50/100\n",
            "78/78 [==============================] - 0s 3ms/step - loss: 0.0232\n",
            "Epoch 51/100\n",
            "78/78 [==============================] - 0s 3ms/step - loss: 0.0186\n",
            "Epoch 52/100\n",
            "78/78 [==============================] - 0s 3ms/step - loss: 0.0261\n",
            "Epoch 53/100\n",
            "78/78 [==============================] - 0s 3ms/step - loss: 0.0159\n",
            "Epoch 54/100\n",
            "78/78 [==============================] - 0s 3ms/step - loss: 0.0198\n",
            "Epoch 55/100\n",
            "78/78 [==============================] - 0s 3ms/step - loss: 0.0191\n",
            "Epoch 56/100\n",
            "78/78 [==============================] - 0s 3ms/step - loss: 0.0302\n",
            "Epoch 57/100\n",
            "78/78 [==============================] - 0s 3ms/step - loss: 0.0193\n",
            "Epoch 58/100\n",
            "78/78 [==============================] - 0s 3ms/step - loss: 0.0206\n",
            "Epoch 59/100\n",
            "78/78 [==============================] - 0s 3ms/step - loss: 0.0175\n",
            "Epoch 60/100\n",
            "78/78 [==============================] - 0s 3ms/step - loss: 0.0204\n",
            "Epoch 61/100\n",
            "78/78 [==============================] - 0s 3ms/step - loss: 0.0212\n",
            "Epoch 62/100\n",
            "78/78 [==============================] - 0s 3ms/step - loss: 0.0298\n",
            "Epoch 63/100\n",
            "78/78 [==============================] - 0s 3ms/step - loss: 0.0187\n",
            "Epoch 64/100\n",
            "78/78 [==============================] - 0s 3ms/step - loss: 0.0215\n",
            "Epoch 65/100\n",
            "78/78 [==============================] - 0s 3ms/step - loss: 0.0129\n",
            "Epoch 66/100\n",
            "78/78 [==============================] - 0s 3ms/step - loss: 0.0151\n",
            "Epoch 67/100\n",
            "78/78 [==============================] - 0s 3ms/step - loss: 0.0131\n",
            "Epoch 68/100\n",
            "78/78 [==============================] - 0s 3ms/step - loss: 0.0168\n",
            "Epoch 69/100\n",
            "78/78 [==============================] - 0s 3ms/step - loss: 0.0131\n",
            "Epoch 70/100\n",
            "78/78 [==============================] - 0s 3ms/step - loss: 0.0176\n",
            "Epoch 71/100\n",
            "78/78 [==============================] - 0s 3ms/step - loss: 0.0173\n",
            "Epoch 72/100\n",
            "78/78 [==============================] - 0s 3ms/step - loss: 0.0175\n",
            "Epoch 73/100\n",
            "78/78 [==============================] - 0s 3ms/step - loss: 0.0146\n",
            "Epoch 74/100\n",
            "78/78 [==============================] - 0s 3ms/step - loss: 0.0145\n",
            "Epoch 75/100\n",
            "78/78 [==============================] - 0s 3ms/step - loss: 0.0164\n",
            "Epoch 76/100\n",
            "78/78 [==============================] - 0s 3ms/step - loss: 0.0188\n",
            "Epoch 77/100\n",
            "78/78 [==============================] - 0s 3ms/step - loss: 0.0148\n",
            "Epoch 78/100\n",
            "78/78 [==============================] - 0s 3ms/step - loss: 0.0213\n",
            "Epoch 79/100\n",
            "78/78 [==============================] - 0s 3ms/step - loss: 0.0176\n",
            "Epoch 80/100\n",
            "78/78 [==============================] - 0s 3ms/step - loss: 0.0161\n",
            "Epoch 81/100\n",
            "78/78 [==============================] - 0s 3ms/step - loss: 0.0120\n",
            "Epoch 82/100\n",
            "78/78 [==============================] - 0s 3ms/step - loss: 0.0134\n",
            "Epoch 83/100\n",
            "78/78 [==============================] - 0s 3ms/step - loss: 0.0128\n",
            "Epoch 84/100\n",
            "78/78 [==============================] - 0s 3ms/step - loss: 0.0134\n",
            "Epoch 85/100\n",
            "78/78 [==============================] - 0s 3ms/step - loss: 0.0134\n",
            "Epoch 86/100\n",
            "78/78 [==============================] - 0s 3ms/step - loss: 0.0136\n",
            "Epoch 87/100\n",
            "78/78 [==============================] - 0s 3ms/step - loss: 0.0119\n",
            "Epoch 88/100\n",
            "78/78 [==============================] - 0s 3ms/step - loss: 0.0140\n",
            "Epoch 89/100\n",
            "78/78 [==============================] - 0s 3ms/step - loss: 0.0140\n",
            "Epoch 90/100\n",
            "78/78 [==============================] - 0s 3ms/step - loss: 0.0175\n",
            "Epoch 91/100\n",
            "78/78 [==============================] - 0s 3ms/step - loss: 0.0133\n",
            "Epoch 92/100\n",
            "78/78 [==============================] - 0s 3ms/step - loss: 0.0141\n",
            "Epoch 93/100\n",
            "78/78 [==============================] - 0s 3ms/step - loss: 0.0121\n",
            "Epoch 94/100\n",
            "78/78 [==============================] - 0s 3ms/step - loss: 0.0115\n",
            "Epoch 95/100\n",
            "78/78 [==============================] - 0s 3ms/step - loss: 0.0095\n",
            "Epoch 96/100\n",
            "78/78 [==============================] - 0s 3ms/step - loss: 0.0101\n",
            "Epoch 97/100\n",
            "78/78 [==============================] - 0s 3ms/step - loss: 0.0125\n",
            "Epoch 98/100\n",
            "78/78 [==============================] - 0s 3ms/step - loss: 0.0129\n",
            "Epoch 99/100\n",
            "78/78 [==============================] - 0s 3ms/step - loss: 0.0121\n",
            "Epoch 100/100\n",
            "78/78 [==============================] - 0s 3ms/step - loss: 0.0148\n"
          ],
          "name": "stdout"
        },
        {
          "output_type": "execute_result",
          "data": {
            "text/plain": [
              "<keras.callbacks.History at 0x7fe31b369ba8>"
            ]
          },
          "metadata": {
            "tags": []
          },
          "execution_count": 50
        },
        {
          "output_type": "stream",
          "text": [
            "<class 'pandas.core.frame.DataFrame'>\n",
            "DatetimeIndex: 196 entries, 2019-01-04 to 2019-10-14\n",
            "Data columns (total 2 columns):\n",
            "close_price         196 non-null float64\n",
            "pred_close_price    196 non-null float32\n",
            "dtypes: float32(1), float64(1)\n",
            "memory usage: 3.8 KB\n"
          ],
          "name": "stdout"
        },
        {
          "output_type": "display_data",
          "data": {
            "image/png": "[encoded data removed]",
            "text/plain": [
              "<Figure size 720x720 with 1 Axes>"
            ]
          },
          "metadata": {
            "tags": []
          }
        }
      ]
    },
    {
      "cell_type": "code",
      "metadata": {
        "id": "NiAVMUPUlfSx",
        "colab_type": "code",
        "colab": {}
      },
      "source": [
        "reg_models_ge[0].save('reg_model_ge.hdf5')\n",
        "reg_models_wdc[0].save('reg_model_wdc.hdf5')\n",
        "reg_models_unfi[0].save('reg_model_unfi.hdf5')\n",
        "reg_models_be[0].save('reg_model_be.hdf5')"
      ],
      "execution_count": 0,
      "outputs": []
    }
  ]
}