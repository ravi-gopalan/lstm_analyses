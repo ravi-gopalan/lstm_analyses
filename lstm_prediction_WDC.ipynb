{
  "nbformat": 4,
  "nbformat_minor": 0,
  "metadata": {
    "colab": {
      "name": "lstm_prediction_WDC.ipynb",
      "provenance": [],
      "include_colab_link": true
    },
    "kernelspec": {
      "name": "python3",
      "display_name": "Python 3"
    },
    "accelerator": "GPU"
  },
  "cells": [
    {
      "cell_type": "markdown",
      "metadata": {
        "id": "view-in-github",
        "colab_type": "text"
      },
      "source": [
        "<a href=\"https://colab.research.google.com/github/ravi-gopalan/lstm_analyses/blob/master/lstm_prediction_WDC.ipynb\" target=\"_parent\"><img src=\"https://colab.research.google.com/assets/colab-badge.svg\" alt=\"Open In Colab\"/></a>"
      ]
    },
    {
      "cell_type": "code",
      "metadata": {
        "id": "K0zMq0IbD9jS",
        "colab_type": "code",
        "colab": {}
      },
      "source": [
        "# Importing the libraries\n",
        "from IPython.core.interactiveshell import InteractiveShell\n",
        "InteractiveShell.ast_node_interactivity = \"all\"\n",
        "import numpy as np\n",
        "import matplotlib.pyplot as plt\n",
        "import pandas as pd\n",
        "import seaborn as sns"
      ],
      "execution_count": 0,
      "outputs": []
    },
    {
      "cell_type": "code",
      "metadata": {
        "id": "swJFzQNyEPAX",
        "colab_type": "code",
        "colab": {
          "base_uri": "https://localhost:8080/",
          "height": 34
        },
        "outputId": "37355c31-6679-4313-9667-aac490e58242"
      },
      "source": [
        "!ls"
      ],
      "execution_count": 209,
      "outputs": [
        {
          "output_type": "stream",
          "text": [
            "sample_data  WDC.csv\n"
          ],
          "name": "stdout"
        }
      ]
    },
    {
      "cell_type": "code",
      "metadata": {
        "id": "e4sa_5u6ECb2",
        "colab_type": "code",
        "colab": {
          "base_uri": "https://localhost:8080/",
          "height": 225
        },
        "outputId": "e8f99222-5896-4a8e-8a69-fd14e4b97d01"
      },
      "source": [
        "dateparse = lambda x: pd.datetime.strptime(x, '%Y-%m-%d')\n",
        "df = pd.read_csv('WDC.csv', parse_dates=['Date'], date_parser=dateparse)\n",
        "df.info()"
      ],
      "execution_count": 215,
      "outputs": [
        {
          "output_type": "stream",
          "text": [
            "<class 'pandas.core.frame.DataFrame'>\n",
            "RangeIndex: 2266 entries, 0 to 2265\n",
            "Data columns (total 7 columns):\n",
            "Date         2266 non-null datetime64[ns]\n",
            "Open         2266 non-null float64\n",
            "High         2266 non-null float64\n",
            "Low          2266 non-null float64\n",
            "Close        2266 non-null float64\n",
            "Adj Close    2266 non-null float64\n",
            "Volume       2266 non-null int64\n",
            "dtypes: datetime64[ns](1), float64(5), int64(1)\n",
            "memory usage: 124.0 KB\n"
          ],
          "name": "stdout"
        }
      ]
    },
    {
      "cell_type": "code",
      "metadata": {
        "id": "uRzzhXMImcD6",
        "colab_type": "code",
        "colab": {
          "base_uri": "https://localhost:8080/",
          "height": 286
        },
        "outputId": "20cd8f86-d669-4c41-916b-c188abf56a65"
      },
      "source": [
        "plt.plot((df['Adj Close']-df['Close'])/df['Close'])"
      ],
      "execution_count": 216,
      "outputs": [
        {
          "output_type": "execute_result",
          "data": {
            "text/plain": [
              "[<matplotlib.lines.Line2D at 0x7f0f0162d320>]"
            ]
          },
          "metadata": {
            "tags": []
          },
          "execution_count": 216
        },
        {
          "output_type": "display_data",
          "data": {
            "image/png": "[encoded data removed]",
            "text/plain": [
              "<Figure size 432x288 with 1 Axes>"
            ]
          },
          "metadata": {
            "tags": []
          }
        }
      ]
    },
    {
      "cell_type": "code",
      "metadata": {
        "id": "FwnRLQzzFJYA",
        "colab_type": "code",
        "colab": {
          "base_uri": "https://localhost:8080/",
          "height": 378
        },
        "outputId": "8695e59d-f1f5-473d-bfcd-23c1a0993f18"
      },
      "source": [
        "df.head()\n",
        "df.tail()"
      ],
      "execution_count": 217,
      "outputs": [
        {
          "output_type": "execute_result",
          "data": {
            "text/html": [
              "<div>\n",
              "<style scoped>\n",
              "    .dataframe tbody tr th:only-of-type {\n",
              "        vertical-align: middle;\n",
              "    }\n",
              "\n",
              "    .dataframe tbody tr th {\n",
              "        vertical-align: top;\n",
              "    }\n",
              "\n",
              "    .dataframe thead th {\n",
              "        text-align: right;\n",
              "    }\n",
              "</style>\n",
              "<table border=\"1\" class=\"dataframe\">\n",
              "  <thead>\n",
              "    <tr style=\"text-align: right;\">\n",
              "      <th></th>\n",
              "      <th>Date</th>\n",
              "      <th>Open</th>\n",
              "      <th>High</th>\n",
              "      <th>Low</th>\n",
              "      <th>Close</th>\n",
              "      <th>Adj Close</th>\n",
              "      <th>Volume</th>\n",
              "    </tr>\n",
              "  </thead>\n",
              "  <tbody>\n",
              "    <tr>\n",
              "      <th>0</th>\n",
              "      <td>2010-10-04</td>\n",
              "      <td>28.129999</td>\n",
              "      <td>28.350000</td>\n",
              "      <td>27.580000</td>\n",
              "      <td>27.969999</td>\n",
              "      <td>22.624254</td>\n",
              "      <td>3916600</td>\n",
              "    </tr>\n",
              "    <tr>\n",
              "      <th>1</th>\n",
              "      <td>2010-10-05</td>\n",
              "      <td>28.309999</td>\n",
              "      <td>28.850000</td>\n",
              "      <td>27.930000</td>\n",
              "      <td>28.780001</td>\n",
              "      <td>23.279446</td>\n",
              "      <td>4916600</td>\n",
              "    </tr>\n",
              "    <tr>\n",
              "      <th>2</th>\n",
              "      <td>2010-10-06</td>\n",
              "      <td>28.629999</td>\n",
              "      <td>28.910000</td>\n",
              "      <td>27.709999</td>\n",
              "      <td>27.900000</td>\n",
              "      <td>22.567631</td>\n",
              "      <td>7194900</td>\n",
              "    </tr>\n",
              "    <tr>\n",
              "      <th>3</th>\n",
              "      <td>2010-10-07</td>\n",
              "      <td>28.010000</td>\n",
              "      <td>28.500000</td>\n",
              "      <td>27.410000</td>\n",
              "      <td>28.350000</td>\n",
              "      <td>22.931625</td>\n",
              "      <td>6079100</td>\n",
              "    </tr>\n",
              "    <tr>\n",
              "      <th>4</th>\n",
              "      <td>2010-10-08</td>\n",
              "      <td>28.830000</td>\n",
              "      <td>29.299999</td>\n",
              "      <td>28.600000</td>\n",
              "      <td>28.900000</td>\n",
              "      <td>23.376511</td>\n",
              "      <td>7276000</td>\n",
              "    </tr>\n",
              "  </tbody>\n",
              "</table>\n",
              "</div>"
            ],
            "text/plain": [
              "        Date       Open       High        Low      Close  Adj Close   Volume\n",
              "0 2010-10-04  28.129999  28.350000  27.580000  27.969999  22.624254  3916600\n",
              "1 2010-10-05  28.309999  28.850000  27.930000  28.780001  23.279446  4916600\n",
              "2 2010-10-06  28.629999  28.910000  27.709999  27.900000  22.567631  7194900\n",
              "3 2010-10-07  28.010000  28.500000  27.410000  28.350000  22.931625  6079100\n",
              "4 2010-10-08  28.830000  29.299999  28.600000  28.900000  23.376511  7276000"
            ]
          },
          "metadata": {
            "tags": []
          },
          "execution_count": 217
        },
        {
          "output_type": "execute_result",
          "data": {
            "text/html": [
              "<div>\n",
              "<style scoped>\n",
              "    .dataframe tbody tr th:only-of-type {\n",
              "        vertical-align: middle;\n",
              "    }\n",
              "\n",
              "    .dataframe tbody tr th {\n",
              "        vertical-align: top;\n",
              "    }\n",
              "\n",
              "    .dataframe thead th {\n",
              "        text-align: right;\n",
              "    }\n",
              "</style>\n",
              "<table border=\"1\" class=\"dataframe\">\n",
              "  <thead>\n",
              "    <tr style=\"text-align: right;\">\n",
              "      <th></th>\n",
              "      <th>Date</th>\n",
              "      <th>Open</th>\n",
              "      <th>High</th>\n",
              "      <th>Low</th>\n",
              "      <th>Close</th>\n",
              "      <th>Adj Close</th>\n",
              "      <th>Volume</th>\n",
              "    </tr>\n",
              "  </thead>\n",
              "  <tbody>\n",
              "    <tr>\n",
              "      <th>2261</th>\n",
              "      <td>2019-09-27</td>\n",
              "      <td>61.439999</td>\n",
              "      <td>62.500000</td>\n",
              "      <td>60.180000</td>\n",
              "      <td>60.490002</td>\n",
              "      <td>60.490002</td>\n",
              "      <td>5759500</td>\n",
              "    </tr>\n",
              "    <tr>\n",
              "      <th>2262</th>\n",
              "      <td>2019-09-30</td>\n",
              "      <td>60.340000</td>\n",
              "      <td>60.439999</td>\n",
              "      <td>58.830002</td>\n",
              "      <td>59.639999</td>\n",
              "      <td>59.639999</td>\n",
              "      <td>3799400</td>\n",
              "    </tr>\n",
              "    <tr>\n",
              "      <th>2263</th>\n",
              "      <td>2019-10-01</td>\n",
              "      <td>60.060001</td>\n",
              "      <td>61.110001</td>\n",
              "      <td>58.369999</td>\n",
              "      <td>58.590000</td>\n",
              "      <td>58.590000</td>\n",
              "      <td>3177100</td>\n",
              "    </tr>\n",
              "    <tr>\n",
              "      <th>2264</th>\n",
              "      <td>2019-10-02</td>\n",
              "      <td>57.810001</td>\n",
              "      <td>57.939999</td>\n",
              "      <td>56.150002</td>\n",
              "      <td>56.820000</td>\n",
              "      <td>56.820000</td>\n",
              "      <td>5590700</td>\n",
              "    </tr>\n",
              "    <tr>\n",
              "      <th>2265</th>\n",
              "      <td>2019-10-03</td>\n",
              "      <td>56.570000</td>\n",
              "      <td>57.814999</td>\n",
              "      <td>55.480000</td>\n",
              "      <td>57.779999</td>\n",
              "      <td>57.779999</td>\n",
              "      <td>3463535</td>\n",
              "    </tr>\n",
              "  </tbody>\n",
              "</table>\n",
              "</div>"
            ],
            "text/plain": [
              "           Date       Open       High        Low      Close  Adj Close   Volume\n",
              "2261 2019-09-27  61.439999  62.500000  60.180000  60.490002  60.490002  5759500\n",
              "2262 2019-09-30  60.340000  60.439999  58.830002  59.639999  59.639999  3799400\n",
              "2263 2019-10-01  60.060001  61.110001  58.369999  58.590000  58.590000  3177100\n",
              "2264 2019-10-02  57.810001  57.939999  56.150002  56.820000  56.820000  5590700\n",
              "2265 2019-10-03  56.570000  57.814999  55.480000  57.779999  57.779999  3463535"
            ]
          },
          "metadata": {
            "tags": []
          },
          "execution_count": 217
        }
      ]
    },
    {
      "cell_type": "code",
      "metadata": {
        "id": "awemGH5qHdff",
        "colab_type": "code",
        "colab": {
          "base_uri": "https://localhost:8080/",
          "height": 227
        },
        "outputId": "cb649a4d-c5de-4a2f-f670-2d1df3de73bb"
      },
      "source": [
        "df = df.set_index('Date')\n",
        "df.head()"
      ],
      "execution_count": 218,
      "outputs": [
        {
          "output_type": "execute_result",
          "data": {
            "text/html": [
              "<div>\n",
              "<style scoped>\n",
              "    .dataframe tbody tr th:only-of-type {\n",
              "        vertical-align: middle;\n",
              "    }\n",
              "\n",
              "    .dataframe tbody tr th {\n",
              "        vertical-align: top;\n",
              "    }\n",
              "\n",
              "    .dataframe thead th {\n",
              "        text-align: right;\n",
              "    }\n",
              "</style>\n",
              "<table border=\"1\" class=\"dataframe\">\n",
              "  <thead>\n",
              "    <tr style=\"text-align: right;\">\n",
              "      <th></th>\n",
              "      <th>Open</th>\n",
              "      <th>High</th>\n",
              "      <th>Low</th>\n",
              "      <th>Close</th>\n",
              "      <th>Adj Close</th>\n",
              "      <th>Volume</th>\n",
              "    </tr>\n",
              "    <tr>\n",
              "      <th>Date</th>\n",
              "      <th></th>\n",
              "      <th></th>\n",
              "      <th></th>\n",
              "      <th></th>\n",
              "      <th></th>\n",
              "      <th></th>\n",
              "    </tr>\n",
              "  </thead>\n",
              "  <tbody>\n",
              "    <tr>\n",
              "      <th>2010-10-04</th>\n",
              "      <td>28.129999</td>\n",
              "      <td>28.350000</td>\n",
              "      <td>27.580000</td>\n",
              "      <td>27.969999</td>\n",
              "      <td>22.624254</td>\n",
              "      <td>3916600</td>\n",
              "    </tr>\n",
              "    <tr>\n",
              "      <th>2010-10-05</th>\n",
              "      <td>28.309999</td>\n",
              "      <td>28.850000</td>\n",
              "      <td>27.930000</td>\n",
              "      <td>28.780001</td>\n",
              "      <td>23.279446</td>\n",
              "      <td>4916600</td>\n",
              "    </tr>\n",
              "    <tr>\n",
              "      <th>2010-10-06</th>\n",
              "      <td>28.629999</td>\n",
              "      <td>28.910000</td>\n",
              "      <td>27.709999</td>\n",
              "      <td>27.900000</td>\n",
              "      <td>22.567631</td>\n",
              "      <td>7194900</td>\n",
              "    </tr>\n",
              "    <tr>\n",
              "      <th>2010-10-07</th>\n",
              "      <td>28.010000</td>\n",
              "      <td>28.500000</td>\n",
              "      <td>27.410000</td>\n",
              "      <td>28.350000</td>\n",
              "      <td>22.931625</td>\n",
              "      <td>6079100</td>\n",
              "    </tr>\n",
              "    <tr>\n",
              "      <th>2010-10-08</th>\n",
              "      <td>28.830000</td>\n",
              "      <td>29.299999</td>\n",
              "      <td>28.600000</td>\n",
              "      <td>28.900000</td>\n",
              "      <td>23.376511</td>\n",
              "      <td>7276000</td>\n",
              "    </tr>\n",
              "  </tbody>\n",
              "</table>\n",
              "</div>"
            ],
            "text/plain": [
              "                 Open       High        Low      Close  Adj Close   Volume\n",
              "Date                                                                      \n",
              "2010-10-04  28.129999  28.350000  27.580000  27.969999  22.624254  3916600\n",
              "2010-10-05  28.309999  28.850000  27.930000  28.780001  23.279446  4916600\n",
              "2010-10-06  28.629999  28.910000  27.709999  27.900000  22.567631  7194900\n",
              "2010-10-07  28.010000  28.500000  27.410000  28.350000  22.931625  6079100\n",
              "2010-10-08  28.830000  29.299999  28.600000  28.900000  23.376511  7276000"
            ]
          },
          "metadata": {
            "tags": []
          },
          "execution_count": 218
        }
      ]
    },
    {
      "cell_type": "code",
      "metadata": {
        "id": "VM1oN0Nsnp7w",
        "colab_type": "code",
        "colab": {
          "base_uri": "https://localhost:8080/",
          "height": 227
        },
        "outputId": "5ae1386e-77b0-4340-eca8-b9f57588c58b"
      },
      "source": [
        "df.drop(columns=['Adj Close'],inplace=True)\n",
        "df.head()"
      ],
      "execution_count": 219,
      "outputs": [
        {
          "output_type": "execute_result",
          "data": {
            "text/html": [
              "<div>\n",
              "<style scoped>\n",
              "    .dataframe tbody tr th:only-of-type {\n",
              "        vertical-align: middle;\n",
              "    }\n",
              "\n",
              "    .dataframe tbody tr th {\n",
              "        vertical-align: top;\n",
              "    }\n",
              "\n",
              "    .dataframe thead th {\n",
              "        text-align: right;\n",
              "    }\n",
              "</style>\n",
              "<table border=\"1\" class=\"dataframe\">\n",
              "  <thead>\n",
              "    <tr style=\"text-align: right;\">\n",
              "      <th></th>\n",
              "      <th>Open</th>\n",
              "      <th>High</th>\n",
              "      <th>Low</th>\n",
              "      <th>Close</th>\n",
              "      <th>Volume</th>\n",
              "    </tr>\n",
              "    <tr>\n",
              "      <th>Date</th>\n",
              "      <th></th>\n",
              "      <th></th>\n",
              "      <th></th>\n",
              "      <th></th>\n",
              "      <th></th>\n",
              "    </tr>\n",
              "  </thead>\n",
              "  <tbody>\n",
              "    <tr>\n",
              "      <th>2010-10-04</th>\n",
              "      <td>28.129999</td>\n",
              "      <td>28.350000</td>\n",
              "      <td>27.580000</td>\n",
              "      <td>27.969999</td>\n",
              "      <td>3916600</td>\n",
              "    </tr>\n",
              "    <tr>\n",
              "      <th>2010-10-05</th>\n",
              "      <td>28.309999</td>\n",
              "      <td>28.850000</td>\n",
              "      <td>27.930000</td>\n",
              "      <td>28.780001</td>\n",
              "      <td>4916600</td>\n",
              "    </tr>\n",
              "    <tr>\n",
              "      <th>2010-10-06</th>\n",
              "      <td>28.629999</td>\n",
              "      <td>28.910000</td>\n",
              "      <td>27.709999</td>\n",
              "      <td>27.900000</td>\n",
              "      <td>7194900</td>\n",
              "    </tr>\n",
              "    <tr>\n",
              "      <th>2010-10-07</th>\n",
              "      <td>28.010000</td>\n",
              "      <td>28.500000</td>\n",
              "      <td>27.410000</td>\n",
              "      <td>28.350000</td>\n",
              "      <td>6079100</td>\n",
              "    </tr>\n",
              "    <tr>\n",
              "      <th>2010-10-08</th>\n",
              "      <td>28.830000</td>\n",
              "      <td>29.299999</td>\n",
              "      <td>28.600000</td>\n",
              "      <td>28.900000</td>\n",
              "      <td>7276000</td>\n",
              "    </tr>\n",
              "  </tbody>\n",
              "</table>\n",
              "</div>"
            ],
            "text/plain": [
              "                 Open       High        Low      Close   Volume\n",
              "Date                                                           \n",
              "2010-10-04  28.129999  28.350000  27.580000  27.969999  3916600\n",
              "2010-10-05  28.309999  28.850000  27.930000  28.780001  4916600\n",
              "2010-10-06  28.629999  28.910000  27.709999  27.900000  7194900\n",
              "2010-10-07  28.010000  28.500000  27.410000  28.350000  6079100\n",
              "2010-10-08  28.830000  29.299999  28.600000  28.900000  7276000"
            ]
          },
          "metadata": {
            "tags": []
          },
          "execution_count": 219
        }
      ]
    },
    {
      "cell_type": "code",
      "metadata": {
        "id": "xyUKKaimMEKD",
        "colab_type": "code",
        "colab": {
          "base_uri": "https://localhost:8080/",
          "height": 438
        },
        "outputId": "d967ef15-0d85-4a4f-fa79-8f6d9718167e"
      },
      "source": [
        "#Set number of days and standard deviations to use for rolling lookback period for Bollinger band calculation\n",
        "window = 21\n",
        "no_of_std = 2\n",
        "#Calculate rolling mean and standard deviation using number of days set above\n",
        "rolling_mean = df['Open'].rolling(window).mean()\n",
        "rolling_std = df['Open'].rolling(window).std()\n",
        "#create two new DataFrame columns to hold values of upper and lower Bollinger bands\n",
        "df['Rolling Mean'] = rolling_mean\n",
        "df['Bollinger High'] = rolling_mean + (rolling_std * no_of_std)\n",
        "df['Bollinger Low'] = rolling_mean - (rolling_std * no_of_std)\n",
        "df.head()\n",
        "df.tail()"
      ],
      "execution_count": 220,
      "outputs": [
        {
          "output_type": "execute_result",
          "data": {
            "text/html": [
              "<div>\n",
              "<style scoped>\n",
              "    .dataframe tbody tr th:only-of-type {\n",
              "        vertical-align: middle;\n",
              "    }\n",
              "\n",
              "    .dataframe tbody tr th {\n",
              "        vertical-align: top;\n",
              "    }\n",
              "\n",
              "    .dataframe thead th {\n",
              "        text-align: right;\n",
              "    }\n",
              "</style>\n",
              "<table border=\"1\" class=\"dataframe\">\n",
              "  <thead>\n",
              "    <tr style=\"text-align: right;\">\n",
              "      <th></th>\n",
              "      <th>Open</th>\n",
              "      <th>High</th>\n",
              "      <th>Low</th>\n",
              "      <th>Close</th>\n",
              "      <th>Volume</th>\n",
              "      <th>Rolling Mean</th>\n",
              "      <th>Bollinger High</th>\n",
              "      <th>Bollinger Low</th>\n",
              "    </tr>\n",
              "    <tr>\n",
              "      <th>Date</th>\n",
              "      <th></th>\n",
              "      <th></th>\n",
              "      <th></th>\n",
              "      <th></th>\n",
              "      <th></th>\n",
              "      <th></th>\n",
              "      <th></th>\n",
              "      <th></th>\n",
              "    </tr>\n",
              "  </thead>\n",
              "  <tbody>\n",
              "    <tr>\n",
              "      <th>2010-10-04</th>\n",
              "      <td>28.129999</td>\n",
              "      <td>28.350000</td>\n",
              "      <td>27.580000</td>\n",
              "      <td>27.969999</td>\n",
              "      <td>3916600</td>\n",
              "      <td>NaN</td>\n",
              "      <td>NaN</td>\n",
              "      <td>NaN</td>\n",
              "    </tr>\n",
              "    <tr>\n",
              "      <th>2010-10-05</th>\n",
              "      <td>28.309999</td>\n",
              "      <td>28.850000</td>\n",
              "      <td>27.930000</td>\n",
              "      <td>28.780001</td>\n",
              "      <td>4916600</td>\n",
              "      <td>NaN</td>\n",
              "      <td>NaN</td>\n",
              "      <td>NaN</td>\n",
              "    </tr>\n",
              "    <tr>\n",
              "      <th>2010-10-06</th>\n",
              "      <td>28.629999</td>\n",
              "      <td>28.910000</td>\n",
              "      <td>27.709999</td>\n",
              "      <td>27.900000</td>\n",
              "      <td>7194900</td>\n",
              "      <td>NaN</td>\n",
              "      <td>NaN</td>\n",
              "      <td>NaN</td>\n",
              "    </tr>\n",
              "    <tr>\n",
              "      <th>2010-10-07</th>\n",
              "      <td>28.010000</td>\n",
              "      <td>28.500000</td>\n",
              "      <td>27.410000</td>\n",
              "      <td>28.350000</td>\n",
              "      <td>6079100</td>\n",
              "      <td>NaN</td>\n",
              "      <td>NaN</td>\n",
              "      <td>NaN</td>\n",
              "    </tr>\n",
              "    <tr>\n",
              "      <th>2010-10-08</th>\n",
              "      <td>28.830000</td>\n",
              "      <td>29.299999</td>\n",
              "      <td>28.600000</td>\n",
              "      <td>28.900000</td>\n",
              "      <td>7276000</td>\n",
              "      <td>NaN</td>\n",
              "      <td>NaN</td>\n",
              "      <td>NaN</td>\n",
              "    </tr>\n",
              "  </tbody>\n",
              "</table>\n",
              "</div>"
            ],
            "text/plain": [
              "                 Open       High  ...  Bollinger High  Bollinger Low\n",
              "Date                              ...                               \n",
              "2010-10-04  28.129999  28.350000  ...             NaN            NaN\n",
              "2010-10-05  28.309999  28.850000  ...             NaN            NaN\n",
              "2010-10-06  28.629999  28.910000  ...             NaN            NaN\n",
              "2010-10-07  28.010000  28.500000  ...             NaN            NaN\n",
              "2010-10-08  28.830000  29.299999  ...             NaN            NaN\n",
              "\n",
              "[5 rows x 8 columns]"
            ]
          },
          "metadata": {
            "tags": []
          },
          "execution_count": 220
        },
        {
          "output_type": "execute_result",
          "data": {
            "text/html": [
              "<div>\n",
              "<style scoped>\n",
              "    .dataframe tbody tr th:only-of-type {\n",
              "        vertical-align: middle;\n",
              "    }\n",
              "\n",
              "    .dataframe tbody tr th {\n",
              "        vertical-align: top;\n",
              "    }\n",
              "\n",
              "    .dataframe thead th {\n",
              "        text-align: right;\n",
              "    }\n",
              "</style>\n",
              "<table border=\"1\" class=\"dataframe\">\n",
              "  <thead>\n",
              "    <tr style=\"text-align: right;\">\n",
              "      <th></th>\n",
              "      <th>Open</th>\n",
              "      <th>High</th>\n",
              "      <th>Low</th>\n",
              "      <th>Close</th>\n",
              "      <th>Volume</th>\n",
              "      <th>Rolling Mean</th>\n",
              "      <th>Bollinger High</th>\n",
              "      <th>Bollinger Low</th>\n",
              "    </tr>\n",
              "    <tr>\n",
              "      <th>Date</th>\n",
              "      <th></th>\n",
              "      <th></th>\n",
              "      <th></th>\n",
              "      <th></th>\n",
              "      <th></th>\n",
              "      <th></th>\n",
              "      <th></th>\n",
              "      <th></th>\n",
              "    </tr>\n",
              "  </thead>\n",
              "  <tbody>\n",
              "    <tr>\n",
              "      <th>2019-09-27</th>\n",
              "      <td>61.439999</td>\n",
              "      <td>62.500000</td>\n",
              "      <td>60.180000</td>\n",
              "      <td>60.490002</td>\n",
              "      <td>5759500</td>\n",
              "      <td>61.275238</td>\n",
              "      <td>66.955879</td>\n",
              "      <td>55.594596</td>\n",
              "    </tr>\n",
              "    <tr>\n",
              "      <th>2019-09-30</th>\n",
              "      <td>60.340000</td>\n",
              "      <td>60.439999</td>\n",
              "      <td>58.830002</td>\n",
              "      <td>59.639999</td>\n",
              "      <td>3799400</td>\n",
              "      <td>61.558095</td>\n",
              "      <td>66.317802</td>\n",
              "      <td>56.798387</td>\n",
              "    </tr>\n",
              "    <tr>\n",
              "      <th>2019-10-01</th>\n",
              "      <td>60.060001</td>\n",
              "      <td>61.110001</td>\n",
              "      <td>58.369999</td>\n",
              "      <td>58.590000</td>\n",
              "      <td>3177100</td>\n",
              "      <td>61.770952</td>\n",
              "      <td>65.744583</td>\n",
              "      <td>57.797320</td>\n",
              "    </tr>\n",
              "    <tr>\n",
              "      <th>2019-10-02</th>\n",
              "      <td>57.810001</td>\n",
              "      <td>57.939999</td>\n",
              "      <td>56.150002</td>\n",
              "      <td>56.820000</td>\n",
              "      <td>5590700</td>\n",
              "      <td>61.827142</td>\n",
              "      <td>65.518814</td>\n",
              "      <td>58.135471</td>\n",
              "    </tr>\n",
              "    <tr>\n",
              "      <th>2019-10-03</th>\n",
              "      <td>56.570000</td>\n",
              "      <td>57.814999</td>\n",
              "      <td>55.480000</td>\n",
              "      <td>57.779999</td>\n",
              "      <td>3463535</td>\n",
              "      <td>61.718095</td>\n",
              "      <td>65.882853</td>\n",
              "      <td>57.553336</td>\n",
              "    </tr>\n",
              "  </tbody>\n",
              "</table>\n",
              "</div>"
            ],
            "text/plain": [
              "                 Open       High  ...  Bollinger High  Bollinger Low\n",
              "Date                              ...                               \n",
              "2019-09-27  61.439999  62.500000  ...       66.955879      55.594596\n",
              "2019-09-30  60.340000  60.439999  ...       66.317802      56.798387\n",
              "2019-10-01  60.060001  61.110001  ...       65.744583      57.797320\n",
              "2019-10-02  57.810001  57.939999  ...       65.518814      58.135471\n",
              "2019-10-03  56.570000  57.814999  ...       65.882853      57.553336\n",
              "\n",
              "[5 rows x 8 columns]"
            ]
          },
          "metadata": {
            "tags": []
          },
          "execution_count": 220
        }
      ]
    },
    {
      "cell_type": "code",
      "metadata": {
        "id": "TP-We79Kof-o",
        "colab_type": "code",
        "colab": {
          "base_uri": "https://localhost:8080/",
          "height": 173
        },
        "outputId": "1cadc513-c7fc-42ea-e81b-446f9c6e86b9"
      },
      "source": [
        "df.iloc[2074,:]"
      ],
      "execution_count": 221,
      "outputs": [
        {
          "output_type": "execute_result",
          "data": {
            "text/plain": [
              "Open              3.804000e+01\n",
              "High              3.809000e+01\n",
              "Low               3.582000e+01\n",
              "Close             3.697000e+01\n",
              "Volume            6.960500e+06\n",
              "Rolling Mean      4.046000e+01\n",
              "Bollinger High    4.803532e+01\n",
              "Bollinger Low     3.288468e+01\n",
              "Name: 2018-12-31 00:00:00, dtype: float64"
            ]
          },
          "metadata": {
            "tags": []
          },
          "execution_count": 221
        }
      ]
    },
    {
      "cell_type": "code",
      "metadata": {
        "id": "Hftan9g8qHZ5",
        "colab_type": "code",
        "colab": {
          "base_uri": "https://localhost:8080/",
          "height": 173
        },
        "outputId": "207630fc-a6ea-4fe3-ef3b-509c704238b9"
      },
      "source": [
        "df.iloc[2114,:]"
      ],
      "execution_count": 222,
      "outputs": [
        {
          "output_type": "execute_result",
          "data": {
            "text/plain": [
              "Open              4.815000e+01\n",
              "High              5.052000e+01\n",
              "Low               4.666000e+01\n",
              "Close             5.030000e+01\n",
              "Volume            1.105930e+07\n",
              "Rolling Mean      4.748524e+01\n",
              "Bollinger High    5.178234e+01\n",
              "Bollinger Low     4.318813e+01\n",
              "Name: 2019-02-28 00:00:00, dtype: float64"
            ]
          },
          "metadata": {
            "tags": []
          },
          "execution_count": 222
        }
      ]
    },
    {
      "cell_type": "code",
      "metadata": {
        "id": "OO4RsL2FNZFa",
        "colab_type": "code",
        "colab": {
          "base_uri": "https://localhost:8080/",
          "height": 286
        },
        "outputId": "0e204cd5-12b2-419b-9f15-28b7f3ee3070"
      },
      "source": [
        "sns.lineplot(data=df['Close'])\n",
        "sns.lineplot(data=df['Bollinger High'])\n",
        "sns.lineplot(data=df['Bollinger Low'])"
      ],
      "execution_count": 224,
      "outputs": [
        {
          "output_type": "execute_result",
          "data": {
            "text/plain": [
              "<matplotlib.axes._subplots.AxesSubplot at 0x7f0f01684908>"
            ]
          },
          "metadata": {
            "tags": []
          },
          "execution_count": 224
        },
        {
          "output_type": "execute_result",
          "data": {
            "text/plain": [
              "<matplotlib.axes._subplots.AxesSubplot at 0x7f0f01684908>"
            ]
          },
          "metadata": {
            "tags": []
          },
          "execution_count": 224
        },
        {
          "output_type": "execute_result",
          "data": {
            "text/plain": [
              "<matplotlib.axes._subplots.AxesSubplot at 0x7f0f01684908>"
            ]
          },
          "metadata": {
            "tags": []
          },
          "execution_count": 224
        },
        {
          "output_type": "display_data",
          "data": {
            "image/png": "[encoded data removed]",
            "text/plain": [
              "<Figure size 432x288 with 1 Axes>"
            ]
          },
          "metadata": {
            "tags": []
          }
        }
      ]
    },
    {
      "cell_type": "code",
      "metadata": {
        "id": "Wedga_2YEWik",
        "colab_type": "code",
        "colab": {
          "base_uri": "https://localhost:8080/",
          "height": 86
        },
        "outputId": "bc7e0b70-5cf9-4242-e24c-918c5b5156fc"
      },
      "source": [
        "close_array = df.values\n",
        "close_array.shape\n",
        "close_array[:2]"
      ],
      "execution_count": 225,
      "outputs": [
        {
          "output_type": "execute_result",
          "data": {
            "text/plain": [
              "(2266, 8)"
            ]
          },
          "metadata": {
            "tags": []
          },
          "execution_count": 225
        },
        {
          "output_type": "execute_result",
          "data": {
            "text/plain": [
              "array([[2.8129999e+01, 2.8350000e+01, 2.7580000e+01, 2.7969999e+01,\n",
              "        3.9166000e+06,           nan,           nan,           nan],\n",
              "       [2.8309999e+01, 2.8850000e+01, 2.7930000e+01, 2.8780001e+01,\n",
              "        4.9166000e+06,           nan,           nan,           nan]])"
            ]
          },
          "metadata": {
            "tags": []
          },
          "execution_count": 225
        }
      ]
    },
    {
      "cell_type": "code",
      "metadata": {
        "id": "vqmJ2z3QTWbp",
        "colab_type": "code",
        "colab": {
          "base_uri": "https://localhost:8080/",
          "height": 34
        },
        "outputId": "fafcaaa2-7e45-43f7-fd97-7714922f91e0"
      },
      "source": [
        "train_array = close_array[:-192,:5]\n",
        "train_array.shape"
      ],
      "execution_count": 280,
      "outputs": [
        {
          "output_type": "execute_result",
          "data": {
            "text/plain": [
              "(2074, 5)"
            ]
          },
          "metadata": {
            "tags": []
          },
          "execution_count": 280
        }
      ]
    },
    {
      "cell_type": "code",
      "metadata": {
        "id": "ufFqrFQFpdWZ",
        "colab_type": "code",
        "colab": {
          "base_uri": "https://localhost:8080/",
          "height": 34
        },
        "outputId": "776e7875-0d31-4836-e937-1ab21a9fbf9f"
      },
      "source": [
        "valid_array = close_array[train_array.shape[0]:train_array.shape[0]+40,:5]\n",
        "valid_array.shape"
      ],
      "execution_count": 282,
      "outputs": [
        {
          "output_type": "execute_result",
          "data": {
            "text/plain": [
              "(40, 5)"
            ]
          },
          "metadata": {
            "tags": []
          },
          "execution_count": 282
        }
      ]
    },
    {
      "cell_type": "code",
      "metadata": {
        "id": "TYlPVlYbDJnt",
        "colab_type": "code",
        "colab": {
          "base_uri": "https://localhost:8080/",
          "height": 51
        },
        "outputId": "b118eca6-ed14-4984-e64e-81ca44bfbe97"
      },
      "source": [
        "train_array[0]"
      ],
      "execution_count": 228,
      "outputs": [
        {
          "output_type": "execute_result",
          "data": {
            "text/plain": [
              "array([2.8129999e+01, 2.8350000e+01, 2.7580000e+01, 2.7969999e+01,\n",
              "       3.9166000e+06,           nan,           nan,           nan])"
            ]
          },
          "metadata": {
            "tags": []
          },
          "execution_count": 228
        }
      ]
    },
    {
      "cell_type": "code",
      "metadata": {
        "id": "P5a64IT5H0wg",
        "colab_type": "code",
        "colab": {}
      },
      "source": [
        "# Feature Scaling\n",
        "from sklearn.preprocessing import MinMaxScaler\n",
        "\n",
        "\n",
        "sc1 = MinMaxScaler((0, 1))\n",
        "sc2 = MinMaxScaler((0, 1))\n",
        "sc3 = MinMaxScaler((0, 1))\n",
        "sc4 = MinMaxScaler((0, 1))\n",
        "sc5 = MinMaxScaler((0, 1))\n",
        "\n",
        "scale1 = sc1.fit_transform(train_array[:,0].reshape(-1, 1))\n",
        "scale2 = sc2.fit_transform(train_array[:,1].reshape(-1, 1))\n",
        "scale3 = sc3.fit_transform(train_array[:,2].reshape(-1, 1))\n",
        "scale4 = sc4.fit_transform(train_array[:,3].reshape(-1, 1))\n",
        "scale5 = sc5.fit_transform(train_array[:,4].reshape(-1, 1))\n"
      ],
      "execution_count": 0,
      "outputs": []
    },
    {
      "cell_type": "code",
      "metadata": {
        "id": "bdUyL5MVC5YK",
        "colab_type": "code",
        "colab": {
          "base_uri": "https://localhost:8080/",
          "height": 34
        },
        "outputId": "af68548a-814c-4138-9470-1ff000e65cf1"
      },
      "source": [
        "scaled_training_set = np.concatenate((scale1, scale2,scale3,scale4,scale5), axis=1)\n",
        "scaled_training_set.shape"
      ],
      "execution_count": 284,
      "outputs": [
        {
          "output_type": "execute_result",
          "data": {
            "text/plain": [
              "(2074, 5)"
            ]
          },
          "metadata": {
            "tags": []
          },
          "execution_count": 284
        }
      ]
    },
    {
      "cell_type": "code",
      "metadata": {
        "id": "VEGn__CFqmLQ",
        "colab_type": "code",
        "colab": {
          "base_uri": "https://localhost:8080/",
          "height": 51
        },
        "outputId": "96a9a85a-5fdd-4e22-8133-2a5f78969261"
      },
      "source": [
        "scaled_training_set[:,4]"
      ],
      "execution_count": 285,
      "outputs": [
        {
          "output_type": "execute_result",
          "data": {
            "text/plain": [
              "array([0.11572156, 0.14992936, 0.22786499, ..., 0.23691979, 0.13272626,\n",
              "       0.16269571])"
            ]
          },
          "metadata": {
            "tags": []
          },
          "execution_count": 285
        }
      ]
    },
    {
      "cell_type": "code",
      "metadata": {
        "id": "Kf8aLsmLTyVS",
        "colab_type": "code",
        "colab": {
          "base_uri": "https://localhost:8080/",
          "height": 286
        },
        "outputId": "f47f2d93-d6b3-4329-b01d-1a080e452626"
      },
      "source": [
        "plt.plot(scaled_training_set[:,3],color='b',label='close')\n",
        "plt.plot(scaled_training_set[:,4],color='r',label='volume')\n"
      ],
      "execution_count": 286,
      "outputs": [
        {
          "output_type": "execute_result",
          "data": {
            "text/plain": [
              "[<matplotlib.lines.Line2D at 0x7f0efbdff7f0>]"
            ]
          },
          "metadata": {
            "tags": []
          },
          "execution_count": 286
        },
        {
          "output_type": "execute_result",
          "data": {
            "text/plain": [
              "[<matplotlib.lines.Line2D at 0x7f0efbdffc88>]"
            ]
          },
          "metadata": {
            "tags": []
          },
          "execution_count": 286
        },
        {
          "output_type": "display_data",
          "data": {
            "image/png": "[encoded data removed]",
            "text/plain": [
              "<Figure size 432x288 with 1 Axes>"
            ]
          },
          "metadata": {
            "tags": []
          }
        }
      ]
    },
    {
      "cell_type": "code",
      "metadata": {
        "id": "MsBp_SMVH19Z",
        "colab_type": "code",
        "colab": {}
      },
      "source": [
        "# Creating a data structure with 120 timesteps and 1 output\n",
        "timesteps=90\n",
        "X_train = []\n",
        "y_train = []\n",
        "for i in range(timesteps, train_array.shape[0]):\n",
        "    X_train.append(scaled_training_set[i-timesteps:i, 0])\n",
        "    y_train.append(scaled_training_set[i, 0])\n",
        "X_train, y_train = np.array(X_train), np.array(y_train)"
      ],
      "execution_count": 0,
      "outputs": []
    },
    {
      "cell_type": "code",
      "metadata": {
        "id": "ZmT51JsSKt3v",
        "colab_type": "code",
        "colab": {}
      },
      "source": [
        "# Reshaping\n",
        "X_train = np.reshape(X_train, (X_train.shape[0], X_train.shape[1], 1))"
      ],
      "execution_count": 0,
      "outputs": []
    },
    {
      "cell_type": "code",
      "metadata": {
        "id": "F2xgi3HZK1jc",
        "colab_type": "code",
        "colab": {
          "base_uri": "https://localhost:8080/",
          "height": 34
        },
        "outputId": "c0eeaf61-c684-4c7b-bcc9-10f186b7cceb"
      },
      "source": [
        "X_train.shape\n",
        "y_train.shape"
      ],
      "execution_count": 289,
      "outputs": [
        {
          "output_type": "execute_result",
          "data": {
            "text/plain": [
              "(1984, 90, 1)"
            ]
          },
          "metadata": {
            "tags": []
          },
          "execution_count": 289
        },
        {
          "output_type": "execute_result",
          "data": {
            "text/plain": [
              "(1984,)"
            ]
          },
          "metadata": {
            "tags": []
          },
          "execution_count": 289
        }
      ]
    },
    {
      "cell_type": "code",
      "metadata": {
        "id": "3PjszYeBLMud",
        "colab_type": "code",
        "colab": {}
      },
      "source": [
        "# Part 2 - Building the RNN\n",
        "\n",
        "# Importing the Keras libraries and packages\n",
        "from keras.models import Sequential\n",
        "from keras.layers import Dense\n",
        "from keras.layers import LSTM\n",
        "from keras.layers import Dropout"
      ],
      "execution_count": 0,
      "outputs": []
    },
    {
      "cell_type": "code",
      "metadata": {
        "id": "vJrKpgXcLTSZ",
        "colab_type": "code",
        "colab": {}
      },
      "source": [
        "# Initialising the RNN\n",
        "regressor = Sequential()\n",
        "\n",
        "# Adding the first LSTM layer and some Dropout regularisation\n",
        "regressor.add(LSTM(units = 100, return_sequences = True, input_shape = (X_train.shape[1], 1)))\n",
        "regressor.add(Dropout(rate=0.2))\n",
        "\n",
        "# Adding a second LSTM layer and some Dropout regularisation\n",
        "regressor.add(LSTM(units = 100, return_sequences = True))\n",
        "regressor.add(Dropout(rate=0.2))\n",
        "\n",
        "# Adding a third LSTM layer and some Dropout regularisation\n",
        "regressor.add(LSTM(units = 100, return_sequences = True))\n",
        "regressor.add(Dropout(rate=0.2))\n",
        "\n",
        "# Adding a fourth LSTM layer and some Dropout regularisation\n",
        "regressor.add(LSTM(units = 100))\n",
        "regressor.add(Dropout(rate=0.2))\n",
        "\n",
        "# Adding the output layer\n",
        "regressor.add(Dense(units = 1))"
      ],
      "execution_count": 0,
      "outputs": []
    },
    {
      "cell_type": "code",
      "metadata": {
        "id": "JU6Za38-PWIs",
        "colab_type": "code",
        "colab": {}
      },
      "source": [
        "# Compiling the RNN\n",
        "regressor.compile(optimizer = 'nadam', loss = 'mean_squared_error')"
      ],
      "execution_count": 0,
      "outputs": []
    },
    {
      "cell_type": "code",
      "metadata": {
        "id": "g2NlkapLL3nP",
        "colab_type": "code",
        "colab": {
          "base_uri": "https://localhost:8080/",
          "height": 452
        },
        "outputId": "a350eb47-5b98-4c4e-eb53-29c2d878a8d5"
      },
      "source": [
        "epoch_trials = [50, 100]\n",
        "batch_size_trials = [64]\n",
        "\n",
        "reg_models = []\n",
        "\n",
        "# Fitting the RNN to the Training set\n",
        "for n_epochs in epoch_trials:\n",
        "  for b_size in batch_size_trials:\n",
        "    regressor.fit(X_train, y_train, epochs = n_epochs, batch_size = b_size)\n",
        "    reg_models.append(regressor)\n"
      ],
      "execution_count": 293,
      "outputs": [
        {
          "output_type": "stream",
          "text": [
            "Epoch 1/1\n",
            "1984/1984 [==============================] - 47s 24ms/step - loss: 0.0246\n"
          ],
          "name": "stdout"
        },
        {
          "output_type": "execute_result",
          "data": {
            "text/plain": [
              "<keras.callbacks.History at 0x7f0efbf66358>"
            ]
          },
          "metadata": {
            "tags": []
          },
          "execution_count": 293
        },
        {
          "output_type": "stream",
          "text": [
            "Epoch 1/1\n",
            "1984/1984 [==============================] - 20s 10ms/step - loss: 0.0067\n"
          ],
          "name": "stdout"
        },
        {
          "output_type": "execute_result",
          "data": {
            "text/plain": [
              "<keras.callbacks.History at 0x7f0efb4d3d30>"
            ]
          },
          "metadata": {
            "tags": []
          },
          "execution_count": 293
        },
        {
          "output_type": "stream",
          "text": [
            "Epoch 1/5\n",
            "1984/1984 [==============================] - 40s 20ms/step - loss: 0.0079\n",
            "Epoch 2/5\n",
            "1984/1984 [==============================] - 39s 20ms/step - loss: 0.0049\n",
            "Epoch 3/5\n",
            "1984/1984 [==============================] - 40s 20ms/step - loss: 0.0043\n",
            "Epoch 4/5\n",
            "1984/1984 [==============================] - 41s 21ms/step - loss: 0.0045\n",
            "Epoch 5/5\n",
            "1984/1984 [==============================] - 40s 20ms/step - loss: 0.0035\n"
          ],
          "name": "stdout"
        },
        {
          "output_type": "execute_result",
          "data": {
            "text/plain": [
              "<keras.callbacks.History at 0x7f0ef957a8d0>"
            ]
          },
          "metadata": {
            "tags": []
          },
          "execution_count": 293
        },
        {
          "output_type": "stream",
          "text": [
            "Epoch 1/5\n",
            "1984/1984 [==============================] - 20s 10ms/step - loss: 0.0032\n",
            "Epoch 2/5\n",
            "1984/1984 [==============================] - 20s 10ms/step - loss: 0.0031\n",
            "Epoch 3/5\n",
            "1984/1984 [==============================] - 20s 10ms/step - loss: 0.0022\n",
            "Epoch 4/5\n",
            "1984/1984 [==============================] - 20s 10ms/step - loss: 0.0026\n",
            "Epoch 5/5\n",
            "1984/1984 [==============================] - 20s 10ms/step - loss: 0.0023\n"
          ],
          "name": "stdout"
        },
        {
          "output_type": "execute_result",
          "data": {
            "text/plain": [
              "<keras.callbacks.History at 0x7f0ef9596358>"
            ]
          },
          "metadata": {
            "tags": []
          },
          "execution_count": 293
        }
      ]
    },
    {
      "cell_type": "code",
      "metadata": {
        "id": "51TWc1kkyaej",
        "colab_type": "code",
        "colab": {
          "base_uri": "https://localhost:8080/",
          "height": 286
        },
        "outputId": "d13b53f5-8ab3-459b-db5c-efd311fbcf8c"
      },
      "source": [
        "plt.plot(valid_array[:,3],color='b',label='valid-close')"
      ],
      "execution_count": 108,
      "outputs": [
        {
          "output_type": "execute_result",
          "data": {
            "text/plain": [
              "[<matplotlib.lines.Line2D at 0x7f0f064db1d0>]"
            ]
          },
          "metadata": {
            "tags": []
          },
          "execution_count": 108
        },
        {
          "output_type": "display_data",
          "data": {
            "image/png": "[encoded data removed]",
            "text/plain": [
              "<Figure size 432x288 with 1 Axes>"
            ]
          },
          "metadata": {
            "tags": []
          }
        }
      ]
    },
    {
      "cell_type": "code",
      "metadata": {
        "id": "TAT_NlVHzIUk",
        "colab_type": "code",
        "colab": {
          "base_uri": "https://localhost:8080/",
          "height": 34
        },
        "outputId": "c09d3465-4578-4a4b-c989-d1f19850d3c0"
      },
      "source": [
        "inputs_array = close_array[train_array.shape[0]-timesteps:train_array.shape[0]+40]\n",
        "inputs_array.shape"
      ],
      "execution_count": 294,
      "outputs": [
        {
          "output_type": "execute_result",
          "data": {
            "text/plain": [
              "(130, 8)"
            ]
          },
          "metadata": {
            "tags": []
          },
          "execution_count": 294
        }
      ]
    },
    {
      "cell_type": "code",
      "metadata": {
        "id": "sD5sazctiGvh",
        "colab_type": "code",
        "colab": {
          "base_uri": "https://localhost:8080/",
          "height": 286
        },
        "outputId": "77e8a528-e2a5-47a6-883e-80ba06b32e0b"
      },
      "source": [
        "plt.plot(inputs_array[:,3])"
      ],
      "execution_count": 295,
      "outputs": [
        {
          "output_type": "execute_result",
          "data": {
            "text/plain": [
              "[<matplotlib.lines.Line2D at 0x7f0ef950f860>]"
            ]
          },
          "metadata": {
            "tags": []
          },
          "execution_count": 295
        },
        {
          "output_type": "display_data",
          "data": {
            "image/png": "[encoded data removed]",
            "text/plain": [
              "<Figure size 432x288 with 1 Axes>"
            ]
          },
          "metadata": {
            "tags": []
          }
        }
      ]
    },
    {
      "cell_type": "code",
      "metadata": {
        "id": "TTaxuOFhjRHK",
        "colab_type": "code",
        "colab": {
          "base_uri": "https://localhost:8080/",
          "height": 34
        },
        "outputId": "755a5087-442c-4f65-d145-ca3af17b88dc"
      },
      "source": [
        "X_test = []\n",
        "for i in range(timesteps, timesteps+40):\n",
        "    X_test.append(inputs_array[i-timesteps:i,0])\n",
        "X_test = np.array(X_test)\n",
        "X_test.shape"
      ],
      "execution_count": 296,
      "outputs": [
        {
          "output_type": "execute_result",
          "data": {
            "text/plain": [
              "(40, 90)"
            ]
          },
          "metadata": {
            "tags": []
          },
          "execution_count": 296
        }
      ]
    },
    {
      "cell_type": "code",
      "metadata": {
        "id": "b1pHFldfklmS",
        "colab_type": "code",
        "colab": {
          "base_uri": "https://localhost:8080/",
          "height": 34
        },
        "outputId": "855ce911-abb0-42b6-a575-f621c7f46e64"
      },
      "source": [
        "X_test = np.reshape(X_test, (X_test.shape[0], X_test.shape[1], 1))\n",
        "X_test.shape"
      ],
      "execution_count": 297,
      "outputs": [
        {
          "output_type": "execute_result",
          "data": {
            "text/plain": [
              "(40, 90, 1)"
            ]
          },
          "metadata": {
            "tags": []
          },
          "execution_count": 297
        }
      ]
    },
    {
      "cell_type": "code",
      "metadata": {
        "id": "XymgGEEpj8Io",
        "colab_type": "code",
        "colab": {
          "base_uri": "https://localhost:8080/",
          "height": 34
        },
        "outputId": "a5af3e4d-c9b5-472d-a930-fe1d6792ab62"
      },
      "source": [
        "X_train.shape"
      ],
      "execution_count": 274,
      "outputs": [
        {
          "output_type": "execute_result",
          "data": {
            "text/plain": [
              "(1984, 90, 1)"
            ]
          },
          "metadata": {
            "tags": []
          },
          "execution_count": 274
        }
      ]
    },
    {
      "cell_type": "code",
      "metadata": {
        "id": "z6rGh1FyituI",
        "colab_type": "code",
        "colab": {}
      },
      "source": [
        "scaled_preds = []\n",
        "prices = []\n",
        "for reg_model in reg_models:\n",
        "  scaled_preds.append(reg_model.predict(X_test))\n",
        "  prices.append(sc1.inverse_transform(reg_model.predict(X_test)))\n",
        "\n"
      ],
      "execution_count": 0,
      "outputs": []
    },
    {
      "cell_type": "code",
      "metadata": {
        "id": "6pJ8kptk_ucU",
        "colab_type": "code",
        "colab": {
          "base_uri": "https://localhost:8080/",
          "height": 286
        },
        "outputId": "aa2f20a2-94a2-40d9-cd56-9c2cc8337157"
      },
      "source": [
        "plt.plot(scaled_preds[3])"
      ],
      "execution_count": 301,
      "outputs": [
        {
          "output_type": "execute_result",
          "data": {
            "text/plain": [
              "[<matplotlib.lines.Line2D at 0x7f0ef9471240>]"
            ]
          },
          "metadata": {
            "tags": []
          },
          "execution_count": 301
        },
        {
          "output_type": "display_data",
          "data": {
            "image/png": "[encoded data removed]",
            "text/plain": [
              "<Figure size 432x288 with 1 Axes>"
            ]
          },
          "metadata": {
            "tags": []
          }
        }
      ]
    },
    {
      "cell_type": "code",
      "metadata": {
        "id": "tC98VWYok3gT",
        "colab_type": "code",
        "colab": {
          "base_uri": "https://localhost:8080/",
          "height": 286
        },
        "outputId": "8565fdf9-2312-46e3-93fc-4b3eab1b8480"
      },
      "source": [
        "plt.plot(prices[3])"
      ],
      "execution_count": 302,
      "outputs": [
        {
          "output_type": "execute_result",
          "data": {
            "text/plain": [
              "[<matplotlib.lines.Line2D at 0x7f0ef93f5cc0>]"
            ]
          },
          "metadata": {
            "tags": []
          },
          "execution_count": 302
        },
        {
          "output_type": "display_data",
          "data": {
            "image/png": "[encoded data removed]",
            "text/plain": [
              "<Figure size 432x288 with 1 Axes>"
            ]
          },
          "metadata": {
            "tags": []
          }
        }
      ]
    },
    {
      "cell_type": "code",
      "metadata": {
        "id": "9JOi-qctJ1Tg",
        "colab_type": "code",
        "colab": {
          "base_uri": "https://localhost:8080/",
          "height": 138
        },
        "outputId": "efdb2296-6d91-4b6e-894f-4cc557cf9e56"
      },
      "source": [
        "valid_array[:,0]"
      ],
      "execution_count": 205,
      "outputs": [
        {
          "output_type": "execute_result",
          "data": {
            "text/plain": [
              "array([38.040001, 36.150002, 37.      , 36.599998, 37.32    , 39.259998,\n",
              "       38.360001, 39.52    , 39.560001, 37.889999, 38.060001, 37.82    ,\n",
              "       37.25    , 36.549999, 38.970001, 37.93    , 38.669998, 45.5     ,\n",
              "       42.029999, 44.      , 43.169998, 43.810001, 44.73    , 47.060001,\n",
              "       47.439999, 47.419998, 47.290001, 44.450001, 46.779999, 46.459999,\n",
              "       48.68    , 47.560001, 48.459999, 48.419998, 47.950001, 48.380001,\n",
              "       48.060001, 50.900002, 51.189999, 50.830002])"
            ]
          },
          "metadata": {
            "tags": []
          },
          "execution_count": 205
        }
      ]
    },
    {
      "cell_type": "code",
      "metadata": {
        "id": "mRvKKYOckzm_",
        "colab_type": "code",
        "colab": {
          "base_uri": "https://localhost:8080/",
          "height": 347
        },
        "outputId": "62b9ed3e-0ef5-423a-871c-c8465b2e95aa"
      },
      "source": [
        "# Visualising the results\n",
        "plt.plot(valid_array[:,0], color = 'red', label = 'Real WDC Stock Close Price')\n",
        "plt.plot(prices[0], color = 'blue', label = 'Predicted WDC Close Price')\n",
        "plt.title('WDC Stock Price Prediction')\n",
        "plt.xlabel('Time')\n",
        "plt.ylabel('WDC Stock Price')\n",
        "plt.legend()\n",
        "plt.show()"
      ],
      "execution_count": 303,
      "outputs": [
        {
          "output_type": "execute_result",
          "data": {
            "text/plain": [
              "[<matplotlib.lines.Line2D at 0x7f0ef93e1be0>]"
            ]
          },
          "metadata": {
            "tags": []
          },
          "execution_count": 303
        },
        {
          "output_type": "execute_result",
          "data": {
            "text/plain": [
              "[<matplotlib.lines.Line2D at 0x7f0ef93e1d30>]"
            ]
          },
          "metadata": {
            "tags": []
          },
          "execution_count": 303
        },
        {
          "output_type": "execute_result",
          "data": {
            "text/plain": [
              "Text(0.5, 1.0, 'WDC Stock Price Prediction')"
            ]
          },
          "metadata": {
            "tags": []
          },
          "execution_count": 303
        },
        {
          "output_type": "execute_result",
          "data": {
            "text/plain": [
              "Text(0.5, 0, 'Time')"
            ]
          },
          "metadata": {
            "tags": []
          },
          "execution_count": 303
        },
        {
          "output_type": "execute_result",
          "data": {
            "text/plain": [
              "Text(0, 0.5, 'WDC Stock Price')"
            ]
          },
          "metadata": {
            "tags": []
          },
          "execution_count": 303
        },
        {
          "output_type": "execute_result",
          "data": {
            "text/plain": [
              "<matplotlib.legend.Legend at 0x7f0ef93d1668>"
            ]
          },
          "metadata": {
            "tags": []
          },
          "execution_count": 303
        },
        {
          "output_type": "display_data",
          "data": {
            "image/png": "[encoded data removed]",
            "text/plain": [
              "<Figure size 432x288 with 1 Axes>"
            ]
          },
          "metadata": {
            "tags": []
          }
        }
      ]
    },
    {
      "cell_type": "code",
      "metadata": {
        "id": "NiAVMUPUlfSx",
        "colab_type": "code",
        "colab": {}
      },
      "source": [
        ""
      ],
      "execution_count": 0,
      "outputs": []
    }
  ]
}