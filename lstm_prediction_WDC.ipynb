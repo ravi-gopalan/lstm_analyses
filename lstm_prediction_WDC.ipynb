{
  "nbformat": 4,
  "nbformat_minor": 0,
  "metadata": {
    "colab": {
      "name": "lstm_prediction_WDC.ipynb",
      "provenance": [],
      "include_colab_link": true
    },
    "kernelspec": {
      "name": "python3",
      "display_name": "Python 3"
    },
    "accelerator": "GPU"
  },
  "cells": [
    {
      "cell_type": "markdown",
      "metadata": {
        "id": "view-in-github",
        "colab_type": "text"
      },
      "source": [
        "<a href=\"https://colab.research.google.com/github/ravi-gopalan/lstm_analyses/blob/master/lstm_prediction_WDC.ipynb\" target=\"_parent\"><img src=\"https://colab.research.google.com/assets/colab-badge.svg\" alt=\"Open In Colab\"/></a>"
      ]
    },
    {
      "cell_type": "code",
      "metadata": {
        "id": "K0zMq0IbD9jS",
        "colab_type": "code",
        "colab": {}
      },
      "source": [
        "# Importing the libraries\n",
        "from IPython.core.interactiveshell import InteractiveShell\n",
        "InteractiveShell.ast_node_interactivity = \"all\"\n",
        "import numpy as np\n",
        "import matplotlib.pyplot as plt\n",
        "import pandas as pd\n",
        "import seaborn as sns"
      ],
      "execution_count": 0,
      "outputs": []
    },
    {
      "cell_type": "code",
      "metadata": {
        "id": "QmmdoX-T298s",
        "colab_type": "code",
        "colab": {
          "base_uri": "https://localhost:8080/",
          "height": 156
        },
        "outputId": "a1f29216-49af-4e53-a571-c17d5f4ac563"
      },
      "source": [
        "!git clone -l -s git://github.com/ravi-gopalan/lstm_analyses.git cloned-repository"
      ],
      "execution_count": 58,
      "outputs": [
        {
          "output_type": "stream",
          "text": [
            "Cloning into 'cloned-repository'...\n",
            "warning: --local is ignored\n",
            "remote: Enumerating objects: 15, done.\u001b[K\n",
            "remote: Counting objects: 100% (15/15), done.\u001b[K\n",
            "remote: Compressing objects: 100% (13/13), done.\u001b[K\n",
            "remote: Total 15 (delta 2), reused 0 (delta 0), pack-reused 0\u001b[K\n",
            "Receiving objects: 100% (15/15), 385.15 KiB | 690.00 KiB/s, done.\n",
            "Resolving deltas: 100% (2/2), done.\n"
          ],
          "name": "stdout"
        }
      ]
    },
    {
      "cell_type": "code",
      "metadata": {
        "id": "swJFzQNyEPAX",
        "colab_type": "code",
        "outputId": "6aef5c63-122b-45fe-e1d7-1dd4b6268cc8",
        "colab": {
          "base_uri": "https://localhost:8080/",
          "height": 34
        }
      },
      "source": [
        "!ls"
      ],
      "execution_count": 59,
      "outputs": [
        {
          "output_type": "stream",
          "text": [
            "cloned-repository  sample_data\tWDC.csv\n"
          ],
          "name": "stdout"
        }
      ]
    },
    {
      "cell_type": "code",
      "metadata": {
        "id": "e4sa_5u6ECb2",
        "colab_type": "code",
        "outputId": "08326b5d-3b76-4913-ad79-3b6bf00f1461",
        "colab": {
          "base_uri": "https://localhost:8080/",
          "height": 225
        }
      },
      "source": [
        "dateparse = lambda x: pd.datetime.strptime(x, '%Y-%m-%d')\n",
        "df = pd.read_csv('cloned-repository/WDC_2001_2019.csv', parse_dates=['Date'], date_parser=dateparse)\n",
        "df.info()"
      ],
      "execution_count": 60,
      "outputs": [
        {
          "output_type": "stream",
          "text": [
            "<class 'pandas.core.frame.DataFrame'>\n",
            "RangeIndex: 4719 entries, 0 to 4718\n",
            "Data columns (total 7 columns):\n",
            "Date         4719 non-null datetime64[ns]\n",
            "Open         4719 non-null float64\n",
            "High         4719 non-null float64\n",
            "Low          4719 non-null float64\n",
            "Close        4719 non-null float64\n",
            "Adj Close    4719 non-null float64\n",
            "Volume       4719 non-null int64\n",
            "dtypes: datetime64[ns](1), float64(5), int64(1)\n",
            "memory usage: 258.1 KB\n"
          ],
          "name": "stdout"
        }
      ]
    },
    {
      "cell_type": "code",
      "metadata": {
        "id": "uRzzhXMImcD6",
        "colab_type": "code",
        "outputId": "995eb6cf-bc23-495d-a195-f700daac9610",
        "colab": {
          "base_uri": "https://localhost:8080/",
          "height": 286
        }
      },
      "source": [
        "plt.plot((df['Adj Close']-df['Close'])/df['Close'])"
      ],
      "execution_count": 61,
      "outputs": [
        {
          "output_type": "execute_result",
          "data": {
            "text/plain": [
              "[<matplotlib.lines.Line2D at 0x7fc91cbd55f8>]"
            ]
          },
          "metadata": {
            "tags": []
          },
          "execution_count": 61
        },
        {
          "output_type": "display_data",
          "data": {
            "image/png": "[encoded data removed]",
            "text/plain": [
              "<Figure size 432x288 with 1 Axes>"
            ]
          },
          "metadata": {
            "tags": []
          }
        }
      ]
    },
    {
      "cell_type": "code",
      "metadata": {
        "id": "FwnRLQzzFJYA",
        "colab_type": "code",
        "outputId": "79194c2c-39ad-461e-b747-2e2210a36e1a",
        "colab": {
          "base_uri": "https://localhost:8080/",
          "height": 378
        }
      },
      "source": [
        "df.head()\n",
        "df.tail()"
      ],
      "execution_count": 62,
      "outputs": [
        {
          "output_type": "execute_result",
          "data": {
            "text/html": [
              "<div>\n",
              "<style scoped>\n",
              "    .dataframe tbody tr th:only-of-type {\n",
              "        vertical-align: middle;\n",
              "    }\n",
              "\n",
              "    .dataframe tbody tr th {\n",
              "        vertical-align: top;\n",
              "    }\n",
              "\n",
              "    .dataframe thead th {\n",
              "        text-align: right;\n",
              "    }\n",
              "</style>\n",
              "<table border=\"1\" class=\"dataframe\">\n",
              "  <thead>\n",
              "    <tr style=\"text-align: right;\">\n",
              "      <th></th>\n",
              "      <th>Date</th>\n",
              "      <th>Open</th>\n",
              "      <th>High</th>\n",
              "      <th>Low</th>\n",
              "      <th>Close</th>\n",
              "      <th>Adj Close</th>\n",
              "      <th>Volume</th>\n",
              "    </tr>\n",
              "  </thead>\n",
              "  <tbody>\n",
              "    <tr>\n",
              "      <th>0</th>\n",
              "      <td>2001-01-02</td>\n",
              "      <td>2.5625</td>\n",
              "      <td>2.5625</td>\n",
              "      <td>2.3125</td>\n",
              "      <td>2.3125</td>\n",
              "      <td>1.854065</td>\n",
              "      <td>703000</td>\n",
              "    </tr>\n",
              "    <tr>\n",
              "      <th>1</th>\n",
              "      <td>2001-01-03</td>\n",
              "      <td>2.3750</td>\n",
              "      <td>2.8125</td>\n",
              "      <td>2.3125</td>\n",
              "      <td>2.8125</td>\n",
              "      <td>2.254943</td>\n",
              "      <td>1685100</td>\n",
              "    </tr>\n",
              "    <tr>\n",
              "      <th>2</th>\n",
              "      <td>2001-01-04</td>\n",
              "      <td>3.0625</td>\n",
              "      <td>3.3750</td>\n",
              "      <td>2.9375</td>\n",
              "      <td>3.2500</td>\n",
              "      <td>2.605713</td>\n",
              "      <td>3339400</td>\n",
              "    </tr>\n",
              "    <tr>\n",
              "      <th>3</th>\n",
              "      <td>2001-01-05</td>\n",
              "      <td>3.2500</td>\n",
              "      <td>3.3125</td>\n",
              "      <td>3.0000</td>\n",
              "      <td>3.2500</td>\n",
              "      <td>2.605713</td>\n",
              "      <td>1200900</td>\n",
              "    </tr>\n",
              "    <tr>\n",
              "      <th>4</th>\n",
              "      <td>2001-01-08</td>\n",
              "      <td>3.2500</td>\n",
              "      <td>3.3125</td>\n",
              "      <td>3.1250</td>\n",
              "      <td>3.2500</td>\n",
              "      <td>2.605713</td>\n",
              "      <td>849200</td>\n",
              "    </tr>\n",
              "  </tbody>\n",
              "</table>\n",
              "</div>"
            ],
            "text/plain": [
              "        Date    Open    High     Low   Close  Adj Close   Volume\n",
              "0 2001-01-02  2.5625  2.5625  2.3125  2.3125   1.854065   703000\n",
              "1 2001-01-03  2.3750  2.8125  2.3125  2.8125   2.254943  1685100\n",
              "2 2001-01-04  3.0625  3.3750  2.9375  3.2500   2.605713  3339400\n",
              "3 2001-01-05  3.2500  3.3125  3.0000  3.2500   2.605713  1200900\n",
              "4 2001-01-08  3.2500  3.3125  3.1250  3.2500   2.605713   849200"
            ]
          },
          "metadata": {
            "tags": []
          },
          "execution_count": 62
        },
        {
          "output_type": "execute_result",
          "data": {
            "text/html": [
              "<div>\n",
              "<style scoped>\n",
              "    .dataframe tbody tr th:only-of-type {\n",
              "        vertical-align: middle;\n",
              "    }\n",
              "\n",
              "    .dataframe tbody tr th {\n",
              "        vertical-align: top;\n",
              "    }\n",
              "\n",
              "    .dataframe thead th {\n",
              "        text-align: right;\n",
              "    }\n",
              "</style>\n",
              "<table border=\"1\" class=\"dataframe\">\n",
              "  <thead>\n",
              "    <tr style=\"text-align: right;\">\n",
              "      <th></th>\n",
              "      <th>Date</th>\n",
              "      <th>Open</th>\n",
              "      <th>High</th>\n",
              "      <th>Low</th>\n",
              "      <th>Close</th>\n",
              "      <th>Adj Close</th>\n",
              "      <th>Volume</th>\n",
              "    </tr>\n",
              "  </thead>\n",
              "  <tbody>\n",
              "    <tr>\n",
              "      <th>4714</th>\n",
              "      <td>2019-09-30</td>\n",
              "      <td>60.340000</td>\n",
              "      <td>60.439999</td>\n",
              "      <td>58.830002</td>\n",
              "      <td>59.639999</td>\n",
              "      <td>59.115185</td>\n",
              "      <td>3799400</td>\n",
              "    </tr>\n",
              "    <tr>\n",
              "      <th>4715</th>\n",
              "      <td>2019-10-01</td>\n",
              "      <td>60.060001</td>\n",
              "      <td>61.110001</td>\n",
              "      <td>58.369999</td>\n",
              "      <td>58.590000</td>\n",
              "      <td>58.074425</td>\n",
              "      <td>3177100</td>\n",
              "    </tr>\n",
              "    <tr>\n",
              "      <th>4716</th>\n",
              "      <td>2019-10-02</td>\n",
              "      <td>57.810001</td>\n",
              "      <td>57.939999</td>\n",
              "      <td>56.150002</td>\n",
              "      <td>56.820000</td>\n",
              "      <td>56.320000</td>\n",
              "      <td>5590700</td>\n",
              "    </tr>\n",
              "    <tr>\n",
              "      <th>4717</th>\n",
              "      <td>2019-10-03</td>\n",
              "      <td>56.570000</td>\n",
              "      <td>57.820000</td>\n",
              "      <td>55.480000</td>\n",
              "      <td>57.779999</td>\n",
              "      <td>57.779999</td>\n",
              "      <td>4083100</td>\n",
              "    </tr>\n",
              "    <tr>\n",
              "      <th>4718</th>\n",
              "      <td>2019-10-04</td>\n",
              "      <td>58.150002</td>\n",
              "      <td>58.720001</td>\n",
              "      <td>58.000000</td>\n",
              "      <td>58.570000</td>\n",
              "      <td>58.570000</td>\n",
              "      <td>2035275</td>\n",
              "    </tr>\n",
              "  </tbody>\n",
              "</table>\n",
              "</div>"
            ],
            "text/plain": [
              "           Date       Open       High        Low      Close  Adj Close   Volume\n",
              "4714 2019-09-30  60.340000  60.439999  58.830002  59.639999  59.115185  3799400\n",
              "4715 2019-10-01  60.060001  61.110001  58.369999  58.590000  58.074425  3177100\n",
              "4716 2019-10-02  57.810001  57.939999  56.150002  56.820000  56.320000  5590700\n",
              "4717 2019-10-03  56.570000  57.820000  55.480000  57.779999  57.779999  4083100\n",
              "4718 2019-10-04  58.150002  58.720001  58.000000  58.570000  58.570000  2035275"
            ]
          },
          "metadata": {
            "tags": []
          },
          "execution_count": 62
        }
      ]
    },
    {
      "cell_type": "code",
      "metadata": {
        "id": "awemGH5qHdff",
        "colab_type": "code",
        "outputId": "3f67aafa-69d6-44c2-9a57-a81038840e20",
        "colab": {
          "base_uri": "https://localhost:8080/",
          "height": 227
        }
      },
      "source": [
        "df = df.set_index('Date')\n",
        "df.head()"
      ],
      "execution_count": 63,
      "outputs": [
        {
          "output_type": "execute_result",
          "data": {
            "text/html": [
              "<div>\n",
              "<style scoped>\n",
              "    .dataframe tbody tr th:only-of-type {\n",
              "        vertical-align: middle;\n",
              "    }\n",
              "\n",
              "    .dataframe tbody tr th {\n",
              "        vertical-align: top;\n",
              "    }\n",
              "\n",
              "    .dataframe thead th {\n",
              "        text-align: right;\n",
              "    }\n",
              "</style>\n",
              "<table border=\"1\" class=\"dataframe\">\n",
              "  <thead>\n",
              "    <tr style=\"text-align: right;\">\n",
              "      <th></th>\n",
              "      <th>Open</th>\n",
              "      <th>High</th>\n",
              "      <th>Low</th>\n",
              "      <th>Close</th>\n",
              "      <th>Adj Close</th>\n",
              "      <th>Volume</th>\n",
              "    </tr>\n",
              "    <tr>\n",
              "      <th>Date</th>\n",
              "      <th></th>\n",
              "      <th></th>\n",
              "      <th></th>\n",
              "      <th></th>\n",
              "      <th></th>\n",
              "      <th></th>\n",
              "    </tr>\n",
              "  </thead>\n",
              "  <tbody>\n",
              "    <tr>\n",
              "      <th>2001-01-02</th>\n",
              "      <td>2.5625</td>\n",
              "      <td>2.5625</td>\n",
              "      <td>2.3125</td>\n",
              "      <td>2.3125</td>\n",
              "      <td>1.854065</td>\n",
              "      <td>703000</td>\n",
              "    </tr>\n",
              "    <tr>\n",
              "      <th>2001-01-03</th>\n",
              "      <td>2.3750</td>\n",
              "      <td>2.8125</td>\n",
              "      <td>2.3125</td>\n",
              "      <td>2.8125</td>\n",
              "      <td>2.254943</td>\n",
              "      <td>1685100</td>\n",
              "    </tr>\n",
              "    <tr>\n",
              "      <th>2001-01-04</th>\n",
              "      <td>3.0625</td>\n",
              "      <td>3.3750</td>\n",
              "      <td>2.9375</td>\n",
              "      <td>3.2500</td>\n",
              "      <td>2.605713</td>\n",
              "      <td>3339400</td>\n",
              "    </tr>\n",
              "    <tr>\n",
              "      <th>2001-01-05</th>\n",
              "      <td>3.2500</td>\n",
              "      <td>3.3125</td>\n",
              "      <td>3.0000</td>\n",
              "      <td>3.2500</td>\n",
              "      <td>2.605713</td>\n",
              "      <td>1200900</td>\n",
              "    </tr>\n",
              "    <tr>\n",
              "      <th>2001-01-08</th>\n",
              "      <td>3.2500</td>\n",
              "      <td>3.3125</td>\n",
              "      <td>3.1250</td>\n",
              "      <td>3.2500</td>\n",
              "      <td>2.605713</td>\n",
              "      <td>849200</td>\n",
              "    </tr>\n",
              "  </tbody>\n",
              "</table>\n",
              "</div>"
            ],
            "text/plain": [
              "              Open    High     Low   Close  Adj Close   Volume\n",
              "Date                                                          \n",
              "2001-01-02  2.5625  2.5625  2.3125  2.3125   1.854065   703000\n",
              "2001-01-03  2.3750  2.8125  2.3125  2.8125   2.254943  1685100\n",
              "2001-01-04  3.0625  3.3750  2.9375  3.2500   2.605713  3339400\n",
              "2001-01-05  3.2500  3.3125  3.0000  3.2500   2.605713  1200900\n",
              "2001-01-08  3.2500  3.3125  3.1250  3.2500   2.605713   849200"
            ]
          },
          "metadata": {
            "tags": []
          },
          "execution_count": 63
        }
      ]
    },
    {
      "cell_type": "code",
      "metadata": {
        "id": "VM1oN0Nsnp7w",
        "colab_type": "code",
        "outputId": "0cac3977-3054-45ec-c1fc-50de69b3a001",
        "colab": {
          "base_uri": "https://localhost:8080/",
          "height": 227
        }
      },
      "source": [
        "df.drop(columns=['Adj Close'],inplace=True)\n",
        "df.head()"
      ],
      "execution_count": 64,
      "outputs": [
        {
          "output_type": "execute_result",
          "data": {
            "text/html": [
              "<div>\n",
              "<style scoped>\n",
              "    .dataframe tbody tr th:only-of-type {\n",
              "        vertical-align: middle;\n",
              "    }\n",
              "\n",
              "    .dataframe tbody tr th {\n",
              "        vertical-align: top;\n",
              "    }\n",
              "\n",
              "    .dataframe thead th {\n",
              "        text-align: right;\n",
              "    }\n",
              "</style>\n",
              "<table border=\"1\" class=\"dataframe\">\n",
              "  <thead>\n",
              "    <tr style=\"text-align: right;\">\n",
              "      <th></th>\n",
              "      <th>Open</th>\n",
              "      <th>High</th>\n",
              "      <th>Low</th>\n",
              "      <th>Close</th>\n",
              "      <th>Volume</th>\n",
              "    </tr>\n",
              "    <tr>\n",
              "      <th>Date</th>\n",
              "      <th></th>\n",
              "      <th></th>\n",
              "      <th></th>\n",
              "      <th></th>\n",
              "      <th></th>\n",
              "    </tr>\n",
              "  </thead>\n",
              "  <tbody>\n",
              "    <tr>\n",
              "      <th>2001-01-02</th>\n",
              "      <td>2.5625</td>\n",
              "      <td>2.5625</td>\n",
              "      <td>2.3125</td>\n",
              "      <td>2.3125</td>\n",
              "      <td>703000</td>\n",
              "    </tr>\n",
              "    <tr>\n",
              "      <th>2001-01-03</th>\n",
              "      <td>2.3750</td>\n",
              "      <td>2.8125</td>\n",
              "      <td>2.3125</td>\n",
              "      <td>2.8125</td>\n",
              "      <td>1685100</td>\n",
              "    </tr>\n",
              "    <tr>\n",
              "      <th>2001-01-04</th>\n",
              "      <td>3.0625</td>\n",
              "      <td>3.3750</td>\n",
              "      <td>2.9375</td>\n",
              "      <td>3.2500</td>\n",
              "      <td>3339400</td>\n",
              "    </tr>\n",
              "    <tr>\n",
              "      <th>2001-01-05</th>\n",
              "      <td>3.2500</td>\n",
              "      <td>3.3125</td>\n",
              "      <td>3.0000</td>\n",
              "      <td>3.2500</td>\n",
              "      <td>1200900</td>\n",
              "    </tr>\n",
              "    <tr>\n",
              "      <th>2001-01-08</th>\n",
              "      <td>3.2500</td>\n",
              "      <td>3.3125</td>\n",
              "      <td>3.1250</td>\n",
              "      <td>3.2500</td>\n",
              "      <td>849200</td>\n",
              "    </tr>\n",
              "  </tbody>\n",
              "</table>\n",
              "</div>"
            ],
            "text/plain": [
              "              Open    High     Low   Close   Volume\n",
              "Date                                               \n",
              "2001-01-02  2.5625  2.5625  2.3125  2.3125   703000\n",
              "2001-01-03  2.3750  2.8125  2.3125  2.8125  1685100\n",
              "2001-01-04  3.0625  3.3750  2.9375  3.2500  3339400\n",
              "2001-01-05  3.2500  3.3125  3.0000  3.2500  1200900\n",
              "2001-01-08  3.2500  3.3125  3.1250  3.2500   849200"
            ]
          },
          "metadata": {
            "tags": []
          },
          "execution_count": 64
        }
      ]
    },
    {
      "cell_type": "code",
      "metadata": {
        "id": "xyUKKaimMEKD",
        "colab_type": "code",
        "outputId": "39a595ce-2f20-4909-c8ad-faa20f781209",
        "colab": {
          "base_uri": "https://localhost:8080/",
          "height": 438
        }
      },
      "source": [
        "#Set number of days and standard deviations to use for rolling lookback period for Bollinger band calculation\n",
        "window = 21\n",
        "no_of_std = 2\n",
        "#Calculate rolling mean and standard deviation using number of days set above\n",
        "rolling_mean = df['Open'].rolling(window).mean()\n",
        "rolling_std = df['Open'].rolling(window).std()\n",
        "#create two new DataFrame columns to hold values of upper and lower Bollinger bands\n",
        "df['Rolling Mean'] = rolling_mean\n",
        "df['Bollinger High'] = rolling_mean + (rolling_std * no_of_std)\n",
        "df['Bollinger Low'] = rolling_mean - (rolling_std * no_of_std)\n",
        "df.head()\n",
        "df.tail()"
      ],
      "execution_count": 65,
      "outputs": [
        {
          "output_type": "execute_result",
          "data": {
            "text/html": [
              "<div>\n",
              "<style scoped>\n",
              "    .dataframe tbody tr th:only-of-type {\n",
              "        vertical-align: middle;\n",
              "    }\n",
              "\n",
              "    .dataframe tbody tr th {\n",
              "        vertical-align: top;\n",
              "    }\n",
              "\n",
              "    .dataframe thead th {\n",
              "        text-align: right;\n",
              "    }\n",
              "</style>\n",
              "<table border=\"1\" class=\"dataframe\">\n",
              "  <thead>\n",
              "    <tr style=\"text-align: right;\">\n",
              "      <th></th>\n",
              "      <th>Open</th>\n",
              "      <th>High</th>\n",
              "      <th>Low</th>\n",
              "      <th>Close</th>\n",
              "      <th>Volume</th>\n",
              "      <th>Rolling Mean</th>\n",
              "      <th>Bollinger High</th>\n",
              "      <th>Bollinger Low</th>\n",
              "    </tr>\n",
              "    <tr>\n",
              "      <th>Date</th>\n",
              "      <th></th>\n",
              "      <th></th>\n",
              "      <th></th>\n",
              "      <th></th>\n",
              "      <th></th>\n",
              "      <th></th>\n",
              "      <th></th>\n",
              "      <th></th>\n",
              "    </tr>\n",
              "  </thead>\n",
              "  <tbody>\n",
              "    <tr>\n",
              "      <th>2001-01-02</th>\n",
              "      <td>2.5625</td>\n",
              "      <td>2.5625</td>\n",
              "      <td>2.3125</td>\n",
              "      <td>2.3125</td>\n",
              "      <td>703000</td>\n",
              "      <td>NaN</td>\n",
              "      <td>NaN</td>\n",
              "      <td>NaN</td>\n",
              "    </tr>\n",
              "    <tr>\n",
              "      <th>2001-01-03</th>\n",
              "      <td>2.3750</td>\n",
              "      <td>2.8125</td>\n",
              "      <td>2.3125</td>\n",
              "      <td>2.8125</td>\n",
              "      <td>1685100</td>\n",
              "      <td>NaN</td>\n",
              "      <td>NaN</td>\n",
              "      <td>NaN</td>\n",
              "    </tr>\n",
              "    <tr>\n",
              "      <th>2001-01-04</th>\n",
              "      <td>3.0625</td>\n",
              "      <td>3.3750</td>\n",
              "      <td>2.9375</td>\n",
              "      <td>3.2500</td>\n",
              "      <td>3339400</td>\n",
              "      <td>NaN</td>\n",
              "      <td>NaN</td>\n",
              "      <td>NaN</td>\n",
              "    </tr>\n",
              "    <tr>\n",
              "      <th>2001-01-05</th>\n",
              "      <td>3.2500</td>\n",
              "      <td>3.3125</td>\n",
              "      <td>3.0000</td>\n",
              "      <td>3.2500</td>\n",
              "      <td>1200900</td>\n",
              "      <td>NaN</td>\n",
              "      <td>NaN</td>\n",
              "      <td>NaN</td>\n",
              "    </tr>\n",
              "    <tr>\n",
              "      <th>2001-01-08</th>\n",
              "      <td>3.2500</td>\n",
              "      <td>3.3125</td>\n",
              "      <td>3.1250</td>\n",
              "      <td>3.2500</td>\n",
              "      <td>849200</td>\n",
              "      <td>NaN</td>\n",
              "      <td>NaN</td>\n",
              "      <td>NaN</td>\n",
              "    </tr>\n",
              "  </tbody>\n",
              "</table>\n",
              "</div>"
            ],
            "text/plain": [
              "              Open    High     Low  ...  Rolling Mean  Bollinger High  Bollinger Low\n",
              "Date                                ...                                             \n",
              "2001-01-02  2.5625  2.5625  2.3125  ...           NaN             NaN            NaN\n",
              "2001-01-03  2.3750  2.8125  2.3125  ...           NaN             NaN            NaN\n",
              "2001-01-04  3.0625  3.3750  2.9375  ...           NaN             NaN            NaN\n",
              "2001-01-05  3.2500  3.3125  3.0000  ...           NaN             NaN            NaN\n",
              "2001-01-08  3.2500  3.3125  3.1250  ...           NaN             NaN            NaN\n",
              "\n",
              "[5 rows x 8 columns]"
            ]
          },
          "metadata": {
            "tags": []
          },
          "execution_count": 65
        },
        {
          "output_type": "execute_result",
          "data": {
            "text/html": [
              "<div>\n",
              "<style scoped>\n",
              "    .dataframe tbody tr th:only-of-type {\n",
              "        vertical-align: middle;\n",
              "    }\n",
              "\n",
              "    .dataframe tbody tr th {\n",
              "        vertical-align: top;\n",
              "    }\n",
              "\n",
              "    .dataframe thead th {\n",
              "        text-align: right;\n",
              "    }\n",
              "</style>\n",
              "<table border=\"1\" class=\"dataframe\">\n",
              "  <thead>\n",
              "    <tr style=\"text-align: right;\">\n",
              "      <th></th>\n",
              "      <th>Open</th>\n",
              "      <th>High</th>\n",
              "      <th>Low</th>\n",
              "      <th>Close</th>\n",
              "      <th>Volume</th>\n",
              "      <th>Rolling Mean</th>\n",
              "      <th>Bollinger High</th>\n",
              "      <th>Bollinger Low</th>\n",
              "    </tr>\n",
              "    <tr>\n",
              "      <th>Date</th>\n",
              "      <th></th>\n",
              "      <th></th>\n",
              "      <th></th>\n",
              "      <th></th>\n",
              "      <th></th>\n",
              "      <th></th>\n",
              "      <th></th>\n",
              "      <th></th>\n",
              "    </tr>\n",
              "  </thead>\n",
              "  <tbody>\n",
              "    <tr>\n",
              "      <th>2019-09-30</th>\n",
              "      <td>60.340000</td>\n",
              "      <td>60.439999</td>\n",
              "      <td>58.830002</td>\n",
              "      <td>59.639999</td>\n",
              "      <td>3799400</td>\n",
              "      <td>61.558095</td>\n",
              "      <td>66.317802</td>\n",
              "      <td>56.798387</td>\n",
              "    </tr>\n",
              "    <tr>\n",
              "      <th>2019-10-01</th>\n",
              "      <td>60.060001</td>\n",
              "      <td>61.110001</td>\n",
              "      <td>58.369999</td>\n",
              "      <td>58.590000</td>\n",
              "      <td>3177100</td>\n",
              "      <td>61.770952</td>\n",
              "      <td>65.744583</td>\n",
              "      <td>57.797320</td>\n",
              "    </tr>\n",
              "    <tr>\n",
              "      <th>2019-10-02</th>\n",
              "      <td>57.810001</td>\n",
              "      <td>57.939999</td>\n",
              "      <td>56.150002</td>\n",
              "      <td>56.820000</td>\n",
              "      <td>5590700</td>\n",
              "      <td>61.827142</td>\n",
              "      <td>65.518814</td>\n",
              "      <td>58.135471</td>\n",
              "    </tr>\n",
              "    <tr>\n",
              "      <th>2019-10-03</th>\n",
              "      <td>56.570000</td>\n",
              "      <td>57.820000</td>\n",
              "      <td>55.480000</td>\n",
              "      <td>57.779999</td>\n",
              "      <td>4083100</td>\n",
              "      <td>61.718095</td>\n",
              "      <td>65.882853</td>\n",
              "      <td>57.553336</td>\n",
              "    </tr>\n",
              "    <tr>\n",
              "      <th>2019-10-04</th>\n",
              "      <td>58.150002</td>\n",
              "      <td>58.720001</td>\n",
              "      <td>58.000000</td>\n",
              "      <td>58.570000</td>\n",
              "      <td>2035275</td>\n",
              "      <td>61.605714</td>\n",
              "      <td>66.026860</td>\n",
              "      <td>57.184568</td>\n",
              "    </tr>\n",
              "  </tbody>\n",
              "</table>\n",
              "</div>"
            ],
            "text/plain": [
              "                 Open       High  ...  Bollinger High  Bollinger Low\n",
              "Date                              ...                               \n",
              "2019-09-30  60.340000  60.439999  ...       66.317802      56.798387\n",
              "2019-10-01  60.060001  61.110001  ...       65.744583      57.797320\n",
              "2019-10-02  57.810001  57.939999  ...       65.518814      58.135471\n",
              "2019-10-03  56.570000  57.820000  ...       65.882853      57.553336\n",
              "2019-10-04  58.150002  58.720001  ...       66.026860      57.184568\n",
              "\n",
              "[5 rows x 8 columns]"
            ]
          },
          "metadata": {
            "tags": []
          },
          "execution_count": 65
        }
      ]
    },
    {
      "cell_type": "code",
      "metadata": {
        "id": "wE197MoV3oqJ",
        "colab_type": "code",
        "colab": {
          "base_uri": "https://localhost:8080/",
          "height": 173
        },
        "outputId": "b44fc6e8-ea50-4c04-e2a4-05a4e37ad967"
      },
      "source": [
        "df.iloc[4526,:]"
      ],
      "execution_count": 70,
      "outputs": [
        {
          "output_type": "execute_result",
          "data": {
            "text/plain": [
              "Open              3.804000e+01\n",
              "High              3.809000e+01\n",
              "Low               3.582000e+01\n",
              "Close             3.697000e+01\n",
              "Volume            6.960500e+06\n",
              "Rolling Mean      4.046000e+01\n",
              "Bollinger High    4.803532e+01\n",
              "Bollinger Low     3.288468e+01\n",
              "Name: 2018-12-31 00:00:00, dtype: float64"
            ]
          },
          "metadata": {
            "tags": []
          },
          "execution_count": 70
        }
      ]
    },
    {
      "cell_type": "code",
      "metadata": {
        "id": "h73WKy9-3y84",
        "colab_type": "code",
        "colab": {
          "base_uri": "https://localhost:8080/",
          "height": 34
        },
        "outputId": "8fe87f81-6d1b-46c9-fd41-3a54b83178bc"
      },
      "source": [
        "4526-2074"
      ],
      "execution_count": 71,
      "outputs": [
        {
          "output_type": "execute_result",
          "data": {
            "text/plain": [
              "2452"
            ]
          },
          "metadata": {
            "tags": []
          },
          "execution_count": 71
        }
      ]
    },
    {
      "cell_type": "code",
      "metadata": {
        "id": "TP-We79Kof-o",
        "colab_type": "code",
        "outputId": "21892388-dc60-4806-e3ea-c72866d8e41a",
        "colab": {
          "base_uri": "https://localhost:8080/",
          "height": 173
        }
      },
      "source": [
        "df.iloc[2074,:]"
      ],
      "execution_count": 9,
      "outputs": [
        {
          "output_type": "execute_result",
          "data": {
            "text/plain": [
              "Open              3.804000e+01\n",
              "High              3.809000e+01\n",
              "Low               3.582000e+01\n",
              "Close             3.697000e+01\n",
              "Volume            6.960500e+06\n",
              "Rolling Mean      4.046000e+01\n",
              "Bollinger High    4.803532e+01\n",
              "Bollinger Low     3.288468e+01\n",
              "Name: 2018-12-31 00:00:00, dtype: float64"
            ]
          },
          "metadata": {
            "tags": []
          },
          "execution_count": 9
        }
      ]
    },
    {
      "cell_type": "code",
      "metadata": {
        "id": "Hftan9g8qHZ5",
        "colab_type": "code",
        "outputId": "15bde07e-850f-4d4e-8e80-a2400a856ef1",
        "colab": {
          "base_uri": "https://localhost:8080/",
          "height": 173
        }
      },
      "source": [
        "df.iloc[4566,:]"
      ],
      "execution_count": 72,
      "outputs": [
        {
          "output_type": "execute_result",
          "data": {
            "text/plain": [
              "Open              4.815000e+01\n",
              "High              5.052000e+01\n",
              "Low               4.666000e+01\n",
              "Close             5.030000e+01\n",
              "Volume            1.105930e+07\n",
              "Rolling Mean      4.748524e+01\n",
              "Bollinger High    5.178234e+01\n",
              "Bollinger Low     4.318813e+01\n",
              "Name: 2019-02-28 00:00:00, dtype: float64"
            ]
          },
          "metadata": {
            "tags": []
          },
          "execution_count": 72
        }
      ]
    },
    {
      "cell_type": "code",
      "metadata": {
        "id": "OO4RsL2FNZFa",
        "colab_type": "code",
        "outputId": "6652133e-4544-42a3-d6dd-71a0dd765974",
        "colab": {
          "base_uri": "https://localhost:8080/",
          "height": 286
        }
      },
      "source": [
        "sns.lineplot(data=df['Close'])\n",
        "sns.lineplot(data=df['Bollinger High'])\n",
        "sns.lineplot(data=df['Bollinger Low'])"
      ],
      "execution_count": 73,
      "outputs": [
        {
          "output_type": "execute_result",
          "data": {
            "text/plain": [
              "<matplotlib.axes._subplots.AxesSubplot at 0x7fc91cbfd668>"
            ]
          },
          "metadata": {
            "tags": []
          },
          "execution_count": 73
        },
        {
          "output_type": "execute_result",
          "data": {
            "text/plain": [
              "<matplotlib.axes._subplots.AxesSubplot at 0x7fc91cbfd668>"
            ]
          },
          "metadata": {
            "tags": []
          },
          "execution_count": 73
        },
        {
          "output_type": "execute_result",
          "data": {
            "text/plain": [
              "<matplotlib.axes._subplots.AxesSubplot at 0x7fc91cbfd668>"
            ]
          },
          "metadata": {
            "tags": []
          },
          "execution_count": 73
        },
        {
          "output_type": "display_data",
          "data": {
            "image/png": "[encoded data removed]",
            "text/plain": [
              "<Figure size 432x288 with 1 Axes>"
            ]
          },
          "metadata": {
            "tags": []
          }
        }
      ]
    },
    {
      "cell_type": "code",
      "metadata": {
        "id": "Wedga_2YEWik",
        "colab_type": "code",
        "outputId": "cd69d88b-4024-4769-d8ca-78238cba544a",
        "colab": {
          "base_uri": "https://localhost:8080/",
          "height": 86
        }
      },
      "source": [
        "close_array = df.values\n",
        "close_array.shape\n",
        "close_array[:2]"
      ],
      "execution_count": 74,
      "outputs": [
        {
          "output_type": "execute_result",
          "data": {
            "text/plain": [
              "(4719, 8)"
            ]
          },
          "metadata": {
            "tags": []
          },
          "execution_count": 74
        },
        {
          "output_type": "execute_result",
          "data": {
            "text/plain": [
              "array([[2.5625e+00, 2.5625e+00, 2.3125e+00, 2.3125e+00, 7.0300e+05,\n",
              "               nan,        nan,        nan],\n",
              "       [2.3750e+00, 2.8125e+00, 2.3125e+00, 2.8125e+00, 1.6851e+06,\n",
              "               nan,        nan,        nan]])"
            ]
          },
          "metadata": {
            "tags": []
          },
          "execution_count": 74
        }
      ]
    },
    {
      "cell_type": "code",
      "metadata": {
        "id": "vqmJ2z3QTWbp",
        "colab_type": "code",
        "outputId": "440a0603-a2d6-4946-ee55-a79bd70e5eaf",
        "colab": {
          "base_uri": "https://localhost:8080/",
          "height": 34
        }
      },
      "source": [
        "train_array = close_array[:-192,:5]\n",
        "train_array.shape"
      ],
      "execution_count": 75,
      "outputs": [
        {
          "output_type": "execute_result",
          "data": {
            "text/plain": [
              "(4527, 5)"
            ]
          },
          "metadata": {
            "tags": []
          },
          "execution_count": 75
        }
      ]
    },
    {
      "cell_type": "code",
      "metadata": {
        "id": "ufFqrFQFpdWZ",
        "colab_type": "code",
        "outputId": "8ce7750a-cd84-452a-db3b-87555e66e6ed",
        "colab": {
          "base_uri": "https://localhost:8080/",
          "height": 34
        }
      },
      "source": [
        "valid_array = close_array[train_array.shape[0]:train_array.shape[0]+40,:5]\n",
        "valid_array.shape"
      ],
      "execution_count": 76,
      "outputs": [
        {
          "output_type": "execute_result",
          "data": {
            "text/plain": [
              "(40, 5)"
            ]
          },
          "metadata": {
            "tags": []
          },
          "execution_count": 76
        }
      ]
    },
    {
      "cell_type": "code",
      "metadata": {
        "id": "TYlPVlYbDJnt",
        "colab_type": "code",
        "outputId": "576243b5-8ccf-4310-d241-5881e9e89480",
        "colab": {
          "base_uri": "https://localhost:8080/",
          "height": 34
        }
      },
      "source": [
        "train_array[0]"
      ],
      "execution_count": 77,
      "outputs": [
        {
          "output_type": "execute_result",
          "data": {
            "text/plain": [
              "array([2.5625e+00, 2.5625e+00, 2.3125e+00, 2.3125e+00, 7.0300e+05])"
            ]
          },
          "metadata": {
            "tags": []
          },
          "execution_count": 77
        }
      ]
    },
    {
      "cell_type": "code",
      "metadata": {
        "id": "P5a64IT5H0wg",
        "colab_type": "code",
        "colab": {}
      },
      "source": [
        "# Feature Scaling\n",
        "from sklearn.preprocessing import MinMaxScaler\n",
        "\n",
        "\n",
        "sc1 = MinMaxScaler((0, 1))\n",
        "sc2 = MinMaxScaler((0, 1))\n",
        "sc3 = MinMaxScaler((0, 1))\n",
        "sc4 = MinMaxScaler((0, 1))\n",
        "sc5 = MinMaxScaler((0, 1))\n",
        "\n",
        "scale1 = sc1.fit_transform(train_array[:,0].reshape(-1, 1))\n",
        "scale2 = sc2.fit_transform(train_array[:,1].reshape(-1, 1))\n",
        "scale3 = sc3.fit_transform(train_array[:,2].reshape(-1, 1))\n",
        "scale4 = sc4.fit_transform(train_array[:,3].reshape(-1, 1))\n",
        "scale5 = sc5.fit_transform(train_array[:,4].reshape(-1, 1))\n"
      ],
      "execution_count": 0,
      "outputs": []
    },
    {
      "cell_type": "code",
      "metadata": {
        "id": "bdUyL5MVC5YK",
        "colab_type": "code",
        "outputId": "ce0fb7d6-b794-46af-d04b-571750f4d703",
        "colab": {
          "base_uri": "https://localhost:8080/",
          "height": 34
        }
      },
      "source": [
        "scaled_training_set = np.concatenate((scale1, scale2,scale3,scale4,scale5), axis=1)\n",
        "scaled_training_set.shape"
      ],
      "execution_count": 79,
      "outputs": [
        {
          "output_type": "execute_result",
          "data": {
            "text/plain": [
              "(4527, 5)"
            ]
          },
          "metadata": {
            "tags": []
          },
          "execution_count": 79
        }
      ]
    },
    {
      "cell_type": "code",
      "metadata": {
        "id": "VEGn__CFqmLQ",
        "colab_type": "code",
        "outputId": "7fba2118-1d86-4928-bc76-2f84d2bfa885",
        "colab": {
          "base_uri": "https://localhost:8080/",
          "height": 51
        }
      },
      "source": [
        "scaled_training_set[:,4]"
      ],
      "execution_count": 80,
      "outputs": [
        {
          "output_type": "execute_result",
          "data": {
            "text/plain": [
              "array([0.01030651, 0.03016139, 0.06360598, ..., 0.08532485, 0.10303676,\n",
              "       0.13681291])"
            ]
          },
          "metadata": {
            "tags": []
          },
          "execution_count": 80
        }
      ]
    },
    {
      "cell_type": "code",
      "metadata": {
        "id": "Kf8aLsmLTyVS",
        "colab_type": "code",
        "outputId": "73b25810-71e2-426b-f923-e43566c6b781",
        "colab": {
          "base_uri": "https://localhost:8080/",
          "height": 286
        }
      },
      "source": [
        "plt.plot(scaled_training_set[:,3],color='b',label='close')\n",
        "plt.plot(scaled_training_set[:,4],color='r',label='volume')\n"
      ],
      "execution_count": 81,
      "outputs": [
        {
          "output_type": "execute_result",
          "data": {
            "text/plain": [
              "[<matplotlib.lines.Line2D at 0x7fc91ca7ea20>]"
            ]
          },
          "metadata": {
            "tags": []
          },
          "execution_count": 81
        },
        {
          "output_type": "execute_result",
          "data": {
            "text/plain": [
              "[<matplotlib.lines.Line2D at 0x7fc91ca7eda0>]"
            ]
          },
          "metadata": {
            "tags": []
          },
          "execution_count": 81
        },
        {
          "output_type": "display_data",
          "data": {
            "image/png": "[encoded data removed]",
            "text/plain": [
              "<Figure size 432x288 with 1 Axes>"
            ]
          },
          "metadata": {
            "tags": []
          }
        }
      ]
    },
    {
      "cell_type": "code",
      "metadata": {
        "id": "MsBp_SMVH19Z",
        "colab_type": "code",
        "colab": {}
      },
      "source": [
        "# Creating a data structure with 120 timesteps and 1 output\n",
        "timesteps=120\n",
        "X_train = []\n",
        "y_train = []\n",
        "for i in range(timesteps, train_array.shape[0]):\n",
        "    X_train.append(scaled_training_set[i-timesteps:i, 0])\n",
        "    y_train.append(scaled_training_set[i, 0])\n",
        "X_train, y_train = np.array(X_train), np.array(y_train)"
      ],
      "execution_count": 0,
      "outputs": []
    },
    {
      "cell_type": "code",
      "metadata": {
        "id": "ZmT51JsSKt3v",
        "colab_type": "code",
        "colab": {}
      },
      "source": [
        "# Reshaping\n",
        "X_train = np.reshape(X_train, (X_train.shape[0], X_train.shape[1], 1))"
      ],
      "execution_count": 0,
      "outputs": []
    },
    {
      "cell_type": "code",
      "metadata": {
        "id": "F2xgi3HZK1jc",
        "colab_type": "code",
        "outputId": "07d23bf1-641f-4b73-bad3-a8283cd64628",
        "colab": {
          "base_uri": "https://localhost:8080/",
          "height": 34
        }
      },
      "source": [
        "X_train.shape\n",
        "y_train.shape"
      ],
      "execution_count": 84,
      "outputs": [
        {
          "output_type": "execute_result",
          "data": {
            "text/plain": [
              "(4407, 120, 1)"
            ]
          },
          "metadata": {
            "tags": []
          },
          "execution_count": 84
        },
        {
          "output_type": "execute_result",
          "data": {
            "text/plain": [
              "(4407,)"
            ]
          },
          "metadata": {
            "tags": []
          },
          "execution_count": 84
        }
      ]
    },
    {
      "cell_type": "code",
      "metadata": {
        "id": "3PjszYeBLMud",
        "colab_type": "code",
        "colab": {}
      },
      "source": [
        "# Part 2 - Building the RNN\n",
        "\n",
        "# Importing the Keras libraries and packages\n",
        "from keras.models import Sequential\n",
        "from keras.layers import Dense\n",
        "from keras.layers import LSTM\n",
        "from keras.layers import Dropout"
      ],
      "execution_count": 0,
      "outputs": []
    },
    {
      "cell_type": "code",
      "metadata": {
        "id": "vJrKpgXcLTSZ",
        "colab_type": "code",
        "colab": {}
      },
      "source": [
        "# Initialising the RNN\n",
        "regressor = Sequential()\n",
        "\n",
        "# Adding the first LSTM layer and some Dropout regularisation\n",
        "regressor.add(LSTM(units = 100, return_sequences = True, input_shape = (X_train.shape[1], 1)))\n",
        "regressor.add(Dropout(rate=0.2))\n",
        "\n",
        "# Adding a second LSTM layer and some Dropout regularisation\n",
        "regressor.add(LSTM(units = 100, return_sequences = True))\n",
        "regressor.add(Dropout(rate=0.2))\n",
        "\n",
        "# Adding a third LSTM layer and some Dropout regularisation\n",
        "regressor.add(LSTM(units = 100, return_sequences = True))\n",
        "regressor.add(Dropout(rate=0.2))\n",
        "\n",
        "# Adding a fourth LSTM layer and some Dropout regularisation\n",
        "regressor.add(LSTM(units = 100))\n",
        "regressor.add(Dropout(rate=0.2))\n",
        "\n",
        "# Adding the output layer\n",
        "regressor.add(Dense(units = 1))"
      ],
      "execution_count": 0,
      "outputs": []
    },
    {
      "cell_type": "code",
      "metadata": {
        "id": "JU6Za38-PWIs",
        "colab_type": "code",
        "colab": {}
      },
      "source": [
        "# Compiling the RNN\n",
        "regressor.compile(optimizer = 'nadam', loss = 'mean_squared_error')"
      ],
      "execution_count": 0,
      "outputs": []
    },
    {
      "cell_type": "code",
      "metadata": {
        "id": "g2NlkapLL3nP",
        "colab_type": "code",
        "outputId": "d796ce41-f367-4f78-e486-013c8eba1a18",
        "colab": {
          "base_uri": "https://localhost:8080/",
          "height": 1000
        }
      },
      "source": [
        "epoch_trials = [100]\n",
        "batch_size_trials = [228]\n",
        "\n",
        "reg_models = []\n",
        "\n",
        "# Fitting the RNN to the Training set\n",
        "for n_epochs in epoch_trials:\n",
        "  for b_size in batch_size_trials:\n",
        "    regressor.fit(X_train, y_train, epochs = n_epochs, batch_size = b_size)\n",
        "    reg_models.append(regressor)\n"
      ],
      "execution_count": 90,
      "outputs": [
        {
          "output_type": "stream",
          "text": [
            "Epoch 1/100\n",
            "4407/4407 [==============================] - 20s 5ms/step - loss: 0.0200\n",
            "Epoch 2/100\n",
            "4407/4407 [==============================] - 17s 4ms/step - loss: 0.0056\n",
            "Epoch 3/100\n",
            "4407/4407 [==============================] - 17s 4ms/step - loss: 0.0045\n",
            "Epoch 4/100\n",
            "4407/4407 [==============================] - 17s 4ms/step - loss: 0.0050\n",
            "Epoch 5/100\n",
            "4407/4407 [==============================] - 17s 4ms/step - loss: 0.0028\n",
            "Epoch 6/100\n",
            "4407/4407 [==============================] - 17s 4ms/step - loss: 0.0034\n",
            "Epoch 7/100\n",
            "4407/4407 [==============================] - 17s 4ms/step - loss: 0.0032\n",
            "Epoch 8/100\n",
            "4407/4407 [==============================] - 17s 4ms/step - loss: 0.0028\n",
            "Epoch 9/100\n",
            "4407/4407 [==============================] - 17s 4ms/step - loss: 0.0029\n",
            "Epoch 10/100\n",
            "4407/4407 [==============================] - 17s 4ms/step - loss: 0.0017\n",
            "Epoch 11/100\n",
            "4407/4407 [==============================] - 17s 4ms/step - loss: 0.0023\n",
            "Epoch 12/100\n",
            "4407/4407 [==============================] - 17s 4ms/step - loss: 0.0016\n",
            "Epoch 13/100\n",
            "4407/4407 [==============================] - 17s 4ms/step - loss: 0.0038\n",
            "Epoch 14/100\n",
            "4407/4407 [==============================] - 17s 4ms/step - loss: 0.0015\n",
            "Epoch 15/100\n",
            "4407/4407 [==============================] - 17s 4ms/step - loss: 0.0019\n",
            "Epoch 16/100\n",
            "4407/4407 [==============================] - 17s 4ms/step - loss: 0.0021\n",
            "Epoch 17/100\n",
            "4407/4407 [==============================] - 17s 4ms/step - loss: 0.0021\n",
            "Epoch 18/100\n",
            "4407/4407 [==============================] - 17s 4ms/step - loss: 0.0021\n",
            "Epoch 19/100\n",
            "4407/4407 [==============================] - 17s 4ms/step - loss: 0.0017\n",
            "Epoch 20/100\n",
            "4407/4407 [==============================] - 17s 4ms/step - loss: 0.0017\n",
            "Epoch 21/100\n",
            "4407/4407 [==============================] - 17s 4ms/step - loss: 0.0013\n",
            "Epoch 22/100\n",
            "4407/4407 [==============================] - 17s 4ms/step - loss: 0.0021\n",
            "Epoch 23/100\n",
            "4407/4407 [==============================] - 17s 4ms/step - loss: 0.0015\n",
            "Epoch 24/100\n",
            "4407/4407 [==============================] - 17s 4ms/step - loss: 0.0015\n",
            "Epoch 25/100\n",
            "4407/4407 [==============================] - 17s 4ms/step - loss: 0.0020\n",
            "Epoch 26/100\n",
            "4407/4407 [==============================] - 17s 4ms/step - loss: 0.0013\n",
            "Epoch 27/100\n",
            "4407/4407 [==============================] - 17s 4ms/step - loss: 0.0010\n",
            "Epoch 28/100\n",
            "4407/4407 [==============================] - 17s 4ms/step - loss: 0.0012\n",
            "Epoch 29/100\n",
            "4407/4407 [==============================] - 17s 4ms/step - loss: 0.0013\n",
            "Epoch 30/100\n",
            "4407/4407 [==============================] - 17s 4ms/step - loss: 0.0015\n",
            "Epoch 31/100\n",
            "4407/4407 [==============================] - 17s 4ms/step - loss: 0.0012\n",
            "Epoch 32/100\n",
            "4407/4407 [==============================] - 17s 4ms/step - loss: 0.0014\n",
            "Epoch 33/100\n",
            "4407/4407 [==============================] - 17s 4ms/step - loss: 0.0013\n",
            "Epoch 34/100\n",
            "4407/4407 [==============================] - 17s 4ms/step - loss: 0.0011\n",
            "Epoch 35/100\n",
            "4407/4407 [==============================] - 17s 4ms/step - loss: 0.0013\n",
            "Epoch 36/100\n",
            "4407/4407 [==============================] - 17s 4ms/step - loss: 0.0019\n",
            "Epoch 37/100\n",
            "4407/4407 [==============================] - 17s 4ms/step - loss: 0.0015\n",
            "Epoch 38/100\n",
            "4407/4407 [==============================] - 17s 4ms/step - loss: 9.1030e-04\n",
            "Epoch 39/100\n",
            "4407/4407 [==============================] - 17s 4ms/step - loss: 0.0012\n",
            "Epoch 40/100\n",
            "4407/4407 [==============================] - 17s 4ms/step - loss: 0.0012\n",
            "Epoch 41/100\n",
            "4407/4407 [==============================] - 17s 4ms/step - loss: 0.0011\n",
            "Epoch 42/100\n",
            "4407/4407 [==============================] - 17s 4ms/step - loss: 0.0010\n",
            "Epoch 43/100\n",
            "4407/4407 [==============================] - 17s 4ms/step - loss: 0.0011\n",
            "Epoch 44/100\n",
            "4407/4407 [==============================] - 17s 4ms/step - loss: 0.0010\n",
            "Epoch 45/100\n",
            "4407/4407 [==============================] - 17s 4ms/step - loss: 9.7829e-04\n",
            "Epoch 46/100\n",
            "4407/4407 [==============================] - 17s 4ms/step - loss: 0.0015\n",
            "Epoch 47/100\n",
            "4407/4407 [==============================] - 17s 4ms/step - loss: 0.0012\n",
            "Epoch 48/100\n",
            "4407/4407 [==============================] - 17s 4ms/step - loss: 0.0010\n",
            "Epoch 49/100\n",
            "4407/4407 [==============================] - 17s 4ms/step - loss: 9.8296e-04\n",
            "Epoch 50/100\n",
            "4407/4407 [==============================] - 17s 4ms/step - loss: 9.6872e-04\n",
            "Epoch 51/100\n",
            "4407/4407 [==============================] - 17s 4ms/step - loss: 0.0012\n",
            "Epoch 52/100\n",
            "4407/4407 [==============================] - 17s 4ms/step - loss: 0.0010\n",
            "Epoch 53/100\n",
            "4407/4407 [==============================] - 17s 4ms/step - loss: 9.7998e-04\n",
            "Epoch 54/100\n",
            "4407/4407 [==============================] - 17s 4ms/step - loss: 8.2071e-04\n",
            "Epoch 55/100\n",
            "4407/4407 [==============================] - 17s 4ms/step - loss: 0.0012\n",
            "Epoch 56/100\n",
            "4407/4407 [==============================] - 17s 4ms/step - loss: 0.0010\n",
            "Epoch 57/100\n",
            "4407/4407 [==============================] - 17s 4ms/step - loss: 9.4353e-04\n",
            "Epoch 58/100\n",
            "4407/4407 [==============================] - 17s 4ms/step - loss: 9.7446e-04\n",
            "Epoch 59/100\n",
            "4407/4407 [==============================] - 17s 4ms/step - loss: 9.9004e-04\n",
            "Epoch 60/100\n",
            "4407/4407 [==============================] - 17s 4ms/step - loss: 8.7791e-04\n",
            "Epoch 61/100\n",
            "4407/4407 [==============================] - 17s 4ms/step - loss: 0.0010\n",
            "Epoch 62/100\n",
            "4407/4407 [==============================] - 17s 4ms/step - loss: 0.0011\n",
            "Epoch 63/100\n",
            "4407/4407 [==============================] - 17s 4ms/step - loss: 8.2270e-04\n",
            "Epoch 64/100\n",
            "4407/4407 [==============================] - 17s 4ms/step - loss: 0.0011\n",
            "Epoch 65/100\n",
            "4407/4407 [==============================] - 17s 4ms/step - loss: 8.7936e-04\n",
            "Epoch 66/100\n",
            "4407/4407 [==============================] - 17s 4ms/step - loss: 9.5063e-04\n",
            "Epoch 67/100\n",
            "4407/4407 [==============================] - 17s 4ms/step - loss: 9.5615e-04\n",
            "Epoch 68/100\n",
            "4407/4407 [==============================] - 17s 4ms/step - loss: 0.0013\n",
            "Epoch 69/100\n",
            "4407/4407 [==============================] - 17s 4ms/step - loss: 7.5885e-04\n",
            "Epoch 70/100\n",
            "4407/4407 [==============================] - 17s 4ms/step - loss: 8.5571e-04\n",
            "Epoch 71/100\n",
            "4407/4407 [==============================] - 17s 4ms/step - loss: 8.9087e-04\n",
            "Epoch 72/100\n",
            "4407/4407 [==============================] - 17s 4ms/step - loss: 9.0222e-04\n",
            "Epoch 73/100\n",
            "4407/4407 [==============================] - 17s 4ms/step - loss: 8.4500e-04\n",
            "Epoch 74/100\n",
            "4407/4407 [==============================] - 17s 4ms/step - loss: 9.0404e-04\n",
            "Epoch 75/100\n",
            "4407/4407 [==============================] - 17s 4ms/step - loss: 6.6531e-04\n",
            "Epoch 76/100\n",
            "4407/4407 [==============================] - 17s 4ms/step - loss: 0.0013\n",
            "Epoch 77/100\n",
            "4407/4407 [==============================] - 17s 4ms/step - loss: 7.0778e-04\n",
            "Epoch 78/100\n",
            "4407/4407 [==============================] - 17s 4ms/step - loss: 0.0011\n",
            "Epoch 79/100\n",
            "4407/4407 [==============================] - 17s 4ms/step - loss: 8.9192e-04\n",
            "Epoch 80/100\n",
            "4407/4407 [==============================] - 17s 4ms/step - loss: 7.0524e-04\n",
            "Epoch 81/100\n",
            "4407/4407 [==============================] - 17s 4ms/step - loss: 7.3528e-04\n",
            "Epoch 82/100\n",
            "4407/4407 [==============================] - 17s 4ms/step - loss: 7.7547e-04\n",
            "Epoch 83/100\n",
            "4407/4407 [==============================] - 17s 4ms/step - loss: 8.5730e-04\n",
            "Epoch 84/100\n",
            "4407/4407 [==============================] - 17s 4ms/step - loss: 8.2006e-04\n",
            "Epoch 85/100\n",
            "4407/4407 [==============================] - 17s 4ms/step - loss: 6.7832e-04\n",
            "Epoch 86/100\n",
            "4407/4407 [==============================] - 17s 4ms/step - loss: 7.9226e-04\n",
            "Epoch 87/100\n",
            "4407/4407 [==============================] - 17s 4ms/step - loss: 0.0010\n",
            "Epoch 88/100\n",
            "4407/4407 [==============================] - 17s 4ms/step - loss: 6.3222e-04\n",
            "Epoch 89/100\n",
            "4407/4407 [==============================] - 17s 4ms/step - loss: 7.4466e-04\n",
            "Epoch 90/100\n",
            "4407/4407 [==============================] - 17s 4ms/step - loss: 0.0011\n",
            "Epoch 91/100\n",
            "4407/4407 [==============================] - 17s 4ms/step - loss: 8.7220e-04\n",
            "Epoch 92/100\n",
            "4407/4407 [==============================] - 17s 4ms/step - loss: 8.5324e-04\n",
            "Epoch 93/100\n",
            "4407/4407 [==============================] - 17s 4ms/step - loss: 6.7374e-04\n",
            "Epoch 94/100\n",
            "4407/4407 [==============================] - 17s 4ms/step - loss: 7.8347e-04\n",
            "Epoch 95/100\n",
            "4407/4407 [==============================] - 17s 4ms/step - loss: 6.1616e-04\n",
            "Epoch 96/100\n",
            "4407/4407 [==============================] - 17s 4ms/step - loss: 8.2021e-04\n",
            "Epoch 97/100\n",
            "4407/4407 [==============================] - 17s 4ms/step - loss: 7.0264e-04\n",
            "Epoch 98/100\n",
            "4407/4407 [==============================] - 17s 4ms/step - loss: 6.2941e-04\n",
            "Epoch 99/100\n",
            "4407/4407 [==============================] - 17s 4ms/step - loss: 8.4793e-04\n",
            "Epoch 100/100\n",
            "4407/4407 [==============================] - 17s 4ms/step - loss: 7.1198e-04\n"
          ],
          "name": "stdout"
        },
        {
          "output_type": "execute_result",
          "data": {
            "text/plain": [
              "<keras.callbacks.History at 0x7fc91a07da58>"
            ]
          },
          "metadata": {
            "tags": []
          },
          "execution_count": 90
        }
      ]
    },
    {
      "cell_type": "code",
      "metadata": {
        "id": "51TWc1kkyaej",
        "colab_type": "code",
        "outputId": "422983be-81cb-4dcc-cedd-2728d0750e99",
        "colab": {
          "base_uri": "https://localhost:8080/",
          "height": 286
        }
      },
      "source": [
        "plt.plot(valid_array[:,3],color='b',label='valid-close')"
      ],
      "execution_count": 91,
      "outputs": [
        {
          "output_type": "execute_result",
          "data": {
            "text/plain": [
              "[<matplotlib.lines.Line2D at 0x7fc91815f7b8>]"
            ]
          },
          "metadata": {
            "tags": []
          },
          "execution_count": 91
        },
        {
          "output_type": "display_data",
          "data": {
            "image/png": "[encoded data removed]",
            "text/plain": [
              "<Figure size 432x288 with 1 Axes>"
            ]
          },
          "metadata": {
            "tags": []
          }
        }
      ]
    },
    {
      "cell_type": "code",
      "metadata": {
        "id": "TAT_NlVHzIUk",
        "colab_type": "code",
        "outputId": "e1510115-a1d9-4044-e17b-f09328bc99bb",
        "colab": {
          "base_uri": "https://localhost:8080/",
          "height": 34
        }
      },
      "source": [
        "inputs_array = close_array[train_array.shape[0]-timesteps:train_array.shape[0]+40]\n",
        "inputs_array.shape\n"
      ],
      "execution_count": 92,
      "outputs": [
        {
          "output_type": "execute_result",
          "data": {
            "text/plain": [
              "(160, 8)"
            ]
          },
          "metadata": {
            "tags": []
          },
          "execution_count": 92
        }
      ]
    },
    {
      "cell_type": "code",
      "metadata": {
        "id": "ItAcQKc80Pdk",
        "colab_type": "code",
        "colab": {
          "base_uri": "https://localhost:8080/",
          "height": 51
        },
        "outputId": "ef296107-0f13-42e0-8dec-c155d65966f1"
      },
      "source": [
        "inputs_array[0]"
      ],
      "execution_count": 93,
      "outputs": [
        {
          "output_type": "execute_result",
          "data": {
            "text/plain": [
              "array([7.92500000e+01, 7.93399960e+01, 7.78899990e+01, 7.81900020e+01,\n",
              "       3.20030000e+06, 7.96557148e+01, 8.39579916e+01, 7.53534380e+01])"
            ]
          },
          "metadata": {
            "tags": []
          },
          "execution_count": 93
        }
      ]
    },
    {
      "cell_type": "code",
      "metadata": {
        "id": "cuGuUVjZ0i2C",
        "colab_type": "code",
        "colab": {}
      },
      "source": [
        "valid_scale1 = sc1.fit_transform(inputs_array[:,0].reshape(-1, 1))\n",
        "valid_scale2 = sc2.fit_transform(inputs_array[:,1].reshape(-1, 1))\n",
        "valid_scale3 = sc3.fit_transform(inputs_array[:,2].reshape(-1, 1))\n",
        "valid_scale4 = sc4.fit_transform(inputs_array[:,3].reshape(-1, 1))\n",
        "valid_scale5 = sc5.fit_transform(inputs_array[:,4].reshape(-1, 1))"
      ],
      "execution_count": 0,
      "outputs": []
    },
    {
      "cell_type": "code",
      "metadata": {
        "id": "dUDquF-e0vM1",
        "colab_type": "code",
        "colab": {
          "base_uri": "https://localhost:8080/",
          "height": 34
        },
        "outputId": "306aff32-6255-4638-f714-fe6aa3c86054"
      },
      "source": [
        "scaled_validation_set = np.concatenate((valid_scale1, valid_scale2,valid_scale3,valid_scale4,valid_scale5), axis=1)\n",
        "scaled_validation_set.shape"
      ],
      "execution_count": 95,
      "outputs": [
        {
          "output_type": "execute_result",
          "data": {
            "text/plain": [
              "(160, 5)"
            ]
          },
          "metadata": {
            "tags": []
          },
          "execution_count": 95
        }
      ]
    },
    {
      "cell_type": "code",
      "metadata": {
        "id": "sD5sazctiGvh",
        "colab_type": "code",
        "outputId": "d2ee87ac-805c-4bcb-8307-2b2018042b5c",
        "colab": {
          "base_uri": "https://localhost:8080/",
          "height": 286
        }
      },
      "source": [
        "plt.plot(scaled_validation_set[:,3])"
      ],
      "execution_count": 96,
      "outputs": [
        {
          "output_type": "execute_result",
          "data": {
            "text/plain": [
              "[<matplotlib.lines.Line2D at 0x7fc9180d1160>]"
            ]
          },
          "metadata": {
            "tags": []
          },
          "execution_count": 96
        },
        {
          "output_type": "display_data",
          "data": {
            "image/png": "[encoded data removed]",
            "text/plain": [
              "<Figure size 432x288 with 1 Axes>"
            ]
          },
          "metadata": {
            "tags": []
          }
        }
      ]
    },
    {
      "cell_type": "code",
      "metadata": {
        "id": "TTaxuOFhjRHK",
        "colab_type": "code",
        "outputId": "390b7500-e456-41d1-e93d-f0379288f7e5",
        "colab": {
          "base_uri": "https://localhost:8080/",
          "height": 34
        }
      },
      "source": [
        "X_test = []\n",
        "for i in range(timesteps, timesteps+40):\n",
        "    X_test.append(scaled_validation_set[i-timesteps:i,0])\n",
        "X_test = np.array(X_test)\n",
        "X_test.shape"
      ],
      "execution_count": 97,
      "outputs": [
        {
          "output_type": "execute_result",
          "data": {
            "text/plain": [
              "(40, 120)"
            ]
          },
          "metadata": {
            "tags": []
          },
          "execution_count": 97
        }
      ]
    },
    {
      "cell_type": "code",
      "metadata": {
        "id": "b1pHFldfklmS",
        "colab_type": "code",
        "outputId": "2717c995-d5ec-474e-9a3e-68191aae9bb4",
        "colab": {
          "base_uri": "https://localhost:8080/",
          "height": 34
        }
      },
      "source": [
        "X_test = np.reshape(X_test, (X_test.shape[0], X_test.shape[1], 1))\n",
        "X_test.shape"
      ],
      "execution_count": 98,
      "outputs": [
        {
          "output_type": "execute_result",
          "data": {
            "text/plain": [
              "(40, 120, 1)"
            ]
          },
          "metadata": {
            "tags": []
          },
          "execution_count": 98
        }
      ]
    },
    {
      "cell_type": "code",
      "metadata": {
        "id": "XymgGEEpj8Io",
        "colab_type": "code",
        "outputId": "91458e6d-23af-4afe-81fc-e22c6b287b79",
        "colab": {
          "base_uri": "https://localhost:8080/",
          "height": 34
        }
      },
      "source": [
        "X_train.shape"
      ],
      "execution_count": 99,
      "outputs": [
        {
          "output_type": "execute_result",
          "data": {
            "text/plain": [
              "(4407, 120, 1)"
            ]
          },
          "metadata": {
            "tags": []
          },
          "execution_count": 99
        }
      ]
    },
    {
      "cell_type": "code",
      "metadata": {
        "id": "z6rGh1FyituI",
        "colab_type": "code",
        "colab": {}
      },
      "source": [
        "scaled_preds = []\n",
        "prices = []\n",
        "for reg_model in reg_models:\n",
        "  scaled_preds.append(reg_model.predict(X_test))\n",
        "  prices.append(sc1.inverse_transform(reg_model.predict(X_test)))\n",
        "\n"
      ],
      "execution_count": 0,
      "outputs": []
    },
    {
      "cell_type": "code",
      "metadata": {
        "id": "tC98VWYok3gT",
        "colab_type": "code",
        "outputId": "ee5b0ae2-2269-4618-cc88-90b83811e871",
        "colab": {
          "base_uri": "https://localhost:8080/",
          "height": 286
        }
      },
      "source": [
        "plt.plot(prices[0])"
      ],
      "execution_count": 101,
      "outputs": [
        {
          "output_type": "execute_result",
          "data": {
            "text/plain": [
              "[<matplotlib.lines.Line2D at 0x7fc918037128>]"
            ]
          },
          "metadata": {
            "tags": []
          },
          "execution_count": 101
        },
        {
          "output_type": "display_data",
          "data": {
            "image/png": "[encoded data removed]",
            "text/plain": [
              "<Figure size 432x288 with 1 Axes>"
            ]
          },
          "metadata": {
            "tags": []
          }
        }
      ]
    },
    {
      "cell_type": "code",
      "metadata": {
        "id": "mRvKKYOckzm_",
        "colab_type": "code",
        "outputId": "695e5c20-9466-4abf-bccc-a6f0a0a89c97",
        "colab": {
          "base_uri": "https://localhost:8080/",
          "height": 330
        }
      },
      "source": [
        "# Visualising the results\n",
        "plt.plot(valid_array[:,0], color = 'red', label = 'Real WDC Stock Close Price')\n",
        "plt.plot(prices[0], color = 'blue', label = 'Predicted WDC Close Price')\n",
        "plt.title('WDC Stock Price Prediction')\n",
        "plt.xlabel('Time')\n",
        "plt.ylabel('WDC Stock Price')\n",
        "plt.legend()\n",
        "plt.show()"
      ],
      "execution_count": 102,
      "outputs": [
        {
          "output_type": "execute_result",
          "data": {
            "text/plain": [
              "[<matplotlib.lines.Line2D at 0x7fc918020160>]"
            ]
          },
          "metadata": {
            "tags": []
          },
          "execution_count": 102
        },
        {
          "output_type": "execute_result",
          "data": {
            "text/plain": [
              "[<matplotlib.lines.Line2D at 0x7fc9180204e0>]"
            ]
          },
          "metadata": {
            "tags": []
          },
          "execution_count": 102
        },
        {
          "output_type": "execute_result",
          "data": {
            "text/plain": [
              "Text(0.5, 1.0, 'WDC Stock Price Prediction')"
            ]
          },
          "metadata": {
            "tags": []
          },
          "execution_count": 102
        },
        {
          "output_type": "execute_result",
          "data": {
            "text/plain": [
              "Text(0.5, 0, 'Time')"
            ]
          },
          "metadata": {
            "tags": []
          },
          "execution_count": 102
        },
        {
          "output_type": "execute_result",
          "data": {
            "text/plain": [
              "Text(0, 0.5, 'WDC Stock Price')"
            ]
          },
          "metadata": {
            "tags": []
          },
          "execution_count": 102
        },
        {
          "output_type": "execute_result",
          "data": {
            "text/plain": [
              "<matplotlib.legend.Legend at 0x7fc918009b00>"
            ]
          },
          "metadata": {
            "tags": []
          },
          "execution_count": 102
        },
        {
          "output_type": "display_data",
          "data": {
            "image/png": "[encoded data removed]",
            "text/plain": [
              "<Figure size 432x288 with 1 Axes>"
            ]
          },
          "metadata": {
            "tags": []
          }
        }
      ]
    },
    {
      "cell_type": "code",
      "metadata": {
        "id": "NiAVMUPUlfSx",
        "colab_type": "code",
        "colab": {}
      },
      "source": [
        "reg_model.save('reg_model.hdf5')"
      ],
      "execution_count": 0,
      "outputs": []
    },
    {
      "cell_type": "code",
      "metadata": {
        "id": "azPcPhh3DqDp",
        "colab_type": "code",
        "colab": {}
      },
      "source": [
        ""
      ],
      "execution_count": 0,
      "outputs": []
    }
  ]
}