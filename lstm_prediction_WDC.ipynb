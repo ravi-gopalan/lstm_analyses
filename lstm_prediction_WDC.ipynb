{
  "nbformat": 4,
  "nbformat_minor": 0,
  "metadata": {
    "colab": {
      "name": "lstm_prediction_WDC.ipynb",
      "provenance": [],
      "include_colab_link": true
    },
    "kernelspec": {
      "name": "python3",
      "display_name": "Python 3"
    },
    "accelerator": "GPU"
  },
  "cells": [
    {
      "cell_type": "markdown",
      "metadata": {
        "id": "view-in-github",
        "colab_type": "text"
      },
      "source": [
        "<a href=\"https://colab.research.google.com/github/ravi-gopalan/lstm_analyses/blob/master/lstm_prediction_WDC.ipynb\" target=\"_parent\"><img src=\"https://colab.research.google.com/assets/colab-badge.svg\" alt=\"Open In Colab\"/></a>"
      ]
    },
    {
      "cell_type": "code",
      "metadata": {
        "id": "GSb8RSNb9UQW",
        "colab_type": "code",
        "colab": {
          "base_uri": "https://localhost:8080/",
          "height": 365
        },
        "outputId": "7d8e07dd-4421-4c42-d0f0-7324c4100ed0"
      },
      "source": [
        "!pip install yfinance"
      ],
      "execution_count": 1,
      "outputs": [
        {
          "output_type": "stream",
          "text": [
            "Collecting yfinance\n",
            "  Downloading https://files.pythonhosted.org/packages/53/0e/40387099824c98be22cd7e33a620e9d38b61998b031f0b33f0b9959717d2/yfinance-0.1.45.tar.gz\n",
            "Requirement already satisfied: pandas>=0.24 in /usr/local/lib/python3.6/dist-packages (from yfinance) (0.24.2)\n",
            "Requirement already satisfied: numpy>=1.15 in /usr/local/lib/python3.6/dist-packages (from yfinance) (1.16.5)\n",
            "Requirement already satisfied: requests>=2.20 in /usr/local/lib/python3.6/dist-packages (from yfinance) (2.21.0)\n",
            "Requirement already satisfied: multitasking>=0.0.7 in /usr/local/lib/python3.6/dist-packages (from yfinance) (0.0.9)\n",
            "Requirement already satisfied: pytz>=2011k in /usr/local/lib/python3.6/dist-packages (from pandas>=0.24->yfinance) (2018.9)\n",
            "Requirement already satisfied: python-dateutil>=2.5.0 in /usr/local/lib/python3.6/dist-packages (from pandas>=0.24->yfinance) (2.5.3)\n",
            "Requirement already satisfied: certifi>=2017.4.17 in /usr/local/lib/python3.6/dist-packages (from requests>=2.20->yfinance) (2019.9.11)\n",
            "Requirement already satisfied: idna<2.9,>=2.5 in /usr/local/lib/python3.6/dist-packages (from requests>=2.20->yfinance) (2.8)\n",
            "Requirement already satisfied: urllib3<1.25,>=1.21.1 in /usr/local/lib/python3.6/dist-packages (from requests>=2.20->yfinance) (1.24.3)\n",
            "Requirement already satisfied: chardet<3.1.0,>=3.0.2 in /usr/local/lib/python3.6/dist-packages (from requests>=2.20->yfinance) (3.0.4)\n",
            "Requirement already satisfied: six>=1.5 in /usr/local/lib/python3.6/dist-packages (from python-dateutil>=2.5.0->pandas>=0.24->yfinance) (1.12.0)\n",
            "Building wheels for collected packages: yfinance\n",
            "  Building wheel for yfinance (setup.py) ... \u001b[?25l\u001b[?25hdone\n",
            "  Created wheel for yfinance: filename=yfinance-0.1.45-cp36-none-any.whl size=14652 sha256=06556274748f81a8b5b73d7cdd7defcf6903f15b3f888a5be62bd9fef091134b\n",
            "  Stored in directory: /root/.cache/pip/wheels/0c/d1/df/aa9a7744a4ac353cc9a1f2c3aaea7c1f457fc49de4286f2d88\n",
            "Successfully built yfinance\n",
            "Installing collected packages: yfinance\n",
            "Successfully installed yfinance-0.1.45\n"
          ],
          "name": "stdout"
        }
      ]
    },
    {
      "cell_type": "code",
      "metadata": {
        "id": "K0zMq0IbD9jS",
        "colab_type": "code",
        "colab": {}
      },
      "source": [
        "# Importing the libraries\n",
        "from IPython.core.interactiveshell import InteractiveShell\n",
        "InteractiveShell.ast_node_interactivity = \"all\"\n",
        "import numpy as np\n",
        "import matplotlib.pyplot as plt\n",
        "import pandas as pd\n",
        "import seaborn as sns"
      ],
      "execution_count": 0,
      "outputs": []
    },
    {
      "cell_type": "code",
      "metadata": {
        "id": "KOJyBSmP9x5f",
        "colab_type": "code",
        "colab": {}
      },
      "source": [
        "# Import yfinance\n",
        "import yfinance as yf "
      ],
      "execution_count": 0,
      "outputs": []
    },
    {
      "cell_type": "code",
      "metadata": {
        "id": "XeHKg7y0w65m",
        "colab_type": "code",
        "colab": {
          "base_uri": "https://localhost:8080/",
          "height": 34
        },
        "outputId": "d02ebe50-ac23-4e9b-dff0-8b317b7320cb"
      },
      "source": [
        "# Feature Scaling\n",
        "from sklearn.preprocessing import MinMaxScaler\n",
        "\n",
        "# Importing the Keras libraries and packages\n",
        "from keras.models import Sequential\n",
        "from keras.layers import Dense\n",
        "from keras.layers import LSTM\n",
        "from keras.layers import Dropout"
      ],
      "execution_count": 4,
      "outputs": [
        {
          "output_type": "stream",
          "text": [
            "Using TensorFlow backend.\n"
          ],
          "name": "stderr"
        }
      ]
    },
    {
      "cell_type": "code",
      "metadata": {
        "id": "QmmdoX-T298s",
        "colab_type": "code",
        "outputId": "c5e254c7-7511-4344-9bec-e2a10cf70e80",
        "colab": {
          "base_uri": "https://localhost:8080/",
          "height": 156
        }
      },
      "source": [
        "!git clone -l -s git://github.com/ravi-gopalan/lstm_analyses.git cloned-repository"
      ],
      "execution_count": 5,
      "outputs": [
        {
          "output_type": "stream",
          "text": [
            "Cloning into 'cloned-repository'...\n",
            "warning: --local is ignored\n",
            "remote: Enumerating objects: 24, done.\u001b[K\n",
            "remote: Counting objects: 100% (24/24), done.\u001b[K\n",
            "remote: Compressing objects: 100% (22/22), done.\u001b[K\n",
            "remote: Total 24 (delta 4), reused 0 (delta 0), pack-reused 0\u001b[K\n",
            "Receiving objects: 100% (24/24), 657.74 KiB | 899.00 KiB/s, done.\n",
            "Resolving deltas: 100% (4/4), done.\n"
          ],
          "name": "stdout"
        }
      ]
    },
    {
      "cell_type": "code",
      "metadata": {
        "id": "swJFzQNyEPAX",
        "colab_type": "code",
        "outputId": "59b838f2-3dda-435c-c74d-ccd13c16c30f",
        "colab": {
          "base_uri": "https://localhost:8080/",
          "height": 34
        }
      },
      "source": [
        "!ls"
      ],
      "execution_count": 6,
      "outputs": [
        {
          "output_type": "stream",
          "text": [
            "cloned-repository  sample_data\n"
          ],
          "name": "stdout"
        }
      ]
    },
    {
      "cell_type": "code",
      "metadata": {
        "id": "9dpXXJ-G-ELY",
        "colab_type": "code",
        "colab": {
          "base_uri": "https://localhost:8080/",
          "height": 315
        },
        "outputId": "207a7dbc-5b7d-40a9-f11e-55d8fa6cb9f8"
      },
      "source": [
        "# Get the data for the stock BE by specifying the stock ticker, start date, and end date\n",
        "df_be = yf.download('BE','2016-01-01','2019-10-15')\n",
        " \n",
        "# Plot the close prices\n",
        "df_be.Close.plot()\n",
        "plt.show()"
      ],
      "execution_count": 7,
      "outputs": [
        {
          "output_type": "stream",
          "text": [
            "\r[*********************100%***********************]  1 of 1 downloaded\n"
          ],
          "name": "stdout"
        },
        {
          "output_type": "execute_result",
          "data": {
            "text/plain": [
              "<matplotlib.axes._subplots.AxesSubplot at 0x7fe4724f9400>"
            ]
          },
          "metadata": {
            "tags": []
          },
          "execution_count": 7
        },
        {
          "output_type": "display_data",
          "data": {
            "image/png": "[encoded data removed]",
            "text/plain": [
              "<Figure size 432x288 with 1 Axes>"
            ]
          },
          "metadata": {
            "tags": []
          }
        }
      ]
    },
    {
      "cell_type": "code",
      "metadata": {
        "id": "fc_le2nN-cag",
        "colab_type": "code",
        "colab": {
          "base_uri": "https://localhost:8080/",
          "height": 308
        },
        "outputId": "adf77832-245a-41e6-c141-9292b09853a9"
      },
      "source": [
        "# Get the data for the stock BE by specifying the stock ticker, start date, and end date\n",
        "df_wdc = yf.download('WDC','2000-01-01','2019-10-15')\n",
        " \n",
        "# Plot the close prices\n",
        "df_wdc.Close.plot()\n",
        "plt.show()"
      ],
      "execution_count": 8,
      "outputs": [
        {
          "output_type": "stream",
          "text": [
            "\r[*********************100%***********************]  1 of 1 downloaded\n"
          ],
          "name": "stdout"
        },
        {
          "output_type": "execute_result",
          "data": {
            "text/plain": [
              "<matplotlib.axes._subplots.AxesSubplot at 0x7fe4717a64a8>"
            ]
          },
          "metadata": {
            "tags": []
          },
          "execution_count": 8
        },
        {
          "output_type": "display_data",
          "data": {
            "image/png": "[encoded data removed]",
            "text/plain": [
              "<Figure size 432x288 with 1 Axes>"
            ]
          },
          "metadata": {
            "tags": []
          }
        }
      ]
    },
    {
      "cell_type": "code",
      "metadata": {
        "id": "N1XvnH-e_HV5",
        "colab_type": "code",
        "colab": {
          "base_uri": "https://localhost:8080/",
          "height": 34
        },
        "outputId": "a4c632fb-31c5-4e54-c18d-c67fc0b33ade"
      },
      "source": [
        "type(df_wdc)"
      ],
      "execution_count": 9,
      "outputs": [
        {
          "output_type": "execute_result",
          "data": {
            "text/plain": [
              "pandas.core.frame.DataFrame"
            ]
          },
          "metadata": {
            "tags": []
          },
          "execution_count": 9
        }
      ]
    },
    {
      "cell_type": "code",
      "metadata": {
        "id": "u4Y_fP-x_MvZ",
        "colab_type": "code",
        "colab": {
          "base_uri": "https://localhost:8080/",
          "height": 208
        },
        "outputId": "fa5e9fbc-0fb1-4c25-b430-b9d0b7bd25f1"
      },
      "source": [
        "df_wdc.info()"
      ],
      "execution_count": 10,
      "outputs": [
        {
          "output_type": "stream",
          "text": [
            "<class 'pandas.core.frame.DataFrame'>\n",
            "DatetimeIndex: 4977 entries, 2000-01-03 to 2019-10-14\n",
            "Data columns (total 6 columns):\n",
            "Open         4977 non-null float64\n",
            "High         4977 non-null float64\n",
            "Low          4977 non-null float64\n",
            "Close        4977 non-null float64\n",
            "Adj Close    4977 non-null float64\n",
            "Volume       4977 non-null int64\n",
            "dtypes: float64(5), int64(1)\n",
            "memory usage: 272.2 KB\n"
          ],
          "name": "stdout"
        }
      ]
    },
    {
      "cell_type": "code",
      "metadata": {
        "id": "uRzzhXMImcD6",
        "colab_type": "code",
        "outputId": "8ece92ab-9854-4bb9-e6df-7cddb7beddf8",
        "colab": {
          "base_uri": "https://localhost:8080/",
          "height": 286
        }
      },
      "source": [
        "plt.plot((df_wdc['Adj Close']-df_wdc['Close'])/df_wdc['Close'])"
      ],
      "execution_count": 11,
      "outputs": [
        {
          "output_type": "execute_result",
          "data": {
            "text/plain": [
              "[<matplotlib.lines.Line2D at 0x7fe46eec3cc0>]"
            ]
          },
          "metadata": {
            "tags": []
          },
          "execution_count": 11
        },
        {
          "output_type": "display_data",
          "data": {
            "image/png": "[encoded data removed]",
            "text/plain": [
              "<Figure size 432x288 with 1 Axes>"
            ]
          },
          "metadata": {
            "tags": []
          }
        }
      ]
    },
    {
      "cell_type": "code",
      "metadata": {
        "id": "FwnRLQzzFJYA",
        "colab_type": "code",
        "outputId": "d3762542-eb94-412e-eac5-b111701f9c8c",
        "colab": {
          "base_uri": "https://localhost:8080/",
          "height": 438
        }
      },
      "source": [
        "df_wdc.head()\n",
        "df_wdc.tail()"
      ],
      "execution_count": 12,
      "outputs": [
        {
          "output_type": "execute_result",
          "data": {
            "text/html": [
              "<div>\n",
              "<style scoped>\n",
              "    .dataframe tbody tr th:only-of-type {\n",
              "        vertical-align: middle;\n",
              "    }\n",
              "\n",
              "    .dataframe tbody tr th {\n",
              "        vertical-align: top;\n",
              "    }\n",
              "\n",
              "    .dataframe thead th {\n",
              "        text-align: right;\n",
              "    }\n",
              "</style>\n",
              "<table border=\"1\" class=\"dataframe\">\n",
              "  <thead>\n",
              "    <tr style=\"text-align: right;\">\n",
              "      <th></th>\n",
              "      <th>Open</th>\n",
              "      <th>High</th>\n",
              "      <th>Low</th>\n",
              "      <th>Close</th>\n",
              "      <th>Adj Close</th>\n",
              "      <th>Volume</th>\n",
              "    </tr>\n",
              "    <tr>\n",
              "      <th>Date</th>\n",
              "      <th></th>\n",
              "      <th></th>\n",
              "      <th></th>\n",
              "      <th></th>\n",
              "      <th></th>\n",
              "      <th></th>\n",
              "    </tr>\n",
              "  </thead>\n",
              "  <tbody>\n",
              "    <tr>\n",
              "      <th>2000-01-03</th>\n",
              "      <td>4.25</td>\n",
              "      <td>4.25</td>\n",
              "      <td>3.94</td>\n",
              "      <td>3.94</td>\n",
              "      <td>3.16</td>\n",
              "      <td>2461900</td>\n",
              "    </tr>\n",
              "    <tr>\n",
              "      <th>2000-01-04</th>\n",
              "      <td>3.94</td>\n",
              "      <td>5.00</td>\n",
              "      <td>3.88</td>\n",
              "      <td>4.69</td>\n",
              "      <td>3.76</td>\n",
              "      <td>7660300</td>\n",
              "    </tr>\n",
              "    <tr>\n",
              "      <th>2000-01-05</th>\n",
              "      <td>4.75</td>\n",
              "      <td>4.75</td>\n",
              "      <td>4.12</td>\n",
              "      <td>4.38</td>\n",
              "      <td>3.51</td>\n",
              "      <td>3944600</td>\n",
              "    </tr>\n",
              "    <tr>\n",
              "      <th>2000-01-06</th>\n",
              "      <td>4.50</td>\n",
              "      <td>4.69</td>\n",
              "      <td>4.31</td>\n",
              "      <td>4.56</td>\n",
              "      <td>3.66</td>\n",
              "      <td>2468400</td>\n",
              "    </tr>\n",
              "    <tr>\n",
              "      <th>2000-01-07</th>\n",
              "      <td>4.62</td>\n",
              "      <td>5.62</td>\n",
              "      <td>4.62</td>\n",
              "      <td>5.62</td>\n",
              "      <td>4.51</td>\n",
              "      <td>9783000</td>\n",
              "    </tr>\n",
              "  </tbody>\n",
              "</table>\n",
              "</div>"
            ],
            "text/plain": [
              "            Open  High   Low  Close  Adj Close   Volume\n",
              "Date                                                   \n",
              "2000-01-03  4.25  4.25  3.94   3.94       3.16  2461900\n",
              "2000-01-04  3.94  5.00  3.88   4.69       3.76  7660300\n",
              "2000-01-05  4.75  4.75  4.12   4.38       3.51  3944600\n",
              "2000-01-06  4.50  4.69  4.31   4.56       3.66  2468400\n",
              "2000-01-07  4.62  5.62  4.62   5.62       4.51  9783000"
            ]
          },
          "metadata": {
            "tags": []
          },
          "execution_count": 12
        },
        {
          "output_type": "execute_result",
          "data": {
            "text/html": [
              "<div>\n",
              "<style scoped>\n",
              "    .dataframe tbody tr th:only-of-type {\n",
              "        vertical-align: middle;\n",
              "    }\n",
              "\n",
              "    .dataframe tbody tr th {\n",
              "        vertical-align: top;\n",
              "    }\n",
              "\n",
              "    .dataframe thead th {\n",
              "        text-align: right;\n",
              "    }\n",
              "</style>\n",
              "<table border=\"1\" class=\"dataframe\">\n",
              "  <thead>\n",
              "    <tr style=\"text-align: right;\">\n",
              "      <th></th>\n",
              "      <th>Open</th>\n",
              "      <th>High</th>\n",
              "      <th>Low</th>\n",
              "      <th>Close</th>\n",
              "      <th>Adj Close</th>\n",
              "      <th>Volume</th>\n",
              "    </tr>\n",
              "    <tr>\n",
              "      <th>Date</th>\n",
              "      <th></th>\n",
              "      <th></th>\n",
              "      <th></th>\n",
              "      <th></th>\n",
              "      <th></th>\n",
              "      <th></th>\n",
              "    </tr>\n",
              "  </thead>\n",
              "  <tbody>\n",
              "    <tr>\n",
              "      <th>2019-10-08</th>\n",
              "      <td>57.10</td>\n",
              "      <td>57.30</td>\n",
              "      <td>55.40</td>\n",
              "      <td>55.52</td>\n",
              "      <td>55.52</td>\n",
              "      <td>4404300</td>\n",
              "    </tr>\n",
              "    <tr>\n",
              "      <th>2019-10-09</th>\n",
              "      <td>56.27</td>\n",
              "      <td>56.97</td>\n",
              "      <td>55.93</td>\n",
              "      <td>56.53</td>\n",
              "      <td>56.53</td>\n",
              "      <td>2242800</td>\n",
              "    </tr>\n",
              "    <tr>\n",
              "      <th>2019-10-10</th>\n",
              "      <td>56.40</td>\n",
              "      <td>57.82</td>\n",
              "      <td>56.13</td>\n",
              "      <td>57.34</td>\n",
              "      <td>57.34</td>\n",
              "      <td>2361600</td>\n",
              "    </tr>\n",
              "    <tr>\n",
              "      <th>2019-10-11</th>\n",
              "      <td>58.54</td>\n",
              "      <td>59.28</td>\n",
              "      <td>58.01</td>\n",
              "      <td>58.35</td>\n",
              "      <td>58.35</td>\n",
              "      <td>2617800</td>\n",
              "    </tr>\n",
              "    <tr>\n",
              "      <th>2019-10-14</th>\n",
              "      <td>59.61</td>\n",
              "      <td>60.23</td>\n",
              "      <td>58.80</td>\n",
              "      <td>59.28</td>\n",
              "      <td>59.28</td>\n",
              "      <td>3758477</td>\n",
              "    </tr>\n",
              "  </tbody>\n",
              "</table>\n",
              "</div>"
            ],
            "text/plain": [
              "             Open   High    Low  Close  Adj Close   Volume\n",
              "Date                                                      \n",
              "2019-10-08  57.10  57.30  55.40  55.52      55.52  4404300\n",
              "2019-10-09  56.27  56.97  55.93  56.53      56.53  2242800\n",
              "2019-10-10  56.40  57.82  56.13  57.34      57.34  2361600\n",
              "2019-10-11  58.54  59.28  58.01  58.35      58.35  2617800\n",
              "2019-10-14  59.61  60.23  58.80  59.28      59.28  3758477"
            ]
          },
          "metadata": {
            "tags": []
          },
          "execution_count": 12
        }
      ]
    },
    {
      "cell_type": "code",
      "metadata": {
        "id": "VM1oN0Nsnp7w",
        "colab_type": "code",
        "outputId": "ccd40810-26ce-4070-ef33-3261e26e7e63",
        "colab": {
          "base_uri": "https://localhost:8080/",
          "height": 227
        }
      },
      "source": [
        "df_wdc.drop(columns=['Adj Close'],inplace=True)\n",
        "df_wdc.head()"
      ],
      "execution_count": 13,
      "outputs": [
        {
          "output_type": "execute_result",
          "data": {
            "text/html": [
              "<div>\n",
              "<style scoped>\n",
              "    .dataframe tbody tr th:only-of-type {\n",
              "        vertical-align: middle;\n",
              "    }\n",
              "\n",
              "    .dataframe tbody tr th {\n",
              "        vertical-align: top;\n",
              "    }\n",
              "\n",
              "    .dataframe thead th {\n",
              "        text-align: right;\n",
              "    }\n",
              "</style>\n",
              "<table border=\"1\" class=\"dataframe\">\n",
              "  <thead>\n",
              "    <tr style=\"text-align: right;\">\n",
              "      <th></th>\n",
              "      <th>Open</th>\n",
              "      <th>High</th>\n",
              "      <th>Low</th>\n",
              "      <th>Close</th>\n",
              "      <th>Volume</th>\n",
              "    </tr>\n",
              "    <tr>\n",
              "      <th>Date</th>\n",
              "      <th></th>\n",
              "      <th></th>\n",
              "      <th></th>\n",
              "      <th></th>\n",
              "      <th></th>\n",
              "    </tr>\n",
              "  </thead>\n",
              "  <tbody>\n",
              "    <tr>\n",
              "      <th>2000-01-03</th>\n",
              "      <td>4.25</td>\n",
              "      <td>4.25</td>\n",
              "      <td>3.94</td>\n",
              "      <td>3.94</td>\n",
              "      <td>2461900</td>\n",
              "    </tr>\n",
              "    <tr>\n",
              "      <th>2000-01-04</th>\n",
              "      <td>3.94</td>\n",
              "      <td>5.00</td>\n",
              "      <td>3.88</td>\n",
              "      <td>4.69</td>\n",
              "      <td>7660300</td>\n",
              "    </tr>\n",
              "    <tr>\n",
              "      <th>2000-01-05</th>\n",
              "      <td>4.75</td>\n",
              "      <td>4.75</td>\n",
              "      <td>4.12</td>\n",
              "      <td>4.38</td>\n",
              "      <td>3944600</td>\n",
              "    </tr>\n",
              "    <tr>\n",
              "      <th>2000-01-06</th>\n",
              "      <td>4.50</td>\n",
              "      <td>4.69</td>\n",
              "      <td>4.31</td>\n",
              "      <td>4.56</td>\n",
              "      <td>2468400</td>\n",
              "    </tr>\n",
              "    <tr>\n",
              "      <th>2000-01-07</th>\n",
              "      <td>4.62</td>\n",
              "      <td>5.62</td>\n",
              "      <td>4.62</td>\n",
              "      <td>5.62</td>\n",
              "      <td>9783000</td>\n",
              "    </tr>\n",
              "  </tbody>\n",
              "</table>\n",
              "</div>"
            ],
            "text/plain": [
              "            Open  High   Low  Close   Volume\n",
              "Date                                        \n",
              "2000-01-03  4.25  4.25  3.94   3.94  2461900\n",
              "2000-01-04  3.94  5.00  3.88   4.69  7660300\n",
              "2000-01-05  4.75  4.75  4.12   4.38  3944600\n",
              "2000-01-06  4.50  4.69  4.31   4.56  2468400\n",
              "2000-01-07  4.62  5.62  4.62   5.62  9783000"
            ]
          },
          "metadata": {
            "tags": []
          },
          "execution_count": 13
        }
      ]
    },
    {
      "cell_type": "code",
      "metadata": {
        "id": "xyUKKaimMEKD",
        "colab_type": "code",
        "outputId": "04d941a7-aad2-4f4b-a873-0565dd1a0db5",
        "colab": {
          "base_uri": "https://localhost:8080/",
          "height": 438
        }
      },
      "source": [
        "#Set number of days and standard deviations to use for rolling lookback period for Bollinger band calculation\n",
        "window = 21\n",
        "no_of_std = 2\n",
        "#Calculate rolling mean and standard deviation using number of days set above\n",
        "roll_mean_wdc = df_wdc['Open'].rolling(window).mean()\n",
        "roll_std_wdc = df_wdc['Open'].rolling(window).std()\n",
        "#create two new DataFrame columns to hold values of upper and lower Bollinger bands\n",
        "df_wdc['rolling_mean'] = roll_mean_wdc\n",
        "df_wdc['bollinger_high'] = roll_mean_wdc + (roll_std_wdc * no_of_std)\n",
        "df_wdc['bollinger_low'] = roll_mean_wdc - (roll_std_wdc * no_of_std)\n",
        "df_wdc.head()\n",
        "df_wdc.tail()"
      ],
      "execution_count": 14,
      "outputs": [
        {
          "output_type": "execute_result",
          "data": {
            "text/html": [
              "<div>\n",
              "<style scoped>\n",
              "    .dataframe tbody tr th:only-of-type {\n",
              "        vertical-align: middle;\n",
              "    }\n",
              "\n",
              "    .dataframe tbody tr th {\n",
              "        vertical-align: top;\n",
              "    }\n",
              "\n",
              "    .dataframe thead th {\n",
              "        text-align: right;\n",
              "    }\n",
              "</style>\n",
              "<table border=\"1\" class=\"dataframe\">\n",
              "  <thead>\n",
              "    <tr style=\"text-align: right;\">\n",
              "      <th></th>\n",
              "      <th>Open</th>\n",
              "      <th>High</th>\n",
              "      <th>Low</th>\n",
              "      <th>Close</th>\n",
              "      <th>Volume</th>\n",
              "      <th>rolling_mean</th>\n",
              "      <th>bollinger_high</th>\n",
              "      <th>bollinger_low</th>\n",
              "    </tr>\n",
              "    <tr>\n",
              "      <th>Date</th>\n",
              "      <th></th>\n",
              "      <th></th>\n",
              "      <th></th>\n",
              "      <th></th>\n",
              "      <th></th>\n",
              "      <th></th>\n",
              "      <th></th>\n",
              "      <th></th>\n",
              "    </tr>\n",
              "  </thead>\n",
              "  <tbody>\n",
              "    <tr>\n",
              "      <th>2000-01-03</th>\n",
              "      <td>4.25</td>\n",
              "      <td>4.25</td>\n",
              "      <td>3.94</td>\n",
              "      <td>3.94</td>\n",
              "      <td>2461900</td>\n",
              "      <td>NaN</td>\n",
              "      <td>NaN</td>\n",
              "      <td>NaN</td>\n",
              "    </tr>\n",
              "    <tr>\n",
              "      <th>2000-01-04</th>\n",
              "      <td>3.94</td>\n",
              "      <td>5.00</td>\n",
              "      <td>3.88</td>\n",
              "      <td>4.69</td>\n",
              "      <td>7660300</td>\n",
              "      <td>NaN</td>\n",
              "      <td>NaN</td>\n",
              "      <td>NaN</td>\n",
              "    </tr>\n",
              "    <tr>\n",
              "      <th>2000-01-05</th>\n",
              "      <td>4.75</td>\n",
              "      <td>4.75</td>\n",
              "      <td>4.12</td>\n",
              "      <td>4.38</td>\n",
              "      <td>3944600</td>\n",
              "      <td>NaN</td>\n",
              "      <td>NaN</td>\n",
              "      <td>NaN</td>\n",
              "    </tr>\n",
              "    <tr>\n",
              "      <th>2000-01-06</th>\n",
              "      <td>4.50</td>\n",
              "      <td>4.69</td>\n",
              "      <td>4.31</td>\n",
              "      <td>4.56</td>\n",
              "      <td>2468400</td>\n",
              "      <td>NaN</td>\n",
              "      <td>NaN</td>\n",
              "      <td>NaN</td>\n",
              "    </tr>\n",
              "    <tr>\n",
              "      <th>2000-01-07</th>\n",
              "      <td>4.62</td>\n",
              "      <td>5.62</td>\n",
              "      <td>4.62</td>\n",
              "      <td>5.62</td>\n",
              "      <td>9783000</td>\n",
              "      <td>NaN</td>\n",
              "      <td>NaN</td>\n",
              "      <td>NaN</td>\n",
              "    </tr>\n",
              "  </tbody>\n",
              "</table>\n",
              "</div>"
            ],
            "text/plain": [
              "            Open  High   Low  ...  rolling_mean  bollinger_high  bollinger_low\n",
              "Date                          ...                                             \n",
              "2000-01-03  4.25  4.25  3.94  ...           NaN             NaN            NaN\n",
              "2000-01-04  3.94  5.00  3.88  ...           NaN             NaN            NaN\n",
              "2000-01-05  4.75  4.75  4.12  ...           NaN             NaN            NaN\n",
              "2000-01-06  4.50  4.69  4.31  ...           NaN             NaN            NaN\n",
              "2000-01-07  4.62  5.62  4.62  ...           NaN             NaN            NaN\n",
              "\n",
              "[5 rows x 8 columns]"
            ]
          },
          "metadata": {
            "tags": []
          },
          "execution_count": 14
        },
        {
          "output_type": "execute_result",
          "data": {
            "text/html": [
              "<div>\n",
              "<style scoped>\n",
              "    .dataframe tbody tr th:only-of-type {\n",
              "        vertical-align: middle;\n",
              "    }\n",
              "\n",
              "    .dataframe tbody tr th {\n",
              "        vertical-align: top;\n",
              "    }\n",
              "\n",
              "    .dataframe thead th {\n",
              "        text-align: right;\n",
              "    }\n",
              "</style>\n",
              "<table border=\"1\" class=\"dataframe\">\n",
              "  <thead>\n",
              "    <tr style=\"text-align: right;\">\n",
              "      <th></th>\n",
              "      <th>Open</th>\n",
              "      <th>High</th>\n",
              "      <th>Low</th>\n",
              "      <th>Close</th>\n",
              "      <th>Volume</th>\n",
              "      <th>rolling_mean</th>\n",
              "      <th>bollinger_high</th>\n",
              "      <th>bollinger_low</th>\n",
              "    </tr>\n",
              "    <tr>\n",
              "      <th>Date</th>\n",
              "      <th></th>\n",
              "      <th></th>\n",
              "      <th></th>\n",
              "      <th></th>\n",
              "      <th></th>\n",
              "      <th></th>\n",
              "      <th></th>\n",
              "      <th></th>\n",
              "    </tr>\n",
              "  </thead>\n",
              "  <tbody>\n",
              "    <tr>\n",
              "      <th>2019-10-08</th>\n",
              "      <td>57.10</td>\n",
              "      <td>57.30</td>\n",
              "      <td>55.40</td>\n",
              "      <td>55.52</td>\n",
              "      <td>4404300</td>\n",
              "      <td>61.185238</td>\n",
              "      <td>66.181367</td>\n",
              "      <td>56.189109</td>\n",
              "    </tr>\n",
              "    <tr>\n",
              "      <th>2019-10-09</th>\n",
              "      <td>56.27</td>\n",
              "      <td>56.97</td>\n",
              "      <td>55.93</td>\n",
              "      <td>56.53</td>\n",
              "      <td>2242800</td>\n",
              "      <td>60.894762</td>\n",
              "      <td>66.294586</td>\n",
              "      <td>55.494937</td>\n",
              "    </tr>\n",
              "    <tr>\n",
              "      <th>2019-10-10</th>\n",
              "      <td>56.40</td>\n",
              "      <td>57.82</td>\n",
              "      <td>56.13</td>\n",
              "      <td>57.34</td>\n",
              "      <td>2361600</td>\n",
              "      <td>60.584762</td>\n",
              "      <td>66.240098</td>\n",
              "      <td>54.929426</td>\n",
              "    </tr>\n",
              "    <tr>\n",
              "      <th>2019-10-11</th>\n",
              "      <td>58.54</td>\n",
              "      <td>59.28</td>\n",
              "      <td>58.01</td>\n",
              "      <td>58.35</td>\n",
              "      <td>2617800</td>\n",
              "      <td>60.300000</td>\n",
              "      <td>65.720446</td>\n",
              "      <td>54.879554</td>\n",
              "    </tr>\n",
              "    <tr>\n",
              "      <th>2019-10-14</th>\n",
              "      <td>59.61</td>\n",
              "      <td>60.23</td>\n",
              "      <td>58.80</td>\n",
              "      <td>59.28</td>\n",
              "      <td>3758477</td>\n",
              "      <td>60.075714</td>\n",
              "      <td>65.177979</td>\n",
              "      <td>54.973450</td>\n",
              "    </tr>\n",
              "  </tbody>\n",
              "</table>\n",
              "</div>"
            ],
            "text/plain": [
              "             Open   High    Low  ...  rolling_mean  bollinger_high  bollinger_low\n",
              "Date                             ...                                             \n",
              "2019-10-08  57.10  57.30  55.40  ...     61.185238       66.181367      56.189109\n",
              "2019-10-09  56.27  56.97  55.93  ...     60.894762       66.294586      55.494937\n",
              "2019-10-10  56.40  57.82  56.13  ...     60.584762       66.240098      54.929426\n",
              "2019-10-11  58.54  59.28  58.01  ...     60.300000       65.720446      54.879554\n",
              "2019-10-14  59.61  60.23  58.80  ...     60.075714       65.177979      54.973450\n",
              "\n",
              "[5 rows x 8 columns]"
            ]
          },
          "metadata": {
            "tags": []
          },
          "execution_count": 14
        }
      ]
    },
    {
      "cell_type": "code",
      "metadata": {
        "id": "wE197MoV3oqJ",
        "colab_type": "code",
        "outputId": "55e2fa7f-8b36-4c20-e8f0-6afcd865812e",
        "colab": {
          "base_uri": "https://localhost:8080/",
          "height": 173
        }
      },
      "source": [
        "df_wdc.iloc[4778,:]"
      ],
      "execution_count": 15,
      "outputs": [
        {
          "output_type": "execute_result",
          "data": {
            "text/plain": [
              "Open              3.804000e+01\n",
              "High              3.809000e+01\n",
              "Low               3.582000e+01\n",
              "Close             3.697000e+01\n",
              "Volume            6.960500e+06\n",
              "rolling_mean      4.046000e+01\n",
              "bollinger_high    4.803532e+01\n",
              "bollinger_low     3.288468e+01\n",
              "Name: 2018-12-31 00:00:00, dtype: float64"
            ]
          },
          "metadata": {
            "tags": []
          },
          "execution_count": 15
        }
      ]
    },
    {
      "cell_type": "code",
      "metadata": {
        "id": "TP-We79Kof-o",
        "colab_type": "code",
        "outputId": "1eedc64c-8957-4798-c1e1-6437143e987e",
        "colab": {
          "base_uri": "https://localhost:8080/",
          "height": 173
        }
      },
      "source": [
        "df_wdc.iloc[2262,:]"
      ],
      "execution_count": 16,
      "outputs": [
        {
          "output_type": "execute_result",
          "data": {
            "text/plain": [
              "Open              1.123000e+01\n",
              "High              1.158000e+01\n",
              "Low               1.108000e+01\n",
              "Close             1.145000e+01\n",
              "Volume            2.584800e+06\n",
              "rolling_mean      1.193333e+01\n",
              "bollinger_high    1.315370e+01\n",
              "bollinger_low     1.071297e+01\n",
              "Name: 2008-12-31 00:00:00, dtype: float64"
            ]
          },
          "metadata": {
            "tags": []
          },
          "execution_count": 16
        }
      ]
    },
    {
      "cell_type": "code",
      "metadata": {
        "id": "Hftan9g8qHZ5",
        "colab_type": "code",
        "outputId": "1ddea241-5851-46d7-cfba-988b0b2ded33",
        "colab": {
          "base_uri": "https://localhost:8080/",
          "height": 173
        }
      },
      "source": [
        "df_wdc.iloc[4882,:]"
      ],
      "execution_count": 17,
      "outputs": [
        {
          "output_type": "execute_result",
          "data": {
            "text/plain": [
              "Open              3.869000e+01\n",
              "High              3.967000e+01\n",
              "Low               3.717000e+01\n",
              "Close             3.722000e+01\n",
              "Volume            7.121300e+06\n",
              "rolling_mean      4.424810e+01\n",
              "bollinger_high    5.118006e+01\n",
              "bollinger_low     3.731613e+01\n",
              "Name: 2019-05-31 00:00:00, dtype: float64"
            ]
          },
          "metadata": {
            "tags": []
          },
          "execution_count": 17
        }
      ]
    },
    {
      "cell_type": "code",
      "metadata": {
        "id": "kiKXoNSfFmwc",
        "colab_type": "code",
        "colab": {
          "base_uri": "https://localhost:8080/",
          "height": 173
        },
        "outputId": "0815448f-7cc3-46b7-e6ad-14c6d3ecb4bd"
      },
      "source": [
        "df_wdc.iloc[4976,:]"
      ],
      "execution_count": 18,
      "outputs": [
        {
          "output_type": "execute_result",
          "data": {
            "text/plain": [
              "Open              5.961000e+01\n",
              "High              6.023000e+01\n",
              "Low               5.880000e+01\n",
              "Close             5.928000e+01\n",
              "Volume            3.758477e+06\n",
              "rolling_mean      6.007571e+01\n",
              "bollinger_high    6.517798e+01\n",
              "bollinger_low     5.497345e+01\n",
              "Name: 2019-10-14 00:00:00, dtype: float64"
            ]
          },
          "metadata": {
            "tags": []
          },
          "execution_count": 18
        }
      ]
    },
    {
      "cell_type": "code",
      "metadata": {
        "id": "OO4RsL2FNZFa",
        "colab_type": "code",
        "outputId": "150c95f7-e022-4590-9612-955667af34a0",
        "colab": {
          "base_uri": "https://localhost:8080/",
          "height": 286
        }
      },
      "source": [
        "sns.lineplot(data=df_wdc['Close'][-100:])\n",
        "sns.lineplot(data=df_wdc['bollinger_high'][-100:])\n",
        "sns.lineplot(data=df_wdc['bollinger_low'][-100:])"
      ],
      "execution_count": 19,
      "outputs": [
        {
          "output_type": "execute_result",
          "data": {
            "text/plain": [
              "<matplotlib.axes._subplots.AxesSubplot at 0x7fe46e3bd6d8>"
            ]
          },
          "metadata": {
            "tags": []
          },
          "execution_count": 19
        },
        {
          "output_type": "execute_result",
          "data": {
            "text/plain": [
              "<matplotlib.axes._subplots.AxesSubplot at 0x7fe46e3bd6d8>"
            ]
          },
          "metadata": {
            "tags": []
          },
          "execution_count": 19
        },
        {
          "output_type": "execute_result",
          "data": {
            "text/plain": [
              "<matplotlib.axes._subplots.AxesSubplot at 0x7fe46e3bd6d8>"
            ]
          },
          "metadata": {
            "tags": []
          },
          "execution_count": 19
        },
        {
          "output_type": "display_data",
          "data": {
            "image/png": "[encoded data removed]",
            "text/plain": [
              "<Figure size 432x288 with 1 Axes>"
            ]
          },
          "metadata": {
            "tags": []
          }
        }
      ]
    },
    {
      "cell_type": "code",
      "metadata": {
        "id": "aXOnXUvtDGnu",
        "colab_type": "code",
        "colab": {
          "base_uri": "https://localhost:8080/",
          "height": 34
        },
        "outputId": "abe863c3-062e-4c21-85f1-8a58d0b459a4"
      },
      "source": [
        "df_wdc['Close'].values"
      ],
      "execution_count": 20,
      "outputs": [
        {
          "output_type": "execute_result",
          "data": {
            "text/plain": [
              "array([ 3.94,  4.69,  4.38, ..., 57.34, 58.35, 59.28])"
            ]
          },
          "metadata": {
            "tags": []
          },
          "execution_count": 20
        }
      ]
    },
    {
      "cell_type": "code",
      "metadata": {
        "id": "Wedga_2YEWik",
        "colab_type": "code",
        "outputId": "16d9e39a-dd80-4872-b8d6-11ead2bf829e",
        "colab": {
          "base_uri": "https://localhost:8080/",
          "height": 121
        }
      },
      "source": [
        "close_array = df_wdc.values\n",
        "close_array.shape\n",
        "close_array[:3]\n",
        "close_array[2263:,3].shape\n",
        "train_array = close_array[2263:4778,3]\n",
        "train_array.shape\n",
        "valid_array = close_array[4778:4882,3]\n",
        "valid_array.shape\n",
        "test_array = close_array[4883:,3]\n",
        "test_array.shape"
      ],
      "execution_count": 21,
      "outputs": [
        {
          "output_type": "execute_result",
          "data": {
            "text/plain": [
              "(4977, 8)"
            ]
          },
          "metadata": {
            "tags": []
          },
          "execution_count": 21
        },
        {
          "output_type": "execute_result",
          "data": {
            "text/plain": [
              "array([[4.2500e+00, 4.2500e+00, 3.9400e+00, 3.9400e+00, 2.4619e+06,\n",
              "               nan,        nan,        nan],\n",
              "       [3.9400e+00, 5.0000e+00, 3.8800e+00, 4.6900e+00, 7.6603e+06,\n",
              "               nan,        nan,        nan],\n",
              "       [4.7500e+00, 4.7500e+00, 4.1200e+00, 4.3800e+00, 3.9446e+06,\n",
              "               nan,        nan,        nan]])"
            ]
          },
          "metadata": {
            "tags": []
          },
          "execution_count": 21
        }
      ]
    },
    {
      "cell_type": "code",
      "metadata": {
        "id": "BvszpjhADytk",
        "colab_type": "code",
        "colab": {
          "base_uri": "https://localhost:8080/",
          "height": 34
        },
        "outputId": "ed85a4a7-b80c-4132-f99c-e9c72b5041fb"
      },
      "source": [
        ""
      ],
      "execution_count": 22,
      "outputs": [
        {
          "output_type": "execute_result",
          "data": {
            "text/plain": [
              "(2714,)"
            ]
          },
          "metadata": {
            "tags": []
          },
          "execution_count": 22
        }
      ]
    },
    {
      "cell_type": "code",
      "metadata": {
        "id": "vqmJ2z3QTWbp",
        "colab_type": "code",
        "outputId": "1b427c4f-3574-426a-d6c6-dbb652c67a91",
        "colab": {
          "base_uri": "https://localhost:8080/",
          "height": 34
        }
      },
      "source": [
        ""
      ],
      "execution_count": 23,
      "outputs": [
        {
          "output_type": "execute_result",
          "data": {
            "text/plain": [
              "(2515,)"
            ]
          },
          "metadata": {
            "tags": []
          },
          "execution_count": 23
        }
      ]
    },
    {
      "cell_type": "code",
      "metadata": {
        "id": "ufFqrFQFpdWZ",
        "colab_type": "code",
        "outputId": "06b91e68-e5f0-4b7b-c427-b0b5827bac74",
        "colab": {
          "base_uri": "https://localhost:8080/",
          "height": 34
        }
      },
      "source": [
        ""
      ],
      "execution_count": 24,
      "outputs": [
        {
          "output_type": "execute_result",
          "data": {
            "text/plain": [
              "(104,)"
            ]
          },
          "metadata": {
            "tags": []
          },
          "execution_count": 24
        }
      ]
    },
    {
      "cell_type": "code",
      "metadata": {
        "id": "KhmLBM-MGnuc",
        "colab_type": "code",
        "colab": {
          "base_uri": "https://localhost:8080/",
          "height": 34
        },
        "outputId": "666b68b5-d277-4e2b-ae27-46c85babdbd1"
      },
      "source": [
        ""
      ],
      "execution_count": 25,
      "outputs": [
        {
          "output_type": "execute_result",
          "data": {
            "text/plain": [
              "(94,)"
            ]
          },
          "metadata": {
            "tags": []
          },
          "execution_count": 25
        }
      ]
    },
    {
      "cell_type": "code",
      "metadata": {
        "id": "TYlPVlYbDJnt",
        "colab_type": "code",
        "outputId": "fbe81c70-1c3a-4e78-aedb-012afeccacf2",
        "colab": {
          "base_uri": "https://localhost:8080/",
          "height": 399
        }
      },
      "source": [
        "train_array\n",
        "valid_array\n",
        "test_array"
      ],
      "execution_count": 26,
      "outputs": [
        {
          "output_type": "execute_result",
          "data": {
            "text/plain": [
              "array([12.33, 12.02, 14.32, ..., 36.93, 36.89, 36.74])"
            ]
          },
          "metadata": {
            "tags": []
          },
          "execution_count": 26
        },
        {
          "output_type": "execute_result",
          "data": {
            "text/plain": [
              "array([36.97, 38.26, 35.65, 37.16, 38.48, 38.11, 39.79, 39.81, 40.03,\n",
              "       38.06, 37.68, 37.83, 36.47, 39.2 , 37.56, 37.62, 40.14, 43.16,\n",
              "       44.  , 42.55, 43.83, 44.99, 47.  , 47.85, 47.41, 48.  , 45.86,\n",
              "       46.71, 45.93, 47.26, 47.69, 47.98, 47.65, 48.  , 48.46, 47.19,\n",
              "       49.49, 51.36, 50.97, 48.54, 50.3 , 51.66, 52.61, 50.74, 48.12,\n",
              "       46.99, 47.48, 49.66, 49.15, 48.99, 47.58, 48.1 , 48.29, 47.88,\n",
              "       47.17, 51.78, 48.39, 47.89, 47.08, 45.38, 45.75, 48.06, 49.31,\n",
              "       50.38, 52.01, 51.4 , 52.04, 51.59, 50.11, 50.69, 50.83, 51.83,\n",
              "       51.86, 54.29, 54.45, 55.39, 54.21, 54.45, 53.94, 52.95, 50.92,\n",
              "       50.47, 51.12, 50.8 , 49.76, 50.8 , 49.56, 47.21, 46.7 , 46.42,\n",
              "       45.86, 42.99, 44.63, 45.49, 45.09, 44.63, 41.95, 43.45, 42.19,\n",
              "       41.49, 40.98, 39.58, 39.66, 39.46])"
            ]
          },
          "metadata": {
            "tags": []
          },
          "execution_count": 26
        },
        {
          "output_type": "execute_result",
          "data": {
            "text/plain": [
              "array([37.08, 39.14, 37.9 , 37.99, 36.94, 37.98, 38.41, 36.24, 37.34,\n",
              "       36.33, 36.27, 38.11, 38.84, 39.64, 40.04, 41.03, 41.1 , 44.1 ,\n",
              "       44.55, 47.55, 49.65, 48.33, 47.94, 48.52, 49.87, 51.48, 54.04,\n",
              "       54.26, 55.3 , 54.64, 51.49, 51.49, 52.88, 52.46, 55.31, 55.98,\n",
              "       57.36, 56.97, 56.5 , 55.79, 56.59, 53.89, 55.51, 54.39, 52.75,\n",
              "       53.58, 52.83, 55.2 , 54.26, 54.17, 55.6 , 54.43, 54.06, 55.19,\n",
              "       57.25, 56.19, 56.35, 56.92, 54.63, 54.64, 52.66, 53.44, 55.08,\n",
              "       57.27, 57.47, 59.33, 61.95, 62.24, 62.75, 62.27, 64.3 , 64.7 ,\n",
              "       64.6 , 62.99, 63.91, 63.56, 62.65, 60.68, 60.99, 59.58, 61.05,\n",
              "       61.8 , 60.49, 59.64, 58.59, 56.82, 57.78, 58.57, 57.99, 55.52,\n",
              "       56.53, 57.34, 58.35, 59.28])"
            ]
          },
          "metadata": {
            "tags": []
          },
          "execution_count": 26
        }
      ]
    },
    {
      "cell_type": "code",
      "metadata": {
        "id": "P5a64IT5H0wg",
        "colab_type": "code",
        "colab": {
          "base_uri": "https://localhost:8080/",
          "height": 34
        },
        "outputId": "6c892b3d-aed6-4bc1-d0b2-19af7c51efef"
      },
      "source": [
        "#Scale the close data\n",
        "\n",
        "def scale_all_inputs(train_array, valid_array, test_array):\n",
        "  sc_model = MinMaxScaler((0, 1))\n",
        "  train_scaled_array = sc_model.fit_transform(train_array.reshape(-1, 1))\n",
        "  valid_scaled_array = sc_model.transform(valid_array.reshape(-1, 1))\n",
        "  test_scaled_array = sc_model.transform(test_array.reshape(-1, 1))\n",
        "  print(train_scaled_array.shape, valid_scaled_array.shape, test_scaled_array.shape)\n",
        "  return sc_model, train_scaled_array, valid_scaled_array, test_scaled_array \n",
        "\n",
        "sc_wdc, train_scale_wdc, valid_scale_wdc, test_scale_wdc = scale_all_inputs(train_array, valid_array, test_array)"
      ],
      "execution_count": 113,
      "outputs": [
        {
          "output_type": "stream",
          "text": [
            "(2515, 1) (104, 1) (94, 1)\n"
          ],
          "name": "stdout"
        }
      ]
    },
    {
      "cell_type": "code",
      "metadata": {
        "id": "Kf8aLsmLTyVS",
        "colab_type": "code",
        "outputId": "ca6c4f85-304d-44d4-a479-b555e39f6409",
        "colab": {
          "base_uri": "https://localhost:8080/",
          "height": 286
        }
      },
      "source": [
        "plt.plot(train_scale_wdc,color='b',label='close')\n",
        "plt.plot(valid_scale_wdc,color='g',label='close')\n",
        "plt.plot(test_scale_wdc,color='c',label='close')"
      ],
      "execution_count": 28,
      "outputs": [
        {
          "output_type": "execute_result",
          "data": {
            "text/plain": [
              "[<matplotlib.lines.Line2D at 0x7fe46e357e48>]"
            ]
          },
          "metadata": {
            "tags": []
          },
          "execution_count": 28
        },
        {
          "output_type": "execute_result",
          "data": {
            "text/plain": [
              "[<matplotlib.lines.Line2D at 0x7fe46e3a7320>]"
            ]
          },
          "metadata": {
            "tags": []
          },
          "execution_count": 28
        },
        {
          "output_type": "execute_result",
          "data": {
            "text/plain": [
              "[<matplotlib.lines.Line2D at 0x7fe46e35f278>]"
            ]
          },
          "metadata": {
            "tags": []
          },
          "execution_count": 28
        },
        {
          "output_type": "display_data",
          "data": {
            "image/png": "[encoded data removed]",
            "text/plain": [
              "<Figure size 432x288 with 1 Axes>"
            ]
          },
          "metadata": {
            "tags": []
          }
        }
      ]
    },
    {
      "cell_type": "code",
      "metadata": {
        "id": "V6m2Po1AGre3",
        "colab_type": "code",
        "colab": {
          "base_uri": "https://localhost:8080/",
          "height": 86
        },
        "outputId": "3a744dba-f902-4da0-a9a6-7762cab5f9f7"
      },
      "source": [
        "# Create data structures with x timesteps and 1 output\n",
        "\n",
        "def create_data_structures(timesteps, train_array, valid_array, test_array):\n",
        "  sc_model, train_scaled_array, valid_scaled_array, test_scaled_array = scale_all_inputs(train_array, valid_array, test_array)\n",
        "  \n",
        "  \n",
        "  X_train = []\n",
        "  y_train = []\n",
        "  for i in range(timesteps, train_array.shape[0]):\n",
        "    X_train.append(train_scaled_array[i-timesteps:i,0])\n",
        "    y_train.append(train_scaled_array[i,0])\n",
        "  X_train, y_train  = np.array(X_train), np.array(y_train)\n",
        "  #reshape\n",
        "  X_train = np.reshape(X_train, (X_train.shape[0], X_train.shape[1],1))\n",
        "  print(X_train.shape, y_train.shape)\n",
        "\n",
        "  X_valid = []\n",
        "  for i in range(timesteps, timesteps+valid_scaled_array.shape[0]):\n",
        "    X_valid.append(np.concatenate((train_scaled_array[-timesteps:],valid_scaled_array),0)[i-timesteps:i,0])\n",
        "  X_valid = np.array(X_valid)\n",
        "  X_valid = np.reshape(X_valid, (X_valid.shape[0], X_valid.shape[1], 1))\n",
        "  print(X_valid.shape)\n",
        "\n",
        "  X_test = []\n",
        "  for i in range(timesteps, timesteps+test_scaled_array.shape[0]):\n",
        "    X_test.append(np.concatenate((valid_scaled_array[-timesteps:],test_scaled_array),0)[i-timesteps:i,0])\n",
        "  X_test = np.array(X_test)\n",
        "  X_test = np.reshape(X_test, (X_test.shape[0], X_test.shape[1], 1))\n",
        "  print(X_test.shape)\n",
        "\n",
        "  return sc_model, X_train, y_train, X_valid, X_test\n",
        "\n",
        "sc_model, X_train, y_train, X_valid, X_test = create_data_structures(30, train_array, valid_array, test_array)"
      ],
      "execution_count": 107,
      "outputs": [
        {
          "output_type": "stream",
          "text": [
            "(2515, 1) (104, 1) (94, 1)\n",
            "(2485, 30, 1) (2485,)\n",
            "(104, 30, 1)\n",
            "(94, 30, 1)\n"
          ],
          "name": "stdout"
        }
      ]
    },
    {
      "cell_type": "code",
      "metadata": {
        "id": "MsBp_SMVH19Z",
        "colab_type": "code",
        "colab": {
          "base_uri": "https://localhost:8080/",
          "height": 34
        },
        "outputId": "fde9da87-8a79-45b6-aa06-93f437724b9f"
      },
      "source": [
        "# Creating a data structure with 30 timesteps and 1 output\n",
        "timesteps=15\n",
        "X_train = []\n",
        "y_train = []\n",
        "for i in range(timesteps, train_array.shape[0]):\n",
        "    X_train.append(train_scale_wdc[i-timesteps:i, 0])\n",
        "    y_train.append(train_scale_wdc[i, 0])\n",
        "X_train, y_train = np.array(X_train), np.array(y_train)\n",
        "# Reshaping\n",
        "X_train = np.reshape(X_train, (X_train.shape[0], X_train.shape[1], 1))\n",
        "X_train.shape, y_train.shape"
      ],
      "execution_count": 29,
      "outputs": [
        {
          "output_type": "execute_result",
          "data": {
            "text/plain": [
              "((2500, 15, 1), (2500,))"
            ]
          },
          "metadata": {
            "tags": []
          },
          "execution_count": 29
        }
      ]
    },
    {
      "cell_type": "code",
      "metadata": {
        "id": "ZmT51JsSKt3v",
        "colab_type": "code",
        "colab": {
          "base_uri": "https://localhost:8080/",
          "height": 34
        },
        "outputId": "1b46e7d5-460a-4a7f-9ffd-8db9d49eba57"
      },
      "source": [
        "valid_scale_wdc.shape\n",
        "\n",
        "X_valid = []\n",
        "for i in range(timesteps, timesteps+valid_scale_wdc.shape[0]):\n",
        "    X_valid.append(np.concatenate((train_scale_wdc[-timesteps:],valid_scale_wdc),0)[i-timesteps:i,0])\n",
        "\n",
        "X_valid = np.array(X_valid)\n",
        "X_valid.shape\n",
        "X_valid = np.reshape(X_valid, (X_valid.shape[0], X_valid.shape[1], 1))\n",
        "X_valid.shape\n"
      ],
      "execution_count": 30,
      "outputs": [
        {
          "output_type": "execute_result",
          "data": {
            "text/plain": [
              "(104, 1)"
            ]
          },
          "metadata": {
            "tags": []
          },
          "execution_count": 30
        },
        {
          "output_type": "execute_result",
          "data": {
            "text/plain": [
              "(104, 15)"
            ]
          },
          "metadata": {
            "tags": []
          },
          "execution_count": 30
        },
        {
          "output_type": "execute_result",
          "data": {
            "text/plain": [
              "(104, 15, 1)"
            ]
          },
          "metadata": {
            "tags": []
          },
          "execution_count": 30
        }
      ]
    },
    {
      "cell_type": "code",
      "metadata": {
        "id": "hadQ7Now8Tbj",
        "colab_type": "code",
        "colab": {
          "base_uri": "https://localhost:8080/",
          "height": 34
        },
        "outputId": "39a34270-c82e-447b-825f-4e66edf1320b"
      },
      "source": [
        "test_scale_wdc.shape\n",
        "X_test = []\n",
        "for i in range(timesteps, timesteps+test_scale_wdc.shape[0]):\n",
        "    X_test.append(np.concatenate((valid_scale_wdc[-timesteps:],test_scale_wdc),0)[i-timesteps:i,0])\n",
        "\n",
        "X_test = np.array(X_test)\n",
        "X_test.shape\n",
        "X_test = np.reshape(X_test, (X_test.shape[0], X_test.shape[1], 1))\n",
        "X_test.shape"
      ],
      "execution_count": 31,
      "outputs": [
        {
          "output_type": "execute_result",
          "data": {
            "text/plain": [
              "(94, 1)"
            ]
          },
          "metadata": {
            "tags": []
          },
          "execution_count": 31
        },
        {
          "output_type": "execute_result",
          "data": {
            "text/plain": [
              "(94, 15)"
            ]
          },
          "metadata": {
            "tags": []
          },
          "execution_count": 31
        },
        {
          "output_type": "execute_result",
          "data": {
            "text/plain": [
              "(94, 15, 1)"
            ]
          },
          "metadata": {
            "tags": []
          },
          "execution_count": 31
        }
      ]
    },
    {
      "cell_type": "code",
      "metadata": {
        "id": "vJrKpgXcLTSZ",
        "colab_type": "code",
        "colab": {}
      },
      "source": [
        "def create_lstm_model(X_train):\n",
        "  # Initialising the RNN\n",
        "  regressor = Sequential()\n",
        "\n",
        "  # Adding the first LSTM layer and some Dropout regularisation\n",
        "  regressor.add(LSTM(units = 100, return_sequences = True, input_shape = (X_train.shape[1], 1)))\n",
        "  regressor.add(Dropout(rate=0.2))\n",
        "\n",
        "  # Adding a second LSTM layer and some Dropout regularisation\n",
        "  regressor.add(LSTM(units = 100, return_sequences = True))\n",
        "  regressor.add(Dropout(rate=0.2))\n",
        "\n",
        "  # Adding a third LSTM layer and some Dropout regularisation\n",
        "  regressor.add(LSTM(units = 100, return_sequences = True))\n",
        "  regressor.add(Dropout(rate=0.2))\n",
        "\n",
        "  # Adding a fourth LSTM layer and some Dropout regularisation\n",
        "  regressor.add(LSTM(units = 100))\n",
        "  regressor.add(Dropout(rate=0.2))\n",
        "\n",
        "  # Adding the output layer\n",
        "  regressor.add(Dense(units = 1))\n",
        "\n",
        "  return regressor\n",
        "\n",
        "regressor = create_lstm_model(X_train)"
      ],
      "execution_count": 0,
      "outputs": []
    },
    {
      "cell_type": "code",
      "metadata": {
        "id": "JU6Za38-PWIs",
        "colab_type": "code",
        "colab": {}
      },
      "source": [
        "# Compiling the RNN\n",
        "regressor.compile(optimizer = 'nadam', loss = 'mean_squared_error')"
      ],
      "execution_count": 0,
      "outputs": []
    },
    {
      "cell_type": "code",
      "metadata": {
        "id": "g2NlkapLL3nP",
        "colab_type": "code",
        "outputId": "58f37f36-5377-4276-be2b-d83fa418dbe0",
        "colab": {
          "base_uri": "https://localhost:8080/",
          "height": 1000
        }
      },
      "source": [
        "epoch_trials = [100]\n",
        "batch_size_trials = [128]\n",
        "\n",
        "reg_models = []\n",
        "\n",
        "# Fitting the RNN to the Training set\n",
        "for n_epochs in epoch_trials:\n",
        "  for b_size in batch_size_trials:\n",
        "    regressor.fit(X_train, y_train, epochs = n_epochs, batch_size = b_size)\n",
        "    reg_models.append(regressor)\n"
      ],
      "execution_count": 68,
      "outputs": [
        {
          "output_type": "stream",
          "text": [
            "Epoch 1/100\n",
            "2485/2485 [==============================] - 8s 3ms/step - loss: 0.0456\n",
            "Epoch 2/100\n",
            "2485/2485 [==============================] - 6s 2ms/step - loss: 0.0126\n",
            "Epoch 3/100\n",
            "2485/2485 [==============================] - 5s 2ms/step - loss: 0.0085\n",
            "Epoch 4/100\n",
            "2485/2485 [==============================] - 5s 2ms/step - loss: 0.0052\n",
            "Epoch 5/100\n",
            "2485/2485 [==============================] - 5s 2ms/step - loss: 0.0057\n",
            "Epoch 6/100\n",
            "2485/2485 [==============================] - 5s 2ms/step - loss: 0.0055\n",
            "Epoch 7/100\n",
            "2485/2485 [==============================] - 5s 2ms/step - loss: 0.0065\n",
            "Epoch 8/100\n",
            "2485/2485 [==============================] - 6s 2ms/step - loss: 0.0042\n",
            "Epoch 9/100\n",
            "2485/2485 [==============================] - 5s 2ms/step - loss: 0.0058\n",
            "Epoch 10/100\n",
            "2485/2485 [==============================] - 5s 2ms/step - loss: 0.0036\n",
            "Epoch 11/100\n",
            "2485/2485 [==============================] - 5s 2ms/step - loss: 0.0041\n",
            "Epoch 12/100\n",
            "2485/2485 [==============================] - 6s 2ms/step - loss: 0.0037\n",
            "Epoch 13/100\n",
            "2485/2485 [==============================] - 6s 2ms/step - loss: 0.0041\n",
            "Epoch 14/100\n",
            "2485/2485 [==============================] - 5s 2ms/step - loss: 0.0032\n",
            "Epoch 15/100\n",
            "2485/2485 [==============================] - 5s 2ms/step - loss: 0.0039\n",
            "Epoch 16/100\n",
            "2485/2485 [==============================] - 5s 2ms/step - loss: 0.0033\n",
            "Epoch 17/100\n",
            "2485/2485 [==============================] - 6s 2ms/step - loss: 0.0030\n",
            "Epoch 18/100\n",
            "2485/2485 [==============================] - 5s 2ms/step - loss: 0.0038\n",
            "Epoch 19/100\n",
            "2485/2485 [==============================] - 5s 2ms/step - loss: 0.0026\n",
            "Epoch 20/100\n",
            "2485/2485 [==============================] - 5s 2ms/step - loss: 0.0028\n",
            "Epoch 21/100\n",
            "2485/2485 [==============================] - 5s 2ms/step - loss: 0.0024\n",
            "Epoch 22/100\n",
            "2485/2485 [==============================] - 6s 2ms/step - loss: 0.0028\n",
            "Epoch 23/100\n",
            "2485/2485 [==============================] - 5s 2ms/step - loss: 0.0025\n",
            "Epoch 24/100\n",
            "2485/2485 [==============================] - 5s 2ms/step - loss: 0.0021\n",
            "Epoch 25/100\n",
            "2485/2485 [==============================] - 5s 2ms/step - loss: 0.0024\n",
            "Epoch 26/100\n",
            "2485/2485 [==============================] - 5s 2ms/step - loss: 0.0026\n",
            "Epoch 27/100\n",
            "2485/2485 [==============================] - 5s 2ms/step - loss: 0.0024\n",
            "Epoch 28/100\n",
            "2485/2485 [==============================] - 5s 2ms/step - loss: 0.0023\n",
            "Epoch 29/100\n",
            "2485/2485 [==============================] - 5s 2ms/step - loss: 0.0017\n",
            "Epoch 30/100\n",
            "2485/2485 [==============================] - 5s 2ms/step - loss: 0.0027\n",
            "Epoch 31/100\n",
            "2485/2485 [==============================] - 5s 2ms/step - loss: 0.0025\n",
            "Epoch 32/100\n",
            "2485/2485 [==============================] - 6s 2ms/step - loss: 0.0016\n",
            "Epoch 33/100\n",
            "2485/2485 [==============================] - 5s 2ms/step - loss: 0.0023\n",
            "Epoch 34/100\n",
            "2485/2485 [==============================] - 5s 2ms/step - loss: 0.0020\n",
            "Epoch 35/100\n",
            "2485/2485 [==============================] - 6s 2ms/step - loss: 0.0018\n",
            "Epoch 36/100\n",
            "2485/2485 [==============================] - 5s 2ms/step - loss: 0.0021\n",
            "Epoch 37/100\n",
            "2485/2485 [==============================] - 5s 2ms/step - loss: 0.0017\n",
            "Epoch 38/100\n",
            "2485/2485 [==============================] - 5s 2ms/step - loss: 0.0016\n",
            "Epoch 39/100\n",
            "2485/2485 [==============================] - 5s 2ms/step - loss: 0.0015\n",
            "Epoch 40/100\n",
            "2485/2485 [==============================] - 5s 2ms/step - loss: 0.0018\n",
            "Epoch 41/100\n",
            "2485/2485 [==============================] - 5s 2ms/step - loss: 0.0015\n",
            "Epoch 42/100\n",
            "2485/2485 [==============================] - 5s 2ms/step - loss: 0.0022\n",
            "Epoch 43/100\n",
            "2485/2485 [==============================] - 5s 2ms/step - loss: 0.0013\n",
            "Epoch 44/100\n",
            "2485/2485 [==============================] - 5s 2ms/step - loss: 0.0014\n",
            "Epoch 45/100\n",
            "2485/2485 [==============================] - 5s 2ms/step - loss: 0.0013\n",
            "Epoch 46/100\n",
            "2485/2485 [==============================] - 5s 2ms/step - loss: 0.0017\n",
            "Epoch 47/100\n",
            "2485/2485 [==============================] - 5s 2ms/step - loss: 0.0016\n",
            "Epoch 48/100\n",
            "2485/2485 [==============================] - 6s 2ms/step - loss: 0.0016\n",
            "Epoch 49/100\n",
            "2485/2485 [==============================] - 5s 2ms/step - loss: 0.0013\n",
            "Epoch 50/100\n",
            "2485/2485 [==============================] - 5s 2ms/step - loss: 0.0019\n",
            "Epoch 51/100\n",
            "2485/2485 [==============================] - 5s 2ms/step - loss: 0.0014\n",
            "Epoch 52/100\n",
            "2485/2485 [==============================] - 5s 2ms/step - loss: 0.0014\n",
            "Epoch 53/100\n",
            "2485/2485 [==============================] - 5s 2ms/step - loss: 0.0013\n",
            "Epoch 54/100\n",
            "2485/2485 [==============================] - 5s 2ms/step - loss: 0.0014\n",
            "Epoch 55/100\n",
            "2485/2485 [==============================] - 5s 2ms/step - loss: 0.0014\n",
            "Epoch 56/100\n",
            "2485/2485 [==============================] - 5s 2ms/step - loss: 0.0012\n",
            "Epoch 57/100\n",
            "2485/2485 [==============================] - 6s 2ms/step - loss: 0.0014\n",
            "Epoch 58/100\n",
            "2485/2485 [==============================] - 5s 2ms/step - loss: 0.0011\n",
            "Epoch 59/100\n",
            "2485/2485 [==============================] - 5s 2ms/step - loss: 0.0018\n",
            "Epoch 60/100\n",
            "2485/2485 [==============================] - 5s 2ms/step - loss: 0.0011\n",
            "Epoch 61/100\n",
            "2485/2485 [==============================] - 5s 2ms/step - loss: 0.0016\n",
            "Epoch 62/100\n",
            "2485/2485 [==============================] - 5s 2ms/step - loss: 0.0012\n",
            "Epoch 63/100\n",
            "2485/2485 [==============================] - 5s 2ms/step - loss: 0.0016\n",
            "Epoch 64/100\n",
            "2485/2485 [==============================] - 5s 2ms/step - loss: 0.0015\n",
            "Epoch 65/100\n",
            "2485/2485 [==============================] - 5s 2ms/step - loss: 0.0011\n",
            "Epoch 66/100\n",
            "2485/2485 [==============================] - 5s 2ms/step - loss: 9.7213e-04\n",
            "Epoch 67/100\n",
            "2485/2485 [==============================] - 5s 2ms/step - loss: 0.0013\n",
            "Epoch 68/100\n",
            "2485/2485 [==============================] - 5s 2ms/step - loss: 0.0012\n",
            "Epoch 69/100\n",
            "2485/2485 [==============================] - 5s 2ms/step - loss: 0.0010\n",
            "Epoch 70/100\n",
            "2485/2485 [==============================] - 6s 2ms/step - loss: 0.0014\n",
            "Epoch 71/100\n",
            "2485/2485 [==============================] - 5s 2ms/step - loss: 0.0012\n",
            "Epoch 72/100\n",
            "2485/2485 [==============================] - 5s 2ms/step - loss: 0.0013\n",
            "Epoch 73/100\n",
            "2485/2485 [==============================] - 5s 2ms/step - loss: 9.9325e-04\n",
            "Epoch 74/100\n",
            "2485/2485 [==============================] - 5s 2ms/step - loss: 9.5896e-04\n",
            "Epoch 75/100\n",
            "2485/2485 [==============================] - 5s 2ms/step - loss: 9.7282e-04\n",
            "Epoch 76/100\n",
            "2485/2485 [==============================] - 6s 2ms/step - loss: 0.0011\n",
            "Epoch 77/100\n",
            "2485/2485 [==============================] - 5s 2ms/step - loss: 0.0010\n",
            "Epoch 78/100\n",
            "2485/2485 [==============================] - 5s 2ms/step - loss: 0.0011\n",
            "Epoch 79/100\n",
            "2485/2485 [==============================] - 5s 2ms/step - loss: 0.0010\n",
            "Epoch 80/100\n",
            "2485/2485 [==============================] - 5s 2ms/step - loss: 0.0010\n",
            "Epoch 81/100\n",
            "2485/2485 [==============================] - 5s 2ms/step - loss: 0.0011\n",
            "Epoch 82/100\n",
            "2485/2485 [==============================] - 5s 2ms/step - loss: 9.8225e-04\n",
            "Epoch 83/100\n",
            "2485/2485 [==============================] - 5s 2ms/step - loss: 9.6651e-04\n",
            "Epoch 84/100\n",
            "2485/2485 [==============================] - 5s 2ms/step - loss: 0.0015\n",
            "Epoch 85/100\n",
            "2485/2485 [==============================] - 5s 2ms/step - loss: 0.0010\n",
            "Epoch 86/100\n",
            "2485/2485 [==============================] - 5s 2ms/step - loss: 8.9282e-04\n",
            "Epoch 87/100\n",
            "2485/2485 [==============================] - 5s 2ms/step - loss: 9.4362e-04\n",
            "Epoch 88/100\n",
            "2485/2485 [==============================] - 6s 2ms/step - loss: 8.9788e-04\n",
            "Epoch 89/100\n",
            "2485/2485 [==============================] - 5s 2ms/step - loss: 0.0011\n",
            "Epoch 90/100\n",
            "2485/2485 [==============================] - 5s 2ms/step - loss: 9.7921e-04\n",
            "Epoch 91/100\n",
            "2485/2485 [==============================] - 5s 2ms/step - loss: 0.0012\n",
            "Epoch 92/100\n",
            "2485/2485 [==============================] - 5s 2ms/step - loss: 8.1315e-04\n",
            "Epoch 93/100\n",
            "2485/2485 [==============================] - 5s 2ms/step - loss: 9.3399e-04\n",
            "Epoch 94/100\n",
            "2485/2485 [==============================] - 5s 2ms/step - loss: 9.4666e-04\n",
            "Epoch 95/100\n",
            "2485/2485 [==============================] - 5s 2ms/step - loss: 9.3213e-04\n",
            "Epoch 96/100\n",
            "2485/2485 [==============================] - 5s 2ms/step - loss: 9.5238e-04\n",
            "Epoch 97/100\n",
            "2485/2485 [==============================] - 5s 2ms/step - loss: 9.3027e-04\n",
            "Epoch 98/100\n",
            "2485/2485 [==============================] - 5s 2ms/step - loss: 8.8311e-04\n",
            "Epoch 99/100\n",
            "2485/2485 [==============================] - 5s 2ms/step - loss: 0.0011\n",
            "Epoch 100/100\n",
            "2485/2485 [==============================] - 5s 2ms/step - loss: 7.8461e-04\n"
          ],
          "name": "stdout"
        },
        {
          "output_type": "execute_result",
          "data": {
            "text/plain": [
              "<keras.callbacks.History at 0x7fe41b144518>"
            ]
          },
          "metadata": {
            "tags": []
          },
          "execution_count": 68
        }
      ]
    },
    {
      "cell_type": "code",
      "metadata": {
        "id": "51TWc1kkyaej",
        "colab_type": "code",
        "outputId": "d7e3b942-5b55-4bf3-e203-6ce669b1c1b4",
        "colab": {
          "base_uri": "https://localhost:8080/",
          "height": 286
        }
      },
      "source": [
        "#plt.plot(valid_array,color='b',label='valid-close')\n",
        "plt.plot(valid_scale_wdc,color='g',label='valid-close')"
      ],
      "execution_count": 35,
      "outputs": [
        {
          "output_type": "execute_result",
          "data": {
            "text/plain": [
              "[<matplotlib.lines.Line2D at 0x7fe4601ba780>]"
            ]
          },
          "metadata": {
            "tags": []
          },
          "execution_count": 35
        },
        {
          "output_type": "display_data",
          "data": {
            "image/png": "[encoded data removed]",
            "text/plain": [
              "<Figure size 432x288 with 1 Axes>"
            ]
          },
          "metadata": {
            "tags": []
          }
        }
      ]
    },
    {
      "cell_type": "code",
      "metadata": {
        "id": "6_zcpPV8ykyF",
        "colab_type": "code",
        "colab": {
          "base_uri": "https://localhost:8080/",
          "height": 286
        },
        "outputId": "ca081036-11af-428f-abe2-25921b4d6918"
      },
      "source": [
        "plt.plot(df_wdc['Close'][4778:4882])\n"
      ],
      "execution_count": 36,
      "outputs": [
        {
          "output_type": "execute_result",
          "data": {
            "text/plain": [
              "[<matplotlib.lines.Line2D at 0x7fe460170278>]"
            ]
          },
          "metadata": {
            "tags": []
          },
          "execution_count": 36
        },
        {
          "output_type": "display_data",
          "data": {
            "image/png": "[encoded data removed]",
            "text/plain": [
              "<Figure size 432x288 with 1 Axes>"
            ]
          },
          "metadata": {
            "tags": []
          }
        }
      ]
    },
    {
      "cell_type": "code",
      "metadata": {
        "id": "z6rGh1FyituI",
        "colab_type": "code",
        "colab": {}
      },
      "source": [
        "valid_preds = []\n",
        "test_preds = []\n",
        "for reg_model in reg_models:\n",
        "  valid_preds.append(sc_wdc.inverse_transform(reg_model.predict(X_valid)))\n",
        "  test_preds.append(sc_wdc.inverse_transform(reg_model.predict(X_test)))\n",
        "\n"
      ],
      "execution_count": 0,
      "outputs": []
    },
    {
      "cell_type": "code",
      "metadata": {
        "id": "tC98VWYok3gT",
        "colab_type": "code",
        "outputId": "60ce465b-095d-43c3-dafb-4ab2a5745053",
        "colab": {
          "base_uri": "https://localhost:8080/",
          "height": 287
        }
      },
      "source": [
        "plt.plot(valid_preds[0])"
      ],
      "execution_count": 70,
      "outputs": [
        {
          "output_type": "execute_result",
          "data": {
            "text/plain": [
              "[<matplotlib.lines.Line2D at 0x7fe41a6b8f28>]"
            ]
          },
          "metadata": {
            "tags": []
          },
          "execution_count": 70
        },
        {
          "output_type": "display_data",
          "data": {
            "image/png": "[encoded data removed]",
            "text/plain": [
              "<Figure size 432x288 with 1 Axes>"
            ]
          },
          "metadata": {
            "tags": []
          }
        }
      ]
    },
    {
      "cell_type": "code",
      "metadata": {
        "id": "Te6RJZJkSaOw",
        "colab_type": "code",
        "colab": {
          "base_uri": "https://localhost:8080/",
          "height": 34
        },
        "outputId": "eb2a61ac-d07b-42f3-d704-ca870bdac74b"
      },
      "source": [
        "prices[0].shape\n",
        "valid_array.shape"
      ],
      "execution_count": 97,
      "outputs": [
        {
          "output_type": "execute_result",
          "data": {
            "text/plain": [
              "(104, 1)"
            ]
          },
          "metadata": {
            "tags": []
          },
          "execution_count": 97
        },
        {
          "output_type": "execute_result",
          "data": {
            "text/plain": [
              "(104,)"
            ]
          },
          "metadata": {
            "tags": []
          },
          "execution_count": 97
        }
      ]
    },
    {
      "cell_type": "code",
      "metadata": {
        "id": "mRvKKYOckzm_",
        "colab_type": "code",
        "outputId": "3f07c529-9f12-4faa-8bb4-b3c2df238430",
        "colab": {
          "base_uri": "https://localhost:8080/",
          "height": 330
        }
      },
      "source": [
        "# Visualising the results\n",
        "plt.plot(valid_array, color = 'red', label = 'Real WDC Stock Close Price')\n",
        "plt.plot(valid_preds[0], color = 'blue', label = 'Predicted WDC Close Price')\n",
        "plt.title('WDC Stock Price Prediction')\n",
        "plt.xlabel('Time')\n",
        "plt.ylabel('WDC Stock Price')\n",
        "plt.legend()\n",
        "plt.show()"
      ],
      "execution_count": 71,
      "outputs": [
        {
          "output_type": "execute_result",
          "data": {
            "text/plain": [
              "[<matplotlib.lines.Line2D at 0x7fe41a699630>]"
            ]
          },
          "metadata": {
            "tags": []
          },
          "execution_count": 71
        },
        {
          "output_type": "execute_result",
          "data": {
            "text/plain": [
              "[<matplotlib.lines.Line2D at 0x7fe41a66ce48>]"
            ]
          },
          "metadata": {
            "tags": []
          },
          "execution_count": 71
        },
        {
          "output_type": "execute_result",
          "data": {
            "text/plain": [
              "Text(0.5, 1.0, 'WDC Stock Price Prediction')"
            ]
          },
          "metadata": {
            "tags": []
          },
          "execution_count": 71
        },
        {
          "output_type": "execute_result",
          "data": {
            "text/plain": [
              "Text(0.5, 0, 'Time')"
            ]
          },
          "metadata": {
            "tags": []
          },
          "execution_count": 71
        },
        {
          "output_type": "execute_result",
          "data": {
            "text/plain": [
              "Text(0, 0.5, 'WDC Stock Price')"
            ]
          },
          "metadata": {
            "tags": []
          },
          "execution_count": 71
        },
        {
          "output_type": "execute_result",
          "data": {
            "text/plain": [
              "<matplotlib.legend.Legend at 0x7fe41a699e10>"
            ]
          },
          "metadata": {
            "tags": []
          },
          "execution_count": 71
        },
        {
          "output_type": "display_data",
          "data": {
            "image/png": "[encoded data removed]",
            "text/plain": [
              "<Figure size 432x288 with 1 Axes>"
            ]
          },
          "metadata": {
            "tags": []
          }
        }
      ]
    },
    {
      "cell_type": "code",
      "metadata": {
        "id": "zAyPDUzT0pvU",
        "colab_type": "code",
        "colab": {
          "base_uri": "https://localhost:8080/",
          "height": 330
        },
        "outputId": "fbc1f368-4c19-478a-a403-a0b288407c96"
      },
      "source": [
        "# Visualising the results\n",
        "plt.plot(test_array, color = 'red', label = 'Real WDC Stock Close Price')\n",
        "plt.plot(test_preds[0], color = 'blue', label = 'Predicted WDC Close Price')\n",
        "plt.title('WDC Stock Price Prediction')\n",
        "plt.xlabel('Time')\n",
        "plt.ylabel('WDC Stock Price')\n",
        "plt.legend()\n",
        "plt.show()"
      ],
      "execution_count": 72,
      "outputs": [
        {
          "output_type": "execute_result",
          "data": {
            "text/plain": [
              "[<matplotlib.lines.Line2D at 0x7fe41a60c240>]"
            ]
          },
          "metadata": {
            "tags": []
          },
          "execution_count": 72
        },
        {
          "output_type": "execute_result",
          "data": {
            "text/plain": [
              "[<matplotlib.lines.Line2D at 0x7fe41a5e6518>]"
            ]
          },
          "metadata": {
            "tags": []
          },
          "execution_count": 72
        },
        {
          "output_type": "execute_result",
          "data": {
            "text/plain": [
              "Text(0.5, 1.0, 'WDC Stock Price Prediction')"
            ]
          },
          "metadata": {
            "tags": []
          },
          "execution_count": 72
        },
        {
          "output_type": "execute_result",
          "data": {
            "text/plain": [
              "Text(0.5, 0, 'Time')"
            ]
          },
          "metadata": {
            "tags": []
          },
          "execution_count": 72
        },
        {
          "output_type": "execute_result",
          "data": {
            "text/plain": [
              "Text(0, 0.5, 'WDC Stock Price')"
            ]
          },
          "metadata": {
            "tags": []
          },
          "execution_count": 72
        },
        {
          "output_type": "execute_result",
          "data": {
            "text/plain": [
              "<matplotlib.legend.Legend at 0x7fe41a5f2cc0>"
            ]
          },
          "metadata": {
            "tags": []
          },
          "execution_count": 72
        },
        {
          "output_type": "display_data",
          "data": {
            "image/png": "[encoded data removed]",
            "text/plain": [
              "<Figure size 432x288 with 1 Axes>"
            ]
          },
          "metadata": {
            "tags": []
          }
        }
      ]
    },
    {
      "cell_type": "code",
      "metadata": {
        "id": "pXwZGdDdN1YN",
        "colab_type": "code",
        "colab": {
          "base_uri": "https://localhost:8080/",
          "height": 286
        },
        "outputId": "f028efa6-955e-4d18-bf8a-182c79be5709"
      },
      "source": [
        "plt.plot(np.concatenate((valid_preds[0],test_preds[0]),0),'ro--',markersize=2)\n",
        "plt.plot(df_wdc.Close.values[-(valid_preds[0].shape[0]+test_preds[0].shape[0]):])"
      ],
      "execution_count": 94,
      "outputs": [
        {
          "output_type": "execute_result",
          "data": {
            "text/plain": [
              "[<matplotlib.lines.Line2D at 0x7fe4199f3208>]"
            ]
          },
          "metadata": {
            "tags": []
          },
          "execution_count": 94
        },
        {
          "output_type": "execute_result",
          "data": {
            "text/plain": [
              "[<matplotlib.lines.Line2D at 0x7fe4199f3550>]"
            ]
          },
          "metadata": {
            "tags": []
          },
          "execution_count": 94
        },
        {
          "output_type": "display_data",
          "data": {
            "image/png": "[encoded data removed]",
            "text/plain": [
              "<Figure size 432x288 with 1 Axes>"
            ]
          },
          "metadata": {
            "tags": []
          }
        }
      ]
    },
    {
      "cell_type": "code",
      "metadata": {
        "id": "NiAVMUPUlfSx",
        "colab_type": "code",
        "colab": {}
      },
      "source": [
        "reg_models[0].save('reg_model_wdc.hdf5')"
      ],
      "execution_count": 0,
      "outputs": []
    },
    {
      "cell_type": "code",
      "metadata": {
        "id": "uHWC6jTJE71O",
        "colab_type": "code",
        "colab": {
          "base_uri": "https://localhost:8080/",
          "height": 34
        },
        "outputId": "b68752f2-c653-438a-d58d-b89d86ff4b91"
      },
      "source": [
        "train_array.shape\n",
        "valid_preds[0].shape"
      ],
      "execution_count": 83,
      "outputs": [
        {
          "output_type": "execute_result",
          "data": {
            "text/plain": [
              "(2515,)"
            ]
          },
          "metadata": {
            "tags": []
          },
          "execution_count": 83
        },
        {
          "output_type": "execute_result",
          "data": {
            "text/plain": [
              "(104, 1)"
            ]
          },
          "metadata": {
            "tags": []
          },
          "execution_count": 83
        }
      ]
    },
    {
      "cell_type": "code",
      "metadata": {
        "id": "HQoiboPjPVgI",
        "colab_type": "code",
        "colab": {
          "base_uri": "https://localhost:8080/",
          "height": 34
        },
        "outputId": "b405a89c-f848-4020-a0d0-6c267ed4b6b4"
      },
      "source": [
        "train_array.reshape(-1,1).shape"
      ],
      "execution_count": 86,
      "outputs": [
        {
          "output_type": "execute_result",
          "data": {
            "text/plain": [
              "(2515, 1)"
            ]
          },
          "metadata": {
            "tags": []
          },
          "execution_count": 86
        }
      ]
    },
    {
      "cell_type": "code",
      "metadata": {
        "id": "9Wt9fItdPgj1",
        "colab_type": "code",
        "colab": {
          "base_uri": "https://localhost:8080/",
          "height": 208
        },
        "outputId": "1c9886f2-8e73-456c-a477-5ff6b5b69679"
      },
      "source": [
        "df_be.info()"
      ],
      "execution_count": 95,
      "outputs": [
        {
          "output_type": "stream",
          "text": [
            "<class 'pandas.core.frame.DataFrame'>\n",
            "DatetimeIndex: 308 entries, 2018-07-25 to 2019-10-14\n",
            "Data columns (total 6 columns):\n",
            "Open         308 non-null float64\n",
            "High         308 non-null float64\n",
            "Low          308 non-null float64\n",
            "Close        308 non-null float64\n",
            "Adj Close    308 non-null float64\n",
            "Volume       308 non-null int64\n",
            "dtypes: float64(5), int64(1)\n",
            "memory usage: 16.8 KB\n"
          ],
          "name": "stdout"
        }
      ]
    },
    {
      "cell_type": "code",
      "metadata": {
        "id": "Jr5EPTEBRJs9",
        "colab_type": "code",
        "colab": {
          "base_uri": "https://localhost:8080/",
          "height": 626
        },
        "outputId": "72d18e3a-e9cf-400c-a60a-01a394fb6519"
      },
      "source": [
        "train_be = np.array(df_be.Close[:-60])\n",
        "valid_be = np.array(df_be.Close[-60:-30])\n",
        "test_be = np.array(df_be.Close[-30:])\n",
        "train_be.shape, valid_be.shape, test_be.shape\n",
        "train_be, valid_be, test_be"
      ],
      "execution_count": 97,
      "outputs": [
        {
          "output_type": "execute_result",
          "data": {
            "text/plain": [
              "((248,), (30,), (30,))"
            ]
          },
          "metadata": {
            "tags": []
          },
          "execution_count": 97
        },
        {
          "output_type": "execute_result",
          "data": {
            "text/plain": [
              "(array([25.  , 21.01, 22.6 , 23.85, 23.05, 23.5 , 24.5 , 26.8 , 27.94,\n",
              "        27.45, 28.15, 26.72, 27.65, 24.76, 25.51, 22.91, 23.13, 22.2 ,\n",
              "        22.42, 25.27, 27.  , 29.28, 30.91, 28.69, 29.55, 29.15, 28.75,\n",
              "        29.95, 28.5 , 28.21, 28.7 , 30.58, 29.05, 29.26, 31.91, 31.68,\n",
              "        29.58, 29.  , 29.92, 29.25, 30.01, 30.95, 32.25, 34.08, 35.8 ,\n",
              "        33.6 , 34.08, 32.27, 30.22, 30.25, 28.34, 27.37, 27.07, 26.1 ,\n",
              "        27.54, 27.38, 26.68, 26.6 , 27.18, 27.32, 25.57, 25.51, 24.15,\n",
              "        23.82, 23.92, 23.44, 22.17, 22.03, 22.98, 23.75, 23.74, 22.96,\n",
              "        23.01, 17.25, 18.01, 18.09, 19.45, 19.7 , 18.51, 17.29, 15.46,\n",
              "        16.04, 14.5 , 14.55, 14.67, 14.99, 14.7 , 14.5 , 15.45, 17.26,\n",
              "        16.45, 16.5 , 15.39, 15.62, 15.87, 17.17, 15.65, 15.44, 14.4 ,\n",
              "        14.12, 12.75, 12.  , 11.15, 10.22, 10.08,  9.9 , 10.78, 10.96,\n",
              "        10.83,  9.98, 10.12, 10.47, 11.83, 12.41, 12.73, 12.14, 12.02,\n",
              "        12.24, 12.15, 12.59, 12.82, 13.11, 12.67, 12.02, 12.  , 11.58,\n",
              "        11.53, 10.7 ,  9.88,  9.21,  9.45, 10.23, 10.76, 10.69, 10.16,\n",
              "        10.35, 10.06,  9.41,  9.6 , 11.  , 11.69, 11.31, 11.13, 12.36,\n",
              "        12.92, 14.02, 13.98, 14.7 , 13.8 , 14.47, 16.3 , 15.13, 15.26,\n",
              "        14.12, 14.28, 13.5 , 14.3 , 13.87, 13.27, 12.53, 12.9 , 12.92,\n",
              "        12.93, 12.66, 12.55, 11.8 , 11.8 , 11.99, 12.27, 12.16, 12.92,\n",
              "        12.87, 12.98, 13.3 , 12.68, 12.65, 12.38, 12.34, 11.98, 12.51,\n",
              "        12.39, 11.89, 12.44, 12.94, 12.96, 12.98, 12.86, 12.93, 12.34,\n",
              "        12.3 , 13.16, 13.62, 14.32, 14.13, 15.26, 14.72, 14.16, 13.34,\n",
              "        13.7 , 13.37, 13.2 , 13.67, 13.35, 12.99, 11.9 , 11.72, 12.28,\n",
              "        12.  , 11.63, 11.17, 11.27, 11.12, 10.86, 10.8 , 10.71, 10.8 ,\n",
              "        10.74, 10.1 , 10.22, 10.43, 10.48, 10.5 , 11.29, 11.11, 11.79,\n",
              "        12.07, 12.17, 12.44, 11.72, 11.56, 11.53, 11.82, 11.64, 12.27,\n",
              "        12.51, 12.63, 12.41, 12.81, 12.92, 12.96, 13.05, 12.74, 13.06,\n",
              "        12.31, 12.  , 11.6 , 11.43, 11.  ]),\n",
              " array([10.66, 10.5 , 10.91, 10.63, 10.65, 10.32, 10.16, 10.45, 10.21,\n",
              "        10.24,  9.62,  9.22,  9.14,  8.92,  8.56,  8.  ,  4.6 ,  4.91,\n",
              "         4.95,  5.12,  5.4 ,  5.49,  5.3 ,  4.97,  4.65,  4.67,  4.4 ,\n",
              "         4.27,  4.18,  4.48]),\n",
              " array([4.45, 4.49, 4.63, 4.78, 4.67, 4.56, 4.89, 4.62, 4.44, 4.19, 3.31,\n",
              "        3.34, 3.55, 3.32, 3.43, 3.24, 3.47, 3.49, 3.46, 3.25, 3.16, 3.1 ,\n",
              "        3.19, 3.21, 3.24, 3.08, 3.07, 3.37, 3.17, 2.91]))"
            ]
          },
          "metadata": {
            "tags": []
          },
          "execution_count": 97
        }
      ]
    },
    {
      "cell_type": "code",
      "metadata": {
        "id": "ETkaTd-GRrem",
        "colab_type": "code",
        "colab": {
          "base_uri": "https://localhost:8080/",
          "height": 86
        },
        "outputId": "8735f691-f6b4-4b6e-9173-5cbc9565bc2e"
      },
      "source": [
        "sc_be, X_train_be, y_train_be, X_valid_be, X_test_be = create_data_structures(10, train_be, valid_be, test_be)"
      ],
      "execution_count": 121,
      "outputs": [
        {
          "output_type": "stream",
          "text": [
            "(248, 1) (30, 1) (30, 1)\n",
            "(238, 10, 1) (238,)\n",
            "(30, 10, 1)\n",
            "(30, 10, 1)\n"
          ],
          "name": "stdout"
        }
      ]
    },
    {
      "cell_type": "code",
      "metadata": {
        "id": "8zxRRrilTto_",
        "colab_type": "code",
        "colab": {}
      },
      "source": [
        "regressor = create_lstm_model(X_train_be)\n",
        "# Compiling the RNN\n",
        "regressor.compile(optimizer = 'nadam', loss = 'mean_squared_error')"
      ],
      "execution_count": 0,
      "outputs": []
    },
    {
      "cell_type": "code",
      "metadata": {
        "id": "95fACKNvSXfu",
        "colab_type": "code",
        "colab": {
          "base_uri": "https://localhost:8080/",
          "height": 1000
        },
        "outputId": "92fea887-fd94-481c-99c4-0677ae88b23c"
      },
      "source": [
        "epoch_trials = [200]\n",
        "batch_size_trials = [32]\n",
        "\n",
        "reg_models = []\n",
        "\n",
        "# Fitting the RNN to the Training set\n",
        "for n_epochs in epoch_trials:\n",
        "  for b_size in batch_size_trials:\n",
        "    regressor.fit(X_train_be, y_train_be, epochs = n_epochs, batch_size = b_size)\n",
        "    reg_models.append(regressor)"
      ],
      "execution_count": 123,
      "outputs": [
        {
          "output_type": "stream",
          "text": [
            "Epoch 1/200\n",
            "238/238 [==============================] - 7s 30ms/step - loss: 0.0780\n",
            "Epoch 2/200\n",
            "238/238 [==============================] - 1s 3ms/step - loss: 0.0232\n",
            "Epoch 3/200\n",
            "238/238 [==============================] - 1s 3ms/step - loss: 0.0134\n",
            "Epoch 4/200\n",
            "238/238 [==============================] - 1s 3ms/step - loss: 0.0129\n",
            "Epoch 5/200\n",
            "238/238 [==============================] - 1s 3ms/step - loss: 0.0190\n",
            "Epoch 6/200\n",
            "238/238 [==============================] - 1s 3ms/step - loss: 0.0126\n",
            "Epoch 7/200\n",
            "238/238 [==============================] - 1s 3ms/step - loss: 0.0118\n",
            "Epoch 8/200\n",
            "238/238 [==============================] - 1s 3ms/step - loss: 0.0110\n",
            "Epoch 9/200\n",
            "238/238 [==============================] - 1s 3ms/step - loss: 0.0085\n",
            "Epoch 10/200\n",
            "238/238 [==============================] - 1s 3ms/step - loss: 0.0101\n",
            "Epoch 11/200\n",
            "238/238 [==============================] - 1s 3ms/step - loss: 0.0155\n",
            "Epoch 12/200\n",
            "238/238 [==============================] - 1s 3ms/step - loss: 0.0103\n",
            "Epoch 13/200\n",
            "238/238 [==============================] - 1s 3ms/step - loss: 0.0113\n",
            "Epoch 14/200\n",
            "238/238 [==============================] - 1s 3ms/step - loss: 0.0091\n",
            "Epoch 15/200\n",
            "238/238 [==============================] - 1s 3ms/step - loss: 0.0074\n",
            "Epoch 16/200\n",
            "238/238 [==============================] - 1s 3ms/step - loss: 0.0075\n",
            "Epoch 17/200\n",
            "238/238 [==============================] - 1s 3ms/step - loss: 0.0103\n",
            "Epoch 18/200\n",
            "238/238 [==============================] - 1s 3ms/step - loss: 0.0106\n",
            "Epoch 19/200\n",
            "238/238 [==============================] - 1s 3ms/step - loss: 0.0076\n",
            "Epoch 20/200\n",
            "238/238 [==============================] - 1s 3ms/step - loss: 0.0075\n",
            "Epoch 21/200\n",
            "238/238 [==============================] - 1s 3ms/step - loss: 0.0132\n",
            "Epoch 22/200\n",
            "238/238 [==============================] - 1s 3ms/step - loss: 0.0216\n",
            "Epoch 23/200\n",
            "238/238 [==============================] - 1s 3ms/step - loss: 0.0089\n",
            "Epoch 24/200\n",
            "238/238 [==============================] - 1s 3ms/step - loss: 0.0099\n",
            "Epoch 25/200\n",
            "238/238 [==============================] - 1s 3ms/step - loss: 0.0084\n",
            "Epoch 26/200\n",
            "238/238 [==============================] - 1s 3ms/step - loss: 0.0074\n",
            "Epoch 27/200\n",
            "238/238 [==============================] - 1s 3ms/step - loss: 0.0071\n",
            "Epoch 28/200\n",
            "238/238 [==============================] - 1s 3ms/step - loss: 0.0073\n",
            "Epoch 29/200\n",
            "238/238 [==============================] - 1s 3ms/step - loss: 0.0119\n",
            "Epoch 30/200\n",
            "238/238 [==============================] - 1s 3ms/step - loss: 0.0076\n",
            "Epoch 31/200\n",
            "238/238 [==============================] - 1s 3ms/step - loss: 0.0073\n",
            "Epoch 32/200\n",
            "238/238 [==============================] - 1s 3ms/step - loss: 0.0063\n",
            "Epoch 33/200\n",
            "238/238 [==============================] - 1s 3ms/step - loss: 0.0073\n",
            "Epoch 34/200\n",
            "238/238 [==============================] - 1s 3ms/step - loss: 0.0099\n",
            "Epoch 35/200\n",
            "238/238 [==============================] - 1s 4ms/step - loss: 0.0067\n",
            "Epoch 36/200\n",
            "238/238 [==============================] - 1s 4ms/step - loss: 0.0069\n",
            "Epoch 37/200\n",
            "238/238 [==============================] - 1s 4ms/step - loss: 0.0062\n",
            "Epoch 38/200\n",
            "238/238 [==============================] - 1s 3ms/step - loss: 0.0058\n",
            "Epoch 39/200\n",
            "238/238 [==============================] - 1s 3ms/step - loss: 0.0090\n",
            "Epoch 40/200\n",
            "238/238 [==============================] - 1s 4ms/step - loss: 0.0063\n",
            "Epoch 41/200\n",
            "238/238 [==============================] - 1s 3ms/step - loss: 0.0064\n",
            "Epoch 42/200\n",
            "238/238 [==============================] - 1s 3ms/step - loss: 0.0051\n",
            "Epoch 43/200\n",
            "238/238 [==============================] - 1s 3ms/step - loss: 0.0066\n",
            "Epoch 44/200\n",
            "238/238 [==============================] - 1s 4ms/step - loss: 0.0057\n",
            "Epoch 45/200\n",
            "238/238 [==============================] - 1s 4ms/step - loss: 0.0057\n",
            "Epoch 46/200\n",
            "238/238 [==============================] - 1s 3ms/step - loss: 0.0073\n",
            "Epoch 47/200\n",
            "238/238 [==============================] - 1s 3ms/step - loss: 0.0087\n",
            "Epoch 48/200\n",
            "238/238 [==============================] - 1s 4ms/step - loss: 0.0049\n",
            "Epoch 49/200\n",
            "238/238 [==============================] - 1s 4ms/step - loss: 0.0059\n",
            "Epoch 50/200\n",
            "238/238 [==============================] - 1s 3ms/step - loss: 0.0097\n",
            "Epoch 51/200\n",
            "238/238 [==============================] - 1s 3ms/step - loss: 0.0050\n",
            "Epoch 52/200\n",
            "238/238 [==============================] - 1s 4ms/step - loss: 0.0049\n",
            "Epoch 53/200\n",
            "238/238 [==============================] - 1s 3ms/step - loss: 0.0046\n",
            "Epoch 54/200\n",
            "238/238 [==============================] - 1s 3ms/step - loss: 0.0098\n",
            "Epoch 55/200\n",
            "238/238 [==============================] - 1s 3ms/step - loss: 0.0039\n",
            "Epoch 56/200\n",
            "238/238 [==============================] - 1s 3ms/step - loss: 0.0045\n",
            "Epoch 57/200\n",
            "238/238 [==============================] - 1s 3ms/step - loss: 0.0073\n",
            "Epoch 58/200\n",
            "238/238 [==============================] - 1s 4ms/step - loss: 0.0049\n",
            "Epoch 59/200\n",
            "238/238 [==============================] - 1s 3ms/step - loss: 0.0046\n",
            "Epoch 60/200\n",
            "238/238 [==============================] - 1s 3ms/step - loss: 0.0039\n",
            "Epoch 61/200\n",
            "238/238 [==============================] - 1s 3ms/step - loss: 0.0041\n",
            "Epoch 62/200\n",
            "238/238 [==============================] - 1s 3ms/step - loss: 0.0045\n",
            "Epoch 63/200\n",
            "238/238 [==============================] - 1s 3ms/step - loss: 0.0039\n",
            "Epoch 64/200\n",
            "238/238 [==============================] - 1s 3ms/step - loss: 0.0041\n",
            "Epoch 65/200\n",
            "238/238 [==============================] - 1s 3ms/step - loss: 0.0033\n",
            "Epoch 66/200\n",
            "238/238 [==============================] - 1s 3ms/step - loss: 0.0037\n",
            "Epoch 67/200\n",
            "238/238 [==============================] - 1s 3ms/step - loss: 0.0034\n",
            "Epoch 68/200\n",
            "238/238 [==============================] - 1s 3ms/step - loss: 0.0040\n",
            "Epoch 69/200\n",
            "238/238 [==============================] - 1s 3ms/step - loss: 0.0033\n",
            "Epoch 70/200\n",
            "238/238 [==============================] - 1s 4ms/step - loss: 0.0030\n",
            "Epoch 71/200\n",
            "238/238 [==============================] - 1s 3ms/step - loss: 0.0028\n",
            "Epoch 72/200\n",
            "238/238 [==============================] - 1s 4ms/step - loss: 0.0036\n",
            "Epoch 73/200\n",
            "238/238 [==============================] - 1s 4ms/step - loss: 0.0038\n",
            "Epoch 74/200\n",
            "238/238 [==============================] - 1s 3ms/step - loss: 0.0030\n",
            "Epoch 75/200\n",
            "238/238 [==============================] - 1s 4ms/step - loss: 0.0044\n",
            "Epoch 76/200\n",
            "238/238 [==============================] - 1s 4ms/step - loss: 0.0037\n",
            "Epoch 77/200\n",
            "238/238 [==============================] - 1s 4ms/step - loss: 0.0033\n",
            "Epoch 78/200\n",
            "238/238 [==============================] - 1s 4ms/step - loss: 0.0028\n",
            "Epoch 79/200\n",
            "238/238 [==============================] - 1s 3ms/step - loss: 0.0039\n",
            "Epoch 80/200\n",
            "238/238 [==============================] - 1s 3ms/step - loss: 0.0032\n",
            "Epoch 81/200\n",
            "238/238 [==============================] - 1s 3ms/step - loss: 0.0040\n",
            "Epoch 82/200\n",
            "238/238 [==============================] - 1s 4ms/step - loss: 0.0033\n",
            "Epoch 83/200\n",
            "238/238 [==============================] - 1s 4ms/step - loss: 0.0029\n",
            "Epoch 84/200\n",
            "238/238 [==============================] - 1s 4ms/step - loss: 0.0027\n",
            "Epoch 85/200\n",
            "238/238 [==============================] - 1s 4ms/step - loss: 0.0034\n",
            "Epoch 86/200\n",
            "238/238 [==============================] - 1s 4ms/step - loss: 0.0028\n",
            "Epoch 87/200\n",
            "238/238 [==============================] - 1s 4ms/step - loss: 0.0026\n",
            "Epoch 88/200\n",
            "238/238 [==============================] - 1s 3ms/step - loss: 0.0026\n",
            "Epoch 89/200\n",
            "238/238 [==============================] - 1s 4ms/step - loss: 0.0027\n",
            "Epoch 90/200\n",
            "238/238 [==============================] - 1s 4ms/step - loss: 0.0032\n",
            "Epoch 91/200\n",
            "238/238 [==============================] - 1s 3ms/step - loss: 0.0036\n",
            "Epoch 92/200\n",
            "238/238 [==============================] - 1s 4ms/step - loss: 0.0027\n",
            "Epoch 93/200\n",
            "238/238 [==============================] - 1s 4ms/step - loss: 0.0033\n",
            "Epoch 94/200\n",
            "238/238 [==============================] - 1s 3ms/step - loss: 0.0026\n",
            "Epoch 95/200\n",
            "238/238 [==============================] - 1s 4ms/step - loss: 0.0024\n",
            "Epoch 96/200\n",
            "238/238 [==============================] - 1s 3ms/step - loss: 0.0036\n",
            "Epoch 97/200\n",
            "238/238 [==============================] - 1s 3ms/step - loss: 0.0026\n",
            "Epoch 98/200\n",
            "238/238 [==============================] - 1s 3ms/step - loss: 0.0029\n",
            "Epoch 99/200\n",
            "238/238 [==============================] - 1s 3ms/step - loss: 0.0035\n",
            "Epoch 100/200\n",
            "238/238 [==============================] - 1s 3ms/step - loss: 0.0029\n",
            "Epoch 101/200\n",
            "238/238 [==============================] - 1s 3ms/step - loss: 0.0020\n",
            "Epoch 102/200\n",
            "238/238 [==============================] - 1s 3ms/step - loss: 0.0023\n",
            "Epoch 103/200\n",
            "238/238 [==============================] - 1s 3ms/step - loss: 0.0027\n",
            "Epoch 104/200\n",
            "238/238 [==============================] - 1s 3ms/step - loss: 0.0033\n",
            "Epoch 105/200\n",
            "238/238 [==============================] - 1s 3ms/step - loss: 0.0044\n",
            "Epoch 106/200\n",
            "238/238 [==============================] - 1s 3ms/step - loss: 0.0018\n",
            "Epoch 107/200\n",
            "238/238 [==============================] - 1s 3ms/step - loss: 0.0030\n",
            "Epoch 108/200\n",
            "238/238 [==============================] - 1s 3ms/step - loss: 0.0021\n",
            "Epoch 109/200\n",
            "238/238 [==============================] - 1s 3ms/step - loss: 0.0026\n",
            "Epoch 110/200\n",
            "238/238 [==============================] - 1s 3ms/step - loss: 0.0028\n",
            "Epoch 111/200\n",
            "238/238 [==============================] - 1s 3ms/step - loss: 0.0027\n",
            "Epoch 112/200\n",
            "238/238 [==============================] - 1s 3ms/step - loss: 0.0026\n",
            "Epoch 113/200\n",
            "238/238 [==============================] - 1s 3ms/step - loss: 0.0031\n",
            "Epoch 114/200\n",
            "238/238 [==============================] - 1s 3ms/step - loss: 0.0022\n",
            "Epoch 115/200\n",
            "238/238 [==============================] - 1s 3ms/step - loss: 0.0024\n",
            "Epoch 116/200\n",
            "238/238 [==============================] - 1s 4ms/step - loss: 0.0023\n",
            "Epoch 117/200\n",
            "238/238 [==============================] - 1s 4ms/step - loss: 0.0022\n",
            "Epoch 118/200\n",
            "238/238 [==============================] - 1s 3ms/step - loss: 0.0036\n",
            "Epoch 119/200\n",
            "238/238 [==============================] - 1s 3ms/step - loss: 0.0028\n",
            "Epoch 120/200\n",
            "238/238 [==============================] - 1s 3ms/step - loss: 0.0025\n",
            "Epoch 121/200\n",
            "238/238 [==============================] - 1s 3ms/step - loss: 0.0022\n",
            "Epoch 122/200\n",
            "238/238 [==============================] - 1s 3ms/step - loss: 0.0030\n",
            "Epoch 123/200\n",
            "238/238 [==============================] - 1s 3ms/step - loss: 0.0021\n",
            "Epoch 124/200\n",
            "238/238 [==============================] - 1s 3ms/step - loss: 0.0032\n",
            "Epoch 125/200\n",
            "238/238 [==============================] - 1s 3ms/step - loss: 0.0027\n",
            "Epoch 126/200\n",
            "238/238 [==============================] - 1s 3ms/step - loss: 0.0023\n",
            "Epoch 127/200\n",
            "238/238 [==============================] - 1s 3ms/step - loss: 0.0022\n",
            "Epoch 128/200\n",
            "238/238 [==============================] - 1s 3ms/step - loss: 0.0032\n",
            "Epoch 129/200\n",
            "238/238 [==============================] - 1s 3ms/step - loss: 0.0027\n",
            "Epoch 130/200\n",
            "238/238 [==============================] - 1s 3ms/step - loss: 0.0030\n",
            "Epoch 131/200\n",
            "238/238 [==============================] - 1s 3ms/step - loss: 0.0025\n",
            "Epoch 132/200\n",
            "238/238 [==============================] - 1s 4ms/step - loss: 0.0022\n",
            "Epoch 133/200\n",
            "238/238 [==============================] - 1s 3ms/step - loss: 0.0021\n",
            "Epoch 134/200\n",
            "238/238 [==============================] - 1s 3ms/step - loss: 0.0025\n",
            "Epoch 135/200\n",
            "238/238 [==============================] - 1s 3ms/step - loss: 0.0025\n",
            "Epoch 136/200\n",
            "238/238 [==============================] - 1s 3ms/step - loss: 0.0026\n",
            "Epoch 137/200\n",
            "238/238 [==============================] - 1s 3ms/step - loss: 0.0026\n",
            "Epoch 138/200\n",
            "238/238 [==============================] - 1s 3ms/step - loss: 0.0020\n",
            "Epoch 139/200\n",
            "238/238 [==============================] - 1s 3ms/step - loss: 0.0022\n",
            "Epoch 140/200\n",
            "238/238 [==============================] - 1s 4ms/step - loss: 0.0020\n",
            "Epoch 141/200\n",
            "238/238 [==============================] - 1s 4ms/step - loss: 0.0029\n",
            "Epoch 142/200\n",
            "238/238 [==============================] - 1s 3ms/step - loss: 0.0025\n",
            "Epoch 143/200\n",
            "238/238 [==============================] - 1s 3ms/step - loss: 0.0017\n",
            "Epoch 144/200\n",
            "238/238 [==============================] - 1s 3ms/step - loss: 0.0020\n",
            "Epoch 145/200\n",
            "238/238 [==============================] - 1s 3ms/step - loss: 0.0024\n",
            "Epoch 146/200\n",
            "238/238 [==============================] - 1s 4ms/step - loss: 0.0021\n",
            "Epoch 147/200\n",
            "238/238 [==============================] - 1s 4ms/step - loss: 0.0031\n",
            "Epoch 148/200\n",
            "238/238 [==============================] - 1s 3ms/step - loss: 0.0022\n",
            "Epoch 149/200\n",
            "238/238 [==============================] - 1s 3ms/step - loss: 0.0021\n",
            "Epoch 150/200\n",
            "238/238 [==============================] - 1s 4ms/step - loss: 0.0028\n",
            "Epoch 151/200\n",
            "238/238 [==============================] - 1s 4ms/step - loss: 0.0027\n",
            "Epoch 152/200\n",
            "238/238 [==============================] - 1s 4ms/step - loss: 0.0026\n",
            "Epoch 153/200\n",
            "238/238 [==============================] - 1s 4ms/step - loss: 0.0019\n",
            "Epoch 154/200\n",
            "238/238 [==============================] - 1s 3ms/step - loss: 0.0027\n",
            "Epoch 155/200\n",
            "238/238 [==============================] - 1s 3ms/step - loss: 0.0021\n",
            "Epoch 156/200\n",
            "238/238 [==============================] - 1s 3ms/step - loss: 0.0025\n",
            "Epoch 157/200\n",
            "238/238 [==============================] - 1s 3ms/step - loss: 0.0021\n",
            "Epoch 158/200\n",
            "238/238 [==============================] - 1s 3ms/step - loss: 0.0026\n",
            "Epoch 159/200\n",
            "238/238 [==============================] - 1s 3ms/step - loss: 0.0023\n",
            "Epoch 160/200\n",
            "238/238 [==============================] - 1s 3ms/step - loss: 0.0018\n",
            "Epoch 161/200\n",
            "238/238 [==============================] - 1s 3ms/step - loss: 0.0024\n",
            "Epoch 162/200\n",
            "238/238 [==============================] - 1s 3ms/step - loss: 0.0023\n",
            "Epoch 163/200\n",
            "238/238 [==============================] - 1s 4ms/step - loss: 0.0020\n",
            "Epoch 164/200\n",
            "238/238 [==============================] - 1s 3ms/step - loss: 0.0020\n",
            "Epoch 165/200\n",
            "238/238 [==============================] - 1s 4ms/step - loss: 0.0021\n",
            "Epoch 166/200\n",
            "238/238 [==============================] - 1s 3ms/step - loss: 0.0023\n",
            "Epoch 167/200\n",
            "238/238 [==============================] - 1s 3ms/step - loss: 0.0026\n",
            "Epoch 168/200\n",
            "238/238 [==============================] - 1s 3ms/step - loss: 0.0026\n",
            "Epoch 169/200\n",
            "238/238 [==============================] - 1s 3ms/step - loss: 0.0022\n",
            "Epoch 170/200\n",
            "238/238 [==============================] - 1s 3ms/step - loss: 0.0027\n",
            "Epoch 171/200\n",
            "238/238 [==============================] - 1s 4ms/step - loss: 0.0018\n",
            "Epoch 172/200\n",
            "238/238 [==============================] - 1s 3ms/step - loss: 0.0031\n",
            "Epoch 173/200\n",
            "238/238 [==============================] - 1s 3ms/step - loss: 0.0026\n",
            "Epoch 174/200\n",
            "238/238 [==============================] - 1s 3ms/step - loss: 0.0026\n",
            "Epoch 175/200\n",
            "238/238 [==============================] - 1s 4ms/step - loss: 0.0027\n",
            "Epoch 176/200\n",
            "238/238 [==============================] - 1s 3ms/step - loss: 0.0023\n",
            "Epoch 177/200\n",
            "238/238 [==============================] - 1s 3ms/step - loss: 0.0020\n",
            "Epoch 178/200\n",
            "238/238 [==============================] - 1s 3ms/step - loss: 0.0023\n",
            "Epoch 179/200\n",
            "238/238 [==============================] - 1s 3ms/step - loss: 0.0021\n",
            "Epoch 180/200\n",
            "238/238 [==============================] - 1s 3ms/step - loss: 0.0022\n",
            "Epoch 181/200\n",
            "238/238 [==============================] - 1s 4ms/step - loss: 0.0029\n",
            "Epoch 182/200\n",
            "238/238 [==============================] - 1s 3ms/step - loss: 0.0020\n",
            "Epoch 183/200\n",
            "238/238 [==============================] - 1s 3ms/step - loss: 0.0025\n",
            "Epoch 184/200\n",
            "238/238 [==============================] - 1s 3ms/step - loss: 0.0023\n",
            "Epoch 185/200\n",
            "238/238 [==============================] - 1s 3ms/step - loss: 0.0024\n",
            "Epoch 186/200\n",
            "238/238 [==============================] - 1s 3ms/step - loss: 0.0031\n",
            "Epoch 187/200\n",
            "238/238 [==============================] - 1s 3ms/step - loss: 0.0020\n",
            "Epoch 188/200\n",
            "238/238 [==============================] - 1s 3ms/step - loss: 0.0021\n",
            "Epoch 189/200\n",
            "238/238 [==============================] - 1s 3ms/step - loss: 0.0022\n",
            "Epoch 190/200\n",
            "238/238 [==============================] - 1s 3ms/step - loss: 0.0020\n",
            "Epoch 191/200\n",
            "238/238 [==============================] - 1s 3ms/step - loss: 0.0022\n",
            "Epoch 192/200\n",
            "238/238 [==============================] - 1s 4ms/step - loss: 0.0021\n",
            "Epoch 193/200\n",
            "238/238 [==============================] - 1s 3ms/step - loss: 0.0020\n",
            "Epoch 194/200\n",
            "238/238 [==============================] - 1s 3ms/step - loss: 0.0020\n",
            "Epoch 195/200\n",
            "238/238 [==============================] - 1s 3ms/step - loss: 0.0023\n",
            "Epoch 196/200\n",
            "238/238 [==============================] - 1s 3ms/step - loss: 0.0021\n",
            "Epoch 197/200\n",
            "238/238 [==============================] - 1s 3ms/step - loss: 0.0020\n",
            "Epoch 198/200\n",
            "238/238 [==============================] - 1s 4ms/step - loss: 0.0022\n",
            "Epoch 199/200\n",
            "238/238 [==============================] - 1s 4ms/step - loss: 0.0021\n",
            "Epoch 200/200\n",
            "238/238 [==============================] - 1s 4ms/step - loss: 0.0019\n"
          ],
          "name": "stdout"
        },
        {
          "output_type": "execute_result",
          "data": {
            "text/plain": [
              "<keras.callbacks.History at 0x7fe416da0ac8>"
            ]
          },
          "metadata": {
            "tags": []
          },
          "execution_count": 123
        }
      ]
    },
    {
      "cell_type": "code",
      "metadata": {
        "id": "gxP-wxWQStsj",
        "colab_type": "code",
        "colab": {}
      },
      "source": [
        "valid_preds = []\n",
        "test_preds = []\n",
        "for reg_model in reg_models:\n",
        "  valid_preds.append(sc_be.inverse_transform(reg_model.predict(X_valid_be)))\n",
        "  test_preds.append(sc_be.inverse_transform(reg_model.predict(X_test_be)))"
      ],
      "execution_count": 0,
      "outputs": []
    },
    {
      "cell_type": "code",
      "metadata": {
        "id": "Kj8yqMZZXS3P",
        "colab_type": "code",
        "colab": {
          "base_uri": "https://localhost:8080/",
          "height": 330
        },
        "outputId": "b3b1a623-627f-4924-8edd-dcdf79fb65a1"
      },
      "source": [
        "# Visualising the results\n",
        "plt.plot(valid_be, color = 'red', label = 'Real BE Stock Close Price')\n",
        "plt.plot(valid_preds[0], color = 'blue', label = 'Predicted BE Close Price')\n",
        "plt.title('BE Stock Price Prediction')\n",
        "plt.xlabel('Time')\n",
        "plt.ylabel('BE Stock Price')\n",
        "plt.legend()\n",
        "plt.show()"
      ],
      "execution_count": 125,
      "outputs": [
        {
          "output_type": "execute_result",
          "data": {
            "text/plain": [
              "[<matplotlib.lines.Line2D at 0x7fe4162e2898>]"
            ]
          },
          "metadata": {
            "tags": []
          },
          "execution_count": 125
        },
        {
          "output_type": "execute_result",
          "data": {
            "text/plain": [
              "[<matplotlib.lines.Line2D at 0x7fe41633f400>]"
            ]
          },
          "metadata": {
            "tags": []
          },
          "execution_count": 125
        },
        {
          "output_type": "execute_result",
          "data": {
            "text/plain": [
              "Text(0.5, 1.0, 'BE Stock Price Prediction')"
            ]
          },
          "metadata": {
            "tags": []
          },
          "execution_count": 125
        },
        {
          "output_type": "execute_result",
          "data": {
            "text/plain": [
              "Text(0.5, 0, 'Time')"
            ]
          },
          "metadata": {
            "tags": []
          },
          "execution_count": 125
        },
        {
          "output_type": "execute_result",
          "data": {
            "text/plain": [
              "Text(0, 0.5, 'BE Stock Price')"
            ]
          },
          "metadata": {
            "tags": []
          },
          "execution_count": 125
        },
        {
          "output_type": "execute_result",
          "data": {
            "text/plain": [
              "<matplotlib.legend.Legend at 0x7fe4162e2f60>"
            ]
          },
          "metadata": {
            "tags": []
          },
          "execution_count": 125
        },
        {
          "output_type": "display_data",
          "data": {
            "image/png": "[encoded data removed]",
            "text/plain": [
              "<Figure size 432x288 with 1 Axes>"
            ]
          },
          "metadata": {
            "tags": []
          }
        }
      ]
    },
    {
      "cell_type": "code",
      "metadata": {
        "id": "n4oP8FC2Y_qn",
        "colab_type": "code",
        "colab": {
          "base_uri": "https://localhost:8080/",
          "height": 330
        },
        "outputId": "ba83e1b3-7e42-4dda-bf3f-5cea2d09c73c"
      },
      "source": [
        "# Visualising the results\n",
        "plt.plot(test_be, color = 'red', label = 'Real BE Stock Close Price')\n",
        "plt.plot(test_preds[0], color = 'blue', label = 'Predicted BE Close Price')\n",
        "plt.title('BE Stock Price Prediction')\n",
        "plt.xlabel('Time')\n",
        "plt.ylabel('BE Stock Price')\n",
        "plt.legend()\n",
        "plt.show()"
      ],
      "execution_count": 126,
      "outputs": [
        {
          "output_type": "execute_result",
          "data": {
            "text/plain": [
              "[<matplotlib.lines.Line2D at 0x7fe4162d1cc0>]"
            ]
          },
          "metadata": {
            "tags": []
          },
          "execution_count": 126
        },
        {
          "output_type": "execute_result",
          "data": {
            "text/plain": [
              "[<matplotlib.lines.Line2D at 0x7fe4162efe80>]"
            ]
          },
          "metadata": {
            "tags": []
          },
          "execution_count": 126
        },
        {
          "output_type": "execute_result",
          "data": {
            "text/plain": [
              "Text(0.5, 1.0, 'BE Stock Price Prediction')"
            ]
          },
          "metadata": {
            "tags": []
          },
          "execution_count": 126
        },
        {
          "output_type": "execute_result",
          "data": {
            "text/plain": [
              "Text(0.5, 0, 'Time')"
            ]
          },
          "metadata": {
            "tags": []
          },
          "execution_count": 126
        },
        {
          "output_type": "execute_result",
          "data": {
            "text/plain": [
              "Text(0, 0.5, 'BE Stock Price')"
            ]
          },
          "metadata": {
            "tags": []
          },
          "execution_count": 126
        },
        {
          "output_type": "execute_result",
          "data": {
            "text/plain": [
              "<matplotlib.legend.Legend at 0x7fe4162c2898>"
            ]
          },
          "metadata": {
            "tags": []
          },
          "execution_count": 126
        },
        {
          "output_type": "display_data",
          "data": {
            "image/png": "[encoded data removed]",
            "text/plain": [
              "<Figure size 432x288 with 1 Axes>"
            ]
          },
          "metadata": {
            "tags": []
          }
        }
      ]
    },
    {
      "cell_type": "code",
      "metadata": {
        "id": "uIn_nMqDZGiS",
        "colab_type": "code",
        "colab": {
          "base_uri": "https://localhost:8080/",
          "height": 308
        },
        "outputId": "c4e06718-bbbf-487f-d10d-9354c848a674"
      },
      "source": [
        "# Get the data for the stock BE by specifying the stock ticker, start date, and end date\n",
        "df_ge = yf.download('GE','2000-01-01','2019-10-15')\n",
        " \n",
        "# Plot the close prices\n",
        "df_ge.Close.plot()\n",
        "plt.show()"
      ],
      "execution_count": 127,
      "outputs": [
        {
          "output_type": "stream",
          "text": [
            "\r[*********************100%***********************]  1 of 1 downloaded\n"
          ],
          "name": "stdout"
        },
        {
          "output_type": "execute_result",
          "data": {
            "text/plain": [
              "<matplotlib.axes._subplots.AxesSubplot at 0x7fe416296fd0>"
            ]
          },
          "metadata": {
            "tags": []
          },
          "execution_count": 127
        },
        {
          "output_type": "display_data",
          "data": {
            "image/png": "[encoded data removed]",
            "text/plain": [
              "<Figure size 432x288 with 1 Axes>"
            ]
          },
          "metadata": {
            "tags": []
          }
        }
      ]
    },
    {
      "cell_type": "code",
      "metadata": {
        "id": "Qtq1QFDTchUl",
        "colab_type": "code",
        "colab": {
          "base_uri": "https://localhost:8080/",
          "height": 34
        },
        "outputId": "3e0d1aa3-6cd7-44f3-d1ed-e2de80b06234"
      },
      "source": [
        "train_ge = df_ge.values[2263:4778,3]\n",
        "train_ge.shape\n",
        "valid_ge = df_ge.values[4778:4882,3]\n",
        "valid_ge.shape\n",
        "test_ge = df_ge.values[4883:,3]\n",
        "test_ge.shape"
      ],
      "execution_count": 128,
      "outputs": [
        {
          "output_type": "execute_result",
          "data": {
            "text/plain": [
              "(2515,)"
            ]
          },
          "metadata": {
            "tags": []
          },
          "execution_count": 128
        },
        {
          "output_type": "execute_result",
          "data": {
            "text/plain": [
              "(104,)"
            ]
          },
          "metadata": {
            "tags": []
          },
          "execution_count": 128
        },
        {
          "output_type": "execute_result",
          "data": {
            "text/plain": [
              "(94,)"
            ]
          },
          "metadata": {
            "tags": []
          },
          "execution_count": 128
        }
      ]
    },
    {
      "cell_type": "code",
      "metadata": {
        "id": "nyga3OftdN0F",
        "colab_type": "code",
        "colab": {
          "base_uri": "https://localhost:8080/",
          "height": 86
        },
        "outputId": "5c8af6f9-ad44-4a3f-9e3c-c1ea2bb590a7"
      },
      "source": [
        "sc_ge, X_train_ge, y_train_ge, X_valid_ge, X_test_ge = create_data_structures(30, train_ge, valid_ge, test_ge)"
      ],
      "execution_count": 129,
      "outputs": [
        {
          "output_type": "stream",
          "text": [
            "(2515, 1) (104, 1) (94, 1)\n",
            "(2485, 30, 1) (2485,)\n",
            "(104, 30, 1)\n",
            "(94, 30, 1)\n"
          ],
          "name": "stdout"
        }
      ]
    },
    {
      "cell_type": "code",
      "metadata": {
        "id": "8PS1lnmLdiRy",
        "colab_type": "code",
        "colab": {}
      },
      "source": [
        "regressor_ge = create_lstm_model(X_train_ge)\n",
        "# Compiling the RNN\n",
        "regressor_ge.compile(optimizer = 'nadam', loss = 'mean_squared_error')"
      ],
      "execution_count": 0,
      "outputs": []
    },
    {
      "cell_type": "code",
      "metadata": {
        "id": "sJ6TUyb-dtGp",
        "colab_type": "code",
        "colab": {
          "base_uri": "https://localhost:8080/",
          "height": 1000
        },
        "outputId": "e3987111-ecf8-4d54-9b29-b36203188a1e"
      },
      "source": [
        "epoch_trials = [100, 200]\n",
        "batch_size_trials = [128]\n",
        "\n",
        "reg_models_ge = []\n",
        "\n",
        "# Fitting the RNN to the Training set\n",
        "for n_epochs in epoch_trials:\n",
        "  for b_size in batch_size_trials:\n",
        "    regressor_ge.fit(X_train_ge, y_train_ge, epochs = n_epochs, batch_size = b_size)\n",
        "    reg_models_ge.append(regressor_ge)"
      ],
      "execution_count": 131,
      "outputs": [
        {
          "output_type": "stream",
          "text": [
            "Epoch 1/100\n",
            "2485/2485 [==============================] - 13s 5ms/step - loss: 0.1054\n",
            "Epoch 2/100\n",
            "2485/2485 [==============================] - 5s 2ms/step - loss: 0.0126\n",
            "Epoch 3/100\n",
            "2485/2485 [==============================] - 5s 2ms/step - loss: 0.0075\n",
            "Epoch 4/100\n",
            "2485/2485 [==============================] - 5s 2ms/step - loss: 0.0082\n",
            "Epoch 5/100\n",
            "2485/2485 [==============================] - 5s 2ms/step - loss: 0.0064\n",
            "Epoch 6/100\n",
            "2485/2485 [==============================] - 5s 2ms/step - loss: 0.0048\n",
            "Epoch 7/100\n",
            "2485/2485 [==============================] - 5s 2ms/step - loss: 0.0076\n",
            "Epoch 8/100\n",
            "2485/2485 [==============================] - 6s 2ms/step - loss: 0.0045\n",
            "Epoch 9/100\n",
            "2485/2485 [==============================] - 5s 2ms/step - loss: 0.0036\n",
            "Epoch 10/100\n",
            "2485/2485 [==============================] - 5s 2ms/step - loss: 0.0061\n",
            "Epoch 11/100\n",
            "2485/2485 [==============================] - 5s 2ms/step - loss: 0.0050\n",
            "Epoch 12/100\n",
            "2485/2485 [==============================] - 5s 2ms/step - loss: 0.0041\n",
            "Epoch 13/100\n",
            "2485/2485 [==============================] - 5s 2ms/step - loss: 0.0050\n",
            "Epoch 14/100\n",
            "2485/2485 [==============================] - 5s 2ms/step - loss: 0.0031\n",
            "Epoch 15/100\n",
            "2485/2485 [==============================] - 5s 2ms/step - loss: 0.0049\n",
            "Epoch 16/100\n",
            "2485/2485 [==============================] - 5s 2ms/step - loss: 0.0042\n",
            "Epoch 17/100\n",
            "2485/2485 [==============================] - 6s 2ms/step - loss: 0.0055\n",
            "Epoch 18/100\n",
            "2485/2485 [==============================] - 5s 2ms/step - loss: 0.0032\n",
            "Epoch 19/100\n",
            "2485/2485 [==============================] - 5s 2ms/step - loss: 0.0048\n",
            "Epoch 20/100\n",
            "2485/2485 [==============================] - 5s 2ms/step - loss: 0.0033\n",
            "Epoch 21/100\n",
            "2485/2485 [==============================] - 5s 2ms/step - loss: 0.0036\n",
            "Epoch 22/100\n",
            "2485/2485 [==============================] - 5s 2ms/step - loss: 0.0029\n",
            "Epoch 23/100\n",
            "2485/2485 [==============================] - 5s 2ms/step - loss: 0.0067\n",
            "Epoch 24/100\n",
            "2485/2485 [==============================] - 5s 2ms/step - loss: 0.0031\n",
            "Epoch 25/100\n",
            "2485/2485 [==============================] - 6s 2ms/step - loss: 0.0027\n",
            "Epoch 26/100\n",
            "2485/2485 [==============================] - 6s 2ms/step - loss: 0.0025\n",
            "Epoch 27/100\n",
            "2485/2485 [==============================] - 5s 2ms/step - loss: 0.0040\n",
            "Epoch 28/100\n",
            "2485/2485 [==============================] - 6s 2ms/step - loss: 0.0028\n",
            "Epoch 29/100\n",
            "2485/2485 [==============================] - 5s 2ms/step - loss: 0.0033\n",
            "Epoch 30/100\n",
            "2485/2485 [==============================] - 6s 2ms/step - loss: 0.0030\n",
            "Epoch 31/100\n",
            "2485/2485 [==============================] - 5s 2ms/step - loss: 0.0037\n",
            "Epoch 32/100\n",
            "2485/2485 [==============================] - 5s 2ms/step - loss: 0.0028\n",
            "Epoch 33/100\n",
            "2485/2485 [==============================] - 5s 2ms/step - loss: 0.0021\n",
            "Epoch 34/100\n",
            "2485/2485 [==============================] - 6s 2ms/step - loss: 0.0026\n",
            "Epoch 35/100\n",
            "2485/2485 [==============================] - 5s 2ms/step - loss: 0.0035\n",
            "Epoch 36/100\n",
            "2485/2485 [==============================] - 5s 2ms/step - loss: 0.0024\n",
            "Epoch 37/100\n",
            "2485/2485 [==============================] - 5s 2ms/step - loss: 0.0023\n",
            "Epoch 38/100\n",
            "2485/2485 [==============================] - 5s 2ms/step - loss: 0.0022\n",
            "Epoch 39/100\n",
            "2485/2485 [==============================] - 5s 2ms/step - loss: 0.0045\n",
            "Epoch 40/100\n",
            "2485/2485 [==============================] - 5s 2ms/step - loss: 0.0022\n",
            "Epoch 41/100\n",
            "2485/2485 [==============================] - 5s 2ms/step - loss: 0.0021\n",
            "Epoch 42/100\n",
            "2485/2485 [==============================] - 5s 2ms/step - loss: 0.0029\n",
            "Epoch 43/100\n",
            "2485/2485 [==============================] - 5s 2ms/step - loss: 0.0019\n",
            "Epoch 44/100\n",
            "2485/2485 [==============================] - 5s 2ms/step - loss: 0.0019\n",
            "Epoch 45/100\n",
            "2485/2485 [==============================] - 5s 2ms/step - loss: 0.0026\n",
            "Epoch 46/100\n",
            "2485/2485 [==============================] - 5s 2ms/step - loss: 0.0019\n",
            "Epoch 47/100\n",
            "2485/2485 [==============================] - 5s 2ms/step - loss: 0.0022\n",
            "Epoch 48/100\n",
            "2485/2485 [==============================] - 5s 2ms/step - loss: 0.0018\n",
            "Epoch 49/100\n",
            "2485/2485 [==============================] - 5s 2ms/step - loss: 0.0033\n",
            "Epoch 50/100\n",
            "2485/2485 [==============================] - 6s 2ms/step - loss: 0.0024\n",
            "Epoch 51/100\n",
            "2485/2485 [==============================] - 5s 2ms/step - loss: 0.0022\n",
            "Epoch 52/100\n",
            "2485/2485 [==============================] - 5s 2ms/step - loss: 0.0019\n",
            "Epoch 53/100\n",
            "2485/2485 [==============================] - 5s 2ms/step - loss: 0.0021\n",
            "Epoch 54/100\n",
            "2485/2485 [==============================] - 5s 2ms/step - loss: 0.0019\n",
            "Epoch 55/100\n",
            "2485/2485 [==============================] - 5s 2ms/step - loss: 0.0020\n",
            "Epoch 56/100\n",
            "2485/2485 [==============================] - 5s 2ms/step - loss: 0.0025\n",
            "Epoch 57/100\n",
            "2485/2485 [==============================] - 5s 2ms/step - loss: 0.0016\n",
            "Epoch 58/100\n",
            "2485/2485 [==============================] - 5s 2ms/step - loss: 0.0016\n",
            "Epoch 59/100\n",
            "2485/2485 [==============================] - 5s 2ms/step - loss: 0.0018\n",
            "Epoch 60/100\n",
            "2485/2485 [==============================] - 5s 2ms/step - loss: 0.0018\n",
            "Epoch 61/100\n",
            "2485/2485 [==============================] - 5s 2ms/step - loss: 0.0027\n",
            "Epoch 62/100\n",
            "2485/2485 [==============================] - 5s 2ms/step - loss: 0.0017\n",
            "Epoch 63/100\n",
            "2485/2485 [==============================] - 5s 2ms/step - loss: 0.0016\n",
            "Epoch 64/100\n",
            "2485/2485 [==============================] - 5s 2ms/step - loss: 0.0018\n",
            "Epoch 65/100\n",
            "2485/2485 [==============================] - 5s 2ms/step - loss: 0.0017\n",
            "Epoch 66/100\n",
            "2485/2485 [==============================] - 5s 2ms/step - loss: 0.0021\n",
            "Epoch 67/100\n",
            "2485/2485 [==============================] - 5s 2ms/step - loss: 0.0019\n",
            "Epoch 68/100\n",
            "2485/2485 [==============================] - 5s 2ms/step - loss: 0.0019\n",
            "Epoch 69/100\n",
            "2485/2485 [==============================] - 5s 2ms/step - loss: 0.0016\n",
            "Epoch 70/100\n",
            "2485/2485 [==============================] - 5s 2ms/step - loss: 0.0015\n",
            "Epoch 71/100\n",
            "2485/2485 [==============================] - 5s 2ms/step - loss: 0.0026\n",
            "Epoch 72/100\n",
            "2485/2485 [==============================] - 6s 2ms/step - loss: 0.0019\n",
            "Epoch 73/100\n",
            "2485/2485 [==============================] - 5s 2ms/step - loss: 0.0015\n",
            "Epoch 74/100\n",
            "2485/2485 [==============================] - 5s 2ms/step - loss: 0.0015\n",
            "Epoch 75/100\n",
            "2485/2485 [==============================] - 6s 2ms/step - loss: 0.0016\n",
            "Epoch 76/100\n",
            "2485/2485 [==============================] - 6s 2ms/step - loss: 0.0018\n",
            "Epoch 77/100\n",
            "2485/2485 [==============================] - 5s 2ms/step - loss: 0.0015\n",
            "Epoch 78/100\n",
            "2485/2485 [==============================] - 5s 2ms/step - loss: 0.0014\n",
            "Epoch 79/100\n",
            "2485/2485 [==============================] - 5s 2ms/step - loss: 0.0018\n",
            "Epoch 80/100\n",
            "2485/2485 [==============================] - 5s 2ms/step - loss: 0.0014\n",
            "Epoch 81/100\n",
            "2485/2485 [==============================] - 5s 2ms/step - loss: 0.0017\n",
            "Epoch 82/100\n",
            "2485/2485 [==============================] - 5s 2ms/step - loss: 0.0013\n",
            "Epoch 83/100\n",
            "2485/2485 [==============================] - 5s 2ms/step - loss: 0.0016\n",
            "Epoch 84/100\n",
            "2485/2485 [==============================] - 5s 2ms/step - loss: 0.0014\n",
            "Epoch 85/100\n",
            "2485/2485 [==============================] - 5s 2ms/step - loss: 0.0014\n",
            "Epoch 86/100\n",
            "2485/2485 [==============================] - 6s 2ms/step - loss: 0.0014\n",
            "Epoch 87/100\n",
            "2485/2485 [==============================] - 6s 2ms/step - loss: 0.0014\n",
            "Epoch 88/100\n",
            "2485/2485 [==============================] - 5s 2ms/step - loss: 0.0021\n",
            "Epoch 89/100\n",
            "2485/2485 [==============================] - 5s 2ms/step - loss: 0.0012\n",
            "Epoch 90/100\n",
            "2485/2485 [==============================] - 5s 2ms/step - loss: 0.0018\n",
            "Epoch 91/100\n",
            "2485/2485 [==============================] - 5s 2ms/step - loss: 0.0013\n",
            "Epoch 92/100\n",
            "2485/2485 [==============================] - 6s 2ms/step - loss: 0.0014\n",
            "Epoch 93/100\n",
            "2485/2485 [==============================] - 5s 2ms/step - loss: 0.0013\n",
            "Epoch 94/100\n",
            "2485/2485 [==============================] - 5s 2ms/step - loss: 0.0012\n",
            "Epoch 95/100\n",
            "2485/2485 [==============================] - 5s 2ms/step - loss: 0.0016\n",
            "Epoch 96/100\n",
            "2485/2485 [==============================] - 5s 2ms/step - loss: 0.0013\n",
            "Epoch 97/100\n",
            "2485/2485 [==============================] - 5s 2ms/step - loss: 0.0013\n",
            "Epoch 98/100\n",
            "2485/2485 [==============================] - 5s 2ms/step - loss: 0.0014\n",
            "Epoch 99/100\n",
            "2485/2485 [==============================] - 5s 2ms/step - loss: 0.0011\n",
            "Epoch 100/100\n",
            "2485/2485 [==============================] - 5s 2ms/step - loss: 0.0012\n"
          ],
          "name": "stdout"
        },
        {
          "output_type": "execute_result",
          "data": {
            "text/plain": [
              "<keras.callbacks.History at 0x7fe415f02358>"
            ]
          },
          "metadata": {
            "tags": []
          },
          "execution_count": 131
        },
        {
          "output_type": "stream",
          "text": [
            "Epoch 1/200\n",
            "2485/2485 [==============================] - 5s 2ms/step - loss: 0.0012\n",
            "Epoch 2/200\n",
            "2485/2485 [==============================] - 5s 2ms/step - loss: 0.0015\n",
            "Epoch 3/200\n",
            "2485/2485 [==============================] - 5s 2ms/step - loss: 0.0011\n",
            "Epoch 4/200\n",
            "2485/2485 [==============================] - 5s 2ms/step - loss: 0.0012\n",
            "Epoch 5/200\n",
            "2485/2485 [==============================] - 5s 2ms/step - loss: 0.0011\n",
            "Epoch 6/200\n",
            "2485/2485 [==============================] - 5s 2ms/step - loss: 0.0012\n",
            "Epoch 7/200\n",
            "2485/2485 [==============================] - 5s 2ms/step - loss: 0.0011\n",
            "Epoch 8/200\n",
            "2485/2485 [==============================] - 5s 2ms/step - loss: 0.0014\n",
            "Epoch 9/200\n",
            "2485/2485 [==============================] - 5s 2ms/step - loss: 0.0012\n",
            "Epoch 10/200\n",
            "2485/2485 [==============================] - 5s 2ms/step - loss: 0.0012\n",
            "Epoch 11/200\n",
            "2485/2485 [==============================] - 5s 2ms/step - loss: 0.0011\n",
            "Epoch 12/200\n",
            "2485/2485 [==============================] - 5s 2ms/step - loss: 0.0011\n",
            "Epoch 13/200\n",
            "2485/2485 [==============================] - 5s 2ms/step - loss: 0.0011\n",
            "Epoch 14/200\n",
            "2485/2485 [==============================] - 6s 2ms/step - loss: 0.0013\n",
            "Epoch 15/200\n",
            "2485/2485 [==============================] - 5s 2ms/step - loss: 0.0010\n",
            "Epoch 16/200\n",
            "2485/2485 [==============================] - 5s 2ms/step - loss: 0.0012\n",
            "Epoch 17/200\n",
            "2485/2485 [==============================] - 5s 2ms/step - loss: 0.0011\n",
            "Epoch 18/200\n",
            "2485/2485 [==============================] - 6s 2ms/step - loss: 9.3548e-04\n",
            "Epoch 19/200\n",
            "2485/2485 [==============================] - 5s 2ms/step - loss: 0.0012\n",
            "Epoch 20/200\n",
            "2485/2485 [==============================] - 5s 2ms/step - loss: 0.0011\n",
            "Epoch 21/200\n",
            "2485/2485 [==============================] - 5s 2ms/step - loss: 9.9585e-04\n",
            "Epoch 22/200\n",
            "2485/2485 [==============================] - 5s 2ms/step - loss: 9.4379e-04\n",
            "Epoch 23/200\n",
            "2485/2485 [==============================] - 5s 2ms/step - loss: 0.0010\n",
            "Epoch 24/200\n",
            "2485/2485 [==============================] - 5s 2ms/step - loss: 0.0012\n",
            "Epoch 25/200\n",
            "2485/2485 [==============================] - 5s 2ms/step - loss: 9.4256e-04\n",
            "Epoch 26/200\n",
            "2485/2485 [==============================] - 5s 2ms/step - loss: 9.9418e-04\n",
            "Epoch 27/200\n",
            "2485/2485 [==============================] - 5s 2ms/step - loss: 8.6706e-04\n",
            "Epoch 28/200\n",
            "2485/2485 [==============================] - 5s 2ms/step - loss: 0.0013\n",
            "Epoch 29/200\n",
            "2485/2485 [==============================] - 5s 2ms/step - loss: 8.7273e-04\n",
            "Epoch 30/200\n",
            "2485/2485 [==============================] - 5s 2ms/step - loss: 0.0013\n",
            "Epoch 31/200\n",
            "2485/2485 [==============================] - 5s 2ms/step - loss: 8.8419e-04\n",
            "Epoch 32/200\n",
            "2485/2485 [==============================] - 5s 2ms/step - loss: 8.7236e-04\n",
            "Epoch 33/200\n",
            "2485/2485 [==============================] - 5s 2ms/step - loss: 9.8467e-04\n",
            "Epoch 34/200\n",
            "2485/2485 [==============================] - 5s 2ms/step - loss: 8.6365e-04\n",
            "Epoch 35/200\n",
            "2485/2485 [==============================] - 5s 2ms/step - loss: 8.4871e-04\n",
            "Epoch 36/200\n",
            "2485/2485 [==============================] - 5s 2ms/step - loss: 0.0013\n",
            "Epoch 37/200\n",
            "2485/2485 [==============================] - 5s 2ms/step - loss: 8.1376e-04\n",
            "Epoch 38/200\n",
            "2485/2485 [==============================] - 5s 2ms/step - loss: 0.0010\n",
            "Epoch 39/200\n",
            "2485/2485 [==============================] - 5s 2ms/step - loss: 8.2701e-04\n",
            "Epoch 40/200\n",
            "2485/2485 [==============================] - 5s 2ms/step - loss: 9.0229e-04\n",
            "Epoch 41/200\n",
            "2485/2485 [==============================] - 5s 2ms/step - loss: 0.0011\n",
            "Epoch 42/200\n",
            "2485/2485 [==============================] - 5s 2ms/step - loss: 8.3834e-04\n",
            "Epoch 43/200\n",
            "2485/2485 [==============================] - 6s 2ms/step - loss: 9.0356e-04\n",
            "Epoch 44/200\n",
            "2485/2485 [==============================] - 5s 2ms/step - loss: 8.1961e-04\n",
            "Epoch 45/200\n",
            "2485/2485 [==============================] - 5s 2ms/step - loss: 9.0312e-04\n",
            "Epoch 46/200\n",
            "2485/2485 [==============================] - 5s 2ms/step - loss: 8.3140e-04\n",
            "Epoch 47/200\n",
            "2485/2485 [==============================] - 5s 2ms/step - loss: 8.5982e-04\n",
            "Epoch 48/200\n",
            "2485/2485 [==============================] - 5s 2ms/step - loss: 7.0776e-04\n",
            "Epoch 49/200\n",
            "2485/2485 [==============================] - 5s 2ms/step - loss: 9.6915e-04\n",
            "Epoch 50/200\n",
            "2485/2485 [==============================] - 5s 2ms/step - loss: 7.8866e-04\n",
            "Epoch 51/200\n",
            "2485/2485 [==============================] - 5s 2ms/step - loss: 9.9657e-04\n",
            "Epoch 52/200\n",
            "2485/2485 [==============================] - 5s 2ms/step - loss: 8.1890e-04\n",
            "Epoch 53/200\n",
            "2485/2485 [==============================] - 5s 2ms/step - loss: 8.5745e-04\n",
            "Epoch 54/200\n",
            "2485/2485 [==============================] - 5s 2ms/step - loss: 8.8076e-04\n",
            "Epoch 55/200\n",
            "2485/2485 [==============================] - 5s 2ms/step - loss: 8.8820e-04\n",
            "Epoch 56/200\n",
            "2485/2485 [==============================] - 5s 2ms/step - loss: 7.4259e-04\n",
            "Epoch 57/200\n",
            "2485/2485 [==============================] - 5s 2ms/step - loss: 7.3565e-04\n",
            "Epoch 58/200\n",
            "2485/2485 [==============================] - 5s 2ms/step - loss: 8.5568e-04\n",
            "Epoch 59/200\n",
            "2485/2485 [==============================] - 5s 2ms/step - loss: 7.9429e-04\n",
            "Epoch 60/200\n",
            "2485/2485 [==============================] - 5s 2ms/step - loss: 8.3339e-04\n",
            "Epoch 61/200\n",
            "2485/2485 [==============================] - 5s 2ms/step - loss: 7.5721e-04\n",
            "Epoch 62/200\n",
            "2485/2485 [==============================] - 5s 2ms/step - loss: 7.8270e-04\n",
            "Epoch 63/200\n",
            "2485/2485 [==============================] - 5s 2ms/step - loss: 8.4388e-04\n",
            "Epoch 64/200\n",
            "2485/2485 [==============================] - 5s 2ms/step - loss: 8.5953e-04\n",
            "Epoch 65/200\n",
            "2485/2485 [==============================] - 5s 2ms/step - loss: 9.1939e-04\n",
            "Epoch 66/200\n",
            "2485/2485 [==============================] - 5s 2ms/step - loss: 7.5051e-04\n",
            "Epoch 67/200\n",
            "2485/2485 [==============================] - 5s 2ms/step - loss: 6.7481e-04\n",
            "Epoch 68/200\n",
            "2485/2485 [==============================] - 5s 2ms/step - loss: 7.6388e-04\n",
            "Epoch 69/200\n",
            "2485/2485 [==============================] - 5s 2ms/step - loss: 7.1362e-04\n",
            "Epoch 70/200\n",
            "2485/2485 [==============================] - 5s 2ms/step - loss: 9.7683e-04\n",
            "Epoch 71/200\n",
            "2485/2485 [==============================] - 5s 2ms/step - loss: 7.2652e-04\n",
            "Epoch 72/200\n",
            "2485/2485 [==============================] - 5s 2ms/step - loss: 8.0088e-04\n",
            "Epoch 73/200\n",
            "2485/2485 [==============================] - 5s 2ms/step - loss: 7.7343e-04\n",
            "Epoch 74/200\n",
            "2485/2485 [==============================] - 5s 2ms/step - loss: 6.8646e-04\n",
            "Epoch 75/200\n",
            "2485/2485 [==============================] - 5s 2ms/step - loss: 7.5647e-04\n",
            "Epoch 76/200\n",
            "2485/2485 [==============================] - 5s 2ms/step - loss: 6.9369e-04\n",
            "Epoch 77/200\n",
            "2485/2485 [==============================] - 5s 2ms/step - loss: 6.6956e-04\n",
            "Epoch 78/200\n",
            "2485/2485 [==============================] - 5s 2ms/step - loss: 8.4895e-04\n",
            "Epoch 79/200\n",
            "2485/2485 [==============================] - 5s 2ms/step - loss: 8.5332e-04\n",
            "Epoch 80/200\n",
            "2485/2485 [==============================] - 5s 2ms/step - loss: 6.4936e-04\n",
            "Epoch 81/200\n",
            "2485/2485 [==============================] - 5s 2ms/step - loss: 6.8097e-04\n",
            "Epoch 82/200\n",
            "2485/2485 [==============================] - 5s 2ms/step - loss: 9.5152e-04\n",
            "Epoch 83/200\n",
            "2485/2485 [==============================] - 5s 2ms/step - loss: 6.4140e-04\n",
            "Epoch 84/200\n",
            "2485/2485 [==============================] - 5s 2ms/step - loss: 7.4720e-04\n",
            "Epoch 85/200\n",
            "2485/2485 [==============================] - 6s 2ms/step - loss: 7.0865e-04\n",
            "Epoch 86/200\n",
            "2485/2485 [==============================] - 5s 2ms/step - loss: 6.0194e-04\n",
            "Epoch 87/200\n",
            "2485/2485 [==============================] - 6s 2ms/step - loss: 7.6009e-04\n",
            "Epoch 88/200\n",
            "2485/2485 [==============================] - 6s 2ms/step - loss: 6.3695e-04\n",
            "Epoch 89/200\n",
            "2485/2485 [==============================] - 5s 2ms/step - loss: 7.7214e-04\n",
            "Epoch 90/200\n",
            "2485/2485 [==============================] - 5s 2ms/step - loss: 7.1589e-04\n",
            "Epoch 91/200\n",
            "2485/2485 [==============================] - 5s 2ms/step - loss: 6.4040e-04\n",
            "Epoch 92/200\n",
            "2485/2485 [==============================] - 5s 2ms/step - loss: 7.7814e-04\n",
            "Epoch 93/200\n",
            "2485/2485 [==============================] - 5s 2ms/step - loss: 8.8147e-04\n",
            "Epoch 94/200\n",
            "2485/2485 [==============================] - 5s 2ms/step - loss: 6.3783e-04\n",
            "Epoch 95/200\n",
            "2485/2485 [==============================] - 5s 2ms/step - loss: 6.8348e-04\n",
            "Epoch 96/200\n",
            "2485/2485 [==============================] - 5s 2ms/step - loss: 6.3114e-04\n",
            "Epoch 97/200\n",
            "2485/2485 [==============================] - 5s 2ms/step - loss: 7.2653e-04\n",
            "Epoch 98/200\n",
            "2485/2485 [==============================] - 5s 2ms/step - loss: 5.6096e-04\n",
            "Epoch 99/200\n",
            "2485/2485 [==============================] - 5s 2ms/step - loss: 6.1766e-04\n",
            "Epoch 100/200\n",
            "2485/2485 [==============================] - 5s 2ms/step - loss: 6.2744e-04\n",
            "Epoch 101/200\n",
            "2485/2485 [==============================] - 5s 2ms/step - loss: 5.9180e-04\n",
            "Epoch 102/200\n",
            "2485/2485 [==============================] - 5s 2ms/step - loss: 6.7128e-04\n",
            "Epoch 103/200\n",
            "2485/2485 [==============================] - 6s 2ms/step - loss: 7.9941e-04\n",
            "Epoch 104/200\n",
            "2485/2485 [==============================] - 5s 2ms/step - loss: 6.2208e-04\n",
            "Epoch 105/200\n",
            "2485/2485 [==============================] - 5s 2ms/step - loss: 6.5127e-04\n",
            "Epoch 106/200\n",
            "2485/2485 [==============================] - 6s 2ms/step - loss: 5.8241e-04\n",
            "Epoch 107/200\n",
            "2485/2485 [==============================] - 5s 2ms/step - loss: 6.3720e-04\n",
            "Epoch 108/200\n",
            "2485/2485 [==============================] - 5s 2ms/step - loss: 8.4285e-04\n",
            "Epoch 109/200\n",
            "2485/2485 [==============================] - 5s 2ms/step - loss: 6.5365e-04\n",
            "Epoch 110/200\n",
            "2485/2485 [==============================] - 5s 2ms/step - loss: 6.2415e-04\n",
            "Epoch 111/200\n",
            "2485/2485 [==============================] - 5s 2ms/step - loss: 6.7727e-04\n",
            "Epoch 112/200\n",
            "2485/2485 [==============================] - 5s 2ms/step - loss: 6.1419e-04\n",
            "Epoch 113/200\n",
            "2485/2485 [==============================] - 5s 2ms/step - loss: 6.3940e-04\n",
            "Epoch 114/200\n",
            "2485/2485 [==============================] - 5s 2ms/step - loss: 7.0346e-04\n",
            "Epoch 115/200\n",
            "2485/2485 [==============================] - 5s 2ms/step - loss: 5.7161e-04\n",
            "Epoch 116/200\n",
            "2485/2485 [==============================] - 5s 2ms/step - loss: 6.1224e-04\n",
            "Epoch 117/200\n",
            "2485/2485 [==============================] - 5s 2ms/step - loss: 6.6342e-04\n",
            "Epoch 118/200\n",
            "2485/2485 [==============================] - 5s 2ms/step - loss: 5.9020e-04\n",
            "Epoch 119/200\n",
            "2485/2485 [==============================] - 5s 2ms/step - loss: 6.1598e-04\n",
            "Epoch 120/200\n",
            "2485/2485 [==============================] - 6s 2ms/step - loss: 6.7632e-04\n",
            "Epoch 121/200\n",
            "2485/2485 [==============================] - 6s 2ms/step - loss: 5.8926e-04\n",
            "Epoch 122/200\n",
            "2485/2485 [==============================] - 5s 2ms/step - loss: 5.8891e-04\n",
            "Epoch 123/200\n",
            "2485/2485 [==============================] - 5s 2ms/step - loss: 5.9879e-04\n",
            "Epoch 124/200\n",
            "2485/2485 [==============================] - 5s 2ms/step - loss: 6.1584e-04\n",
            "Epoch 125/200\n",
            "2485/2485 [==============================] - 5s 2ms/step - loss: 5.8601e-04\n",
            "Epoch 126/200\n",
            "2485/2485 [==============================] - 5s 2ms/step - loss: 5.6733e-04\n",
            "Epoch 127/200\n",
            "2485/2485 [==============================] - 5s 2ms/step - loss: 7.0607e-04\n",
            "Epoch 128/200\n",
            "2485/2485 [==============================] - 5s 2ms/step - loss: 5.6216e-04\n",
            "Epoch 129/200\n",
            "2485/2485 [==============================] - 6s 2ms/step - loss: 5.9527e-04\n",
            "Epoch 130/200\n",
            "2485/2485 [==============================] - 5s 2ms/step - loss: 6.5811e-04\n",
            "Epoch 131/200\n",
            "2485/2485 [==============================] - 5s 2ms/step - loss: 5.8278e-04\n",
            "Epoch 132/200\n",
            "2485/2485 [==============================] - 6s 2ms/step - loss: 6.0118e-04\n",
            "Epoch 133/200\n",
            "2485/2485 [==============================] - 5s 2ms/step - loss: 5.9811e-04\n",
            "Epoch 134/200\n",
            "2485/2485 [==============================] - 5s 2ms/step - loss: 5.2699e-04\n",
            "Epoch 135/200\n",
            "2485/2485 [==============================] - 6s 2ms/step - loss: 5.6539e-04\n",
            "Epoch 136/200\n",
            "2485/2485 [==============================] - 6s 2ms/step - loss: 5.7518e-04\n",
            "Epoch 137/200\n",
            "2485/2485 [==============================] - 5s 2ms/step - loss: 5.5575e-04\n",
            "Epoch 138/200\n",
            "2485/2485 [==============================] - 5s 2ms/step - loss: 5.6767e-04\n",
            "Epoch 139/200\n",
            "2485/2485 [==============================] - 5s 2ms/step - loss: 5.8160e-04\n",
            "Epoch 140/200\n",
            "2485/2485 [==============================] - 5s 2ms/step - loss: 7.2059e-04\n",
            "Epoch 141/200\n",
            "2485/2485 [==============================] - 5s 2ms/step - loss: 5.6638e-04\n",
            "Epoch 142/200\n",
            "2485/2485 [==============================] - 5s 2ms/step - loss: 6.0544e-04\n",
            "Epoch 143/200\n",
            "2485/2485 [==============================] - 6s 2ms/step - loss: 5.8823e-04\n",
            "Epoch 144/200\n",
            "2485/2485 [==============================] - 5s 2ms/step - loss: 5.1095e-04\n",
            "Epoch 145/200\n",
            "2485/2485 [==============================] - 5s 2ms/step - loss: 5.9012e-04\n",
            "Epoch 146/200\n",
            "2485/2485 [==============================] - 5s 2ms/step - loss: 5.4467e-04\n",
            "Epoch 147/200\n",
            "2485/2485 [==============================] - 5s 2ms/step - loss: 5.6974e-04\n",
            "Epoch 148/200\n",
            "2485/2485 [==============================] - 6s 2ms/step - loss: 6.4995e-04\n",
            "Epoch 149/200\n",
            "2485/2485 [==============================] - 6s 2ms/step - loss: 5.7026e-04\n",
            "Epoch 150/200\n",
            "2485/2485 [==============================] - 5s 2ms/step - loss: 5.6064e-04\n",
            "Epoch 151/200\n",
            "2485/2485 [==============================] - 5s 2ms/step - loss: 5.7837e-04\n",
            "Epoch 152/200\n",
            "2485/2485 [==============================] - 5s 2ms/step - loss: 5.4416e-04\n",
            "Epoch 153/200\n",
            "2485/2485 [==============================] - 6s 2ms/step - loss: 5.8517e-04\n",
            "Epoch 154/200\n",
            "2485/2485 [==============================] - 5s 2ms/step - loss: 5.1544e-04\n",
            "Epoch 155/200\n",
            "2485/2485 [==============================] - 5s 2ms/step - loss: 4.9716e-04\n",
            "Epoch 156/200\n",
            "2485/2485 [==============================] - 5s 2ms/step - loss: 6.4357e-04\n",
            "Epoch 157/200\n",
            "2485/2485 [==============================] - 6s 2ms/step - loss: 5.1443e-04\n",
            "Epoch 158/200\n",
            "2485/2485 [==============================] - 5s 2ms/step - loss: 5.1386e-04\n",
            "Epoch 159/200\n",
            "2485/2485 [==============================] - 5s 2ms/step - loss: 8.0610e-04\n",
            "Epoch 160/200\n",
            "2485/2485 [==============================] - 5s 2ms/step - loss: 5.4004e-04\n",
            "Epoch 161/200\n",
            "2485/2485 [==============================] - 6s 2ms/step - loss: 5.7671e-04\n",
            "Epoch 162/200\n",
            "2485/2485 [==============================] - 5s 2ms/step - loss: 5.8045e-04\n",
            "Epoch 163/200\n",
            "2485/2485 [==============================] - 6s 2ms/step - loss: 5.6125e-04\n",
            "Epoch 164/200\n",
            "2485/2485 [==============================] - 5s 2ms/step - loss: 5.8501e-04\n",
            "Epoch 165/200\n",
            "2485/2485 [==============================] - 5s 2ms/step - loss: 4.9772e-04\n",
            "Epoch 166/200\n",
            "2485/2485 [==============================] - 5s 2ms/step - loss: 5.8520e-04\n",
            "Epoch 167/200\n",
            "2485/2485 [==============================] - 5s 2ms/step - loss: 5.5605e-04\n",
            "Epoch 168/200\n",
            "2485/2485 [==============================] - 5s 2ms/step - loss: 5.2001e-04\n",
            "Epoch 169/200\n",
            "2485/2485 [==============================] - 5s 2ms/step - loss: 5.4407e-04\n",
            "Epoch 170/200\n",
            "2485/2485 [==============================] - 6s 2ms/step - loss: 5.6122e-04\n",
            "Epoch 171/200\n",
            "2485/2485 [==============================] - 5s 2ms/step - loss: 5.3630e-04\n",
            "Epoch 172/200\n",
            "2485/2485 [==============================] - 5s 2ms/step - loss: 5.9918e-04\n",
            "Epoch 173/200\n",
            "2485/2485 [==============================] - 5s 2ms/step - loss: 5.5490e-04\n",
            "Epoch 174/200\n",
            "2485/2485 [==============================] - 5s 2ms/step - loss: 5.1042e-04\n",
            "Epoch 175/200\n",
            "2485/2485 [==============================] - 5s 2ms/step - loss: 6.1434e-04\n",
            "Epoch 176/200\n",
            "2485/2485 [==============================] - 5s 2ms/step - loss: 5.1121e-04\n",
            "Epoch 177/200\n",
            "2485/2485 [==============================] - 5s 2ms/step - loss: 5.0287e-04\n",
            "Epoch 178/200\n",
            "2485/2485 [==============================] - 6s 2ms/step - loss: 4.7170e-04\n",
            "Epoch 179/200\n",
            "2485/2485 [==============================] - 5s 2ms/step - loss: 4.8062e-04\n",
            "Epoch 180/200\n",
            "2485/2485 [==============================] - 5s 2ms/step - loss: 6.2247e-04\n",
            "Epoch 181/200\n",
            "2485/2485 [==============================] - 5s 2ms/step - loss: 4.4199e-04\n",
            "Epoch 182/200\n",
            "2485/2485 [==============================] - 5s 2ms/step - loss: 5.4005e-04\n",
            "Epoch 183/200\n",
            "2485/2485 [==============================] - 6s 2ms/step - loss: 5.1450e-04\n",
            "Epoch 184/200\n",
            "2485/2485 [==============================] - 6s 2ms/step - loss: 5.4965e-04\n",
            "Epoch 185/200\n",
            "2485/2485 [==============================] - 5s 2ms/step - loss: 4.5053e-04\n",
            "Epoch 186/200\n",
            "2485/2485 [==============================] - 5s 2ms/step - loss: 5.0625e-04\n",
            "Epoch 187/200\n",
            "2485/2485 [==============================] - 5s 2ms/step - loss: 4.8925e-04\n",
            "Epoch 188/200\n",
            "2485/2485 [==============================] - 5s 2ms/step - loss: 5.3241e-04\n",
            "Epoch 189/200\n",
            "2485/2485 [==============================] - 5s 2ms/step - loss: 5.4505e-04\n",
            "Epoch 190/200\n",
            "2485/2485 [==============================] - 5s 2ms/step - loss: 5.7661e-04\n",
            "Epoch 191/200\n",
            "2485/2485 [==============================] - 5s 2ms/step - loss: 4.9401e-04\n",
            "Epoch 192/200\n",
            "2485/2485 [==============================] - 6s 2ms/step - loss: 4.9638e-04\n",
            "Epoch 193/200\n",
            "2485/2485 [==============================] - 5s 2ms/step - loss: 5.7175e-04\n",
            "Epoch 194/200\n",
            "2485/2485 [==============================] - 5s 2ms/step - loss: 4.9775e-04\n",
            "Epoch 195/200\n",
            "2485/2485 [==============================] - 6s 2ms/step - loss: 4.9891e-04\n",
            "Epoch 196/200\n",
            "2485/2485 [==============================] - 5s 2ms/step - loss: 4.4831e-04\n",
            "Epoch 197/200\n",
            "2485/2485 [==============================] - 5s 2ms/step - loss: 5.0950e-04\n",
            "Epoch 198/200\n",
            "2485/2485 [==============================] - 5s 2ms/step - loss: 4.8563e-04\n",
            "Epoch 199/200\n",
            "2485/2485 [==============================] - 5s 2ms/step - loss: 6.7249e-04\n",
            "Epoch 200/200\n",
            "2485/2485 [==============================] - 5s 2ms/step - loss: 5.3836e-04\n"
          ],
          "name": "stdout"
        },
        {
          "output_type": "execute_result",
          "data": {
            "text/plain": [
              "<keras.callbacks.History at 0x7fe415481198>"
            ]
          },
          "metadata": {
            "tags": []
          },
          "execution_count": 131
        }
      ]
    },
    {
      "cell_type": "code",
      "metadata": {
        "id": "ZMLKJX5hd8mf",
        "colab_type": "code",
        "colab": {}
      },
      "source": [
        ""
      ],
      "execution_count": 0,
      "outputs": []
    },
    {
      "cell_type": "code",
      "metadata": {
        "id": "x94ZD6Dud85s",
        "colab_type": "code",
        "colab": {}
      },
      "source": [
        "valid_preds_ge = []\n",
        "test_preds_ge = []\n",
        "for reg_model in reg_models_ge:\n",
        "  valid_preds_ge.append(sc_ge.inverse_transform(reg_model.predict(X_valid_ge)))\n",
        "  test_preds_ge.append(sc_ge.inverse_transform(reg_model.predict(X_test_ge)))"
      ],
      "execution_count": 0,
      "outputs": []
    },
    {
      "cell_type": "code",
      "metadata": {
        "id": "mdQT06RGdyFU",
        "colab_type": "code",
        "colab": {
          "base_uri": "https://localhost:8080/",
          "height": 330
        },
        "outputId": "fcd00100-fd16-4802-8a2c-73d468b961a2"
      },
      "source": [
        "# Visualising the results\n",
        "plt.plot(valid_ge, color = 'red', label = 'Real GE Stock Close Price')\n",
        "plt.plot(valid_preds_ge[0], color = 'blue', label = 'Predicted GE Close Price')\n",
        "plt.plot(valid_preds_ge[1], color = 'cyan', label = 'Predicted GE Close Price')\n",
        "plt.title('GE Stock Price Prediction')\n",
        "plt.xlabel('Time')\n",
        "plt.ylabel('GE Stock Price')\n",
        "plt.legend()\n",
        "plt.show()"
      ],
      "execution_count": 135,
      "outputs": [
        {
          "output_type": "execute_result",
          "data": {
            "text/plain": [
              "[<matplotlib.lines.Line2D at 0x7fe41539b438>]"
            ]
          },
          "metadata": {
            "tags": []
          },
          "execution_count": 135
        },
        {
          "output_type": "execute_result",
          "data": {
            "text/plain": [
              "[<matplotlib.lines.Line2D at 0x7fe4153ece80>]"
            ]
          },
          "metadata": {
            "tags": []
          },
          "execution_count": 135
        },
        {
          "output_type": "execute_result",
          "data": {
            "text/plain": [
              "[<matplotlib.lines.Line2D at 0x7fe41539bba8>]"
            ]
          },
          "metadata": {
            "tags": []
          },
          "execution_count": 135
        },
        {
          "output_type": "execute_result",
          "data": {
            "text/plain": [
              "Text(0.5, 1.0, 'GE Stock Price Prediction')"
            ]
          },
          "metadata": {
            "tags": []
          },
          "execution_count": 135
        },
        {
          "output_type": "execute_result",
          "data": {
            "text/plain": [
              "Text(0.5, 0, 'Time')"
            ]
          },
          "metadata": {
            "tags": []
          },
          "execution_count": 135
        },
        {
          "output_type": "execute_result",
          "data": {
            "text/plain": [
              "Text(0, 0.5, 'GE Stock Price')"
            ]
          },
          "metadata": {
            "tags": []
          },
          "execution_count": 135
        },
        {
          "output_type": "execute_result",
          "data": {
            "text/plain": [
              "<matplotlib.legend.Legend at 0x7fe41539bfd0>"
            ]
          },
          "metadata": {
            "tags": []
          },
          "execution_count": 135
        },
        {
          "output_type": "display_data",
          "data": {
            "image/png": "[encoded data removed]",
            "text/plain": [
              "<Figure size 432x288 with 1 Axes>"
            ]
          },
          "metadata": {
            "tags": []
          }
        }
      ]
    },
    {
      "cell_type": "code",
      "metadata": {
        "id": "WfMXp_4XdyYr",
        "colab_type": "code",
        "colab": {
          "base_uri": "https://localhost:8080/",
          "height": 330
        },
        "outputId": "c8ce24a0-f8b8-415c-8986-fe9e00bdbadb"
      },
      "source": [
        "# Visualising the results\n",
        "plt.plot(test_ge, color = 'red', label = 'Real GE Stock Close Price')\n",
        "plt.plot(test_preds_ge[0], color = 'blue', label = 'Predicted GE Close Price')\n",
        "plt.title('GE Stock Price Prediction')\n",
        "plt.xlabel('Time')\n",
        "plt.ylabel('GE Stock Price')\n",
        "plt.legend()\n",
        "plt.show()"
      ],
      "execution_count": 136,
      "outputs": [
        {
          "output_type": "execute_result",
          "data": {
            "text/plain": [
              "[<matplotlib.lines.Line2D at 0x7fe41530f630>]"
            ]
          },
          "metadata": {
            "tags": []
          },
          "execution_count": 136
        },
        {
          "output_type": "execute_result",
          "data": {
            "text/plain": [
              "[<matplotlib.lines.Line2D at 0x7fe415325f98>]"
            ]
          },
          "metadata": {
            "tags": []
          },
          "execution_count": 136
        },
        {
          "output_type": "execute_result",
          "data": {
            "text/plain": [
              "Text(0.5, 1.0, 'GE Stock Price Prediction')"
            ]
          },
          "metadata": {
            "tags": []
          },
          "execution_count": 136
        },
        {
          "output_type": "execute_result",
          "data": {
            "text/plain": [
              "Text(0.5, 0, 'Time')"
            ]
          },
          "metadata": {
            "tags": []
          },
          "execution_count": 136
        },
        {
          "output_type": "execute_result",
          "data": {
            "text/plain": [
              "Text(0, 0.5, 'GE Stock Price')"
            ]
          },
          "metadata": {
            "tags": []
          },
          "execution_count": 136
        },
        {
          "output_type": "execute_result",
          "data": {
            "text/plain": [
              "<matplotlib.legend.Legend at 0x7fe4152ff128>"
            ]
          },
          "metadata": {
            "tags": []
          },
          "execution_count": 136
        },
        {
          "output_type": "display_data",
          "data": {
            "image/png": "[encoded data removed]",
            "text/plain": [
              "<Figure size 432x288 with 1 Axes>"
            ]
          },
          "metadata": {
            "tags": []
          }
        }
      ]
    },
    {
      "cell_type": "code",
      "metadata": {
        "id": "EszkTjjAlUZ2",
        "colab_type": "code",
        "colab": {
          "base_uri": "https://localhost:8080/",
          "height": 434
        },
        "outputId": "6c47e0d7-b6bb-4588-8010-4716d0e442b1"
      },
      "source": [
        "np.datetime_as_string(df_ge.index.values[-94:], unit='D')"
      ],
      "execution_count": 148,
      "outputs": [
        {
          "output_type": "execute_result",
          "data": {
            "text/plain": [
              "array(['2019-06-03', '2019-06-04', '2019-06-05', '2019-06-06',\n",
              "       '2019-06-07', '2019-06-10', '2019-06-11', '2019-06-12',\n",
              "       '2019-06-13', '2019-06-14', '2019-06-17', '2019-06-18',\n",
              "       '2019-06-19', '2019-06-20', '2019-06-21', '2019-06-24',\n",
              "       '2019-06-25', '2019-06-26', '2019-06-27', '2019-06-28',\n",
              "       '2019-07-01', '2019-07-02', '2019-07-03', '2019-07-05',\n",
              "       '2019-07-08', '2019-07-09', '2019-07-10', '2019-07-11',\n",
              "       '2019-07-12', '2019-07-15', '2019-07-16', '2019-07-17',\n",
              "       '2019-07-18', '2019-07-19', '2019-07-22', '2019-07-23',\n",
              "       '2019-07-24', '2019-07-25', '2019-07-26', '2019-07-29',\n",
              "       '2019-07-30', '2019-07-31', '2019-08-01', '2019-08-02',\n",
              "       '2019-08-05', '2019-08-06', '2019-08-07', '2019-08-08',\n",
              "       '2019-08-09', '2019-08-12', '2019-08-13', '2019-08-14',\n",
              "       '2019-08-15', '2019-08-16', '2019-08-19', '2019-08-20',\n",
              "       '2019-08-21', '2019-08-22', '2019-08-23', '2019-08-26',\n",
              "       '2019-08-27', '2019-08-28', '2019-08-29', '2019-08-30',\n",
              "       '2019-09-03', '2019-09-04', '2019-09-05', '2019-09-06',\n",
              "       '2019-09-09', '2019-09-10', '2019-09-11', '2019-09-12',\n",
              "       '2019-09-13', '2019-09-16', '2019-09-17', '2019-09-18',\n",
              "       '2019-09-19', '2019-09-20', '2019-09-23', '2019-09-24',\n",
              "       '2019-09-25', '2019-09-26', '2019-09-27', '2019-09-30',\n",
              "       '2019-10-01', '2019-10-02', '2019-10-03', '2019-10-04',\n",
              "       '2019-10-07', '2019-10-08', '2019-10-09', '2019-10-10',\n",
              "       '2019-10-11', '2019-10-14'], dtype='<U28')"
            ]
          },
          "metadata": {
            "tags": []
          },
          "execution_count": 148
        }
      ]
    },
    {
      "cell_type": "code",
      "metadata": {
        "id": "8JWbq5EroElp",
        "colab_type": "code",
        "colab": {
          "base_uri": "https://localhost:8080/",
          "height": 378
        },
        "outputId": "06709c51-12ea-4c13-9a4c-81a650ae3d12"
      },
      "source": [
        "plot_data = pd.DataFrame(np.datetime_as_string(df_ge.index.values[-94:], unit='D'))\n",
        "plot_data.columns = ['date']\n",
        "\n",
        "plot_data['close_price']=test_ge\n",
        "plot_data['pred_close_price']=test_preds_ge[0]\n",
        "plot_data.head()\n",
        "plot_data.tail()"
      ],
      "execution_count": 175,
      "outputs": [
        {
          "output_type": "execute_result",
          "data": {
            "text/html": [
              "<div>\n",
              "<style scoped>\n",
              "    .dataframe tbody tr th:only-of-type {\n",
              "        vertical-align: middle;\n",
              "    }\n",
              "\n",
              "    .dataframe tbody tr th {\n",
              "        vertical-align: top;\n",
              "    }\n",
              "\n",
              "    .dataframe thead th {\n",
              "        text-align: right;\n",
              "    }\n",
              "</style>\n",
              "<table border=\"1\" class=\"dataframe\">\n",
              "  <thead>\n",
              "    <tr style=\"text-align: right;\">\n",
              "      <th></th>\n",
              "      <th>date</th>\n",
              "      <th>close_price</th>\n",
              "      <th>pred_close_price</th>\n",
              "    </tr>\n",
              "  </thead>\n",
              "  <tbody>\n",
              "    <tr>\n",
              "      <th>0</th>\n",
              "      <td>2019-06-03</td>\n",
              "      <td>9.53</td>\n",
              "      <td>9.118612</td>\n",
              "    </tr>\n",
              "    <tr>\n",
              "      <th>1</th>\n",
              "      <td>2019-06-04</td>\n",
              "      <td>10.00</td>\n",
              "      <td>9.190796</td>\n",
              "    </tr>\n",
              "    <tr>\n",
              "      <th>2</th>\n",
              "      <td>2019-06-05</td>\n",
              "      <td>9.89</td>\n",
              "      <td>9.606743</td>\n",
              "    </tr>\n",
              "    <tr>\n",
              "      <th>3</th>\n",
              "      <td>2019-06-06</td>\n",
              "      <td>9.92</td>\n",
              "      <td>9.598985</td>\n",
              "    </tr>\n",
              "    <tr>\n",
              "      <th>4</th>\n",
              "      <td>2019-06-07</td>\n",
              "      <td>9.98</td>\n",
              "      <td>9.591146</td>\n",
              "    </tr>\n",
              "  </tbody>\n",
              "</table>\n",
              "</div>"
            ],
            "text/plain": [
              "         date  close_price  pred_close_price\n",
              "0  2019-06-03         9.53          9.118612\n",
              "1  2019-06-04        10.00          9.190796\n",
              "2  2019-06-05         9.89          9.606743\n",
              "3  2019-06-06         9.92          9.598985\n",
              "4  2019-06-07         9.98          9.591146"
            ]
          },
          "metadata": {
            "tags": []
          },
          "execution_count": 175
        },
        {
          "output_type": "execute_result",
          "data": {
            "text/html": [
              "<div>\n",
              "<style scoped>\n",
              "    .dataframe tbody tr th:only-of-type {\n",
              "        vertical-align: middle;\n",
              "    }\n",
              "\n",
              "    .dataframe tbody tr th {\n",
              "        vertical-align: top;\n",
              "    }\n",
              "\n",
              "    .dataframe thead th {\n",
              "        text-align: right;\n",
              "    }\n",
              "</style>\n",
              "<table border=\"1\" class=\"dataframe\">\n",
              "  <thead>\n",
              "    <tr style=\"text-align: right;\">\n",
              "      <th></th>\n",
              "      <th>date</th>\n",
              "      <th>close_price</th>\n",
              "      <th>pred_close_price</th>\n",
              "    </tr>\n",
              "  </thead>\n",
              "  <tbody>\n",
              "    <tr>\n",
              "      <th>89</th>\n",
              "      <td>2019-10-08</td>\n",
              "      <td>8.28</td>\n",
              "      <td>8.218475</td>\n",
              "    </tr>\n",
              "    <tr>\n",
              "      <th>90</th>\n",
              "      <td>2019-10-09</td>\n",
              "      <td>8.35</td>\n",
              "      <td>7.966403</td>\n",
              "    </tr>\n",
              "    <tr>\n",
              "      <th>91</th>\n",
              "      <td>2019-10-10</td>\n",
              "      <td>8.45</td>\n",
              "      <td>7.967775</td>\n",
              "    </tr>\n",
              "    <tr>\n",
              "      <th>92</th>\n",
              "      <td>2019-10-11</td>\n",
              "      <td>8.80</td>\n",
              "      <td>8.076447</td>\n",
              "    </tr>\n",
              "    <tr>\n",
              "      <th>93</th>\n",
              "      <td>2019-10-14</td>\n",
              "      <td>8.72</td>\n",
              "      <td>8.411800</td>\n",
              "    </tr>\n",
              "  </tbody>\n",
              "</table>\n",
              "</div>"
            ],
            "text/plain": [
              "          date  close_price  pred_close_price\n",
              "89  2019-10-08         8.28          8.218475\n",
              "90  2019-10-09         8.35          7.966403\n",
              "91  2019-10-10         8.45          7.967775\n",
              "92  2019-10-11         8.80          8.076447\n",
              "93  2019-10-14         8.72          8.411800"
            ]
          },
          "metadata": {
            "tags": []
          },
          "execution_count": 175
        }
      ]
    },
    {
      "cell_type": "code",
      "metadata": {
        "id": "9grSuBnBqxcB",
        "colab_type": "code",
        "colab": {
          "base_uri": "https://localhost:8080/",
          "height": 156
        },
        "outputId": "81f72a0e-4041-49fb-fd1b-0fdbf4f69daf"
      },
      "source": [
        "index = pd.date_range(start='06/03/2019', end='10/14/2019', name=\"date\")\n",
        "index"
      ],
      "execution_count": 173,
      "outputs": [
        {
          "output_type": "execute_result",
          "data": {
            "text/plain": [
              "DatetimeIndex(['2019-06-03', '2019-06-04', '2019-06-05', '2019-06-06',\n",
              "               '2019-06-07', '2019-06-08', '2019-06-09', '2019-06-10',\n",
              "               '2019-06-11', '2019-06-12',\n",
              "               ...\n",
              "               '2019-10-05', '2019-10-06', '2019-10-07', '2019-10-08',\n",
              "               '2019-10-09', '2019-10-10', '2019-10-11', '2019-10-12',\n",
              "               '2019-10-13', '2019-10-14'],\n",
              "              dtype='datetime64[ns]', name='date', length=134, freq='D')"
            ]
          },
          "metadata": {
            "tags": []
          },
          "execution_count": 173
        }
      ]
    },
    {
      "cell_type": "code",
      "metadata": {
        "id": "faZvSHOnlCvu",
        "colab_type": "code",
        "colab": {
          "base_uri": "https://localhost:8080/",
          "height": 300
        },
        "outputId": "50c10d70-e305-48fa-ac81-ff2b4c1bccd5"
      },
      "source": [
        "sns.lineplot(data=plot_data,x='date',y='close_price')\n"
      ],
      "execution_count": 184,
      "outputs": [
        {
          "output_type": "execute_result",
          "data": {
            "text/plain": [
              "<matplotlib.axes._subplots.AxesSubplot at 0x7fe4134533c8>"
            ]
          },
          "metadata": {
            "tags": []
          },
          "execution_count": 184
        },
        {
          "output_type": "display_data",
          "data": {
            "image/png": "[encoded data removed]",
            "text/plain": [
              "<Figure size 432x288 with 1 Axes>"
            ]
          },
          "metadata": {
            "tags": []
          }
        }
      ]
    },
    {
      "cell_type": "code",
      "metadata": {
        "id": "qYCoC3Izlz0I",
        "colab_type": "code",
        "colab": {}
      },
      "source": [
        ""
      ],
      "execution_count": 0,
      "outputs": []
    }
  ]
}