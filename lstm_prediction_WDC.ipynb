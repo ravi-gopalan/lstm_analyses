{
  "nbformat": 4,
  "nbformat_minor": 0,
  "metadata": {
    "colab": {
      "name": "lstm_prediction_WDC.ipynb",
      "provenance": [],
      "include_colab_link": true
    },
    "kernelspec": {
      "name": "python3",
      "display_name": "Python 3"
    },
    "accelerator": "GPU"
  },
  "cells": [
    {
      "cell_type": "markdown",
      "metadata": {
        "id": "view-in-github",
        "colab_type": "text"
      },
      "source": [
        "<a href=\"https://colab.research.google.com/github/ravi-gopalan/lstm_analyses/blob/master/lstm_prediction_WDC.ipynb\" target=\"_parent\"><img src=\"https://colab.research.google.com/assets/colab-badge.svg\" alt=\"Open In Colab\"/></a>"
      ]
    },
    {
      "cell_type": "code",
      "metadata": {
        "id": "K0zMq0IbD9jS",
        "colab_type": "code",
        "colab": {}
      },
      "source": [
        "# Importing the libraries\n",
        "from IPython.core.interactiveshell import InteractiveShell\n",
        "InteractiveShell.ast_node_interactivity = \"all\"\n",
        "import numpy as np\n",
        "import matplotlib.pyplot as plt\n",
        "import pandas as pd\n",
        "import seaborn as sns"
      ],
      "execution_count": 0,
      "outputs": []
    },
    {
      "cell_type": "code",
      "metadata": {
        "id": "swJFzQNyEPAX",
        "colab_type": "code",
        "colab": {
          "base_uri": "https://localhost:8080/",
          "height": 34
        },
        "outputId": "36cfd41f-1d01-4406-d95f-4248d99ea79f"
      },
      "source": [
        "!ls"
      ],
      "execution_count": 2,
      "outputs": [
        {
          "output_type": "stream",
          "text": [
            "sample_data  WDC.csv\n"
          ],
          "name": "stdout"
        }
      ]
    },
    {
      "cell_type": "code",
      "metadata": {
        "id": "e4sa_5u6ECb2",
        "colab_type": "code",
        "colab": {
          "base_uri": "https://localhost:8080/",
          "height": 225
        },
        "outputId": "e8f1a371-e0c1-40f9-e839-82ea901d5887"
      },
      "source": [
        "dateparse = lambda x: pd.datetime.strptime(x, '%Y-%m-%d')\n",
        "df = pd.read_csv('WDC.csv', parse_dates=['Date'], date_parser=dateparse)\n",
        "df.info()"
      ],
      "execution_count": 3,
      "outputs": [
        {
          "output_type": "stream",
          "text": [
            "<class 'pandas.core.frame.DataFrame'>\n",
            "RangeIndex: 2266 entries, 0 to 2265\n",
            "Data columns (total 7 columns):\n",
            "Date         2266 non-null datetime64[ns]\n",
            "Open         2266 non-null float64\n",
            "High         2266 non-null float64\n",
            "Low          2266 non-null float64\n",
            "Close        2266 non-null float64\n",
            "Adj Close    2266 non-null float64\n",
            "Volume       2266 non-null int64\n",
            "dtypes: datetime64[ns](1), float64(5), int64(1)\n",
            "memory usage: 124.0 KB\n"
          ],
          "name": "stdout"
        }
      ]
    },
    {
      "cell_type": "code",
      "metadata": {
        "id": "uRzzhXMImcD6",
        "colab_type": "code",
        "colab": {
          "base_uri": "https://localhost:8080/",
          "height": 286
        },
        "outputId": "530551e6-01b6-4b93-a5ea-2188665ed44b"
      },
      "source": [
        "plt.plot((df['Adj Close']-df['Close'])/df['Close'])"
      ],
      "execution_count": 4,
      "outputs": [
        {
          "output_type": "execute_result",
          "data": {
            "text/plain": [
              "[<matplotlib.lines.Line2D at 0x7f9dceb76828>]"
            ]
          },
          "metadata": {
            "tags": []
          },
          "execution_count": 4
        },
        {
          "output_type": "display_data",
          "data": {
            "image/png": "[encoded data removed]",
            "text/plain": [
              "<Figure size 432x288 with 1 Axes>"
            ]
          },
          "metadata": {
            "tags": []
          }
        }
      ]
    },
    {
      "cell_type": "code",
      "metadata": {
        "id": "FwnRLQzzFJYA",
        "colab_type": "code",
        "colab": {
          "base_uri": "https://localhost:8080/",
          "height": 378
        },
        "outputId": "1c042d0f-4eec-41f4-d9a1-30e66450c1ba"
      },
      "source": [
        "df.head()\n",
        "df.tail()"
      ],
      "execution_count": 5,
      "outputs": [
        {
          "output_type": "execute_result",
          "data": {
            "text/html": [
              "<div>\n",
              "<style scoped>\n",
              "    .dataframe tbody tr th:only-of-type {\n",
              "        vertical-align: middle;\n",
              "    }\n",
              "\n",
              "    .dataframe tbody tr th {\n",
              "        vertical-align: top;\n",
              "    }\n",
              "\n",
              "    .dataframe thead th {\n",
              "        text-align: right;\n",
              "    }\n",
              "</style>\n",
              "<table border=\"1\" class=\"dataframe\">\n",
              "  <thead>\n",
              "    <tr style=\"text-align: right;\">\n",
              "      <th></th>\n",
              "      <th>Date</th>\n",
              "      <th>Open</th>\n",
              "      <th>High</th>\n",
              "      <th>Low</th>\n",
              "      <th>Close</th>\n",
              "      <th>Adj Close</th>\n",
              "      <th>Volume</th>\n",
              "    </tr>\n",
              "  </thead>\n",
              "  <tbody>\n",
              "    <tr>\n",
              "      <th>0</th>\n",
              "      <td>2010-10-04</td>\n",
              "      <td>28.129999</td>\n",
              "      <td>28.350000</td>\n",
              "      <td>27.580000</td>\n",
              "      <td>27.969999</td>\n",
              "      <td>22.624254</td>\n",
              "      <td>3916600</td>\n",
              "    </tr>\n",
              "    <tr>\n",
              "      <th>1</th>\n",
              "      <td>2010-10-05</td>\n",
              "      <td>28.309999</td>\n",
              "      <td>28.850000</td>\n",
              "      <td>27.930000</td>\n",
              "      <td>28.780001</td>\n",
              "      <td>23.279446</td>\n",
              "      <td>4916600</td>\n",
              "    </tr>\n",
              "    <tr>\n",
              "      <th>2</th>\n",
              "      <td>2010-10-06</td>\n",
              "      <td>28.629999</td>\n",
              "      <td>28.910000</td>\n",
              "      <td>27.709999</td>\n",
              "      <td>27.900000</td>\n",
              "      <td>22.567631</td>\n",
              "      <td>7194900</td>\n",
              "    </tr>\n",
              "    <tr>\n",
              "      <th>3</th>\n",
              "      <td>2010-10-07</td>\n",
              "      <td>28.010000</td>\n",
              "      <td>28.500000</td>\n",
              "      <td>27.410000</td>\n",
              "      <td>28.350000</td>\n",
              "      <td>22.931625</td>\n",
              "      <td>6079100</td>\n",
              "    </tr>\n",
              "    <tr>\n",
              "      <th>4</th>\n",
              "      <td>2010-10-08</td>\n",
              "      <td>28.830000</td>\n",
              "      <td>29.299999</td>\n",
              "      <td>28.600000</td>\n",
              "      <td>28.900000</td>\n",
              "      <td>23.376511</td>\n",
              "      <td>7276000</td>\n",
              "    </tr>\n",
              "  </tbody>\n",
              "</table>\n",
              "</div>"
            ],
            "text/plain": [
              "        Date       Open       High        Low      Close  Adj Close   Volume\n",
              "0 2010-10-04  28.129999  28.350000  27.580000  27.969999  22.624254  3916600\n",
              "1 2010-10-05  28.309999  28.850000  27.930000  28.780001  23.279446  4916600\n",
              "2 2010-10-06  28.629999  28.910000  27.709999  27.900000  22.567631  7194900\n",
              "3 2010-10-07  28.010000  28.500000  27.410000  28.350000  22.931625  6079100\n",
              "4 2010-10-08  28.830000  29.299999  28.600000  28.900000  23.376511  7276000"
            ]
          },
          "metadata": {
            "tags": []
          },
          "execution_count": 5
        },
        {
          "output_type": "execute_result",
          "data": {
            "text/html": [
              "<div>\n",
              "<style scoped>\n",
              "    .dataframe tbody tr th:only-of-type {\n",
              "        vertical-align: middle;\n",
              "    }\n",
              "\n",
              "    .dataframe tbody tr th {\n",
              "        vertical-align: top;\n",
              "    }\n",
              "\n",
              "    .dataframe thead th {\n",
              "        text-align: right;\n",
              "    }\n",
              "</style>\n",
              "<table border=\"1\" class=\"dataframe\">\n",
              "  <thead>\n",
              "    <tr style=\"text-align: right;\">\n",
              "      <th></th>\n",
              "      <th>Date</th>\n",
              "      <th>Open</th>\n",
              "      <th>High</th>\n",
              "      <th>Low</th>\n",
              "      <th>Close</th>\n",
              "      <th>Adj Close</th>\n",
              "      <th>Volume</th>\n",
              "    </tr>\n",
              "  </thead>\n",
              "  <tbody>\n",
              "    <tr>\n",
              "      <th>2261</th>\n",
              "      <td>2019-09-27</td>\n",
              "      <td>61.439999</td>\n",
              "      <td>62.500000</td>\n",
              "      <td>60.180000</td>\n",
              "      <td>60.490002</td>\n",
              "      <td>60.490002</td>\n",
              "      <td>5759500</td>\n",
              "    </tr>\n",
              "    <tr>\n",
              "      <th>2262</th>\n",
              "      <td>2019-09-30</td>\n",
              "      <td>60.340000</td>\n",
              "      <td>60.439999</td>\n",
              "      <td>58.830002</td>\n",
              "      <td>59.639999</td>\n",
              "      <td>59.639999</td>\n",
              "      <td>3799400</td>\n",
              "    </tr>\n",
              "    <tr>\n",
              "      <th>2263</th>\n",
              "      <td>2019-10-01</td>\n",
              "      <td>60.060001</td>\n",
              "      <td>61.110001</td>\n",
              "      <td>58.369999</td>\n",
              "      <td>58.590000</td>\n",
              "      <td>58.590000</td>\n",
              "      <td>3177100</td>\n",
              "    </tr>\n",
              "    <tr>\n",
              "      <th>2264</th>\n",
              "      <td>2019-10-02</td>\n",
              "      <td>57.810001</td>\n",
              "      <td>57.939999</td>\n",
              "      <td>56.150002</td>\n",
              "      <td>56.820000</td>\n",
              "      <td>56.820000</td>\n",
              "      <td>5590700</td>\n",
              "    </tr>\n",
              "    <tr>\n",
              "      <th>2265</th>\n",
              "      <td>2019-10-03</td>\n",
              "      <td>56.570000</td>\n",
              "      <td>57.814999</td>\n",
              "      <td>55.480000</td>\n",
              "      <td>57.779999</td>\n",
              "      <td>57.779999</td>\n",
              "      <td>3463535</td>\n",
              "    </tr>\n",
              "  </tbody>\n",
              "</table>\n",
              "</div>"
            ],
            "text/plain": [
              "           Date       Open       High        Low      Close  Adj Close   Volume\n",
              "2261 2019-09-27  61.439999  62.500000  60.180000  60.490002  60.490002  5759500\n",
              "2262 2019-09-30  60.340000  60.439999  58.830002  59.639999  59.639999  3799400\n",
              "2263 2019-10-01  60.060001  61.110001  58.369999  58.590000  58.590000  3177100\n",
              "2264 2019-10-02  57.810001  57.939999  56.150002  56.820000  56.820000  5590700\n",
              "2265 2019-10-03  56.570000  57.814999  55.480000  57.779999  57.779999  3463535"
            ]
          },
          "metadata": {
            "tags": []
          },
          "execution_count": 5
        }
      ]
    },
    {
      "cell_type": "code",
      "metadata": {
        "id": "awemGH5qHdff",
        "colab_type": "code",
        "colab": {
          "base_uri": "https://localhost:8080/",
          "height": 227
        },
        "outputId": "1b1580d0-d40c-430b-d1f9-6ad111ba662f"
      },
      "source": [
        "df = df.set_index('Date')\n",
        "df.head()"
      ],
      "execution_count": 6,
      "outputs": [
        {
          "output_type": "execute_result",
          "data": {
            "text/html": [
              "<div>\n",
              "<style scoped>\n",
              "    .dataframe tbody tr th:only-of-type {\n",
              "        vertical-align: middle;\n",
              "    }\n",
              "\n",
              "    .dataframe tbody tr th {\n",
              "        vertical-align: top;\n",
              "    }\n",
              "\n",
              "    .dataframe thead th {\n",
              "        text-align: right;\n",
              "    }\n",
              "</style>\n",
              "<table border=\"1\" class=\"dataframe\">\n",
              "  <thead>\n",
              "    <tr style=\"text-align: right;\">\n",
              "      <th></th>\n",
              "      <th>Open</th>\n",
              "      <th>High</th>\n",
              "      <th>Low</th>\n",
              "      <th>Close</th>\n",
              "      <th>Adj Close</th>\n",
              "      <th>Volume</th>\n",
              "    </tr>\n",
              "    <tr>\n",
              "      <th>Date</th>\n",
              "      <th></th>\n",
              "      <th></th>\n",
              "      <th></th>\n",
              "      <th></th>\n",
              "      <th></th>\n",
              "      <th></th>\n",
              "    </tr>\n",
              "  </thead>\n",
              "  <tbody>\n",
              "    <tr>\n",
              "      <th>2010-10-04</th>\n",
              "      <td>28.129999</td>\n",
              "      <td>28.350000</td>\n",
              "      <td>27.580000</td>\n",
              "      <td>27.969999</td>\n",
              "      <td>22.624254</td>\n",
              "      <td>3916600</td>\n",
              "    </tr>\n",
              "    <tr>\n",
              "      <th>2010-10-05</th>\n",
              "      <td>28.309999</td>\n",
              "      <td>28.850000</td>\n",
              "      <td>27.930000</td>\n",
              "      <td>28.780001</td>\n",
              "      <td>23.279446</td>\n",
              "      <td>4916600</td>\n",
              "    </tr>\n",
              "    <tr>\n",
              "      <th>2010-10-06</th>\n",
              "      <td>28.629999</td>\n",
              "      <td>28.910000</td>\n",
              "      <td>27.709999</td>\n",
              "      <td>27.900000</td>\n",
              "      <td>22.567631</td>\n",
              "      <td>7194900</td>\n",
              "    </tr>\n",
              "    <tr>\n",
              "      <th>2010-10-07</th>\n",
              "      <td>28.010000</td>\n",
              "      <td>28.500000</td>\n",
              "      <td>27.410000</td>\n",
              "      <td>28.350000</td>\n",
              "      <td>22.931625</td>\n",
              "      <td>6079100</td>\n",
              "    </tr>\n",
              "    <tr>\n",
              "      <th>2010-10-08</th>\n",
              "      <td>28.830000</td>\n",
              "      <td>29.299999</td>\n",
              "      <td>28.600000</td>\n",
              "      <td>28.900000</td>\n",
              "      <td>23.376511</td>\n",
              "      <td>7276000</td>\n",
              "    </tr>\n",
              "  </tbody>\n",
              "</table>\n",
              "</div>"
            ],
            "text/plain": [
              "                 Open       High        Low      Close  Adj Close   Volume\n",
              "Date                                                                      \n",
              "2010-10-04  28.129999  28.350000  27.580000  27.969999  22.624254  3916600\n",
              "2010-10-05  28.309999  28.850000  27.930000  28.780001  23.279446  4916600\n",
              "2010-10-06  28.629999  28.910000  27.709999  27.900000  22.567631  7194900\n",
              "2010-10-07  28.010000  28.500000  27.410000  28.350000  22.931625  6079100\n",
              "2010-10-08  28.830000  29.299999  28.600000  28.900000  23.376511  7276000"
            ]
          },
          "metadata": {
            "tags": []
          },
          "execution_count": 6
        }
      ]
    },
    {
      "cell_type": "code",
      "metadata": {
        "id": "VM1oN0Nsnp7w",
        "colab_type": "code",
        "colab": {
          "base_uri": "https://localhost:8080/",
          "height": 227
        },
        "outputId": "4d6c6f6b-aefc-4b54-9ef3-e77c9a77b0bc"
      },
      "source": [
        "df.drop(columns=['Adj Close'],inplace=True)\n",
        "df.head()"
      ],
      "execution_count": 7,
      "outputs": [
        {
          "output_type": "execute_result",
          "data": {
            "text/html": [
              "<div>\n",
              "<style scoped>\n",
              "    .dataframe tbody tr th:only-of-type {\n",
              "        vertical-align: middle;\n",
              "    }\n",
              "\n",
              "    .dataframe tbody tr th {\n",
              "        vertical-align: top;\n",
              "    }\n",
              "\n",
              "    .dataframe thead th {\n",
              "        text-align: right;\n",
              "    }\n",
              "</style>\n",
              "<table border=\"1\" class=\"dataframe\">\n",
              "  <thead>\n",
              "    <tr style=\"text-align: right;\">\n",
              "      <th></th>\n",
              "      <th>Open</th>\n",
              "      <th>High</th>\n",
              "      <th>Low</th>\n",
              "      <th>Close</th>\n",
              "      <th>Volume</th>\n",
              "    </tr>\n",
              "    <tr>\n",
              "      <th>Date</th>\n",
              "      <th></th>\n",
              "      <th></th>\n",
              "      <th></th>\n",
              "      <th></th>\n",
              "      <th></th>\n",
              "    </tr>\n",
              "  </thead>\n",
              "  <tbody>\n",
              "    <tr>\n",
              "      <th>2010-10-04</th>\n",
              "      <td>28.129999</td>\n",
              "      <td>28.350000</td>\n",
              "      <td>27.580000</td>\n",
              "      <td>27.969999</td>\n",
              "      <td>3916600</td>\n",
              "    </tr>\n",
              "    <tr>\n",
              "      <th>2010-10-05</th>\n",
              "      <td>28.309999</td>\n",
              "      <td>28.850000</td>\n",
              "      <td>27.930000</td>\n",
              "      <td>28.780001</td>\n",
              "      <td>4916600</td>\n",
              "    </tr>\n",
              "    <tr>\n",
              "      <th>2010-10-06</th>\n",
              "      <td>28.629999</td>\n",
              "      <td>28.910000</td>\n",
              "      <td>27.709999</td>\n",
              "      <td>27.900000</td>\n",
              "      <td>7194900</td>\n",
              "    </tr>\n",
              "    <tr>\n",
              "      <th>2010-10-07</th>\n",
              "      <td>28.010000</td>\n",
              "      <td>28.500000</td>\n",
              "      <td>27.410000</td>\n",
              "      <td>28.350000</td>\n",
              "      <td>6079100</td>\n",
              "    </tr>\n",
              "    <tr>\n",
              "      <th>2010-10-08</th>\n",
              "      <td>28.830000</td>\n",
              "      <td>29.299999</td>\n",
              "      <td>28.600000</td>\n",
              "      <td>28.900000</td>\n",
              "      <td>7276000</td>\n",
              "    </tr>\n",
              "  </tbody>\n",
              "</table>\n",
              "</div>"
            ],
            "text/plain": [
              "                 Open       High        Low      Close   Volume\n",
              "Date                                                           \n",
              "2010-10-04  28.129999  28.350000  27.580000  27.969999  3916600\n",
              "2010-10-05  28.309999  28.850000  27.930000  28.780001  4916600\n",
              "2010-10-06  28.629999  28.910000  27.709999  27.900000  7194900\n",
              "2010-10-07  28.010000  28.500000  27.410000  28.350000  6079100\n",
              "2010-10-08  28.830000  29.299999  28.600000  28.900000  7276000"
            ]
          },
          "metadata": {
            "tags": []
          },
          "execution_count": 7
        }
      ]
    },
    {
      "cell_type": "code",
      "metadata": {
        "id": "xyUKKaimMEKD",
        "colab_type": "code",
        "colab": {
          "base_uri": "https://localhost:8080/",
          "height": 438
        },
        "outputId": "63310d9d-2fb3-47dc-d82c-7d96b654b45e"
      },
      "source": [
        "#Set number of days and standard deviations to use for rolling lookback period for Bollinger band calculation\n",
        "window = 21\n",
        "no_of_std = 2\n",
        "#Calculate rolling mean and standard deviation using number of days set above\n",
        "rolling_mean = df['Open'].rolling(window).mean()\n",
        "rolling_std = df['Open'].rolling(window).std()\n",
        "#create two new DataFrame columns to hold values of upper and lower Bollinger bands\n",
        "df['Rolling Mean'] = rolling_mean\n",
        "df['Bollinger High'] = rolling_mean + (rolling_std * no_of_std)\n",
        "df['Bollinger Low'] = rolling_mean - (rolling_std * no_of_std)\n",
        "df.head()\n",
        "df.tail()"
      ],
      "execution_count": 8,
      "outputs": [
        {
          "output_type": "execute_result",
          "data": {
            "text/html": [
              "<div>\n",
              "<style scoped>\n",
              "    .dataframe tbody tr th:only-of-type {\n",
              "        vertical-align: middle;\n",
              "    }\n",
              "\n",
              "    .dataframe tbody tr th {\n",
              "        vertical-align: top;\n",
              "    }\n",
              "\n",
              "    .dataframe thead th {\n",
              "        text-align: right;\n",
              "    }\n",
              "</style>\n",
              "<table border=\"1\" class=\"dataframe\">\n",
              "  <thead>\n",
              "    <tr style=\"text-align: right;\">\n",
              "      <th></th>\n",
              "      <th>Open</th>\n",
              "      <th>High</th>\n",
              "      <th>Low</th>\n",
              "      <th>Close</th>\n",
              "      <th>Volume</th>\n",
              "      <th>Rolling Mean</th>\n",
              "      <th>Bollinger High</th>\n",
              "      <th>Bollinger Low</th>\n",
              "    </tr>\n",
              "    <tr>\n",
              "      <th>Date</th>\n",
              "      <th></th>\n",
              "      <th></th>\n",
              "      <th></th>\n",
              "      <th></th>\n",
              "      <th></th>\n",
              "      <th></th>\n",
              "      <th></th>\n",
              "      <th></th>\n",
              "    </tr>\n",
              "  </thead>\n",
              "  <tbody>\n",
              "    <tr>\n",
              "      <th>2010-10-04</th>\n",
              "      <td>28.129999</td>\n",
              "      <td>28.350000</td>\n",
              "      <td>27.580000</td>\n",
              "      <td>27.969999</td>\n",
              "      <td>3916600</td>\n",
              "      <td>NaN</td>\n",
              "      <td>NaN</td>\n",
              "      <td>NaN</td>\n",
              "    </tr>\n",
              "    <tr>\n",
              "      <th>2010-10-05</th>\n",
              "      <td>28.309999</td>\n",
              "      <td>28.850000</td>\n",
              "      <td>27.930000</td>\n",
              "      <td>28.780001</td>\n",
              "      <td>4916600</td>\n",
              "      <td>NaN</td>\n",
              "      <td>NaN</td>\n",
              "      <td>NaN</td>\n",
              "    </tr>\n",
              "    <tr>\n",
              "      <th>2010-10-06</th>\n",
              "      <td>28.629999</td>\n",
              "      <td>28.910000</td>\n",
              "      <td>27.709999</td>\n",
              "      <td>27.900000</td>\n",
              "      <td>7194900</td>\n",
              "      <td>NaN</td>\n",
              "      <td>NaN</td>\n",
              "      <td>NaN</td>\n",
              "    </tr>\n",
              "    <tr>\n",
              "      <th>2010-10-07</th>\n",
              "      <td>28.010000</td>\n",
              "      <td>28.500000</td>\n",
              "      <td>27.410000</td>\n",
              "      <td>28.350000</td>\n",
              "      <td>6079100</td>\n",
              "      <td>NaN</td>\n",
              "      <td>NaN</td>\n",
              "      <td>NaN</td>\n",
              "    </tr>\n",
              "    <tr>\n",
              "      <th>2010-10-08</th>\n",
              "      <td>28.830000</td>\n",
              "      <td>29.299999</td>\n",
              "      <td>28.600000</td>\n",
              "      <td>28.900000</td>\n",
              "      <td>7276000</td>\n",
              "      <td>NaN</td>\n",
              "      <td>NaN</td>\n",
              "      <td>NaN</td>\n",
              "    </tr>\n",
              "  </tbody>\n",
              "</table>\n",
              "</div>"
            ],
            "text/plain": [
              "                 Open       High  ...  Bollinger High  Bollinger Low\n",
              "Date                              ...                               \n",
              "2010-10-04  28.129999  28.350000  ...             NaN            NaN\n",
              "2010-10-05  28.309999  28.850000  ...             NaN            NaN\n",
              "2010-10-06  28.629999  28.910000  ...             NaN            NaN\n",
              "2010-10-07  28.010000  28.500000  ...             NaN            NaN\n",
              "2010-10-08  28.830000  29.299999  ...             NaN            NaN\n",
              "\n",
              "[5 rows x 8 columns]"
            ]
          },
          "metadata": {
            "tags": []
          },
          "execution_count": 8
        },
        {
          "output_type": "execute_result",
          "data": {
            "text/html": [
              "<div>\n",
              "<style scoped>\n",
              "    .dataframe tbody tr th:only-of-type {\n",
              "        vertical-align: middle;\n",
              "    }\n",
              "\n",
              "    .dataframe tbody tr th {\n",
              "        vertical-align: top;\n",
              "    }\n",
              "\n",
              "    .dataframe thead th {\n",
              "        text-align: right;\n",
              "    }\n",
              "</style>\n",
              "<table border=\"1\" class=\"dataframe\">\n",
              "  <thead>\n",
              "    <tr style=\"text-align: right;\">\n",
              "      <th></th>\n",
              "      <th>Open</th>\n",
              "      <th>High</th>\n",
              "      <th>Low</th>\n",
              "      <th>Close</th>\n",
              "      <th>Volume</th>\n",
              "      <th>Rolling Mean</th>\n",
              "      <th>Bollinger High</th>\n",
              "      <th>Bollinger Low</th>\n",
              "    </tr>\n",
              "    <tr>\n",
              "      <th>Date</th>\n",
              "      <th></th>\n",
              "      <th></th>\n",
              "      <th></th>\n",
              "      <th></th>\n",
              "      <th></th>\n",
              "      <th></th>\n",
              "      <th></th>\n",
              "      <th></th>\n",
              "    </tr>\n",
              "  </thead>\n",
              "  <tbody>\n",
              "    <tr>\n",
              "      <th>2019-09-27</th>\n",
              "      <td>61.439999</td>\n",
              "      <td>62.500000</td>\n",
              "      <td>60.180000</td>\n",
              "      <td>60.490002</td>\n",
              "      <td>5759500</td>\n",
              "      <td>61.275238</td>\n",
              "      <td>66.955879</td>\n",
              "      <td>55.594596</td>\n",
              "    </tr>\n",
              "    <tr>\n",
              "      <th>2019-09-30</th>\n",
              "      <td>60.340000</td>\n",
              "      <td>60.439999</td>\n",
              "      <td>58.830002</td>\n",
              "      <td>59.639999</td>\n",
              "      <td>3799400</td>\n",
              "      <td>61.558095</td>\n",
              "      <td>66.317802</td>\n",
              "      <td>56.798387</td>\n",
              "    </tr>\n",
              "    <tr>\n",
              "      <th>2019-10-01</th>\n",
              "      <td>60.060001</td>\n",
              "      <td>61.110001</td>\n",
              "      <td>58.369999</td>\n",
              "      <td>58.590000</td>\n",
              "      <td>3177100</td>\n",
              "      <td>61.770952</td>\n",
              "      <td>65.744583</td>\n",
              "      <td>57.797320</td>\n",
              "    </tr>\n",
              "    <tr>\n",
              "      <th>2019-10-02</th>\n",
              "      <td>57.810001</td>\n",
              "      <td>57.939999</td>\n",
              "      <td>56.150002</td>\n",
              "      <td>56.820000</td>\n",
              "      <td>5590700</td>\n",
              "      <td>61.827142</td>\n",
              "      <td>65.518814</td>\n",
              "      <td>58.135471</td>\n",
              "    </tr>\n",
              "    <tr>\n",
              "      <th>2019-10-03</th>\n",
              "      <td>56.570000</td>\n",
              "      <td>57.814999</td>\n",
              "      <td>55.480000</td>\n",
              "      <td>57.779999</td>\n",
              "      <td>3463535</td>\n",
              "      <td>61.718095</td>\n",
              "      <td>65.882853</td>\n",
              "      <td>57.553336</td>\n",
              "    </tr>\n",
              "  </tbody>\n",
              "</table>\n",
              "</div>"
            ],
            "text/plain": [
              "                 Open       High  ...  Bollinger High  Bollinger Low\n",
              "Date                              ...                               \n",
              "2019-09-27  61.439999  62.500000  ...       66.955879      55.594596\n",
              "2019-09-30  60.340000  60.439999  ...       66.317802      56.798387\n",
              "2019-10-01  60.060001  61.110001  ...       65.744583      57.797320\n",
              "2019-10-02  57.810001  57.939999  ...       65.518814      58.135471\n",
              "2019-10-03  56.570000  57.814999  ...       65.882853      57.553336\n",
              "\n",
              "[5 rows x 8 columns]"
            ]
          },
          "metadata": {
            "tags": []
          },
          "execution_count": 8
        }
      ]
    },
    {
      "cell_type": "code",
      "metadata": {
        "id": "TP-We79Kof-o",
        "colab_type": "code",
        "colab": {
          "base_uri": "https://localhost:8080/",
          "height": 173
        },
        "outputId": "29147948-be10-490f-f61d-caf3cdb786e4"
      },
      "source": [
        "df.iloc[2074,:]"
      ],
      "execution_count": 9,
      "outputs": [
        {
          "output_type": "execute_result",
          "data": {
            "text/plain": [
              "Open              3.804000e+01\n",
              "High              3.809000e+01\n",
              "Low               3.582000e+01\n",
              "Close             3.697000e+01\n",
              "Volume            6.960500e+06\n",
              "Rolling Mean      4.046000e+01\n",
              "Bollinger High    4.803532e+01\n",
              "Bollinger Low     3.288468e+01\n",
              "Name: 2018-12-31 00:00:00, dtype: float64"
            ]
          },
          "metadata": {
            "tags": []
          },
          "execution_count": 9
        }
      ]
    },
    {
      "cell_type": "code",
      "metadata": {
        "id": "Hftan9g8qHZ5",
        "colab_type": "code",
        "colab": {
          "base_uri": "https://localhost:8080/",
          "height": 173
        },
        "outputId": "2be253b1-1fc4-4ffa-857e-064843312791"
      },
      "source": [
        "df.iloc[2114,:]"
      ],
      "execution_count": 10,
      "outputs": [
        {
          "output_type": "execute_result",
          "data": {
            "text/plain": [
              "Open              4.815000e+01\n",
              "High              5.052000e+01\n",
              "Low               4.666000e+01\n",
              "Close             5.030000e+01\n",
              "Volume            1.105930e+07\n",
              "Rolling Mean      4.748524e+01\n",
              "Bollinger High    5.178234e+01\n",
              "Bollinger Low     4.318813e+01\n",
              "Name: 2019-02-28 00:00:00, dtype: float64"
            ]
          },
          "metadata": {
            "tags": []
          },
          "execution_count": 10
        }
      ]
    },
    {
      "cell_type": "code",
      "metadata": {
        "id": "OO4RsL2FNZFa",
        "colab_type": "code",
        "colab": {
          "base_uri": "https://localhost:8080/",
          "height": 410
        },
        "outputId": "bc7049b7-bca7-4b43-c303-e39443f95233"
      },
      "source": [
        "sns.lineplot(data=df['Close'])\n",
        "sns.lineplot(data=df['Bollinger High'])\n",
        "sns.lineplot(data=df['Bollinger Low'])"
      ],
      "execution_count": 11,
      "outputs": [
        {
          "output_type": "stream",
          "text": [
            "/usr/local/lib/python3.6/dist-packages/pandas/plotting/_converter.py:129: FutureWarning: Using an implicitly registered datetime converter for a matplotlib plotting method. The converter was registered by pandas on import. Future versions of pandas will require you to explicitly register matplotlib converters.\n",
            "\n",
            "To register the converters:\n",
            "\t>>> from pandas.plotting import register_matplotlib_converters\n",
            "\t>>> register_matplotlib_converters()\n",
            "  warnings.warn(msg, FutureWarning)\n"
          ],
          "name": "stderr"
        },
        {
          "output_type": "execute_result",
          "data": {
            "text/plain": [
              "<matplotlib.axes._subplots.AxesSubplot at 0x7f9dceb466d8>"
            ]
          },
          "metadata": {
            "tags": []
          },
          "execution_count": 11
        },
        {
          "output_type": "execute_result",
          "data": {
            "text/plain": [
              "<matplotlib.axes._subplots.AxesSubplot at 0x7f9dceb466d8>"
            ]
          },
          "metadata": {
            "tags": []
          },
          "execution_count": 11
        },
        {
          "output_type": "execute_result",
          "data": {
            "text/plain": [
              "<matplotlib.axes._subplots.AxesSubplot at 0x7f9dceb466d8>"
            ]
          },
          "metadata": {
            "tags": []
          },
          "execution_count": 11
        },
        {
          "output_type": "display_data",
          "data": {
            "image/png": "[encoded data removed]",
            "text/plain": [
              "<Figure size 432x288 with 1 Axes>"
            ]
          },
          "metadata": {
            "tags": []
          }
        }
      ]
    },
    {
      "cell_type": "code",
      "metadata": {
        "id": "Wedga_2YEWik",
        "colab_type": "code",
        "colab": {
          "base_uri": "https://localhost:8080/",
          "height": 86
        },
        "outputId": "50cfeb53-4b46-4c18-e61f-fc6b92c3c95d"
      },
      "source": [
        "close_array = df.values\n",
        "close_array.shape\n",
        "close_array[:2]"
      ],
      "execution_count": 12,
      "outputs": [
        {
          "output_type": "execute_result",
          "data": {
            "text/plain": [
              "(2266, 8)"
            ]
          },
          "metadata": {
            "tags": []
          },
          "execution_count": 12
        },
        {
          "output_type": "execute_result",
          "data": {
            "text/plain": [
              "array([[2.8129999e+01, 2.8350000e+01, 2.7580000e+01, 2.7969999e+01,\n",
              "        3.9166000e+06,           nan,           nan,           nan],\n",
              "       [2.8309999e+01, 2.8850000e+01, 2.7930000e+01, 2.8780001e+01,\n",
              "        4.9166000e+06,           nan,           nan,           nan]])"
            ]
          },
          "metadata": {
            "tags": []
          },
          "execution_count": 12
        }
      ]
    },
    {
      "cell_type": "code",
      "metadata": {
        "id": "vqmJ2z3QTWbp",
        "colab_type": "code",
        "colab": {
          "base_uri": "https://localhost:8080/",
          "height": 34
        },
        "outputId": "dce9ffc8-6337-4bf7-830a-eda8deceb161"
      },
      "source": [
        "train_array = close_array[:-192,:5]\n",
        "train_array.shape"
      ],
      "execution_count": 13,
      "outputs": [
        {
          "output_type": "execute_result",
          "data": {
            "text/plain": [
              "(2074, 5)"
            ]
          },
          "metadata": {
            "tags": []
          },
          "execution_count": 13
        }
      ]
    },
    {
      "cell_type": "code",
      "metadata": {
        "id": "ufFqrFQFpdWZ",
        "colab_type": "code",
        "colab": {
          "base_uri": "https://localhost:8080/",
          "height": 34
        },
        "outputId": "2094cc37-6c7b-4493-8bd9-1d9dfd40347a"
      },
      "source": [
        "valid_array = close_array[train_array.shape[0]:train_array.shape[0]+40,:5]\n",
        "valid_array.shape"
      ],
      "execution_count": 14,
      "outputs": [
        {
          "output_type": "execute_result",
          "data": {
            "text/plain": [
              "(40, 5)"
            ]
          },
          "metadata": {
            "tags": []
          },
          "execution_count": 14
        }
      ]
    },
    {
      "cell_type": "code",
      "metadata": {
        "id": "TYlPVlYbDJnt",
        "colab_type": "code",
        "colab": {
          "base_uri": "https://localhost:8080/",
          "height": 51
        },
        "outputId": "939edb6f-a322-4df8-af1c-5f987cc0e9f9"
      },
      "source": [
        "train_array[0]"
      ],
      "execution_count": 15,
      "outputs": [
        {
          "output_type": "execute_result",
          "data": {
            "text/plain": [
              "array([2.8129999e+01, 2.8350000e+01, 2.7580000e+01, 2.7969999e+01,\n",
              "       3.9166000e+06])"
            ]
          },
          "metadata": {
            "tags": []
          },
          "execution_count": 15
        }
      ]
    },
    {
      "cell_type": "code",
      "metadata": {
        "id": "P5a64IT5H0wg",
        "colab_type": "code",
        "colab": {}
      },
      "source": [
        "# Feature Scaling\n",
        "from sklearn.preprocessing import MinMaxScaler\n",
        "\n",
        "\n",
        "sc1 = MinMaxScaler((0, 1))\n",
        "sc2 = MinMaxScaler((0, 1))\n",
        "sc3 = MinMaxScaler((0, 1))\n",
        "sc4 = MinMaxScaler((0, 1))\n",
        "sc5 = MinMaxScaler((0, 1))\n",
        "\n",
        "scale1 = sc1.fit_transform(train_array[:,0].reshape(-1, 1))\n",
        "scale2 = sc2.fit_transform(train_array[:,1].reshape(-1, 1))\n",
        "scale3 = sc3.fit_transform(train_array[:,2].reshape(-1, 1))\n",
        "scale4 = sc4.fit_transform(train_array[:,3].reshape(-1, 1))\n",
        "scale5 = sc5.fit_transform(train_array[:,4].reshape(-1, 1))\n"
      ],
      "execution_count": 0,
      "outputs": []
    },
    {
      "cell_type": "code",
      "metadata": {
        "id": "bdUyL5MVC5YK",
        "colab_type": "code",
        "colab": {
          "base_uri": "https://localhost:8080/",
          "height": 34
        },
        "outputId": "0157bc48-936a-4bfa-c005-90b6053e9d71"
      },
      "source": [
        "scaled_training_set = np.concatenate((scale1, scale2,scale3,scale4,scale5), axis=1)\n",
        "scaled_training_set.shape"
      ],
      "execution_count": 17,
      "outputs": [
        {
          "output_type": "execute_result",
          "data": {
            "text/plain": [
              "(2074, 5)"
            ]
          },
          "metadata": {
            "tags": []
          },
          "execution_count": 17
        }
      ]
    },
    {
      "cell_type": "code",
      "metadata": {
        "id": "VEGn__CFqmLQ",
        "colab_type": "code",
        "colab": {
          "base_uri": "https://localhost:8080/",
          "height": 51
        },
        "outputId": "b24670bd-7573-4d39-d875-cfee6a9ca894"
      },
      "source": [
        "scaled_training_set[:,4]"
      ],
      "execution_count": 18,
      "outputs": [
        {
          "output_type": "execute_result",
          "data": {
            "text/plain": [
              "array([0.11572156, 0.14992936, 0.22786499, ..., 0.23691979, 0.13272626,\n",
              "       0.16269571])"
            ]
          },
          "metadata": {
            "tags": []
          },
          "execution_count": 18
        }
      ]
    },
    {
      "cell_type": "code",
      "metadata": {
        "id": "Kf8aLsmLTyVS",
        "colab_type": "code",
        "colab": {
          "base_uri": "https://localhost:8080/",
          "height": 286
        },
        "outputId": "5f89e231-6600-415f-bbbd-6bc8de012c5e"
      },
      "source": [
        "plt.plot(scaled_training_set[:,3],color='b',label='close')\n",
        "plt.plot(scaled_training_set[:,4],color='r',label='volume')\n"
      ],
      "execution_count": 19,
      "outputs": [
        {
          "output_type": "execute_result",
          "data": {
            "text/plain": [
              "[<matplotlib.lines.Line2D at 0x7f9dcabb43c8>]"
            ]
          },
          "metadata": {
            "tags": []
          },
          "execution_count": 19
        },
        {
          "output_type": "execute_result",
          "data": {
            "text/plain": [
              "[<matplotlib.lines.Line2D at 0x7f9dcabb47f0>]"
            ]
          },
          "metadata": {
            "tags": []
          },
          "execution_count": 19
        },
        {
          "output_type": "display_data",
          "data": {
            "image/png": "[encoded data removed]",
            "text/plain": [
              "<Figure size 432x288 with 1 Axes>"
            ]
          },
          "metadata": {
            "tags": []
          }
        }
      ]
    },
    {
      "cell_type": "code",
      "metadata": {
        "id": "MsBp_SMVH19Z",
        "colab_type": "code",
        "colab": {}
      },
      "source": [
        "# Creating a data structure with 120 timesteps and 1 output\n",
        "timesteps=90\n",
        "X_train = []\n",
        "y_train = []\n",
        "for i in range(timesteps, train_array.shape[0]):\n",
        "    X_train.append(scaled_training_set[i-timesteps:i, 0])\n",
        "    y_train.append(scaled_training_set[i, 0])\n",
        "X_train, y_train = np.array(X_train), np.array(y_train)"
      ],
      "execution_count": 0,
      "outputs": []
    },
    {
      "cell_type": "code",
      "metadata": {
        "id": "ZmT51JsSKt3v",
        "colab_type": "code",
        "colab": {}
      },
      "source": [
        "# Reshaping\n",
        "X_train = np.reshape(X_train, (X_train.shape[0], X_train.shape[1], 1))"
      ],
      "execution_count": 0,
      "outputs": []
    },
    {
      "cell_type": "code",
      "metadata": {
        "id": "F2xgi3HZK1jc",
        "colab_type": "code",
        "colab": {
          "base_uri": "https://localhost:8080/",
          "height": 34
        },
        "outputId": "54a62344-67db-447b-e292-45c52d1c8d0b"
      },
      "source": [
        "X_train.shape\n",
        "y_train.shape"
      ],
      "execution_count": 22,
      "outputs": [
        {
          "output_type": "execute_result",
          "data": {
            "text/plain": [
              "(1984, 90, 1)"
            ]
          },
          "metadata": {
            "tags": []
          },
          "execution_count": 22
        },
        {
          "output_type": "execute_result",
          "data": {
            "text/plain": [
              "(1984,)"
            ]
          },
          "metadata": {
            "tags": []
          },
          "execution_count": 22
        }
      ]
    },
    {
      "cell_type": "code",
      "metadata": {
        "id": "3PjszYeBLMud",
        "colab_type": "code",
        "colab": {
          "base_uri": "https://localhost:8080/",
          "height": 34
        },
        "outputId": "46d30800-563d-4492-9a51-31ab1fb2715f"
      },
      "source": [
        "# Part 2 - Building the RNN\n",
        "\n",
        "# Importing the Keras libraries and packages\n",
        "from keras.models import Sequential\n",
        "from keras.layers import Dense\n",
        "from keras.layers import LSTM\n",
        "from keras.layers import Dropout"
      ],
      "execution_count": 23,
      "outputs": [
        {
          "output_type": "stream",
          "text": [
            "Using TensorFlow backend.\n"
          ],
          "name": "stderr"
        }
      ]
    },
    {
      "cell_type": "code",
      "metadata": {
        "id": "vJrKpgXcLTSZ",
        "colab_type": "code",
        "colab": {
          "base_uri": "https://localhost:8080/",
          "height": 228
        },
        "outputId": "93d7f31a-fd7b-4ea0-915f-49cce4cffad5"
      },
      "source": [
        "# Initialising the RNN\n",
        "regressor = Sequential()\n",
        "\n",
        "# Adding the first LSTM layer and some Dropout regularisation\n",
        "regressor.add(LSTM(units = 100, return_sequences = True, input_shape = (X_train.shape[1], 1)))\n",
        "regressor.add(Dropout(rate=0.2))\n",
        "\n",
        "# Adding a second LSTM layer and some Dropout regularisation\n",
        "regressor.add(LSTM(units = 100, return_sequences = True))\n",
        "regressor.add(Dropout(rate=0.2))\n",
        "\n",
        "# Adding a third LSTM layer and some Dropout regularisation\n",
        "regressor.add(LSTM(units = 100, return_sequences = True))\n",
        "regressor.add(Dropout(rate=0.2))\n",
        "\n",
        "# Adding a fourth LSTM layer and some Dropout regularisation\n",
        "regressor.add(LSTM(units = 100))\n",
        "regressor.add(Dropout(rate=0.2))\n",
        "\n",
        "# Adding the output layer\n",
        "regressor.add(Dense(units = 1))"
      ],
      "execution_count": 24,
      "outputs": [
        {
          "output_type": "stream",
          "text": [
            "WARNING:tensorflow:From /usr/local/lib/python3.6/dist-packages/keras/backend/tensorflow_backend.py:66: The name tf.get_default_graph is deprecated. Please use tf.compat.v1.get_default_graph instead.\n",
            "\n",
            "WARNING:tensorflow:From /usr/local/lib/python3.6/dist-packages/keras/backend/tensorflow_backend.py:541: The name tf.placeholder is deprecated. Please use tf.compat.v1.placeholder instead.\n",
            "\n",
            "WARNING:tensorflow:From /usr/local/lib/python3.6/dist-packages/keras/backend/tensorflow_backend.py:4432: The name tf.random_uniform is deprecated. Please use tf.random.uniform instead.\n",
            "\n",
            "WARNING:tensorflow:From /usr/local/lib/python3.6/dist-packages/keras/backend/tensorflow_backend.py:148: The name tf.placeholder_with_default is deprecated. Please use tf.compat.v1.placeholder_with_default instead.\n",
            "\n",
            "WARNING:tensorflow:From /usr/local/lib/python3.6/dist-packages/keras/backend/tensorflow_backend.py:3733: calling dropout (from tensorflow.python.ops.nn_ops) with keep_prob is deprecated and will be removed in a future version.\n",
            "Instructions for updating:\n",
            "Please use `rate` instead of `keep_prob`. Rate should be set to `rate = 1 - keep_prob`.\n"
          ],
          "name": "stdout"
        }
      ]
    },
    {
      "cell_type": "code",
      "metadata": {
        "id": "JU6Za38-PWIs",
        "colab_type": "code",
        "colab": {
          "base_uri": "https://localhost:8080/",
          "height": 51
        },
        "outputId": "64ba79a1-d98f-4025-9ab3-d12a45dccad6"
      },
      "source": [
        "# Compiling the RNN\n",
        "regressor.compile(optimizer = 'nadam', loss = 'mean_squared_error')"
      ],
      "execution_count": 25,
      "outputs": [
        {
          "output_type": "stream",
          "text": [
            "WARNING:tensorflow:From /usr/local/lib/python3.6/dist-packages/keras/optimizers.py:793: The name tf.train.Optimizer is deprecated. Please use tf.compat.v1.train.Optimizer instead.\n",
            "\n"
          ],
          "name": "stdout"
        }
      ]
    },
    {
      "cell_type": "code",
      "metadata": {
        "id": "g2NlkapLL3nP",
        "colab_type": "code",
        "colab": {
          "base_uri": "https://localhost:8080/",
          "height": 1000
        },
        "outputId": "cd44b367-eabe-4ba8-c700-158484b7604c"
      },
      "source": [
        "epoch_trials = [100]\n",
        "batch_size_trials = [64]\n",
        "\n",
        "reg_models = []\n",
        "\n",
        "# Fitting the RNN to the Training set\n",
        "for n_epochs in epoch_trials:\n",
        "  for b_size in batch_size_trials:\n",
        "    regressor.fit(X_train, y_train, epochs = n_epochs, batch_size = b_size)\n",
        "    reg_models.append(regressor)\n"
      ],
      "execution_count": 26,
      "outputs": [
        {
          "output_type": "stream",
          "text": [
            "WARNING:tensorflow:From /usr/local/lib/python3.6/dist-packages/tensorflow/python/ops/math_grad.py:1250: add_dispatch_support.<locals>.wrapper (from tensorflow.python.ops.array_ops) is deprecated and will be removed in a future version.\n",
            "Instructions for updating:\n",
            "Use tf.where in 2.0, which has the same broadcast rule as np.where\n",
            "WARNING:tensorflow:From /usr/local/lib/python3.6/dist-packages/keras/backend/tensorflow_backend.py:1033: The name tf.assign_add is deprecated. Please use tf.compat.v1.assign_add instead.\n",
            "\n",
            "Epoch 1/100\n",
            "1984/1984 [==============================] - 22s 11ms/step - loss: 0.1122\n",
            "Epoch 2/100\n",
            "1984/1984 [==============================] - 19s 9ms/step - loss: 0.0107\n",
            "Epoch 3/100\n",
            "1984/1984 [==============================] - 19s 9ms/step - loss: 0.0056\n",
            "Epoch 4/100\n",
            "1984/1984 [==============================] - 19s 9ms/step - loss: 0.0054\n",
            "Epoch 5/100\n",
            "1984/1984 [==============================] - 19s 9ms/step - loss: 0.0048\n",
            "Epoch 6/100\n",
            "1984/1984 [==============================] - 19s 10ms/step - loss: 0.0049\n",
            "Epoch 7/100\n",
            "1984/1984 [==============================] - 19s 10ms/step - loss: 0.0057\n",
            "Epoch 8/100\n",
            "1984/1984 [==============================] - 19s 10ms/step - loss: 0.0042\n",
            "Epoch 9/100\n",
            "1984/1984 [==============================] - 19s 9ms/step - loss: 0.0050\n",
            "Epoch 10/100\n",
            "1984/1984 [==============================] - 19s 9ms/step - loss: 0.0038\n",
            "Epoch 11/100\n",
            "1984/1984 [==============================] - 19s 9ms/step - loss: 0.0035\n",
            "Epoch 12/100\n",
            "1984/1984 [==============================] - 19s 10ms/step - loss: 0.0044\n",
            "Epoch 13/100\n",
            "1984/1984 [==============================] - 19s 10ms/step - loss: 0.0034\n",
            "Epoch 14/100\n",
            "1984/1984 [==============================] - 19s 10ms/step - loss: 0.0037\n",
            "Epoch 15/100\n",
            "1984/1984 [==============================] - 19s 9ms/step - loss: 0.0040\n",
            "Epoch 16/100\n",
            "1984/1984 [==============================] - 19s 10ms/step - loss: 0.0035\n",
            "Epoch 17/100\n",
            "1984/1984 [==============================] - 19s 9ms/step - loss: 0.0034\n",
            "Epoch 18/100\n",
            "1984/1984 [==============================] - 19s 10ms/step - loss: 0.0032\n",
            "Epoch 19/100\n",
            "1984/1984 [==============================] - 19s 10ms/step - loss: 0.0030\n",
            "Epoch 20/100\n",
            "1984/1984 [==============================] - 19s 10ms/step - loss: 0.0029\n",
            "Epoch 21/100\n",
            "1984/1984 [==============================] - 19s 9ms/step - loss: 0.0033\n",
            "Epoch 22/100\n",
            "1984/1984 [==============================] - 19s 10ms/step - loss: 0.0035\n",
            "Epoch 23/100\n",
            "1984/1984 [==============================] - 19s 10ms/step - loss: 0.0031\n",
            "Epoch 24/100\n",
            "1984/1984 [==============================] - 19s 10ms/step - loss: 0.0028\n",
            "Epoch 25/100\n",
            "1984/1984 [==============================] - 19s 10ms/step - loss: 0.0038\n",
            "Epoch 26/100\n",
            "1984/1984 [==============================] - 19s 10ms/step - loss: 0.0031\n",
            "Epoch 27/100\n",
            "1984/1984 [==============================] - 19s 10ms/step - loss: 0.0029\n",
            "Epoch 28/100\n",
            "1984/1984 [==============================] - 19s 10ms/step - loss: 0.0030\n",
            "Epoch 29/100\n",
            "1984/1984 [==============================] - 19s 10ms/step - loss: 0.0026\n",
            "Epoch 30/100\n",
            "1984/1984 [==============================] - 19s 10ms/step - loss: 0.0025\n",
            "Epoch 31/100\n",
            "1984/1984 [==============================] - 19s 9ms/step - loss: 0.0024\n",
            "Epoch 32/100\n",
            "1984/1984 [==============================] - 19s 9ms/step - loss: 0.0027\n",
            "Epoch 33/100\n",
            "1984/1984 [==============================] - 19s 10ms/step - loss: 0.0024\n",
            "Epoch 34/100\n",
            "1984/1984 [==============================] - 19s 10ms/step - loss: 0.0025\n",
            "Epoch 35/100\n",
            "1984/1984 [==============================] - 19s 10ms/step - loss: 0.0024\n",
            "Epoch 36/100\n",
            "1984/1984 [==============================] - 19s 10ms/step - loss: 0.0026\n",
            "Epoch 37/100\n",
            "1984/1984 [==============================] - 19s 10ms/step - loss: 0.0022\n",
            "Epoch 38/100\n",
            "1984/1984 [==============================] - 19s 10ms/step - loss: 0.0025\n",
            "Epoch 39/100\n",
            "1984/1984 [==============================] - 19s 10ms/step - loss: 0.0021\n",
            "Epoch 40/100\n",
            "1984/1984 [==============================] - 19s 10ms/step - loss: 0.0021\n",
            "Epoch 41/100\n",
            "1984/1984 [==============================] - 19s 10ms/step - loss: 0.0022\n",
            "Epoch 42/100\n",
            "1984/1984 [==============================] - 19s 10ms/step - loss: 0.0019\n",
            "Epoch 43/100\n",
            "1984/1984 [==============================] - 19s 10ms/step - loss: 0.0020\n",
            "Epoch 44/100\n",
            "1984/1984 [==============================] - 19s 9ms/step - loss: 0.0022\n",
            "Epoch 45/100\n",
            "1984/1984 [==============================] - 19s 9ms/step - loss: 0.0019\n",
            "Epoch 46/100\n",
            "1984/1984 [==============================] - 19s 10ms/step - loss: 0.0017\n",
            "Epoch 47/100\n",
            "1984/1984 [==============================] - 19s 9ms/step - loss: 0.0021\n",
            "Epoch 48/100\n",
            "1984/1984 [==============================] - 19s 10ms/step - loss: 0.0020\n",
            "Epoch 49/100\n",
            "1984/1984 [==============================] - 19s 10ms/step - loss: 0.0017\n",
            "Epoch 50/100\n",
            "1984/1984 [==============================] - 19s 10ms/step - loss: 0.0017\n",
            "Epoch 51/100\n",
            "1984/1984 [==============================] - 19s 10ms/step - loss: 0.0018\n",
            "Epoch 52/100\n",
            "1984/1984 [==============================] - 19s 10ms/step - loss: 0.0017\n",
            "Epoch 53/100\n",
            "1984/1984 [==============================] - 19s 10ms/step - loss: 0.0019\n",
            "Epoch 54/100\n",
            "1984/1984 [==============================] - 19s 10ms/step - loss: 0.0016\n",
            "Epoch 55/100\n",
            "1984/1984 [==============================] - 19s 10ms/step - loss: 0.0018\n",
            "Epoch 56/100\n",
            "1984/1984 [==============================] - 19s 10ms/step - loss: 0.0016\n",
            "Epoch 57/100\n",
            "1984/1984 [==============================] - 19s 10ms/step - loss: 0.0017\n",
            "Epoch 58/100\n",
            "1984/1984 [==============================] - 19s 10ms/step - loss: 0.0015\n",
            "Epoch 59/100\n",
            "1984/1984 [==============================] - 19s 10ms/step - loss: 0.0016\n",
            "Epoch 60/100\n",
            "1984/1984 [==============================] - 19s 10ms/step - loss: 0.0014\n",
            "Epoch 61/100\n",
            "1984/1984 [==============================] - 19s 10ms/step - loss: 0.0013\n",
            "Epoch 62/100\n",
            "1984/1984 [==============================] - 19s 10ms/step - loss: 0.0017\n",
            "Epoch 63/100\n",
            "1984/1984 [==============================] - 19s 10ms/step - loss: 0.0013\n",
            "Epoch 64/100\n",
            "1984/1984 [==============================] - 19s 10ms/step - loss: 0.0017\n",
            "Epoch 65/100\n",
            "1984/1984 [==============================] - 19s 10ms/step - loss: 0.0015\n",
            "Epoch 66/100\n",
            "1984/1984 [==============================] - 19s 10ms/step - loss: 0.0016\n",
            "Epoch 67/100\n",
            "1984/1984 [==============================] - 19s 10ms/step - loss: 0.0012\n",
            "Epoch 68/100\n",
            "1984/1984 [==============================] - 19s 10ms/step - loss: 0.0014\n",
            "Epoch 69/100\n",
            "1984/1984 [==============================] - 19s 10ms/step - loss: 0.0013\n",
            "Epoch 70/100\n",
            "1984/1984 [==============================] - 19s 10ms/step - loss: 0.0012\n",
            "Epoch 71/100\n",
            "1984/1984 [==============================] - 19s 10ms/step - loss: 0.0011\n",
            "Epoch 72/100\n",
            "1984/1984 [==============================] - 19s 10ms/step - loss: 0.0016\n",
            "Epoch 73/100\n",
            "1984/1984 [==============================] - 19s 10ms/step - loss: 0.0014\n",
            "Epoch 74/100\n",
            "1984/1984 [==============================] - 19s 9ms/step - loss: 0.0014\n",
            "Epoch 75/100\n",
            "1984/1984 [==============================] - 19s 10ms/step - loss: 0.0012\n",
            "Epoch 76/100\n",
            "1984/1984 [==============================] - 18s 9ms/step - loss: 0.0012\n",
            "Epoch 77/100\n",
            "1984/1984 [==============================] - 19s 10ms/step - loss: 0.0013\n",
            "Epoch 78/100\n",
            "1984/1984 [==============================] - 19s 10ms/step - loss: 0.0012\n",
            "Epoch 79/100\n",
            "1984/1984 [==============================] - 19s 10ms/step - loss: 0.0011\n",
            "Epoch 80/100\n",
            "1984/1984 [==============================] - 19s 10ms/step - loss: 0.0011\n",
            "Epoch 81/100\n",
            "1984/1984 [==============================] - 19s 10ms/step - loss: 0.0016\n",
            "Epoch 82/100\n",
            "1984/1984 [==============================] - 19s 9ms/step - loss: 0.0012\n",
            "Epoch 83/100\n",
            "1984/1984 [==============================] - 19s 10ms/step - loss: 0.0011\n",
            "Epoch 84/100\n",
            "1984/1984 [==============================] - 19s 10ms/step - loss: 0.0012\n",
            "Epoch 85/100\n",
            "1984/1984 [==============================] - 19s 10ms/step - loss: 0.0011\n",
            "Epoch 86/100\n",
            "1984/1984 [==============================] - 19s 10ms/step - loss: 0.0012\n",
            "Epoch 87/100\n",
            "1984/1984 [==============================] - 19s 10ms/step - loss: 0.0011\n",
            "Epoch 88/100\n",
            "1984/1984 [==============================] - 19s 10ms/step - loss: 9.8943e-04\n",
            "Epoch 89/100\n",
            "1984/1984 [==============================] - 19s 10ms/step - loss: 0.0011\n",
            "Epoch 90/100\n",
            "1984/1984 [==============================] - 19s 9ms/step - loss: 0.0011\n",
            "Epoch 91/100\n",
            "1984/1984 [==============================] - 19s 9ms/step - loss: 0.0011\n",
            "Epoch 92/100\n",
            "1984/1984 [==============================] - 19s 9ms/step - loss: 9.5649e-04\n",
            "Epoch 93/100\n",
            "1984/1984 [==============================] - 19s 9ms/step - loss: 0.0011\n",
            "Epoch 94/100\n",
            "1984/1984 [==============================] - 19s 9ms/step - loss: 0.0011\n",
            "Epoch 95/100\n",
            "1984/1984 [==============================] - 19s 10ms/step - loss: 0.0010\n",
            "Epoch 96/100\n",
            "1984/1984 [==============================] - 19s 10ms/step - loss: 0.0011\n",
            "Epoch 97/100\n",
            "1984/1984 [==============================] - 19s 10ms/step - loss: 9.3952e-04\n",
            "Epoch 98/100\n",
            "1984/1984 [==============================] - 19s 9ms/step - loss: 9.5905e-04\n",
            "Epoch 99/100\n",
            "1984/1984 [==============================] - 19s 10ms/step - loss: 0.0011\n",
            "Epoch 100/100\n",
            "1984/1984 [==============================] - 19s 10ms/step - loss: 8.9498e-04\n"
          ],
          "name": "stdout"
        },
        {
          "output_type": "execute_result",
          "data": {
            "text/plain": [
              "<keras.callbacks.History at 0x7f9db64e68d0>"
            ]
          },
          "metadata": {
            "tags": []
          },
          "execution_count": 26
        }
      ]
    },
    {
      "cell_type": "code",
      "metadata": {
        "id": "51TWc1kkyaej",
        "colab_type": "code",
        "colab": {
          "base_uri": "https://localhost:8080/",
          "height": 286
        },
        "outputId": "4e6a03b1-b0b8-4de7-ad22-d2aaa2f41190"
      },
      "source": [
        "plt.plot(valid_array[:,3],color='b',label='valid-close')"
      ],
      "execution_count": 27,
      "outputs": [
        {
          "output_type": "execute_result",
          "data": {
            "text/plain": [
              "[<matplotlib.lines.Line2D at 0x7f9daf6bfeb8>]"
            ]
          },
          "metadata": {
            "tags": []
          },
          "execution_count": 27
        },
        {
          "output_type": "display_data",
          "data": {
            "image/png": "[encoded data removed]",
            "text/plain": [
              "<Figure size 432x288 with 1 Axes>"
            ]
          },
          "metadata": {
            "tags": []
          }
        }
      ]
    },
    {
      "cell_type": "code",
      "metadata": {
        "id": "TAT_NlVHzIUk",
        "colab_type": "code",
        "colab": {
          "base_uri": "https://localhost:8080/",
          "height": 34
        },
        "outputId": "aad0797e-b615-47ae-c4ea-b62a3753592c"
      },
      "source": [
        "inputs_array = close_array[train_array.shape[0]-timesteps:train_array.shape[0]+40]\n",
        "inputs_array.shape"
      ],
      "execution_count": 28,
      "outputs": [
        {
          "output_type": "execute_result",
          "data": {
            "text/plain": [
              "(130, 8)"
            ]
          },
          "metadata": {
            "tags": []
          },
          "execution_count": 28
        }
      ]
    },
    {
      "cell_type": "code",
      "metadata": {
        "id": "sD5sazctiGvh",
        "colab_type": "code",
        "colab": {
          "base_uri": "https://localhost:8080/",
          "height": 286
        },
        "outputId": "84c66189-a84a-40ca-eba2-6cf400364517"
      },
      "source": [
        "plt.plot(inputs_array[:,3])"
      ],
      "execution_count": 29,
      "outputs": [
        {
          "output_type": "execute_result",
          "data": {
            "text/plain": [
              "[<matplotlib.lines.Line2D at 0x7f9daf6ac160>]"
            ]
          },
          "metadata": {
            "tags": []
          },
          "execution_count": 29
        },
        {
          "output_type": "display_data",
          "data": {
            "image/png": "[encoded data removed]",
            "text/plain": [
              "<Figure size 432x288 with 1 Axes>"
            ]
          },
          "metadata": {
            "tags": []
          }
        }
      ]
    },
    {
      "cell_type": "code",
      "metadata": {
        "id": "TTaxuOFhjRHK",
        "colab_type": "code",
        "colab": {
          "base_uri": "https://localhost:8080/",
          "height": 34
        },
        "outputId": "d929f0ce-15d0-4f13-cace-ee2bcec0e10b"
      },
      "source": [
        "X_test = []\n",
        "for i in range(timesteps, timesteps+40):\n",
        "    X_test.append(inputs_array[i-timesteps:i,0])\n",
        "X_test = np.array(X_test)\n",
        "X_test.shape"
      ],
      "execution_count": 30,
      "outputs": [
        {
          "output_type": "execute_result",
          "data": {
            "text/plain": [
              "(40, 90)"
            ]
          },
          "metadata": {
            "tags": []
          },
          "execution_count": 30
        }
      ]
    },
    {
      "cell_type": "code",
      "metadata": {
        "id": "b1pHFldfklmS",
        "colab_type": "code",
        "colab": {
          "base_uri": "https://localhost:8080/",
          "height": 34
        },
        "outputId": "7f66e838-0157-4c7e-e1dc-eee7d80ce3f2"
      },
      "source": [
        "X_test = np.reshape(X_test, (X_test.shape[0], X_test.shape[1], 1))\n",
        "X_test.shape"
      ],
      "execution_count": 31,
      "outputs": [
        {
          "output_type": "execute_result",
          "data": {
            "text/plain": [
              "(40, 90, 1)"
            ]
          },
          "metadata": {
            "tags": []
          },
          "execution_count": 31
        }
      ]
    },
    {
      "cell_type": "code",
      "metadata": {
        "id": "XymgGEEpj8Io",
        "colab_type": "code",
        "colab": {
          "base_uri": "https://localhost:8080/",
          "height": 34
        },
        "outputId": "3994fdd4-2d24-44dd-9d14-f8fc22bee0c6"
      },
      "source": [
        "X_train.shape"
      ],
      "execution_count": 32,
      "outputs": [
        {
          "output_type": "execute_result",
          "data": {
            "text/plain": [
              "(1984, 90, 1)"
            ]
          },
          "metadata": {
            "tags": []
          },
          "execution_count": 32
        }
      ]
    },
    {
      "cell_type": "code",
      "metadata": {
        "id": "z6rGh1FyituI",
        "colab_type": "code",
        "colab": {}
      },
      "source": [
        "scaled_preds = []\n",
        "prices = []\n",
        "for reg_model in reg_models:\n",
        "  scaled_preds.append(reg_model.predict(X_test))\n",
        "  prices.append(sc1.inverse_transform(reg_model.predict(X_test)))\n",
        "\n"
      ],
      "execution_count": 0,
      "outputs": []
    },
    {
      "cell_type": "code",
      "metadata": {
        "id": "6pJ8kptk_ucU",
        "colab_type": "code",
        "colab": {
          "base_uri": "https://localhost:8080/",
          "height": 286
        },
        "outputId": "40efbd36-c583-41ef-dd2b-e365bb623505"
      },
      "source": [
        "plt.plot(scaled_preds[0])"
      ],
      "execution_count": 35,
      "outputs": [
        {
          "output_type": "execute_result",
          "data": {
            "text/plain": [
              "[<matplotlib.lines.Line2D at 0x7f9daf55c0b8>]"
            ]
          },
          "metadata": {
            "tags": []
          },
          "execution_count": 35
        },
        {
          "output_type": "display_data",
          "data": {
            "image/png": "[encoded data removed]",
            "text/plain": [
              "<Figure size 432x288 with 1 Axes>"
            ]
          },
          "metadata": {
            "tags": []
          }
        }
      ]
    },
    {
      "cell_type": "code",
      "metadata": {
        "id": "tC98VWYok3gT",
        "colab_type": "code",
        "colab": {
          "base_uri": "https://localhost:8080/",
          "height": 286
        },
        "outputId": "99661ddc-a9a9-41a1-9f78-d3c285b9159f"
      },
      "source": [
        "plt.plot(prices[0])"
      ],
      "execution_count": 36,
      "outputs": [
        {
          "output_type": "execute_result",
          "data": {
            "text/plain": [
              "[<matplotlib.lines.Line2D at 0x7f9daf4c36a0>]"
            ]
          },
          "metadata": {
            "tags": []
          },
          "execution_count": 36
        },
        {
          "output_type": "display_data",
          "data": {
            "image/png": "[encoded data removed]",
            "text/plain": [
              "<Figure size 432x288 with 1 Axes>"
            ]
          },
          "metadata": {
            "tags": []
          }
        }
      ]
    },
    {
      "cell_type": "code",
      "metadata": {
        "id": "9JOi-qctJ1Tg",
        "colab_type": "code",
        "colab": {
          "base_uri": "https://localhost:8080/",
          "height": 138
        },
        "outputId": "ecb54f2e-54cd-47e4-b395-3d792d7db9b7"
      },
      "source": [
        "valid_array[:,0]"
      ],
      "execution_count": 37,
      "outputs": [
        {
          "output_type": "execute_result",
          "data": {
            "text/plain": [
              "array([38.040001, 36.150002, 37.      , 36.599998, 37.32    , 39.259998,\n",
              "       38.360001, 39.52    , 39.560001, 37.889999, 38.060001, 37.82    ,\n",
              "       37.25    , 36.549999, 38.970001, 37.93    , 38.669998, 45.5     ,\n",
              "       42.029999, 44.      , 43.169998, 43.810001, 44.73    , 47.060001,\n",
              "       47.439999, 47.419998, 47.290001, 44.450001, 46.779999, 46.459999,\n",
              "       48.68    , 47.560001, 48.459999, 48.419998, 47.950001, 48.380001,\n",
              "       48.060001, 50.900002, 51.189999, 50.830002])"
            ]
          },
          "metadata": {
            "tags": []
          },
          "execution_count": 37
        }
      ]
    },
    {
      "cell_type": "code",
      "metadata": {
        "id": "mRvKKYOckzm_",
        "colab_type": "code",
        "colab": {
          "base_uri": "https://localhost:8080/",
          "height": 347
        },
        "outputId": "e16efe7a-0457-45d1-ebd3-474a05a03ae4"
      },
      "source": [
        "# Visualising the results\n",
        "plt.plot(valid_array[:,0], color = 'red', label = 'Real WDC Stock Close Price')\n",
        "plt.plot(prices[0], color = 'blue', label = 'Predicted WDC Close Price')\n",
        "plt.title('WDC Stock Price Prediction')\n",
        "plt.xlabel('Time')\n",
        "plt.ylabel('WDC Stock Price')\n",
        "plt.legend()\n",
        "plt.show()"
      ],
      "execution_count": 38,
      "outputs": [
        {
          "output_type": "execute_result",
          "data": {
            "text/plain": [
              "[<matplotlib.lines.Line2D at 0x7f9daf4a2cf8>]"
            ]
          },
          "metadata": {
            "tags": []
          },
          "execution_count": 38
        },
        {
          "output_type": "execute_result",
          "data": {
            "text/plain": [
              "[<matplotlib.lines.Line2D at 0x7f9daf4aa1d0>]"
            ]
          },
          "metadata": {
            "tags": []
          },
          "execution_count": 38
        },
        {
          "output_type": "execute_result",
          "data": {
            "text/plain": [
              "Text(0.5, 1.0, 'WDC Stock Price Prediction')"
            ]
          },
          "metadata": {
            "tags": []
          },
          "execution_count": 38
        },
        {
          "output_type": "execute_result",
          "data": {
            "text/plain": [
              "Text(0.5, 0, 'Time')"
            ]
          },
          "metadata": {
            "tags": []
          },
          "execution_count": 38
        },
        {
          "output_type": "execute_result",
          "data": {
            "text/plain": [
              "Text(0, 0.5, 'WDC Stock Price')"
            ]
          },
          "metadata": {
            "tags": []
          },
          "execution_count": 38
        },
        {
          "output_type": "execute_result",
          "data": {
            "text/plain": [
              "<matplotlib.legend.Legend at 0x7f9daf4aa550>"
            ]
          },
          "metadata": {
            "tags": []
          },
          "execution_count": 38
        },
        {
          "output_type": "display_data",
          "data": {
            "image/png": "[encoded data removed]",
            "text/plain": [
              "<Figure size 432x288 with 1 Axes>"
            ]
          },
          "metadata": {
            "tags": []
          }
        }
      ]
    },
    {
      "cell_type": "code",
      "metadata": {
        "id": "NiAVMUPUlfSx",
        "colab_type": "code",
        "colab": {}
      },
      "source": [
        ""
      ],
      "execution_count": 0,
      "outputs": []
    }
  ]
}