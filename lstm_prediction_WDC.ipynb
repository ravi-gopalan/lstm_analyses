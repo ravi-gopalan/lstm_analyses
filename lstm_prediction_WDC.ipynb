{
  "nbformat": 4,
  "nbformat_minor": 0,
  "metadata": {
    "colab": {
      "name": "lstm_prediction_WDC.ipynb",
      "provenance": [],
      "include_colab_link": true
    },
    "kernelspec": {
      "name": "python3",
      "display_name": "Python 3"
    },
    "accelerator": "GPU"
  },
  "cells": [
    {
      "cell_type": "markdown",
      "metadata": {
        "id": "view-in-github",
        "colab_type": "text"
      },
      "source": [
        "<a href=\"https://colab.research.google.com/github/ravi-gopalan/lstm_analyses/blob/master/lstm_prediction_WDC.ipynb\" target=\"_parent\"><img src=\"https://colab.research.google.com/assets/colab-badge.svg\" alt=\"Open In Colab\"/></a>"
      ]
    },
    {
      "cell_type": "code",
      "metadata": {
        "id": "K0zMq0IbD9jS",
        "colab_type": "code",
        "colab": {}
      },
      "source": [
        "# Importing the libraries\n",
        "from IPython.core.interactiveshell import InteractiveShell\n",
        "InteractiveShell.ast_node_interactivity = \"all\"\n",
        "import numpy as np\n",
        "import matplotlib.pyplot as plt\n",
        "import pandas as pd\n",
        "import seaborn as sns"
      ],
      "execution_count": 0,
      "outputs": []
    },
    {
      "cell_type": "code",
      "metadata": {
        "id": "swJFzQNyEPAX",
        "colab_type": "code",
        "colab": {
          "base_uri": "https://localhost:8080/",
          "height": 34
        },
        "outputId": "b78eb18f-7b6f-4c51-a1b3-f8b01cf9870c"
      },
      "source": [
        "!ls"
      ],
      "execution_count": 2,
      "outputs": [
        {
          "output_type": "stream",
          "text": [
            "sample_data  WDC.csv\n"
          ],
          "name": "stdout"
        }
      ]
    },
    {
      "cell_type": "code",
      "metadata": {
        "id": "e4sa_5u6ECb2",
        "colab_type": "code",
        "colab": {
          "base_uri": "https://localhost:8080/",
          "height": 225
        },
        "outputId": "75bbe4c5-4fd7-41b6-8052-446360d8f94f"
      },
      "source": [
        "dateparse = lambda x: pd.datetime.strptime(x, '%Y-%m-%d')\n",
        "df_wdc = pd.read_csv('WDC.csv', parse_dates=['Date'], date_parser=dateparse)\n",
        "df_wdc.info()"
      ],
      "execution_count": 8,
      "outputs": [
        {
          "output_type": "stream",
          "text": [
            "<class 'pandas.core.frame.DataFrame'>\n",
            "RangeIndex: 2266 entries, 0 to 2265\n",
            "Data columns (total 7 columns):\n",
            "Date         2266 non-null datetime64[ns]\n",
            "Open         2266 non-null float64\n",
            "High         2266 non-null float64\n",
            "Low          2266 non-null float64\n",
            "Close        2266 non-null float64\n",
            "Adj Close    2266 non-null float64\n",
            "Volume       2266 non-null int64\n",
            "dtypes: datetime64[ns](1), float64(5), int64(1)\n",
            "memory usage: 124.0 KB\n"
          ],
          "name": "stdout"
        }
      ]
    },
    {
      "cell_type": "code",
      "metadata": {
        "id": "uRzzhXMImcD6",
        "colab_type": "code",
        "colab": {
          "base_uri": "https://localhost:8080/",
          "height": 286
        },
        "outputId": "4c4668be-3a84-4f58-f3c3-df5fb6d1226c"
      },
      "source": [
        "plt.plot((df_wdc['Adj Close']-df_wdc['Close'])/df_wdc['Close'])"
      ],
      "execution_count": 74,
      "outputs": [
        {
          "output_type": "execute_result",
          "data": {
            "text/plain": [
              "[<matplotlib.lines.Line2D at 0x7f0f08f262b0>]"
            ]
          },
          "metadata": {
            "tags": []
          },
          "execution_count": 74
        },
        {
          "output_type": "display_data",
          "data": {
            "image/png": "[encoded data removed]",
            "text/plain": [
              "<Figure size 432x288 with 1 Axes>"
            ]
          },
          "metadata": {
            "tags": []
          }
        }
      ]
    },
    {
      "cell_type": "code",
      "metadata": {
        "id": "FwnRLQzzFJYA",
        "colab_type": "code",
        "colab": {
          "base_uri": "https://localhost:8080/",
          "height": 378
        },
        "outputId": "c255e64e-c121-411e-8c93-eab8e2f272d4"
      },
      "source": [
        "df_wdc.head()\n",
        "df_wdc.tail()"
      ],
      "execution_count": 9,
      "outputs": [
        {
          "output_type": "execute_result",
          "data": {
            "text/html": [
              "<div>\n",
              "<style scoped>\n",
              "    .dataframe tbody tr th:only-of-type {\n",
              "        vertical-align: middle;\n",
              "    }\n",
              "\n",
              "    .dataframe tbody tr th {\n",
              "        vertical-align: top;\n",
              "    }\n",
              "\n",
              "    .dataframe thead th {\n",
              "        text-align: right;\n",
              "    }\n",
              "</style>\n",
              "<table border=\"1\" class=\"dataframe\">\n",
              "  <thead>\n",
              "    <tr style=\"text-align: right;\">\n",
              "      <th></th>\n",
              "      <th>Date</th>\n",
              "      <th>Open</th>\n",
              "      <th>High</th>\n",
              "      <th>Low</th>\n",
              "      <th>Close</th>\n",
              "      <th>Adj Close</th>\n",
              "      <th>Volume</th>\n",
              "    </tr>\n",
              "  </thead>\n",
              "  <tbody>\n",
              "    <tr>\n",
              "      <th>0</th>\n",
              "      <td>2010-10-04</td>\n",
              "      <td>28.129999</td>\n",
              "      <td>28.350000</td>\n",
              "      <td>27.580000</td>\n",
              "      <td>27.969999</td>\n",
              "      <td>22.624254</td>\n",
              "      <td>3916600</td>\n",
              "    </tr>\n",
              "    <tr>\n",
              "      <th>1</th>\n",
              "      <td>2010-10-05</td>\n",
              "      <td>28.309999</td>\n",
              "      <td>28.850000</td>\n",
              "      <td>27.930000</td>\n",
              "      <td>28.780001</td>\n",
              "      <td>23.279446</td>\n",
              "      <td>4916600</td>\n",
              "    </tr>\n",
              "    <tr>\n",
              "      <th>2</th>\n",
              "      <td>2010-10-06</td>\n",
              "      <td>28.629999</td>\n",
              "      <td>28.910000</td>\n",
              "      <td>27.709999</td>\n",
              "      <td>27.900000</td>\n",
              "      <td>22.567631</td>\n",
              "      <td>7194900</td>\n",
              "    </tr>\n",
              "    <tr>\n",
              "      <th>3</th>\n",
              "      <td>2010-10-07</td>\n",
              "      <td>28.010000</td>\n",
              "      <td>28.500000</td>\n",
              "      <td>27.410000</td>\n",
              "      <td>28.350000</td>\n",
              "      <td>22.931625</td>\n",
              "      <td>6079100</td>\n",
              "    </tr>\n",
              "    <tr>\n",
              "      <th>4</th>\n",
              "      <td>2010-10-08</td>\n",
              "      <td>28.830000</td>\n",
              "      <td>29.299999</td>\n",
              "      <td>28.600000</td>\n",
              "      <td>28.900000</td>\n",
              "      <td>23.376511</td>\n",
              "      <td>7276000</td>\n",
              "    </tr>\n",
              "  </tbody>\n",
              "</table>\n",
              "</div>"
            ],
            "text/plain": [
              "        Date       Open       High        Low      Close  Adj Close   Volume\n",
              "0 2010-10-04  28.129999  28.350000  27.580000  27.969999  22.624254  3916600\n",
              "1 2010-10-05  28.309999  28.850000  27.930000  28.780001  23.279446  4916600\n",
              "2 2010-10-06  28.629999  28.910000  27.709999  27.900000  22.567631  7194900\n",
              "3 2010-10-07  28.010000  28.500000  27.410000  28.350000  22.931625  6079100\n",
              "4 2010-10-08  28.830000  29.299999  28.600000  28.900000  23.376511  7276000"
            ]
          },
          "metadata": {
            "tags": []
          },
          "execution_count": 9
        },
        {
          "output_type": "execute_result",
          "data": {
            "text/html": [
              "<div>\n",
              "<style scoped>\n",
              "    .dataframe tbody tr th:only-of-type {\n",
              "        vertical-align: middle;\n",
              "    }\n",
              "\n",
              "    .dataframe tbody tr th {\n",
              "        vertical-align: top;\n",
              "    }\n",
              "\n",
              "    .dataframe thead th {\n",
              "        text-align: right;\n",
              "    }\n",
              "</style>\n",
              "<table border=\"1\" class=\"dataframe\">\n",
              "  <thead>\n",
              "    <tr style=\"text-align: right;\">\n",
              "      <th></th>\n",
              "      <th>Date</th>\n",
              "      <th>Open</th>\n",
              "      <th>High</th>\n",
              "      <th>Low</th>\n",
              "      <th>Close</th>\n",
              "      <th>Adj Close</th>\n",
              "      <th>Volume</th>\n",
              "    </tr>\n",
              "  </thead>\n",
              "  <tbody>\n",
              "    <tr>\n",
              "      <th>2261</th>\n",
              "      <td>2019-09-27</td>\n",
              "      <td>61.439999</td>\n",
              "      <td>62.500000</td>\n",
              "      <td>60.180000</td>\n",
              "      <td>60.490002</td>\n",
              "      <td>60.490002</td>\n",
              "      <td>5759500</td>\n",
              "    </tr>\n",
              "    <tr>\n",
              "      <th>2262</th>\n",
              "      <td>2019-09-30</td>\n",
              "      <td>60.340000</td>\n",
              "      <td>60.439999</td>\n",
              "      <td>58.830002</td>\n",
              "      <td>59.639999</td>\n",
              "      <td>59.639999</td>\n",
              "      <td>3799400</td>\n",
              "    </tr>\n",
              "    <tr>\n",
              "      <th>2263</th>\n",
              "      <td>2019-10-01</td>\n",
              "      <td>60.060001</td>\n",
              "      <td>61.110001</td>\n",
              "      <td>58.369999</td>\n",
              "      <td>58.590000</td>\n",
              "      <td>58.590000</td>\n",
              "      <td>3177100</td>\n",
              "    </tr>\n",
              "    <tr>\n",
              "      <th>2264</th>\n",
              "      <td>2019-10-02</td>\n",
              "      <td>57.810001</td>\n",
              "      <td>57.939999</td>\n",
              "      <td>56.150002</td>\n",
              "      <td>56.820000</td>\n",
              "      <td>56.820000</td>\n",
              "      <td>5590700</td>\n",
              "    </tr>\n",
              "    <tr>\n",
              "      <th>2265</th>\n",
              "      <td>2019-10-03</td>\n",
              "      <td>56.570000</td>\n",
              "      <td>57.814999</td>\n",
              "      <td>55.480000</td>\n",
              "      <td>57.779999</td>\n",
              "      <td>57.779999</td>\n",
              "      <td>3463535</td>\n",
              "    </tr>\n",
              "  </tbody>\n",
              "</table>\n",
              "</div>"
            ],
            "text/plain": [
              "           Date       Open       High        Low      Close  Adj Close   Volume\n",
              "2261 2019-09-27  61.439999  62.500000  60.180000  60.490002  60.490002  5759500\n",
              "2262 2019-09-30  60.340000  60.439999  58.830002  59.639999  59.639999  3799400\n",
              "2263 2019-10-01  60.060001  61.110001  58.369999  58.590000  58.590000  3177100\n",
              "2264 2019-10-02  57.810001  57.939999  56.150002  56.820000  56.820000  5590700\n",
              "2265 2019-10-03  56.570000  57.814999  55.480000  57.779999  57.779999  3463535"
            ]
          },
          "metadata": {
            "tags": []
          },
          "execution_count": 9
        }
      ]
    },
    {
      "cell_type": "code",
      "metadata": {
        "id": "awemGH5qHdff",
        "colab_type": "code",
        "colab": {
          "base_uri": "https://localhost:8080/",
          "height": 227
        },
        "outputId": "21876701-5e13-4feb-fed9-4dc6379c55ee"
      },
      "source": [
        "df_wdc = df_wdc.set_index('Date')\n",
        "df_wdc.head()"
      ],
      "execution_count": 10,
      "outputs": [
        {
          "output_type": "execute_result",
          "data": {
            "text/html": [
              "<div>\n",
              "<style scoped>\n",
              "    .dataframe tbody tr th:only-of-type {\n",
              "        vertical-align: middle;\n",
              "    }\n",
              "\n",
              "    .dataframe tbody tr th {\n",
              "        vertical-align: top;\n",
              "    }\n",
              "\n",
              "    .dataframe thead th {\n",
              "        text-align: right;\n",
              "    }\n",
              "</style>\n",
              "<table border=\"1\" class=\"dataframe\">\n",
              "  <thead>\n",
              "    <tr style=\"text-align: right;\">\n",
              "      <th></th>\n",
              "      <th>Open</th>\n",
              "      <th>High</th>\n",
              "      <th>Low</th>\n",
              "      <th>Close</th>\n",
              "      <th>Adj Close</th>\n",
              "      <th>Volume</th>\n",
              "    </tr>\n",
              "    <tr>\n",
              "      <th>Date</th>\n",
              "      <th></th>\n",
              "      <th></th>\n",
              "      <th></th>\n",
              "      <th></th>\n",
              "      <th></th>\n",
              "      <th></th>\n",
              "    </tr>\n",
              "  </thead>\n",
              "  <tbody>\n",
              "    <tr>\n",
              "      <th>2010-10-04</th>\n",
              "      <td>28.129999</td>\n",
              "      <td>28.350000</td>\n",
              "      <td>27.580000</td>\n",
              "      <td>27.969999</td>\n",
              "      <td>22.624254</td>\n",
              "      <td>3916600</td>\n",
              "    </tr>\n",
              "    <tr>\n",
              "      <th>2010-10-05</th>\n",
              "      <td>28.309999</td>\n",
              "      <td>28.850000</td>\n",
              "      <td>27.930000</td>\n",
              "      <td>28.780001</td>\n",
              "      <td>23.279446</td>\n",
              "      <td>4916600</td>\n",
              "    </tr>\n",
              "    <tr>\n",
              "      <th>2010-10-06</th>\n",
              "      <td>28.629999</td>\n",
              "      <td>28.910000</td>\n",
              "      <td>27.709999</td>\n",
              "      <td>27.900000</td>\n",
              "      <td>22.567631</td>\n",
              "      <td>7194900</td>\n",
              "    </tr>\n",
              "    <tr>\n",
              "      <th>2010-10-07</th>\n",
              "      <td>28.010000</td>\n",
              "      <td>28.500000</td>\n",
              "      <td>27.410000</td>\n",
              "      <td>28.350000</td>\n",
              "      <td>22.931625</td>\n",
              "      <td>6079100</td>\n",
              "    </tr>\n",
              "    <tr>\n",
              "      <th>2010-10-08</th>\n",
              "      <td>28.830000</td>\n",
              "      <td>29.299999</td>\n",
              "      <td>28.600000</td>\n",
              "      <td>28.900000</td>\n",
              "      <td>23.376511</td>\n",
              "      <td>7276000</td>\n",
              "    </tr>\n",
              "  </tbody>\n",
              "</table>\n",
              "</div>"
            ],
            "text/plain": [
              "                 Open       High        Low      Close  Adj Close   Volume\n",
              "Date                                                                      \n",
              "2010-10-04  28.129999  28.350000  27.580000  27.969999  22.624254  3916600\n",
              "2010-10-05  28.309999  28.850000  27.930000  28.780001  23.279446  4916600\n",
              "2010-10-06  28.629999  28.910000  27.709999  27.900000  22.567631  7194900\n",
              "2010-10-07  28.010000  28.500000  27.410000  28.350000  22.931625  6079100\n",
              "2010-10-08  28.830000  29.299999  28.600000  28.900000  23.376511  7276000"
            ]
          },
          "metadata": {
            "tags": []
          },
          "execution_count": 10
        }
      ]
    },
    {
      "cell_type": "code",
      "metadata": {
        "id": "VM1oN0Nsnp7w",
        "colab_type": "code",
        "colab": {
          "base_uri": "https://localhost:8080/",
          "height": 227
        },
        "outputId": "85205449-094b-455d-a79e-dcd35a9a4bf2"
      },
      "source": [
        "df_wdc.drop(columns=['Adj Close'],inplace=True)\n",
        "df_wdc.head()"
      ],
      "execution_count": 75,
      "outputs": [
        {
          "output_type": "execute_result",
          "data": {
            "text/html": [
              "<div>\n",
              "<style scoped>\n",
              "    .dataframe tbody tr th:only-of-type {\n",
              "        vertical-align: middle;\n",
              "    }\n",
              "\n",
              "    .dataframe tbody tr th {\n",
              "        vertical-align: top;\n",
              "    }\n",
              "\n",
              "    .dataframe thead th {\n",
              "        text-align: right;\n",
              "    }\n",
              "</style>\n",
              "<table border=\"1\" class=\"dataframe\">\n",
              "  <thead>\n",
              "    <tr style=\"text-align: right;\">\n",
              "      <th></th>\n",
              "      <th>Open</th>\n",
              "      <th>High</th>\n",
              "      <th>Low</th>\n",
              "      <th>Close</th>\n",
              "      <th>Volume</th>\n",
              "    </tr>\n",
              "    <tr>\n",
              "      <th>Date</th>\n",
              "      <th></th>\n",
              "      <th></th>\n",
              "      <th></th>\n",
              "      <th></th>\n",
              "      <th></th>\n",
              "    </tr>\n",
              "  </thead>\n",
              "  <tbody>\n",
              "    <tr>\n",
              "      <th>2010-10-04</th>\n",
              "      <td>28.129999</td>\n",
              "      <td>28.350000</td>\n",
              "      <td>27.580000</td>\n",
              "      <td>27.969999</td>\n",
              "      <td>3916600</td>\n",
              "    </tr>\n",
              "    <tr>\n",
              "      <th>2010-10-05</th>\n",
              "      <td>28.309999</td>\n",
              "      <td>28.850000</td>\n",
              "      <td>27.930000</td>\n",
              "      <td>28.780001</td>\n",
              "      <td>4916600</td>\n",
              "    </tr>\n",
              "    <tr>\n",
              "      <th>2010-10-06</th>\n",
              "      <td>28.629999</td>\n",
              "      <td>28.910000</td>\n",
              "      <td>27.709999</td>\n",
              "      <td>27.900000</td>\n",
              "      <td>7194900</td>\n",
              "    </tr>\n",
              "    <tr>\n",
              "      <th>2010-10-07</th>\n",
              "      <td>28.010000</td>\n",
              "      <td>28.500000</td>\n",
              "      <td>27.410000</td>\n",
              "      <td>28.350000</td>\n",
              "      <td>6079100</td>\n",
              "    </tr>\n",
              "    <tr>\n",
              "      <th>2010-10-08</th>\n",
              "      <td>28.830000</td>\n",
              "      <td>29.299999</td>\n",
              "      <td>28.600000</td>\n",
              "      <td>28.900000</td>\n",
              "      <td>7276000</td>\n",
              "    </tr>\n",
              "  </tbody>\n",
              "</table>\n",
              "</div>"
            ],
            "text/plain": [
              "                 Open       High        Low      Close   Volume\n",
              "Date                                                           \n",
              "2010-10-04  28.129999  28.350000  27.580000  27.969999  3916600\n",
              "2010-10-05  28.309999  28.850000  27.930000  28.780001  4916600\n",
              "2010-10-06  28.629999  28.910000  27.709999  27.900000  7194900\n",
              "2010-10-07  28.010000  28.500000  27.410000  28.350000  6079100\n",
              "2010-10-08  28.830000  29.299999  28.600000  28.900000  7276000"
            ]
          },
          "metadata": {
            "tags": []
          },
          "execution_count": 75
        }
      ]
    },
    {
      "cell_type": "code",
      "metadata": {
        "id": "TP-We79Kof-o",
        "colab_type": "code",
        "colab": {
          "base_uri": "https://localhost:8080/",
          "height": 121
        },
        "outputId": "3380a340-b60a-4602-8c96-388f4dd00b6f"
      },
      "source": [
        "df_wdc.iloc[2074,:]"
      ],
      "execution_count": 89,
      "outputs": [
        {
          "output_type": "execute_result",
          "data": {
            "text/plain": [
              "Open      3.804000e+01\n",
              "High      3.809000e+01\n",
              "Low       3.582000e+01\n",
              "Close     3.697000e+01\n",
              "Volume    6.960500e+06\n",
              "Name: 2018-12-31 00:00:00, dtype: float64"
            ]
          },
          "metadata": {
            "tags": []
          },
          "execution_count": 89
        }
      ]
    },
    {
      "cell_type": "code",
      "metadata": {
        "id": "Hftan9g8qHZ5",
        "colab_type": "code",
        "colab": {
          "base_uri": "https://localhost:8080/",
          "height": 121
        },
        "outputId": "940a1fd6-f21c-4d31-fc8f-a4f56f133579"
      },
      "source": [
        "df_wdc.iloc[2114,:]"
      ],
      "execution_count": 91,
      "outputs": [
        {
          "output_type": "execute_result",
          "data": {
            "text/plain": [
              "Open      4.815000e+01\n",
              "High      5.052000e+01\n",
              "Low       4.666000e+01\n",
              "Close     5.030000e+01\n",
              "Volume    1.105930e+07\n",
              "Name: 2019-02-28 00:00:00, dtype: float64"
            ]
          },
          "metadata": {
            "tags": []
          },
          "execution_count": 91
        }
      ]
    },
    {
      "cell_type": "code",
      "metadata": {
        "id": "OO4RsL2FNZFa",
        "colab_type": "code",
        "colab": {
          "base_uri": "https://localhost:8080/",
          "height": 286
        },
        "outputId": "8681fc2c-62a6-4382-d96e-3dec2a5ba628"
      },
      "source": [
        "sns.lineplot(data=df_wdc['Close'])"
      ],
      "execution_count": 76,
      "outputs": [
        {
          "output_type": "execute_result",
          "data": {
            "text/plain": [
              "<matplotlib.axes._subplots.AxesSubplot at 0x7f0f08e93208>"
            ]
          },
          "metadata": {
            "tags": []
          },
          "execution_count": 76
        },
        {
          "output_type": "display_data",
          "data": {
            "image/png": "[encoded data removed]",
            "text/plain": [
              "<Figure size 432x288 with 1 Axes>"
            ]
          },
          "metadata": {
            "tags": []
          }
        }
      ]
    },
    {
      "cell_type": "code",
      "metadata": {
        "id": "Wedga_2YEWik",
        "colab_type": "code",
        "colab": {
          "base_uri": "https://localhost:8080/",
          "height": 191
        },
        "outputId": "58ccbf63-183f-412a-ae36-97d0eae1c026"
      },
      "source": [
        "close_array = df_wdc.values\n",
        "close_array.shape\n",
        "close_array[:5]"
      ],
      "execution_count": 78,
      "outputs": [
        {
          "output_type": "execute_result",
          "data": {
            "text/plain": [
              "(2266, 5)"
            ]
          },
          "metadata": {
            "tags": []
          },
          "execution_count": 78
        },
        {
          "output_type": "execute_result",
          "data": {
            "text/plain": [
              "array([[2.8129999e+01, 2.8350000e+01, 2.7580000e+01, 2.7969999e+01,\n",
              "        3.9166000e+06],\n",
              "       [2.8309999e+01, 2.8850000e+01, 2.7930000e+01, 2.8780001e+01,\n",
              "        4.9166000e+06],\n",
              "       [2.8629999e+01, 2.8910000e+01, 2.7709999e+01, 2.7900000e+01,\n",
              "        7.1949000e+06],\n",
              "       [2.8010000e+01, 2.8500000e+01, 2.7410000e+01, 2.8350000e+01,\n",
              "        6.0791000e+06],\n",
              "       [2.8830000e+01, 2.9299999e+01, 2.8600000e+01, 2.8900000e+01,\n",
              "        7.2760000e+06]])"
            ]
          },
          "metadata": {
            "tags": []
          },
          "execution_count": 78
        }
      ]
    },
    {
      "cell_type": "code",
      "metadata": {
        "id": "vqmJ2z3QTWbp",
        "colab_type": "code",
        "colab": {
          "base_uri": "https://localhost:8080/",
          "height": 34
        },
        "outputId": "6fd20372-71d4-4ec9-c354-4399592d2ce3"
      },
      "source": [
        "train_array = close_array[:-192]\n",
        "train_array.shape"
      ],
      "execution_count": 90,
      "outputs": [
        {
          "output_type": "execute_result",
          "data": {
            "text/plain": [
              "(2074, 5)"
            ]
          },
          "metadata": {
            "tags": []
          },
          "execution_count": 90
        }
      ]
    },
    {
      "cell_type": "code",
      "metadata": {
        "id": "ufFqrFQFpdWZ",
        "colab_type": "code",
        "colab": {
          "base_uri": "https://localhost:8080/",
          "height": 34
        },
        "outputId": "702ce718-9934-4004-fb94-38d0852faccb"
      },
      "source": [
        "valid_array = close_array[2074:2114]\n",
        "valid_array.shape"
      ],
      "execution_count": 92,
      "outputs": [
        {
          "output_type": "execute_result",
          "data": {
            "text/plain": [
              "(40, 5)"
            ]
          },
          "metadata": {
            "tags": []
          },
          "execution_count": 92
        }
      ]
    },
    {
      "cell_type": "code",
      "metadata": {
        "id": "C1OarCx8T2UV",
        "colab_type": "code",
        "colab": {
          "base_uri": "https://localhost:8080/",
          "height": 34
        },
        "outputId": "d02b22d9-40cd-4b4a-85a8-37b7eb532bb8"
      },
      "source": [
        "adj_close_df.size, train_df.size"
      ],
      "execution_count": 35,
      "outputs": [
        {
          "output_type": "execute_result",
          "data": {
            "text/plain": [
              "(2266, 2176)"
            ]
          },
          "metadata": {
            "tags": []
          },
          "execution_count": 35
        }
      ]
    },
    {
      "cell_type": "code",
      "metadata": {
        "id": "TYlPVlYbDJnt",
        "colab_type": "code",
        "colab": {
          "base_uri": "https://localhost:8080/",
          "height": 51
        },
        "outputId": "2f5f9e4a-b3b7-4490-9cfb-f4491fb257c1"
      },
      "source": [
        "train_array[0]"
      ],
      "execution_count": 177,
      "outputs": [
        {
          "output_type": "execute_result",
          "data": {
            "text/plain": [
              "array([2.8129999e+01, 2.8350000e+01, 2.7580000e+01, 2.7969999e+01,\n",
              "       3.9166000e+06])"
            ]
          },
          "metadata": {
            "tags": []
          },
          "execution_count": 177
        }
      ]
    },
    {
      "cell_type": "code",
      "metadata": {
        "id": "P5a64IT5H0wg",
        "colab_type": "code",
        "colab": {}
      },
      "source": [
        "# Feature Scaling\n",
        "from sklearn.preprocessing import MinMaxScaler\n",
        "sc1 = MinMaxScaler((0, 1))\n",
        "sc2 = MinMaxScaler((0, 1))\n",
        "sc3 = MinMaxScaler((0, 1))\n",
        "sc4 = MinMaxScaler((0, 1))\n",
        "sc5 = MinMaxScaler((0, 1))\n",
        "\n",
        "scale1 = sc1.fit_transform(train_array[:,0].reshape(-1, 1))\n",
        "scale2 = sc2.fit_transform(train_array[:,1].reshape(-1, 1))\n",
        "scale3 = sc3.fit_transform(train_array[:,2].reshape(-1, 1))\n",
        "scale4 = sc4.fit_transform(train_array[:,3].reshape(-1, 1))\n",
        "scale5 = sc5.fit_transform(train_array[:,4].reshape(-1, 1))\n",
        "\n"
      ],
      "execution_count": 0,
      "outputs": []
    },
    {
      "cell_type": "code",
      "metadata": {
        "id": "bdUyL5MVC5YK",
        "colab_type": "code",
        "colab": {
          "base_uri": "https://localhost:8080/",
          "height": 34
        },
        "outputId": "22d9eeb2-4ece-46f5-f160-81e3ffbb361c"
      },
      "source": [
        "scaled_training_set = np.concatenate((scale1, scale2,scale3,scale4,scale5), axis=1)\n",
        "scaled_training_set.shape"
      ],
      "execution_count": 181,
      "outputs": [
        {
          "output_type": "execute_result",
          "data": {
            "text/plain": [
              "(2074, 5)"
            ]
          },
          "metadata": {
            "tags": []
          },
          "execution_count": 181
        }
      ]
    },
    {
      "cell_type": "code",
      "metadata": {
        "id": "rbuc6bFcCgur",
        "colab_type": "code",
        "colab": {}
      },
      "source": [
        "scaled_training_set = sc.fit_transform(train_array)\n",
        "scaled_training_set.shape"
      ],
      "execution_count": 0,
      "outputs": []
    },
    {
      "cell_type": "code",
      "metadata": {
        "id": "VEGn__CFqmLQ",
        "colab_type": "code",
        "colab": {
          "base_uri": "https://localhost:8080/",
          "height": 51
        },
        "outputId": "1e299c70-149d-4ef1-ec78-8f6561ba6cff"
      },
      "source": [
        "scaled_training_set[:,4]"
      ],
      "execution_count": 182,
      "outputs": [
        {
          "output_type": "execute_result",
          "data": {
            "text/plain": [
              "array([0.11572156, 0.14992936, 0.22786499, ..., 0.23691979, 0.13272626,\n",
              "       0.16269571])"
            ]
          },
          "metadata": {
            "tags": []
          },
          "execution_count": 182
        }
      ]
    },
    {
      "cell_type": "code",
      "metadata": {
        "id": "Kf8aLsmLTyVS",
        "colab_type": "code",
        "colab": {
          "base_uri": "https://localhost:8080/",
          "height": 286
        },
        "outputId": "767ab101-8c7e-404c-d8be-595d3f323e04"
      },
      "source": [
        "plt.plot(scaled_training_set[:,3],color='b',label='close')\n",
        "plt.plot(scaled_training_set[:,4],color='r',label='volume')\n"
      ],
      "execution_count": 183,
      "outputs": [
        {
          "output_type": "execute_result",
          "data": {
            "text/plain": [
              "[<matplotlib.lines.Line2D at 0x7f0f06167128>]"
            ]
          },
          "metadata": {
            "tags": []
          },
          "execution_count": 183
        },
        {
          "output_type": "execute_result",
          "data": {
            "text/plain": [
              "[<matplotlib.lines.Line2D at 0x7f0f061674a8>]"
            ]
          },
          "metadata": {
            "tags": []
          },
          "execution_count": 183
        },
        {
          "output_type": "display_data",
          "data": {
            "image/png": "[encoded data removed]",
            "text/plain": [
              "<Figure size 432x288 with 1 Axes>"
            ]
          },
          "metadata": {
            "tags": []
          }
        }
      ]
    },
    {
      "cell_type": "code",
      "metadata": {
        "id": "MsBp_SMVH19Z",
        "colab_type": "code",
        "colab": {}
      },
      "source": [
        "# Creating a data structure with 60 timesteps and 1 output\n",
        "X_train = []\n",
        "y_train = []\n",
        "for i in range(90, 2074):\n",
        "    X_train.append(scaled_training_set[i-90:i, 0])\n",
        "    y_train.append(scaled_training_set[i, 0])\n",
        "X_train, y_train = np.array(X_train), np.array(y_train)"
      ],
      "execution_count": 0,
      "outputs": []
    },
    {
      "cell_type": "code",
      "metadata": {
        "id": "ZmT51JsSKt3v",
        "colab_type": "code",
        "colab": {}
      },
      "source": [
        "# Reshaping\n",
        "X_train = np.reshape(X_train, (X_train.shape[0], X_train.shape[1], 1))"
      ],
      "execution_count": 0,
      "outputs": []
    },
    {
      "cell_type": "code",
      "metadata": {
        "id": "F2xgi3HZK1jc",
        "colab_type": "code",
        "colab": {
          "base_uri": "https://localhost:8080/",
          "height": 34
        },
        "outputId": "ab11d72e-f4a7-4ce8-e82c-8dd69d023233"
      },
      "source": [
        "X_train.shape\n",
        "y_train.shape"
      ],
      "execution_count": 186,
      "outputs": [
        {
          "output_type": "execute_result",
          "data": {
            "text/plain": [
              "(1984, 90, 1)"
            ]
          },
          "metadata": {
            "tags": []
          },
          "execution_count": 186
        },
        {
          "output_type": "execute_result",
          "data": {
            "text/plain": [
              "(1984,)"
            ]
          },
          "metadata": {
            "tags": []
          },
          "execution_count": 186
        }
      ]
    },
    {
      "cell_type": "code",
      "metadata": {
        "id": "3PjszYeBLMud",
        "colab_type": "code",
        "colab": {}
      },
      "source": [
        "# Part 2 - Building the RNN\n",
        "\n",
        "# Importing the Keras libraries and packages\n",
        "from keras.models import Sequential\n",
        "from keras.layers import Dense\n",
        "from keras.layers import LSTM\n",
        "from keras.layers import Dropout"
      ],
      "execution_count": 0,
      "outputs": []
    },
    {
      "cell_type": "code",
      "metadata": {
        "id": "vJrKpgXcLTSZ",
        "colab_type": "code",
        "colab": {}
      },
      "source": [
        "# Initialising the RNN\n",
        "regressor = Sequential()\n",
        "\n",
        "# Adding the first LSTM layer and some Dropout regularisation\n",
        "regressor.add(LSTM(units = 100, return_sequences = True, input_shape = (X_train.shape[1], 1)))\n",
        "regressor.add(Dropout(rate=0.2))\n",
        "\n",
        "# Adding a second LSTM layer and some Dropout regularisation\n",
        "regressor.add(LSTM(units = 100, return_sequences = True))\n",
        "regressor.add(Dropout(rate=0.2))\n",
        "\n",
        "# Adding a third LSTM layer and some Dropout regularisation\n",
        "regressor.add(LSTM(units = 100, return_sequences = True))\n",
        "regressor.add(Dropout(rate=0.2))\n",
        "\n",
        "# Adding a fourth LSTM layer and some Dropout regularisation\n",
        "regressor.add(LSTM(units = 100))\n",
        "regressor.add(Dropout(rate=0.2))\n",
        "\n",
        "# Adding the output layer\n",
        "regressor.add(Dense(units = 1))"
      ],
      "execution_count": 0,
      "outputs": []
    },
    {
      "cell_type": "code",
      "metadata": {
        "id": "g2NlkapLL3nP",
        "colab_type": "code",
        "colab": {
          "base_uri": "https://localhost:8080/",
          "height": 69
        },
        "outputId": "8527d343-48cf-4636-b996-604e7f0bf9b5"
      },
      "source": [
        "# Compiling the RNN\n",
        "regressor.compile(optimizer = 'nadam', loss = 'mean_squared_error')\n",
        "\n",
        "# Fitting the RNN to the Training set\n",
        "regressor.fit(X_train, y_train, epochs = 100, batch_size = 16)"
      ],
      "execution_count": 189,
      "outputs": [
        {
          "output_type": "stream",
          "text": [
            "Epoch 1/1\n",
            "1984/1984 [==============================] - 82s 41ms/step - loss: 0.0191\n"
          ],
          "name": "stdout"
        },
        {
          "output_type": "execute_result",
          "data": {
            "text/plain": [
              "<keras.callbacks.History at 0x7f0f05a12cf8>"
            ]
          },
          "metadata": {
            "tags": []
          },
          "execution_count": 189
        }
      ]
    },
    {
      "cell_type": "code",
      "metadata": {
        "id": "51TWc1kkyaej",
        "colab_type": "code",
        "colab": {
          "base_uri": "https://localhost:8080/",
          "height": 286
        },
        "outputId": "d13b53f5-8ab3-459b-db5c-efd311fbcf8c"
      },
      "source": [
        "plt.plot(valid_array[:,3],color='b',label='valid-close')"
      ],
      "execution_count": 108,
      "outputs": [
        {
          "output_type": "execute_result",
          "data": {
            "text/plain": [
              "[<matplotlib.lines.Line2D at 0x7f0f064db1d0>]"
            ]
          },
          "metadata": {
            "tags": []
          },
          "execution_count": 108
        },
        {
          "output_type": "display_data",
          "data": {
            "image/png": "[encoded data removed]",
            "text/plain": [
              "<Figure size 432x288 with 1 Axes>"
            ]
          },
          "metadata": {
            "tags": []
          }
        }
      ]
    },
    {
      "cell_type": "code",
      "metadata": {
        "id": "TAT_NlVHzIUk",
        "colab_type": "code",
        "colab": {
          "base_uri": "https://localhost:8080/",
          "height": 34
        },
        "outputId": "896db34f-9e20-434e-9616-69af57c75003"
      },
      "source": [
        "inputs_array = close_array[2074-90:2114]\n",
        "inputs_array.shape"
      ],
      "execution_count": 190,
      "outputs": [
        {
          "output_type": "execute_result",
          "data": {
            "text/plain": [
              "(130, 5)"
            ]
          },
          "metadata": {
            "tags": []
          },
          "execution_count": 190
        }
      ]
    },
    {
      "cell_type": "code",
      "metadata": {
        "id": "obS-rupM9HSo",
        "colab_type": "code",
        "colab": {
          "base_uri": "https://localhost:8080/",
          "height": 34
        },
        "outputId": "9053d3df-f343-4338-f270-ee27c6e39653"
      },
      "source": [
        "inputs_array = sc.transform(inputs_array)\n",
        "inputs_array.shape"
      ],
      "execution_count": 191,
      "outputs": [
        {
          "output_type": "execute_result",
          "data": {
            "text/plain": [
              "(130, 5)"
            ]
          },
          "metadata": {
            "tags": []
          },
          "execution_count": 191
        }
      ]
    },
    {
      "cell_type": "code",
      "metadata": {
        "id": "sD5sazctiGvh",
        "colab_type": "code",
        "colab": {
          "base_uri": "https://localhost:8080/",
          "height": 286
        },
        "outputId": "0ae60601-8aaa-4d03-baec-391c70e16777"
      },
      "source": [
        "plt.plot(inputs_array[:,3])"
      ],
      "execution_count": 192,
      "outputs": [
        {
          "output_type": "execute_result",
          "data": {
            "text/plain": [
              "[<matplotlib.lines.Line2D at 0x7f0f03925470>]"
            ]
          },
          "metadata": {
            "tags": []
          },
          "execution_count": 192
        },
        {
          "output_type": "display_data",
          "data": {
            "image/png": "[encoded data removed]",
            "text/plain": [
              "<Figure size 432x288 with 1 Axes>"
            ]
          },
          "metadata": {
            "tags": []
          }
        }
      ]
    },
    {
      "cell_type": "code",
      "metadata": {
        "id": "TTaxuOFhjRHK",
        "colab_type": "code",
        "colab": {
          "base_uri": "https://localhost:8080/",
          "height": 34
        },
        "outputId": "822ec259-15e9-4a8a-e2ca-c57004c52276"
      },
      "source": [
        "X_test = []\n",
        "for i in range(90, 130):\n",
        "    X_test.append(inputs_array[i-90:i,0])\n",
        "X_test = np.array(X_test)\n",
        "X_test.shape"
      ],
      "execution_count": 193,
      "outputs": [
        {
          "output_type": "execute_result",
          "data": {
            "text/plain": [
              "(40, 90)"
            ]
          },
          "metadata": {
            "tags": []
          },
          "execution_count": 193
        }
      ]
    },
    {
      "cell_type": "code",
      "metadata": {
        "id": "b1pHFldfklmS",
        "colab_type": "code",
        "colab": {
          "base_uri": "https://localhost:8080/",
          "height": 34
        },
        "outputId": "b280be46-6b68-49a9-c04c-e7103ba9fe31"
      },
      "source": [
        "X_test = np.reshape(X_test, (X_test.shape[0], X_test.shape[1], 1))\n",
        "X_test.shape"
      ],
      "execution_count": 194,
      "outputs": [
        {
          "output_type": "execute_result",
          "data": {
            "text/plain": [
              "(40, 90, 1)"
            ]
          },
          "metadata": {
            "tags": []
          },
          "execution_count": 194
        }
      ]
    },
    {
      "cell_type": "code",
      "metadata": {
        "id": "XymgGEEpj8Io",
        "colab_type": "code",
        "colab": {
          "base_uri": "https://localhost:8080/",
          "height": 34
        },
        "outputId": "98145488-d88e-4d3d-959d-70b7a5b26a3e"
      },
      "source": [
        "X_train.shape"
      ],
      "execution_count": 166,
      "outputs": [
        {
          "output_type": "execute_result",
          "data": {
            "text/plain": [
              "(1984, 90, 1)"
            ]
          },
          "metadata": {
            "tags": []
          },
          "execution_count": 166
        }
      ]
    },
    {
      "cell_type": "code",
      "metadata": {
        "id": "z6rGh1FyituI",
        "colab_type": "code",
        "colab": {}
      },
      "source": [
        "predicted_prices = regressor.predict(X_test)"
      ],
      "execution_count": 0,
      "outputs": []
    },
    {
      "cell_type": "code",
      "metadata": {
        "id": "6pJ8kptk_ucU",
        "colab_type": "code",
        "colab": {
          "base_uri": "https://localhost:8080/",
          "height": 34
        },
        "outputId": "83c8dd15-dc1b-428a-b317-424a2cb13b9f"
      },
      "source": [
        "predicted_prices.shape"
      ],
      "execution_count": 196,
      "outputs": [
        {
          "output_type": "execute_result",
          "data": {
            "text/plain": [
              "(40, 1)"
            ]
          },
          "metadata": {
            "tags": []
          },
          "execution_count": 196
        }
      ]
    },
    {
      "cell_type": "code",
      "metadata": {
        "id": "qjE9trMV_zQa",
        "colab_type": "code",
        "colab": {
          "base_uri": "https://localhost:8080/",
          "height": 286
        },
        "outputId": "afe5c424-8586-42f2-801f-946f1603686c"
      },
      "source": [
        "plt.plot(predicted_prices)"
      ],
      "execution_count": 197,
      "outputs": [
        {
          "output_type": "execute_result",
          "data": {
            "text/plain": [
              "[<matplotlib.lines.Line2D at 0x7f0f03884780>]"
            ]
          },
          "metadata": {
            "tags": []
          },
          "execution_count": 197
        },
        {
          "output_type": "display_data",
          "data": {
            "image/png": "[encoded data removed]",
            "text/plain": [
              "<Figure size 432x288 with 1 Axes>"
            ]
          },
          "metadata": {
            "tags": []
          }
        }
      ]
    },
    {
      "cell_type": "code",
      "metadata": {
        "id": "Eb9qfVuQAouE",
        "colab_type": "code",
        "colab": {}
      },
      "source": [
        "predicted_prices = sc1.inverse_transform(predicted_prices)"
      ],
      "execution_count": 0,
      "outputs": []
    },
    {
      "cell_type": "code",
      "metadata": {
        "id": "tC98VWYok3gT",
        "colab_type": "code",
        "colab": {
          "base_uri": "https://localhost:8080/",
          "height": 286
        },
        "outputId": "28d3467e-c46f-4f13-c5e9-51000fb3630d"
      },
      "source": [
        "plt.plot(predicted_prices)"
      ],
      "execution_count": 200,
      "outputs": [
        {
          "output_type": "execute_result",
          "data": {
            "text/plain": [
              "[<matplotlib.lines.Line2D at 0x7f0f0380c8d0>]"
            ]
          },
          "metadata": {
            "tags": []
          },
          "execution_count": 200
        },
        {
          "output_type": "display_data",
          "data": {
            "image/png": "[encoded data removed]",
            "text/plain": [
              "<Figure size 432x288 with 1 Axes>"
            ]
          },
          "metadata": {
            "tags": []
          }
        }
      ]
    },
    {
      "cell_type": "code",
      "metadata": {
        "id": "9JOi-qctJ1Tg",
        "colab_type": "code",
        "colab": {
          "base_uri": "https://localhost:8080/",
          "height": 138
        },
        "outputId": "efdb2296-6d91-4b6e-894f-4cc557cf9e56"
      },
      "source": [
        "valid_array[:,0]"
      ],
      "execution_count": 205,
      "outputs": [
        {
          "output_type": "execute_result",
          "data": {
            "text/plain": [
              "array([38.040001, 36.150002, 37.      , 36.599998, 37.32    , 39.259998,\n",
              "       38.360001, 39.52    , 39.560001, 37.889999, 38.060001, 37.82    ,\n",
              "       37.25    , 36.549999, 38.970001, 37.93    , 38.669998, 45.5     ,\n",
              "       42.029999, 44.      , 43.169998, 43.810001, 44.73    , 47.060001,\n",
              "       47.439999, 47.419998, 47.290001, 44.450001, 46.779999, 46.459999,\n",
              "       48.68    , 47.560001, 48.459999, 48.419998, 47.950001, 48.380001,\n",
              "       48.060001, 50.900002, 51.189999, 50.830002])"
            ]
          },
          "metadata": {
            "tags": []
          },
          "execution_count": 205
        }
      ]
    },
    {
      "cell_type": "code",
      "metadata": {
        "id": "mRvKKYOckzm_",
        "colab_type": "code",
        "colab": {
          "base_uri": "https://localhost:8080/",
          "height": 347
        },
        "outputId": "a01e3a00-16ac-4d31-9568-2624d64ffe70"
      },
      "source": [
        "# Visualising the results\n",
        "plt.plot(valid_array[:,0], color = 'red', label = 'Real WDC Stock Close Price')\n",
        "plt.plot(predicted_prices, color = 'blue', label = 'Predicted WDC Close Price')\n",
        "plt.title('WDC Stock Price Prediction')\n",
        "plt.xlabel('Time')\n",
        "plt.ylabel('WDC Stock Price')\n",
        "plt.legend()\n",
        "plt.show()"
      ],
      "execution_count": 206,
      "outputs": [
        {
          "output_type": "execute_result",
          "data": {
            "text/plain": [
              "[<matplotlib.lines.Line2D at 0x7f0f0367ac88>]"
            ]
          },
          "metadata": {
            "tags": []
          },
          "execution_count": 206
        },
        {
          "output_type": "execute_result",
          "data": {
            "text/plain": [
              "[<matplotlib.lines.Line2D at 0x7f0f03685048>]"
            ]
          },
          "metadata": {
            "tags": []
          },
          "execution_count": 206
        },
        {
          "output_type": "execute_result",
          "data": {
            "text/plain": [
              "Text(0.5, 1.0, 'WDC Stock Price Prediction')"
            ]
          },
          "metadata": {
            "tags": []
          },
          "execution_count": 206
        },
        {
          "output_type": "execute_result",
          "data": {
            "text/plain": [
              "Text(0.5, 0, 'Time')"
            ]
          },
          "metadata": {
            "tags": []
          },
          "execution_count": 206
        },
        {
          "output_type": "execute_result",
          "data": {
            "text/plain": [
              "Text(0, 0.5, 'WDC Stock Price')"
            ]
          },
          "metadata": {
            "tags": []
          },
          "execution_count": 206
        },
        {
          "output_type": "execute_result",
          "data": {
            "text/plain": [
              "<matplotlib.legend.Legend at 0x7f0f0366c860>"
            ]
          },
          "metadata": {
            "tags": []
          },
          "execution_count": 206
        },
        {
          "output_type": "display_data",
          "data": {
            "image/png": "[encoded data removed]",
            "text/plain": [
              "<Figure size 432x288 with 1 Axes>"
            ]
          },
          "metadata": {
            "tags": []
          }
        }
      ]
    },
    {
      "cell_type": "code",
      "metadata": {
        "id": "NiAVMUPUlfSx",
        "colab_type": "code",
        "colab": {}
      },
      "source": [
        ""
      ],
      "execution_count": 0,
      "outputs": []
    }
  ]
}